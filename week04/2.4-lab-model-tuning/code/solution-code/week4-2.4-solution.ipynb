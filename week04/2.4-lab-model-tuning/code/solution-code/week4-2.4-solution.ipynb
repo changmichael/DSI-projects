{
 "cells": [
  {
   "cell_type": "code",
   "execution_count": null,
   "metadata": {
    "collapsed": false
   },
   "outputs": [
    {
     "name": "stdout",
     "output_type": "stream",
     "text": [
      "Neighbors: 1, Accuracy: 0.761224\n",
      "Neighbors: 3, Accuracy: 0.776860\n",
      "Neighbors: 5, Accuracy: 0.793165\n",
      "Neighbors: 7, Accuracy: 0.794059\n",
      "Neighbors: 9, Accuracy: 0.792495\n",
      "Neighbors: 11, Accuracy: 0.796069\n",
      "Neighbors: 13, Accuracy: 0.800536\n",
      "Neighbors: 15, Accuracy: 0.804333\n",
      "Neighbors: 17, Accuracy: 0.805003\n",
      "Neighbors: 19, Accuracy: 0.803440\n",
      "Neighbors: 21, Accuracy: 0.803216\n",
      "Neighbors: 23, Accuracy: 0.803663\n",
      "Neighbors: 25, Accuracy: 0.803216\n",
      "Neighbors: 27, Accuracy: 0.803216\n",
      "Neighbors: 29, Accuracy: 0.803216\n",
      "Neighbors: 31, Accuracy: 0.803216\n",
      "Neighbors: 33, Accuracy: 0.803216\n",
      "Neighbors: 35, Accuracy: 0.803216\n",
      "Neighbors: 37, Accuracy: 0.803216\n",
      "Neighbors: 39, Accuracy: 0.803216\n",
      "Neighbors: 41, Accuracy: 0.803216\n",
      "Neighbors: 43, Accuracy: 0.803216\n",
      "Neighbors: 45, Accuracy: 0.803216\n",
      "Neighbors: 47, Accuracy: 0.803216\n",
      "Neighbors: 49, Accuracy: 0.803216"
     ]
    }
   ],
   "source": [
    "import numpy as np\n",
    "import pandas as pd\n",
    "import pylab as pl\n",
    "from sklearn.neighbors import KNeighborsClassifier\n",
    "\n",
    "\n",
    "df = pd.read_csv(\"https://s3.amazonaws.com/demo-datasets/wine.csv\")\n",
    "\n",
    "test_idx = np.random.uniform(0, 1, len(df)) <= 0.3\n",
    "train = df[test_idx==True]\n",
    "test = df[test_idx==False]\n",
    "\n",
    "features = ['density', 'sulphates', 'residual_sugar']\n",
    "\n",
    "results = []\n",
    "for n in range(1, 51, 2):\n",
    "    clf = KNeighborsClassifier(n_neighbors=n)\n",
    "    clf.fit(train[features], train['high_quality'])\n",
    "    preds = clf.predict(test[features])\n",
    "    accuracy = np.where(preds==test['high_quality'], 1, 0).sum() / float(len(test))\n",
    "    print(\"Neighbors: %d, Accuracy: %3f\" % (n, accuracy))\n",
    "    results.append([n, accuracy])\n",
    "results = pd.DataFrame(results, columns=[\"n\", \"accuracy\"])\n",
    "\n",
    "pl.plot(results.n, results.accuracy)\n",
    "pl.title(\"Accuracy with Increasing K\")\n",
    "pl.show()\n"
   ]
  },
  {
   "cell_type": "code",
   "execution_count": null,
   "metadata": {
    "collapsed": true
   },
   "outputs": [],
   "source": []
  }
 ],
 "metadata": {
  "kernelspec": {
   "display_name": "Python 3",
   "language": "python",
   "name": "python3"
  },
  "language_info": {
   "codemirror_mode": {
    "name": "ipython",
    "version": 3
   },
   "file_extension": ".py",
   "mimetype": "text/x-python",
   "name": "python",
   "nbconvert_exporter": "python",
   "pygments_lexer": "ipython3",
   "version": "3.5.1"
  }
 },
 "nbformat": 4,
 "nbformat_minor": 0
}
