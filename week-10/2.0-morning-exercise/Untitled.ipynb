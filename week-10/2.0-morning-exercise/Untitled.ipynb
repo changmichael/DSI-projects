{
 "cells": [
  {
   "cell_type": "code",
   "execution_count": 1,
   "metadata": {
    "collapsed": true
   },
   "outputs": [],
   "source": [
    "import pandas as pd\n",
    "import random"
   ]
  },
  {
   "cell_type": "code",
   "execution_count": 20,
   "metadata": {
    "collapsed": true
   },
   "outputs": [],
   "source": [
    "items = ['Michael', 'Kelly', 'Tim', 'Phillippa', 'Peter', 'Katty', 'Rebecca', 'Tamara', 'Tucker', 'Hudson', 'Lydia', 'Sam']"
   ]
  },
  {
   "cell_type": "code",
   "execution_count": 29,
   "metadata": {
    "collapsed": false
   },
   "outputs": [],
   "source": [
    "import pandas as pd\n",
    "import random\n",
    "\n",
    "items = ['Michael', 'Kelly', 'Tim', 'Phillippa', 'Peter', 'Katty', 'Rebecca', 'Tamara', 'Tucker', 'Hudson', 'Lydia', 'Sam']\n",
    "\n",
    "def randomizer(items):\n",
    "    random.shuffle(items)\n",
    "    numberStyle = raw_input('(1) - Get one student \\n(2) - Get pairs \\n(3) - Get threes \\n(4) - Get list of students\\n>> ')\n",
    "    numberStyle = int(numberStyle)\n",
    "    if numberStyle == 1:\n",
    "        return items[0]\n",
    "    elif numberStyle == 2:\n",
    "        endList = []\n",
    "        for i in range((len(items)/2)):\n",
    "            endList.append((items[2*i],items[2*i+1]))\n",
    "        return endList\n",
    "    elif numberStyle == 3:\n",
    "        endList = []\n",
    "        for i in range((len(items)/3)):\n",
    "            endList.append((items[3*i], items[3*i+1], items[3*i+2]))\n",
    "        print endList\n",
    "    elif numberStyle == 4:\n",
    "        return items\n",
    "    \n",
    "randomizer(items)"
   ]
  },
  {
   "cell_type": "code",
   "execution_count": 30,
   "metadata": {
    "collapsed": false
   },
   "outputs": [
    {
     "name": "stdout",
     "output_type": "stream",
     "text": [
      "(1) - Get one student \n",
      "(2) - Get pairs \n",
      "(3) - Get threes \n",
      "(4) - Get list of students\n",
      ">> 2\n"
     ]
    },
    {
     "data": {
      "text/plain": [
       "[('Peter', 'Phillippa'),\n",
       " ('Tamara', 'Sam'),\n",
       " ('Hudson', 'Rebecca'),\n",
       " ('Tucker', 'Tim'),\n",
       " ('Michael', 'Katty'),\n",
       " ('Lydia', 'Kelly')]"
      ]
     },
     "execution_count": 30,
     "metadata": {},
     "output_type": "execute_result"
    }
   ],
   "source": [
    "randomizer(items)"
   ]
  },
  {
   "cell_type": "code",
   "execution_count": null,
   "metadata": {
    "collapsed": false
   },
   "outputs": [],
   "source": []
  },
  {
   "cell_type": "code",
   "execution_count": null,
   "metadata": {
    "collapsed": false
   },
   "outputs": [],
   "source": []
  },
  {
   "cell_type": "code",
   "execution_count": 32,
   "metadata": {
    "collapsed": false
   },
   "outputs": [
    {
     "name": "stdout",
     "output_type": "stream",
     "text": [
      "Welcome to the triassic randomizer! How big do you want your groups to be? (e.g. type 1 for randomized list of students, or 2 for pairs). If you enter a number greater than 6, it will return a schedule of random pairings as long as your number.17\n"
     ]
    },
    {
     "data": {
      "text/plain": [
       "[['Day number 1', ('Tim', 'Phillippa')],\n",
       " ['Day number 1', ('Katty', 'Tucker')],\n",
       " ['Day number 1', ('Peter', 'Sam')],\n",
       " ['Day number 1', ('Rebecca', 'Hudson')],\n",
       " ['Day number 1', ('Michael', 'Lydia')],\n",
       " ['Day number 1', ('Kelly', 'Tamara')],\n",
       " ['Day number 2', ('Rebecca', 'Tamara')],\n",
       " ['Day number 2', ('Kelly', 'Sam')],\n",
       " ['Day number 2', ('Phillippa', 'Katty')],\n",
       " ['Day number 2', ('Michael', 'Tim')],\n",
       " ['Day number 2', ('Peter', 'Lydia')],\n",
       " ['Day number 2', ('Tucker', 'Hudson')],\n",
       " ['Day number 3', ('Michael', 'Tucker')],\n",
       " ['Day number 3', ('Tim', 'Phillippa')],\n",
       " ['Day number 3', ('Hudson', 'Lydia')],\n",
       " ['Day number 3', ('Kelly', 'Rebecca')],\n",
       " ['Day number 3', ('Peter', 'Katty')],\n",
       " ['Day number 3', ('Tamara', 'Sam')],\n",
       " ['Day number 4', ('Hudson', 'Sam')],\n",
       " ['Day number 4', ('Tim', 'Tucker')],\n",
       " ['Day number 4', ('Phillippa', 'Peter')],\n",
       " ['Day number 4', ('Katty', 'Tamara')],\n",
       " ['Day number 4', ('Michael', 'Rebecca')],\n",
       " ['Day number 4', ('Kelly', 'Lydia')],\n",
       " ['Day number 5', ('Phillippa', 'Rebecca')],\n",
       " ['Day number 5', ('Peter', 'Tamara')],\n",
       " ['Day number 5', ('Tim', 'Katty')],\n",
       " ['Day number 5', ('Michael', 'Tucker')],\n",
       " ['Day number 5', ('Lydia', 'Sam')],\n",
       " ['Day number 5', ('Kelly', 'Hudson')],\n",
       " ['Day number 6', ('Kelly', 'Tamara')],\n",
       " ['Day number 6', ('Michael', 'Tim')],\n",
       " ['Day number 6', ('Hudson', 'Lydia')],\n",
       " ['Day number 6', ('Rebecca', 'Sam')],\n",
       " ['Day number 6', ('Phillippa', 'Katty')],\n",
       " ['Day number 6', ('Peter', 'Tucker')],\n",
       " ['Day number 7', ('Peter', 'Tucker')],\n",
       " ['Day number 7', ('Katty', 'Tamara')],\n",
       " ['Day number 7', ('Tim', 'Sam')],\n",
       " ['Day number 7', ('Rebecca', 'Lydia')],\n",
       " ['Day number 7', ('Michael', 'Phillippa')],\n",
       " ['Day number 7', ('Kelly', 'Hudson')],\n",
       " ['Day number 8', ('Peter', 'Sam')],\n",
       " ['Day number 8', ('Tamara', 'Lydia')],\n",
       " ['Day number 8', ('Michael', 'Katty')],\n",
       " ['Day number 8', ('Tim', 'Rebecca')],\n",
       " ['Day number 8', ('Phillippa', 'Hudson')],\n",
       " ['Day number 8', ('Kelly', 'Tucker')],\n",
       " ['Day number 9', ('Michael', 'Tucker')],\n",
       " ['Day number 9', ('Kelly', 'Sam')],\n",
       " ['Day number 9', ('Rebecca', 'Tamara')],\n",
       " ['Day number 9', ('Peter', 'Lydia')],\n",
       " ['Day number 9', ('Tim', 'Katty')],\n",
       " ['Day number 9', ('Phillippa', 'Hudson')],\n",
       " ['Day number 10', ('Rebecca', 'Sam')],\n",
       " ['Day number 10', ('Tamara', 'Hudson')],\n",
       " ['Day number 10', ('Peter', 'Tucker')],\n",
       " ['Day number 10', ('Phillippa', 'Katty')],\n",
       " ['Day number 10', ('Kelly', 'Tim')],\n",
       " ['Day number 10', ('Michael', 'Lydia')],\n",
       " ['Day number 11', ('Phillippa', 'Hudson')],\n",
       " ['Day number 11', ('Tim', 'Peter')],\n",
       " ['Day number 11', ('Kelly', 'Sam')],\n",
       " ['Day number 11', ('Michael', 'Tamara')],\n",
       " ['Day number 11', ('Rebecca', 'Tucker')],\n",
       " ['Day number 11', ('Katty', 'Lydia')],\n",
       " ['Day number 12', ('Katty', 'Rebecca')],\n",
       " ['Day number 12', ('Tim', 'Hudson')],\n",
       " ['Day number 12', ('Phillippa', 'Tucker')],\n",
       " ['Day number 12', ('Michael', 'Peter')],\n",
       " ['Day number 12', ('Kelly', 'Tamara')],\n",
       " ['Day number 12', ('Lydia', 'Sam')],\n",
       " ['Day number 13', ('Tamara', 'Lydia')],\n",
       " ['Day number 13', ('Kelly', 'Rebecca')],\n",
       " ['Day number 13', ('Tim', 'Peter')],\n",
       " ['Day number 13', ('Michael', 'Sam')],\n",
       " ['Day number 13', ('Tucker', 'Hudson')],\n",
       " ['Day number 13', ('Phillippa', 'Katty')],\n",
       " ['Day number 14', ('Michael', 'Tim')],\n",
       " ['Day number 14', ('Phillippa', 'Lydia')],\n",
       " ['Day number 14', ('Peter', 'Katty')],\n",
       " ['Day number 14', ('Kelly', 'Rebecca')],\n",
       " ['Day number 14', ('Tucker', 'Sam')],\n",
       " ['Day number 14', ('Tamara', 'Hudson')],\n",
       " ['Day number 15', ('Kelly', 'Tim')],\n",
       " ['Day number 15', ('Phillippa', 'Rebecca')],\n",
       " ['Day number 15', ('Tamara', 'Lydia')],\n",
       " ['Day number 15', ('Tucker', 'Hudson')],\n",
       " ['Day number 15', ('Peter', 'Sam')],\n",
       " ['Day number 15', ('Michael', 'Katty')],\n",
       " ['Day number 16', ('Rebecca', 'Sam')],\n",
       " ['Day number 16', ('Kelly', 'Hudson')],\n",
       " ['Day number 16', ('Michael', 'Tim')],\n",
       " ['Day number 16', ('Tamara', 'Lydia')],\n",
       " ['Day number 16', ('Phillippa', 'Katty')],\n",
       " ['Day number 16', ('Peter', 'Tucker')],\n",
       " ['Day number 17', ('Michael', 'Peter')],\n",
       " ['Day number 17', ('Tim', 'Hudson')],\n",
       " ['Day number 17', ('Tamara', 'Tucker')],\n",
       " ['Day number 17', ('Phillippa', 'Katty')],\n",
       " ['Day number 17', ('Kelly', 'Sam')],\n",
       " ['Day number 17', ('Rebecca', 'Lydia')]]"
      ]
     },
     "execution_count": 32,
     "metadata": {},
     "output_type": "execute_result"
    }
   ],
   "source": [
    "import itertools\n",
    "import random\n",
    "\n",
    "\n",
    "def random_triassic():\n",
    "    students = ['Michael', 'Kelly', 'Tim', 'Phillippa', 'Peter', 'Katty', 'Rebecca', 'Tamara', 'Tucker', 'Hudson', 'Lydia', 'Sam']\n",
    "    try:\n",
    "        group_size = int(raw_input(\"Welcome to the triassic randomizer! How big do you want your groups to be? (e.g. type 1 for randomized list of students, or 2 for pairs). If you enter a number greater than 6, it will return a schedule of random pairings as long as your number.\"))\n",
    "        if group_size < 7:    \n",
    "            groups = []\n",
    "            single_groups = []\n",
    "            while len(students) >= group_size:\n",
    "                seq = list(itertools.combinations(students, group_size))\n",
    "                a = random.choice(seq)\n",
    "                groups.append(a)\n",
    "                for b in a:\n",
    "                    students.remove(b)\n",
    "                if len(students) < group_size:\n",
    "                    if len(students)>1:\n",
    "                        groups.append(students)\n",
    "            if group_size == 1:\n",
    "                for c in groups:\n",
    "                    for d in c:\n",
    "                        single_groups.append(d)\n",
    "                print single_groups\n",
    "            else:\n",
    "                print groups\n",
    "        elif group_size >= 7:\n",
    "            sched_groups = []\n",
    "            for i in range(group_size):\n",
    "                students_sched = ['Michael', 'Kelly', 'Tim', 'Phillippa', 'Peter', 'Katty', 'Rebecca', 'Tamara', 'Tucker', 'Hudson', 'Lydia', 'Sam']\n",
    "                while len(students_sched) > 0:\n",
    "                    seq = list(itertools.combinations(students_sched, 2))\n",
    "                    e = random.choice(seq)\n",
    "                    sched_groups.append([\"Day number \"+str(i+1), e])\n",
    "                    for f in e:\n",
    "                        students_sched.remove(f)\n",
    "            return sched_groups\n",
    "    except ValueError:\n",
    "        print(\"Please enter a integer number (e.g. 2, not 'two' or 2.0)\")\n",
    "        random_triassic()\n",
    "\n",
    "random_triassic()"
   ]
  },
  {
   "cell_type": "code",
   "execution_count": null,
   "metadata": {
    "collapsed": true
   },
   "outputs": [],
   "source": []
  }
 ],
 "metadata": {
  "kernelspec": {
   "display_name": "Python 2",
   "language": "python",
   "name": "python2"
  },
  "language_info": {
   "codemirror_mode": {
    "name": "ipython",
    "version": 2
   },
   "file_extension": ".py",
   "mimetype": "text/x-python",
   "name": "python",
   "nbconvert_exporter": "python",
   "pygments_lexer": "ipython2",
   "version": "2.7.12"
  }
 },
 "nbformat": 4,
 "nbformat_minor": 0
}
