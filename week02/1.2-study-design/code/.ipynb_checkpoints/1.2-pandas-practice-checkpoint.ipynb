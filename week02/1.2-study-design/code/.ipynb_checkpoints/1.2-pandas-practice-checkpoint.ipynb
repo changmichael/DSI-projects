{
 "cells": [
  {
   "cell_type": "code",
   "execution_count": 1,
   "metadata": {
    "collapsed": false
   },
   "outputs": [],
   "source": [
    "import pandas as pd\n",
    "import numpy as np\n",
    "import matplotlib.pyplot as plt\n",
    "%matplotlib inline"
   ]
  },
  {
   "cell_type": "markdown",
   "metadata": {},
   "source": [
    "#### 1. Read in the Star Wars survey data from fivethirtyeight, saved here:\n",
    "```../assets/datasets/StarWars.csv```"
   ]
  },
  {
   "cell_type": "code",
   "execution_count": 2,
   "metadata": {
    "collapsed": true
   },
   "outputs": [],
   "source": [
    "df = pd.read_csv('../assets/datasets/StarWars.csv')"
   ]
  },
  {
   "cell_type": "markdown",
   "metadata": {},
   "source": [
    "#### 2. Print out the head of the data"
   ]
  },
  {
   "cell_type": "code",
   "execution_count": 82,
   "metadata": {
    "collapsed": false
   },
   "outputs": [
    {
     "data": {
      "text/html": [
       "<div>\n",
       "<table border=\"1\" class=\"dataframe\">\n",
       "  <thead>\n",
       "    <tr style=\"text-align: right;\">\n",
       "      <th></th>\n",
       "      <th>RespondentID</th>\n",
       "      <th>Have you seen any of the 6 films in the Star Wars franchise?</th>\n",
       "      <th>Do you consider yourself to be a fan of the Star Wars film franchise?</th>\n",
       "      <th>Which of the following Star Wars films have you seen? Please select all that apply.</th>\n",
       "      <th>Unnamed: 4</th>\n",
       "      <th>Unnamed: 5</th>\n",
       "      <th>Unnamed: 6</th>\n",
       "      <th>Unnamed: 7</th>\n",
       "      <th>Unnamed: 8</th>\n",
       "      <th>Please rank the Star Wars films in order of preference with 1 being your favorite film in the franchise and 6 being your least favorite film.</th>\n",
       "      <th>...</th>\n",
       "      <th>Unnamed: 28</th>\n",
       "      <th>Which character shot first?</th>\n",
       "      <th>Are you familiar with the Expanded Universe?</th>\n",
       "      <th>Do you consider yourself to be a fan of the Expanded Universe?��</th>\n",
       "      <th>Do you consider yourself to be a fan of the Star Trek franchise?</th>\n",
       "      <th>Gender</th>\n",
       "      <th>Age</th>\n",
       "      <th>Household Income</th>\n",
       "      <th>Education</th>\n",
       "      <th>Location (Census Region)</th>\n",
       "    </tr>\n",
       "  </thead>\n",
       "  <tbody>\n",
       "  </tbody>\n",
       "</table>\n",
       "<p>0 rows × 38 columns</p>\n",
       "</div>"
      ],
      "text/plain": [
       "Empty DataFrame\n",
       "Columns: [RespondentID, Have you seen any of the 6 films in the Star Wars franchise?, Do you consider yourself to be a fan of the Star Wars film franchise?, Which of the following Star Wars films have you seen? Please select all that apply., Unnamed: 4, Unnamed: 5, Unnamed: 6, Unnamed: 7, Unnamed: 8, Please rank the Star Wars films in order of preference with 1 being your favorite film in the franchise and 6 being your least favorite film., Unnamed: 10, Unnamed: 11, Unnamed: 12, Unnamed: 13, Unnamed: 14, Please state whether you view the following characters favorably, unfavorably, or are unfamiliar with him/her., Unnamed: 16, Unnamed: 17, Unnamed: 18, Unnamed: 19, Unnamed: 20, Unnamed: 21, Unnamed: 22, Unnamed: 23, Unnamed: 24, Unnamed: 25, Unnamed: 26, Unnamed: 27, Unnamed: 28, Which character shot first?, Are you familiar with the Expanded Universe?, Do you consider yourself to be a fan of the Expanded Universe?��, Do you consider yourself to be a fan of the Star Trek franchise?, Gender, Age, Household Income, Education, Location (Census Region)]\n",
       "Index: []\n",
       "\n",
       "[0 rows x 38 columns]"
      ]
     },
     "execution_count": 82,
     "metadata": {},
     "output_type": "execute_result"
    }
   ],
   "source": [
    "df.head(0)"
   ]
  },
  {
   "cell_type": "markdown",
   "metadata": {},
   "source": [
    "#### 3. Print out the columns"
   ]
  },
  {
   "cell_type": "code",
   "execution_count": 85,
   "metadata": {
    "collapsed": false
   },
   "outputs": [
    {
     "data": {
      "text/plain": [
       "Index([u'RespondentID',\n",
       "       u'Have you seen any of the 6 films in the Star Wars franchise?',\n",
       "       u'Do you consider yourself to be a fan of the Star Wars film franchise?',\n",
       "       u'Which of the following Star Wars films have you seen? Please select all that apply.',\n",
       "       u'Unnamed: 4', u'Unnamed: 5', u'Unnamed: 6', u'Unnamed: 7',\n",
       "       u'Unnamed: 8',\n",
       "       u'Please rank the Star Wars films in order of preference with 1 being your favorite film in the franchise and 6 being your least favorite film.',\n",
       "       u'Unnamed: 10', u'Unnamed: 11', u'Unnamed: 12', u'Unnamed: 13',\n",
       "       u'Unnamed: 14',\n",
       "       u'Please state whether you view the following characters favorably, unfavorably, or are unfamiliar with him/her.',\n",
       "       u'Unnamed: 16', u'Unnamed: 17', u'Unnamed: 18', u'Unnamed: 19',\n",
       "       u'Unnamed: 20', u'Unnamed: 21', u'Unnamed: 22', u'Unnamed: 23',\n",
       "       u'Unnamed: 24', u'Unnamed: 25', u'Unnamed: 26', u'Unnamed: 27',\n",
       "       u'Unnamed: 28', u'Which character shot first?',\n",
       "       u'Are you familiar with the Expanded Universe?',\n",
       "       u'Do you consider yourself to be a fan of the Expanded Universe?��',\n",
       "       u'Do you consider yourself to be a fan of the Star Trek franchise?',\n",
       "       u'Gender', u'Age', u'Household Income', u'Education',\n",
       "       u'Location (Census Region)'],\n",
       "      dtype='object')"
      ]
     },
     "execution_count": 85,
     "metadata": {},
     "output_type": "execute_result"
    }
   ],
   "source": [
    "df.columns[:]"
   ]
  },
  {
   "cell_type": "markdown",
   "metadata": {},
   "source": [
    "#### 4. What percent of respondents are male?\n"
   ]
  },
  {
   "cell_type": "code",
   "execution_count": 19,
   "metadata": {
    "collapsed": false
   },
   "outputs": [
    {
     "data": {
      "text/plain": [
       "0       Response\n",
       "1           Male\n",
       "2           Male\n",
       "3           Male\n",
       "4           Male\n",
       "5           Male\n",
       "6           Male\n",
       "7           Male\n",
       "8           Male\n",
       "9           Male\n",
       "10          Male\n",
       "11           NaN\n",
       "12           NaN\n",
       "13          Male\n",
       "14          Male\n",
       "15          Male\n",
       "16          Male\n",
       "17          Male\n",
       "18          Male\n",
       "19          Male\n",
       "20          Male\n",
       "21          Male\n",
       "22          Male\n",
       "23          Male\n",
       "24          Male\n",
       "25          Male\n",
       "26          Male\n",
       "27          Male\n",
       "28          Male\n",
       "29          Male\n",
       "          ...   \n",
       "1157      Female\n",
       "1158        Male\n",
       "1159      Female\n",
       "1160      Female\n",
       "1161      Female\n",
       "1162         NaN\n",
       "1163      Female\n",
       "1164      Female\n",
       "1165        Male\n",
       "1166      Female\n",
       "1167      Female\n",
       "1168      Female\n",
       "1169      Female\n",
       "1170        Male\n",
       "1171      Female\n",
       "1172      Female\n",
       "1173      Female\n",
       "1174      Female\n",
       "1175      Female\n",
       "1176      Female\n",
       "1177      Female\n",
       "1178        Male\n",
       "1179      Female\n",
       "1180      Female\n",
       "1181      Female\n",
       "1182      Female\n",
       "1183      Female\n",
       "1184      Female\n",
       "1185      Female\n",
       "1186      Female\n",
       "Name: Gender, dtype: object"
      ]
     },
     "execution_count": 19,
     "metadata": {},
     "output_type": "execute_result"
    }
   ],
   "source": [
    "df.loc[:,'Gender']"
   ]
  },
  {
   "cell_type": "code",
   "execution_count": 20,
   "metadata": {
    "collapsed": false
   },
   "outputs": [
    {
     "data": {
      "text/plain": [
       "Female      549\n",
       "Male        497\n",
       "Response      1\n",
       "Name: Gender, dtype: int64"
      ]
     },
     "execution_count": 20,
     "metadata": {},
     "output_type": "execute_result"
    }
   ],
   "source": [
    "df['Gender'].value_counts()"
   ]
  },
  {
   "cell_type": "code",
   "execution_count": 46,
   "metadata": {
    "collapsed": false
   },
   "outputs": [
    {
     "name": "stdout",
     "output_type": "stream",
     "text": [
      "497.0\n",
      "1187\n",
      "41.8702611626\n"
     ]
    }
   ],
   "source": [
    "a = len(df['Gender'])\n",
    "maleCount=[]\n",
    "\n",
    "for x in df['Gender'][range(a)]:\n",
    "    if x == 'Male':\n",
    "        maleCount.append(1)\n",
    "    y = float(sum(maleCount))\n",
    "print y\n",
    "print a\n",
    "print (y/a*100)"
   ]
  },
  {
   "cell_type": "code",
   "execution_count": 87,
   "metadata": {
    "collapsed": false
   },
   "outputs": [
    {
     "data": {
      "text/plain": [
       "0.47468958930276983"
      ]
     },
     "execution_count": 87,
     "metadata": {},
     "output_type": "execute_result"
    }
   ],
   "source": [
    "float(df[\"Gender\"][df.Gender==\"Male\"].count())/df[\"Gender\"].count()"
   ]
  },
  {
   "cell_type": "code",
   "execution_count": 88,
   "metadata": {
    "collapsed": false
   },
   "outputs": [
    {
     "data": {
      "text/plain": [
       "Female      0.462511\n",
       "Male        0.418703\n",
       "Response    0.000842\n",
       "Name: Gender, dtype: float64"
      ]
     },
     "execution_count": 88,
     "metadata": {},
     "output_type": "execute_result"
    }
   ],
   "source": [
    "df['Gender'].value_counts(\"Male\")"
   ]
  },
  {
   "cell_type": "markdown",
   "metadata": {},
   "source": [
    "#### 5. Which movies are ranked as respondents #1 favorite movie most often?"
   ]
  },
  {
   "cell_type": "code",
   "execution_count": 49,
   "metadata": {
    "collapsed": false
   },
   "outputs": [
    {
     "data": {
      "text/plain": [
       "Female      549\n",
       "Male        497\n",
       "Response      1\n",
       "Name: Gender, dtype: int64"
      ]
     },
     "execution_count": 49,
     "metadata": {},
     "output_type": "execute_result"
    }
   ],
   "source": [
    "df['Gender'].value_counts()"
   ]
  },
  {
   "cell_type": "code",
   "execution_count": 60,
   "metadata": {
    "collapsed": false
   },
   "outputs": [
    {
     "data": {
      "text/plain": [
       "Index([u'Please rank the Star Wars films in order of preference with 1 being your favorite film in the franchise and 6 being your least favorite film.',\n",
       "       u'Unnamed: 10', u'Unnamed: 11', u'Unnamed: 12', u'Unnamed: 13',\n",
       "       u'Unnamed: 14'],\n",
       "      dtype='object')"
      ]
     },
     "execution_count": 60,
     "metadata": {},
     "output_type": "execute_result"
    }
   ],
   "source": [
    "df.columns[9:15]"
   ]
  },
  {
   "cell_type": "code",
   "execution_count": 80,
   "metadata": {
    "collapsed": false
   },
   "outputs": [
    {
     "name": "stdout",
     "output_type": "stream",
     "text": [
      "4    237\n",
      "6    168\n",
      "3    130\n",
      "1    129\n",
      "5    100\n",
      "2     71\n",
      "Name: Please rank the Star Wars films in order of preference with 1 being your favorite film in the franchise and 6 being your least favorite film., dtype: int64\n",
      "5    300\n",
      "4    183\n",
      "2    116\n",
      "3    103\n",
      "6    102\n",
      "1     32\n",
      "Name: Unnamed: 10, dtype: int64\n",
      "6    217\n",
      "5    203\n",
      "4    182\n",
      "3    150\n",
      "2     47\n",
      "1     36\n",
      "Name: Unnamed: 11, dtype: int64\n",
      "1    204\n",
      "6    161\n",
      "2    135\n",
      "4    130\n",
      "3    127\n",
      "5     79\n",
      "Name: Unnamed: 12, dtype: int64\n",
      "1    289\n",
      "2    235\n",
      "5    118\n",
      "3    106\n",
      "4     47\n",
      "6     41\n",
      "Name: Unnamed: 13, dtype: int64\n",
      "2    232\n",
      "3    220\n",
      "1    146\n",
      "6    145\n",
      "4     57\n",
      "5     36\n",
      "Name: Unnamed: 14, dtype: int64\n"
     ]
    }
   ],
   "source": [
    "df.iloc[1:,9:15]\n",
    "print df.iloc[1:,9].value_counts()\n",
    "print df.iloc[1:,10].value_counts()\n",
    "print df.iloc[1:,11].value_counts()\n",
    "print df.iloc[1:,12].value_counts()\n",
    "print df.iloc[1:,13].value_counts()\n",
    "print df.iloc[1:,14].value_counts()"
   ]
  },
  {
   "cell_type": "code",
   "execution_count": 104,
   "metadata": {
    "collapsed": false
   },
   "outputs": [
    {
     "name": "stdout",
     "output_type": "stream",
     "text": [
      "1                                    204\n",
      "6                                    161\n",
      "2                                    135\n",
      "4                                    130\n",
      "3                                    127\n",
      "5                                     79\n",
      "Star Wars: Episode IV  A New Hope      1\n",
      "Name: Unnamed: 12, dtype: int64\n",
      "1                                               289\n",
      "2                                               235\n",
      "5                                               118\n",
      "3                                               106\n",
      "4                                                47\n",
      "6                                                41\n",
      "Star Wars: Episode V The Empire Strikes Back      1\n",
      "Name: Unnamed: 13, dtype: int64\n"
     ]
    }
   ],
   "source": [
    "for i in range(9,15):\n",
    "    counter = df.iloc[:,i].value_counts()\n",
    "    if max(counter) == counter['1']:\n",
    "        print counter"
   ]
  }
 ],
 "metadata": {
  "kernelspec": {
   "display_name": "Python 2",
   "language": "python",
   "name": "python2"
  },
  "language_info": {
   "codemirror_mode": {
    "name": "ipython",
    "version": 2
   },
   "file_extension": ".py",
   "mimetype": "text/x-python",
   "name": "python",
   "nbconvert_exporter": "python",
   "pygments_lexer": "ipython2",
   "version": "2.7.11"
  }
 },
 "nbformat": 4,
 "nbformat_minor": 0
}
