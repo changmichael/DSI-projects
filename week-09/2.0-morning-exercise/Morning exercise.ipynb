{
 "cells": [
  {
   "cell_type": "code",
   "execution_count": 13,
   "metadata": {
    "collapsed": false
   },
   "outputs": [],
   "source": [
    "%matplotlib inline\n",
    "\n",
    "import pandas as pd\n",
    "import matplotlib as plt\n",
    "from sklearn.tree import DecisionTreeRegressor\n",
    "from sklearn.cross_validation import KFold, cross_val_score\n",
    "from sklearn.cross_validation import train_test_split\n",
    "from sklearn.ensemble import GradientBoostingRegressor\n",
    "from sklearn.ensemble import AdaBoostRegressor\n",
    "from sklearn.metrics import accuracy_score\n",
    "from sklearn.ensemble import RandomForestRegressor, BaggingClassifier, BaggingRegressor, ExtraTreesRegressor\n",
    "from sklearn.ensemble import RandomForestClassifier, ExtraTreesClassifier, ExtraTreesRegressor\n",
    "\n",
    "import pickle"
   ]
  },
  {
   "cell_type": "code",
   "execution_count": 2,
   "metadata": {
    "collapsed": false
   },
   "outputs": [],
   "source": [
    "df = pd.read_csv('data/speed_dating_user_attributes.csv')"
   ]
  },
  {
   "cell_type": "code",
   "execution_count": 3,
   "metadata": {
    "collapsed": false
   },
   "outputs": [
    {
     "data": {
      "text/plain": [
       "551"
      ]
     },
     "execution_count": 3,
     "metadata": {},
     "output_type": "execute_result"
    }
   ],
   "source": [
    "len(df)"
   ]
  },
  {
   "cell_type": "code",
   "execution_count": 4,
   "metadata": {
    "collapsed": false
   },
   "outputs": [
    {
     "data": {
      "text/html": [
       "<div>\n",
       "<table border=\"1\" class=\"dataframe\">\n",
       "  <thead>\n",
       "    <tr style=\"text-align: right;\">\n",
       "      <th></th>\n",
       "      <th>subject_id</th>\n",
       "      <th>wave</th>\n",
       "      <th>like_sports</th>\n",
       "      <th>like_tvsports</th>\n",
       "      <th>like_exercise</th>\n",
       "      <th>like_food</th>\n",
       "      <th>like_museums</th>\n",
       "      <th>like_art</th>\n",
       "      <th>like_hiking</th>\n",
       "      <th>like_gaming</th>\n",
       "      <th>...</th>\n",
       "      <th>subjective_attractiveness</th>\n",
       "      <th>subjective_sincerity</th>\n",
       "      <th>subjective_intelligence</th>\n",
       "      <th>subjective_fun</th>\n",
       "      <th>subjective_ambition</th>\n",
       "      <th>objective_attractiveness</th>\n",
       "      <th>objective_sincerity</th>\n",
       "      <th>objective_intelligence</th>\n",
       "      <th>objective_fun</th>\n",
       "      <th>objective_ambition</th>\n",
       "    </tr>\n",
       "  </thead>\n",
       "  <tbody>\n",
       "    <tr>\n",
       "      <th>0</th>\n",
       "      <td>1</td>\n",
       "      <td>1</td>\n",
       "      <td>9.0</td>\n",
       "      <td>2.0</td>\n",
       "      <td>8.0</td>\n",
       "      <td>9.0</td>\n",
       "      <td>1.0</td>\n",
       "      <td>1.0</td>\n",
       "      <td>5.0</td>\n",
       "      <td>1.0</td>\n",
       "      <td>...</td>\n",
       "      <td>6.0</td>\n",
       "      <td>8.0</td>\n",
       "      <td>8.0</td>\n",
       "      <td>8.0</td>\n",
       "      <td>7.0</td>\n",
       "      <td>NaN</td>\n",
       "      <td>NaN</td>\n",
       "      <td>NaN</td>\n",
       "      <td>NaN</td>\n",
       "      <td>NaN</td>\n",
       "    </tr>\n",
       "    <tr>\n",
       "      <th>1</th>\n",
       "      <td>2</td>\n",
       "      <td>1</td>\n",
       "      <td>3.0</td>\n",
       "      <td>2.0</td>\n",
       "      <td>7.0</td>\n",
       "      <td>10.0</td>\n",
       "      <td>8.0</td>\n",
       "      <td>6.0</td>\n",
       "      <td>3.0</td>\n",
       "      <td>5.0</td>\n",
       "      <td>...</td>\n",
       "      <td>7.0</td>\n",
       "      <td>5.0</td>\n",
       "      <td>8.0</td>\n",
       "      <td>10.0</td>\n",
       "      <td>3.0</td>\n",
       "      <td>NaN</td>\n",
       "      <td>NaN</td>\n",
       "      <td>NaN</td>\n",
       "      <td>NaN</td>\n",
       "      <td>NaN</td>\n",
       "    </tr>\n",
       "    <tr>\n",
       "      <th>2</th>\n",
       "      <td>3</td>\n",
       "      <td>1</td>\n",
       "      <td>3.0</td>\n",
       "      <td>8.0</td>\n",
       "      <td>7.0</td>\n",
       "      <td>8.0</td>\n",
       "      <td>5.0</td>\n",
       "      <td>5.0</td>\n",
       "      <td>8.0</td>\n",
       "      <td>4.0</td>\n",
       "      <td>...</td>\n",
       "      <td>8.0</td>\n",
       "      <td>9.0</td>\n",
       "      <td>9.0</td>\n",
       "      <td>8.0</td>\n",
       "      <td>8.0</td>\n",
       "      <td>NaN</td>\n",
       "      <td>NaN</td>\n",
       "      <td>NaN</td>\n",
       "      <td>NaN</td>\n",
       "      <td>NaN</td>\n",
       "    </tr>\n",
       "    <tr>\n",
       "      <th>3</th>\n",
       "      <td>4</td>\n",
       "      <td>1</td>\n",
       "      <td>1.0</td>\n",
       "      <td>1.0</td>\n",
       "      <td>6.0</td>\n",
       "      <td>7.0</td>\n",
       "      <td>6.0</td>\n",
       "      <td>7.0</td>\n",
       "      <td>7.0</td>\n",
       "      <td>5.0</td>\n",
       "      <td>...</td>\n",
       "      <td>7.0</td>\n",
       "      <td>8.0</td>\n",
       "      <td>7.0</td>\n",
       "      <td>9.0</td>\n",
       "      <td>8.0</td>\n",
       "      <td>NaN</td>\n",
       "      <td>NaN</td>\n",
       "      <td>NaN</td>\n",
       "      <td>NaN</td>\n",
       "      <td>NaN</td>\n",
       "    </tr>\n",
       "    <tr>\n",
       "      <th>4</th>\n",
       "      <td>5</td>\n",
       "      <td>1</td>\n",
       "      <td>7.0</td>\n",
       "      <td>4.0</td>\n",
       "      <td>7.0</td>\n",
       "      <td>7.0</td>\n",
       "      <td>6.0</td>\n",
       "      <td>8.0</td>\n",
       "      <td>6.0</td>\n",
       "      <td>6.0</td>\n",
       "      <td>...</td>\n",
       "      <td>6.0</td>\n",
       "      <td>3.0</td>\n",
       "      <td>10.0</td>\n",
       "      <td>6.0</td>\n",
       "      <td>8.0</td>\n",
       "      <td>NaN</td>\n",
       "      <td>NaN</td>\n",
       "      <td>NaN</td>\n",
       "      <td>NaN</td>\n",
       "      <td>NaN</td>\n",
       "    </tr>\n",
       "  </tbody>\n",
       "</table>\n",
       "<p>5 rows × 29 columns</p>\n",
       "</div>"
      ],
      "text/plain": [
       "   subject_id  wave  like_sports  like_tvsports  like_exercise  like_food  \\\n",
       "0           1     1          9.0            2.0            8.0        9.0   \n",
       "1           2     1          3.0            2.0            7.0       10.0   \n",
       "2           3     1          3.0            8.0            7.0        8.0   \n",
       "3           4     1          1.0            1.0            6.0        7.0   \n",
       "4           5     1          7.0            4.0            7.0        7.0   \n",
       "\n",
       "   like_museums  like_art  like_hiking  like_gaming         ...          \\\n",
       "0           1.0       1.0          5.0          1.0         ...           \n",
       "1           8.0       6.0          3.0          5.0         ...           \n",
       "2           5.0       5.0          8.0          4.0         ...           \n",
       "3           6.0       7.0          7.0          5.0         ...           \n",
       "4           6.0       8.0          6.0          6.0         ...           \n",
       "\n",
       "   subjective_attractiveness  subjective_sincerity  subjective_intelligence  \\\n",
       "0                        6.0                   8.0                      8.0   \n",
       "1                        7.0                   5.0                      8.0   \n",
       "2                        8.0                   9.0                      9.0   \n",
       "3                        7.0                   8.0                      7.0   \n",
       "4                        6.0                   3.0                     10.0   \n",
       "\n",
       "   subjective_fun  subjective_ambition  objective_attractiveness  \\\n",
       "0             8.0                  7.0                       NaN   \n",
       "1            10.0                  3.0                       NaN   \n",
       "2             8.0                  8.0                       NaN   \n",
       "3             9.0                  8.0                       NaN   \n",
       "4             6.0                  8.0                       NaN   \n",
       "\n",
       "   objective_sincerity  objective_intelligence  objective_fun  \\\n",
       "0                  NaN                     NaN            NaN   \n",
       "1                  NaN                     NaN            NaN   \n",
       "2                  NaN                     NaN            NaN   \n",
       "3                  NaN                     NaN            NaN   \n",
       "4                  NaN                     NaN            NaN   \n",
       "\n",
       "   objective_ambition  \n",
       "0                 NaN  \n",
       "1                 NaN  \n",
       "2                 NaN  \n",
       "3                 NaN  \n",
       "4                 NaN  \n",
       "\n",
       "[5 rows x 29 columns]"
      ]
     },
     "execution_count": 4,
     "metadata": {},
     "output_type": "execute_result"
    }
   ],
   "source": [
    "df.head()"
   ]
  },
  {
   "cell_type": "code",
   "execution_count": 5,
   "metadata": {
    "collapsed": false
   },
   "outputs": [],
   "source": [
    "df = df.iloc[:,:-5]\n",
    "df.dropna(inplace = True)"
   ]
  },
  {
   "cell_type": "code",
   "execution_count": 18,
   "metadata": {
    "collapsed": false
   },
   "outputs": [
    {
     "data": {
      "text/plain": [
       "Index([u'subject_id', u'wave', u'like_sports', u'like_tvsports',\n",
       "       u'like_exercise', u'like_food', u'like_museums', u'like_art',\n",
       "       u'like_hiking', u'like_gaming', u'like_clubbing', u'like_reading',\n",
       "       u'like_tv', u'like_theater', u'like_movies', u'like_concerts',\n",
       "       u'like_music', u'like_shopping', u'like_yoga',\n",
       "       u'subjective_attractiveness', u'subjective_sincerity',\n",
       "       u'subjective_intelligence', u'subjective_fun', u'subjective_ambition'],\n",
       "      dtype='object')"
      ]
     },
     "execution_count": 18,
     "metadata": {},
     "output_type": "execute_result"
    }
   ],
   "source": [
    "df.columns"
   ]
  },
  {
   "cell_type": "code",
   "execution_count": 7,
   "metadata": {
    "collapsed": false
   },
   "outputs": [],
   "source": [
    "y = df['subjective_attractiveness']\n",
    "X = df.copy()"
   ]
  },
  {
   "cell_type": "code",
   "execution_count": 8,
   "metadata": {
    "collapsed": false
   },
   "outputs": [],
   "source": [
    "X.drop('subjective_attractiveness', 1, inplace=True)\n",
    "X.drop('subject_id', 1, inplace = True)\n",
    "X.drop('wave',1, inplace=True)"
   ]
  },
  {
   "cell_type": "code",
   "execution_count": 17,
   "metadata": {
    "collapsed": false
   },
   "outputs": [
    {
     "data": {
      "text/plain": [
       "Index([u'like_sports', u'like_tvsports', u'like_exercise', u'like_food',\n",
       "       u'like_museums', u'like_art', u'like_hiking', u'like_gaming',\n",
       "       u'like_clubbing', u'like_reading', u'like_tv', u'like_theater',\n",
       "       u'like_movies', u'like_concerts', u'like_music', u'like_shopping',\n",
       "       u'like_yoga', u'subjective_sincerity', u'subjective_intelligence',\n",
       "       u'subjective_fun', u'subjective_ambition'],\n",
       "      dtype='object')"
      ]
     },
     "execution_count": 17,
     "metadata": {},
     "output_type": "execute_result"
    }
   ],
   "source": [
    "X.columns"
   ]
  },
  {
   "cell_type": "code",
   "execution_count": 9,
   "metadata": {
    "collapsed": true
   },
   "outputs": [],
   "source": [
    "X_train, X_test, y_train, y_test = train_test_split(X,y,test_size=0.3)"
   ]
  },
  {
   "cell_type": "code",
   "execution_count": 11,
   "metadata": {
    "collapsed": false
   },
   "outputs": [
    {
     "name": "stdout",
     "output_type": "stream",
     "text": [
      "Decision Tree Score:\t-0.079 ± 0.034\n",
      "BaggingRegressor Score:\t0.14 ± 0.022\n",
      "Random Forest Score:\t0.135 ± 0.028\n",
      "Extra Trees Score:\t0.103 ± 0.024\n",
      "Adaboost  Score:\t0.141 ± 0.036\n",
      "GradientBoosting Score:\t0.119 ± 0.045\n"
     ]
    }
   ],
   "source": [
    "cv = KFold(len(y), shuffle=True)\n",
    "dt = DecisionTreeRegressor(max_depth=5)\n",
    "bdt = BaggingRegressor(DecisionTreeRegressor())\n",
    "rf = RandomForestRegressor()\n",
    "et = ExtraTreesRegressor()\n",
    "ab = AdaBoostRegressor()\n",
    "gb = GradientBoostingRegressor()\n",
    "\n",
    "\n",
    "def score(model, name):\n",
    "    s = cross_val_score(model, X, y, cv=cv, n_jobs=-1)\n",
    "    print(\"{} Score:\\t{:0.3} ± {:0.3}\".format(name, s.mean().round(3), s.std().round(3)))\n",
    "\n",
    "        \n",
    "def do_plot(model, m=None):\n",
    "    for fold, color in zip(cv, ['r', 'g', 'b']):\n",
    "        X_train = X.iloc[fold[0]]\n",
    "        X_test  = X.iloc[fold[1]]\n",
    "        y_train = y.iloc[fold[0]]\n",
    "        y_test  = y.iloc[fold[1]]\n",
    "        model.fit(X_train, y_train)\n",
    "        y_pred = model.predict(X_test)\n",
    "\n",
    "        plt.scatter(y_test, y_pred, color=color)\n",
    "        plt.plot([8.5,9.5],[8.5,9.5])\n",
    "        plt.text(9,9.5, \"R2: \"+str(m), fontsize=20, )\n",
    "        \n",
    "# Getting the scores for the original X\n",
    "score(dt, \"Decision Tree\")\n",
    "score(bdt, \"BaggingRegressor\")\n",
    "score(rf, \"Random Forest\")\n",
    "score(et, \"Extra Trees\")\n",
    "score(ab, \"Adaboost \")\n",
    "score(gb, \"GradientBoosting\")"
   ]
  },
  {
   "cell_type": "code",
   "execution_count": 15,
   "metadata": {
    "collapsed": false
   },
   "outputs": [],
   "source": [
    "with open('my_pickled_model.pkl', 'w') as picklefile:\n",
    "    pickle.dump(gb, picklefile)"
   ]
  },
  {
   "cell_type": "code",
   "execution_count": 16,
   "metadata": {
    "collapsed": false
   },
   "outputs": [
    {
     "name": "stdout",
     "output_type": "stream",
     "text": [
      "Morning exercise.ipynb my_pickled_model.pkl\r\n",
      "\u001b[34mdata\u001b[m\u001b[m                   readme.md\r\n"
     ]
    }
   ],
   "source": [
    "! ls"
   ]
  },
  {
   "cell_type": "code",
   "execution_count": null,
   "metadata": {
    "collapsed": true
   },
   "outputs": [],
   "source": []
  }
 ],
 "metadata": {
  "kernelspec": {
   "display_name": "Python 2",
   "language": "python",
   "name": "python2"
  },
  "language_info": {
   "codemirror_mode": {
    "name": "ipython",
    "version": 2
   },
   "file_extension": ".py",
   "mimetype": "text/x-python",
   "name": "python",
   "nbconvert_exporter": "python",
   "pygments_lexer": "ipython2",
   "version": "2.7.12"
  }
 },
 "nbformat": 4,
 "nbformat_minor": 0
}
