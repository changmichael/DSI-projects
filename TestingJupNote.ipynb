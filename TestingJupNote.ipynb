{
 "cells": [
  {
   "cell_type": "code",
   "execution_count": 12,
   "metadata": {
    "collapsed": false
   },
   "outputs": [
    {
     "name": "stdout",
     "output_type": "stream",
     "text": [
      "Account,Name,Rep,Manager,Product,Quantity,Price,Status\n",
      "\n",
      "714466,Trantow-Barrows,Craig Booker,Debra Henley,CPU,1,30000,presented\n",
      "\n",
      "714466,Trantow-Barrows,Craig Booker,Debra Henley,Software,1,10000,presented\n",
      "\n",
      "714466,Trantow-Barrows,Craig Booker,Debra Henley,Maintenance,2,5000,pending\n",
      "\n",
      "closed file\n"
     ]
    }
   ],
   "source": [
    "f = open('sales.txt', 'rU')\n",
    "print f.readline()\n",
    "print f.readline()\n",
    "print f.readline()\n",
    "print f.readline()\n",
    "\n",
    "sample_record = f.readline()\n",
    "f.close()\n",
    "print 'closed file'"
   ]
  },
  {
   "cell_type": "code",
   "execution_count": 4,
   "metadata": {
    "collapsed": false
   },
   "outputs": [
    {
     "data": {
      "text/plain": [
       "str"
      ]
     },
     "execution_count": 4,
     "metadata": {},
     "output_type": "execute_result"
    }
   ],
   "source": [
    "type(sample_record)"
   ]
  },
  {
   "cell_type": "code",
   "execution_count": 14,
   "metadata": {
    "collapsed": false
   },
   "outputs": [
    {
     "data": {
      "text/plain": [
       "'737550,Fritsch, Russel and Anderson,Craig Booker,Debra Henley,CPU,1,35000,declined\\n'"
      ]
     },
     "execution_count": 14,
     "metadata": {},
     "output_type": "execute_result"
    }
   ],
   "source": [
    "sample_record"
   ]
  },
  {
   "cell_type": "code",
   "execution_count": 13,
   "metadata": {
    "collapsed": false
   },
   "outputs": [
    {
     "data": {
      "text/plain": [
       "['737550',\n",
       " 'Fritsch',\n",
       " ' Russel and Anderson',\n",
       " 'Craig Booker',\n",
       " 'Debra Henley',\n",
       " 'CPU',\n",
       " '1',\n",
       " '35000',\n",
       " 'declined\\n']"
      ]
     },
     "execution_count": 13,
     "metadata": {},
     "output_type": "execute_result"
    }
   ],
   "source": [
    "sample_record.split(',')\n"
   ]
  },
  {
   "cell_type": "code",
   "execution_count": 20,
   "metadata": {
    "collapsed": false
   },
   "outputs": [
    {
     "name": "stdout",
     "output_type": "stream",
     "text": [
      "Opening File. Data: \n",
      "\n",
      "['Account', 'Name', 'Rep', 'Manager', 'Product', 'Quantity', 'Price', 'Status']\n",
      "['714466', 'Trantow-Barrows', 'Craig Booker', 'Debra Henley', 'CPU', '1', '30000', 'presented']\n",
      "['714466', 'Trantow-Barrows', 'Craig Booker', 'Debra Henley', 'Software', '1', '10000', 'presented']\n",
      "['714466', 'Trantow-Barrows', 'Craig Booker', 'Debra Henley', 'Maintenance', '2', '5000', 'pending']\n",
      "['737550', 'Fritsch', ' Russel and Anderson', 'Craig Booker', 'Debra Henley', 'CPU', '1', '35000', 'declined']\n",
      "['146832', 'Kiehn-Spinka', 'Daniel Hilton', 'Debra Henley', 'CPU', '2', '65000', 'won']\n",
      "['218895', 'Kulas Inc', 'Daniel Hilton', 'Debra Henley', 'CPU', '2', '40000', 'pending']\n",
      "['218895', 'Kulas Inc', 'Daniel Hilton', 'Debra Henley', 'Software', '1', '10000', 'presented']\n",
      "['412290', 'Jerde-Hilpert', 'John Smith', 'Debra Henley', 'Maintenance', '2', '5000', 'pending']\n",
      "['740150', 'Barton LLC', 'John Smith', 'Debra Henley', 'CPU', '1', '35000', 'declined']\n",
      "['141962', 'Herman LLC', 'Cedric Moss', 'Fred Anderson', 'CPU', '2', '65000', 'won']\n",
      "['163416', 'Purdy-Kunde', 'Cedric Moss', 'Fred Anderson', 'CPU', '1', '30000', 'presented']\n",
      "['239344', 'Stokes LLC', 'Cedric Moss', 'Fred Anderson', 'Maintenance', '1', '5000', 'pending']\n",
      "['239344', 'Stokes LLC', 'Cedric Moss', 'Fred Anderson', 'Software', '1', '10000', 'presented']\n",
      "['307599', 'Kassulke', ' Ondricka and Metz', 'Wendy Yule', 'Fred Anderson', 'Maintenance', '3', '7000', 'won']\n",
      "['688981', 'Keeling LLC', 'Wendy Yule', 'Fred Anderson', 'CPU', '5', '100000', 'won']\n",
      "['729833', 'Koepp Ltd', 'Wendy Yule', 'Fred Anderson', 'CPU', '2', '65000', 'declined']\n",
      "['729833', 'Koepp Ltd', 'Wendy Yule', 'Fred Anderson', 'Monitor', '2', '5000', 'presented']\n",
      "\n"
     ]
    }
   ],
   "source": [
    "import csv\n",
    "print 'Opening File. Data: '\n",
    "print ''\n",
    "with open('sales.txt', 'rU') as f:\n",
    "    reader = csv.reader(f)\n",
    "    for row in reader:\n",
    "        print row\n",
    "print ''"
   ]
  },
  {
   "cell_type": "code",
   "execution_count": 21,
   "metadata": {
    "collapsed": false
   },
   "outputs": [
    {
     "name": "stdout",
     "output_type": "stream",
     "text": [
      "Adding the following record: \n",
      "\n",
      "['123456', 'cosmos', 'neil', 'lucy', 'universe', '1', '1,000,000', 'presented']\n"
     ]
    }
   ],
   "source": [
    "print 'Adding the following record: '\n",
    "data = ['123456', 'cosmos', 'neil', 'lucy', 'universe', '1', '1,000,000', 'presented']\n",
    "print ''\n",
    "print data\n",
    "with open('sales.txt', 'a') as fp:\n",
    "    a = csv.writer(fp, delimiter=',')\n",
    "    fp.write('\\n')\n",
    "    a.writerows([data])"
   ]
  },
  {
   "cell_type": "code",
   "execution_count": null,
   "metadata": {
    "collapsed": true
   },
   "outputs": [],
   "source": [
    "print 'The new data that was just added, can be seen on the last line: '\n",
    "with open('sales.txt', 'rU') as f:\n",
    "    reader = csv.reader(f)\n",
    "    for row in reader:\n",
    "        print row"
   ]
  },
  {
   "cell_type": "markdown",
   "metadata": {},
   "source": [
    "## testing out the markdown feature\n",
    "darn i hate this"
   ]
  },
  {
   "cell_type": "markdown",
   "metadata": {},
   "source": [
    "## testing this out once more darn i hope this works"
   ]
  },
  {
   "cell_type": "code",
   "execution_count": null,
   "metadata": {
    "collapsed": true
   },
   "outputs": [],
   "source": []
  }
 ],
 "metadata": {
  "kernelspec": {
   "display_name": "Python 2",
   "language": "python",
   "name": "python2"
  },
  "language_info": {
   "codemirror_mode": {
    "name": "ipython",
    "version": 2
   },
   "file_extension": ".py",
   "mimetype": "text/x-python",
   "name": "python",
   "nbconvert_exporter": "python",
   "pygments_lexer": "ipython2",
   "version": "2.7.11"
  }
 },
 "nbformat": 4,
 "nbformat_minor": 0
}
