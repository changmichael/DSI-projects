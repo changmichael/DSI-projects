{
 "cells": [
  {
   "cell_type": "code",
   "execution_count": 9,
   "metadata": {
    "collapsed": false
   },
   "outputs": [
    {
     "name": "stdout",
     "output_type": "stream",
     "text": [
      "Enter a string of parenthesisThis is my (new) testing (string) ( \n"
     ]
    },
    {
     "data": {
      "text/plain": [
       "False"
      ]
     },
     "execution_count": 9,
     "metadata": {},
     "output_type": "execute_result"
    }
   ],
   "source": [
    "def parenthesis():\n",
    "    value = raw_input(\"Enter a string of parenthesis\")\n",
    "    #print value\n",
    "    m = 0\n",
    "    for char in value:\n",
    "        if value[0] != \"(\":\n",
    "            return False\n",
    "        if char == \"(\":\n",
    "            m += 1\n",
    "        elif char == \")\":\n",
    "            m -= 1\n",
    "               \n",
    "        if m <0: \n",
    "            return False\n",
    "        \n",
    "    if m != 0:\n",
    "        return False\n",
    "    return True\n",
    "\n",
    "parenthesis()"
   ]
  },
  {
   "cell_type": "code",
   "execution_count": 4,
   "metadata": {
    "collapsed": false
   },
   "outputs": [
    {
     "name": "stdout",
     "output_type": "stream",
     "text": [
      "Enter a string of parenthesis((()\n"
     ]
    },
    {
     "data": {
      "text/plain": [
       "True"
      ]
     },
     "execution_count": 4,
     "metadata": {},
     "output_type": "execute_result"
    }
   ],
   "source": [
    "def parenthesis():\n",
    "   value = raw_input(\"Enter a string of parenthesis\")\n",
    "   #print value\n",
    "   m = 0\n",
    "   for char in range(len(value)):\n",
    "       if char == 0 and value[char] != \"(\":\n",
    "           return False\n",
    "       if value[char] == \"(\":\n",
    "           m =+ 1\n",
    "       else: m -= 1\n",
    "               \n",
    "       if m <0: \n",
    "           return False\n",
    "   return True\n",
    "\n",
    "\n",
    "\n",
    "\n",
    "parenthesis()\n"
   ]
  },
  {
   "cell_type": "code",
   "execution_count": null,
   "metadata": {
    "collapsed": true
   },
   "outputs": [],
   "source": []
  }
 ],
 "metadata": {
  "kernelspec": {
   "display_name": "Python 2",
   "language": "python",
   "name": "python2"
  },
  "language_info": {
   "codemirror_mode": {
    "name": "ipython",
    "version": 2
   },
   "file_extension": ".py",
   "mimetype": "text/x-python",
   "name": "python",
   "nbconvert_exporter": "python",
   "pygments_lexer": "ipython2",
   "version": "2.7.11"
  }
 },
 "nbformat": 4,
 "nbformat_minor": 0
}
