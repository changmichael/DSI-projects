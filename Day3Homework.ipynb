{
 "cells": [
  {
   "cell_type": "markdown",
   "metadata": {},
   "source": [
    "## Review Problem 1"
   ]
  },
  {
   "cell_type": "code",
   "execution_count": 175,
   "metadata": {
    "collapsed": true
   },
   "outputs": [],
   "source": [
    "input_dict = {'list':[1,2,3,4], 'tuple':('cat', 'dog'), 'integer':1, \n",
    "              'float':99.99, 1:'integer', 2:'integer_2', 'Uppercase_string':'ABCD',\n",
    "              'CHARACTER':'C'}"
   ]
  },
  {
   "cell_type": "code",
   "execution_count": 176,
   "metadata": {
    "collapsed": false
   },
   "outputs": [
    {
     "name": "stdout",
     "output_type": "stream",
     "text": [
      "{'Uppercase_string': 'ABCD', 1: 'integer', 2: 'integer_2', 'tuple': ('cat', 'dog'), 'integer': 1, 'CHARACTER': 'C', 'float': 99.99, 'list': [1, 2, 3, 4]}\n",
      "{'integer': 'vowel', 'float': 'consonant', 'list': 'consonant', 'tuple': 'consonant'}\n"
     ]
    },
    {
     "data": {
      "text/plain": [
       "{'float': 'consonant',\n",
       " 'integer': 'vowel',\n",
       " 'list': 'consonant',\n",
       " 'tuple': 'consonant'}"
      ]
     },
     "execution_count": 176,
     "metadata": {},
     "output_type": "execute_result"
    }
   ],
   "source": [
    "# import string library to use new ascii_lowercase function\n",
    "import string\n",
    "def key_case(dictInput):\n",
    "# Creating a new function to build a new dictionary with values based on the first letter of the key\n",
    "    newDictInput = {}\n",
    "    print dictInput\n",
    "    for dictStep in dictInput:\n",
    "        if type(dictStep)==str:\n",
    "        # Making sure the directionary key is a string\n",
    "            if dictStep[0] in string.ascii_lowercase:\n",
    "            # Making sure the first letter of the key is lower case\n",
    "                if dictStep[0] in \"aeiou\":\n",
    "                # if the first letter of the key is a vowel...\n",
    "                    newDictInput[dictStep]=\"vowel\"\n",
    "                else:\n",
    "                # if the first letter of the key is a consonant...\n",
    "                    newDictInput[dictStep]=\"consonant\"    \n",
    "    print newDictInput\n",
    "    return newDictInput\n",
    "    \n",
    "    \n",
    "    \n",
    "key_case(input_dict)"
   ]
  },
  {
   "cell_type": "markdown",
   "metadata": {},
   "source": [
    "## Review Problem 2"
   ]
  },
  {
   "cell_type": "code",
   "execution_count": 177,
   "metadata": {
    "collapsed": true
   },
   "outputs": [],
   "source": [
    "\n",
    "test_dict = {'A':[1,2,3,4,5], 'B':[12.1, 14.2, 20.3, 25.4], 'C':[10, 25.5, 50.9, 101]}\n",
    "remainderList = [2,3,4,5]\n",
    "\n",
    "# 1. Run the function with the default keyword argument\n",
    "# 2. Run the function assigning the default keyword argument to the optional list"
   ]
  },
  {
   "cell_type": "code",
   "execution_count": 178,
   "metadata": {
    "collapsed": false
   },
   "outputs": [
    {
     "name": "stdout",
     "output_type": "stream",
     "text": [
      "{'A': [1, 2, 3, 4, 5], 'C': [10, 25.5, 50.9, 101], 'B': [12.1, 14.2, 20.3, 25.4]}\n",
      "[2, 3, 4, 5]\n",
      "{'A': {1: [1, 1, 1, 1], 2: [0, 2, 2, 2], 3: [1, 0, 3, 3], 4: [0, 1, 0, 4], 5: [1, 2, 1, 0]}, 'C': {25.5: [1.5, 1.5, 1.5, 0.5], 10: [0, 1, 2, 0], 50.9: [0.8999999999999986, 2.8999999999999986, 2.8999999999999986, 0.8999999999999986], 101: [1, 2, 1, 1]}, 'B': {14.2: [0.1999999999999993, 2.1999999999999993, 2.1999999999999993, 4.199999999999999], 20.3: [0.3000000000000007, 2.3000000000000007, 0.3000000000000007, 0.3000000000000007], 12.1: [0.09999999999999964, 0.09999999999999964, 0.09999999999999964, 2.0999999999999996], 25.4: [1.3999999999999986, 1.3999999999999986, 1.3999999999999986, 0.3999999999999986]}}\n"
     ]
    },
    {
     "data": {
      "text/plain": [
       "{'A': {1: [1, 1, 1, 1],\n",
       "  2: [0, 2, 2, 2],\n",
       "  3: [1, 0, 3, 3],\n",
       "  4: [0, 1, 0, 4],\n",
       "  5: [1, 2, 1, 0]},\n",
       " 'B': {12.1: [0.09999999999999964,\n",
       "   0.09999999999999964,\n",
       "   0.09999999999999964,\n",
       "   2.0999999999999996],\n",
       "  14.2: [0.1999999999999993,\n",
       "   2.1999999999999993,\n",
       "   2.1999999999999993,\n",
       "   4.199999999999999],\n",
       "  20.3: [0.3000000000000007,\n",
       "   2.3000000000000007,\n",
       "   0.3000000000000007,\n",
       "   0.3000000000000007],\n",
       "  25.4: [1.3999999999999986,\n",
       "   1.3999999999999986,\n",
       "   1.3999999999999986,\n",
       "   0.3999999999999986]},\n",
       " 'C': {10: [0, 1, 2, 0],\n",
       "  25.5: [1.5, 1.5, 1.5, 0.5],\n",
       "  50.9: [0.8999999999999986,\n",
       "   2.8999999999999986,\n",
       "   2.8999999999999986,\n",
       "   0.8999999999999986],\n",
       "  101: [1, 2, 1, 1]}}"
      ]
     },
     "execution_count": 178,
     "metadata": {},
     "output_type": "execute_result"
    }
   ],
   "source": [
    "\n",
    "def remainderFinder(dictInput, remainder=default_value):\n",
    "# Creating a function to get the remainder in dicts of dicts\n",
    "    default_value = []\n",
    "    if remainder == []:\n",
    "        remainder.append(2)\n",
    "    # Setting the default should there be no remainder list inputted\n",
    "    print dictInput\n",
    "    print remainder\n",
    "    newDictInput = {}\n",
    "    # Setting the new Dict used for the calculations\n",
    "    \n",
    "    for dictKey, dictVal in dictInput.items():\n",
    "        newNewDict = {}\n",
    "        # Setting the dict in the dict\n",
    "        for x in dictVal:\n",
    "            newNewDict[x]=[]\n",
    "            for a in remainder:\n",
    "                newNewDict[x].append(x % a)\n",
    "            # Calculating the remainder operation and putting in the dict of dict\n",
    "            newDictInput[dictKey]=newNewDict\n",
    "            # Putting the dict in the dict\n",
    "        dictInput[dictKey] = newDictInput[dictKey]\n",
    "        # Putting the new dict value in the original dict\n",
    "    print dictInput\n",
    "    return dictInput\n",
    "    # Printing and returning the original dict but with new values\n",
    "\n",
    "    \n",
    "# Testing the function with both cases - with inputted remainder list and without    \n",
    "# remainderFinder(test_dict)\n",
    "remainderFinder(test_dict,remainderList)\n"
   ]
  },
  {
   "cell_type": "code",
   "execution_count": null,
   "metadata": {
    "collapsed": true
   },
   "outputs": [],
   "source": []
  }
 ],
 "metadata": {
  "kernelspec": {
   "display_name": "Python 2",
   "language": "python",
   "name": "python2"
  },
  "language_info": {
   "codemirror_mode": {
    "name": "ipython",
    "version": 2
   },
   "file_extension": ".py",
   "mimetype": "text/x-python",
   "name": "python",
   "nbconvert_exporter": "python",
   "pygments_lexer": "ipython2",
   "version": "2.7.11"
  }
 },
 "nbformat": 4,
 "nbformat_minor": 0
}
