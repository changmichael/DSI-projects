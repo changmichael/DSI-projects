{
 "cells": [
  {
   "cell_type": "code",
   "execution_count": 2,
   "metadata": {
    "collapsed": false
   },
   "outputs": [
    {
     "name": "stdout",
     "output_type": "stream",
     "text": [
      "7 50\n",
      "1 12 5 111 200 1000 10\n",
      "4\n"
     ]
    }
   ],
   "source": [
    "def max_toys(prices, rupees):\n",
    "    '''Where prices is a list of toys prices (as integers)\n",
    "    and rupees is Mark's total budget. \n",
    "    \n",
    "    Returns an integer K, the total number of toys Mark can buy.\n",
    "    \n",
    "    Intuition: \n",
    "    1) sorts the list\n",
    "    2) adds each toy to his list from smallest to largest\n",
    "    3) stops when he runs out of money\n",
    "    '''\n",
    "    \n",
    "    #Compute and return final answer over here\n",
    "    answer = 0\n",
    "    amount_spent = 0\n",
    "    \n",
    "    sorted_prices = sorted(prices)\n",
    "    \n",
    "    for one_toys_price in sorted_prices:\n",
    "        \n",
    "        if amount_spent + one_toys_price <= rupees:\n",
    "            \n",
    "            amount_spent += one_toys_price\n",
    "            answer += 1\n",
    "            \n",
    "        else:\n",
    "            break\n",
    "    \n",
    "    return answer\n",
    "\n",
    "if __name__ == '__main__':\n",
    "    n, k = map(int, raw_input().split())\n",
    "    prices = map(int, raw_input().split())\n",
    "    print max_toys(prices, k)\n"
   ]
  }
 ],
 "metadata": {
  "kernelspec": {
   "display_name": "Python 2",
   "language": "python",
   "name": "python2"
  },
  "language_info": {
   "codemirror_mode": {
    "name": "ipython",
    "version": 2
   },
   "file_extension": ".py",
   "mimetype": "text/x-python",
   "name": "python",
   "nbconvert_exporter": "python",
   "pygments_lexer": "ipython2",
   "version": "2.7.12"
  }
 },
 "nbformat": 4,
 "nbformat_minor": 0
}
