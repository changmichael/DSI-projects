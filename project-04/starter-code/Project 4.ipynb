{
 "cells": [
  {
   "cell_type": "code",
   "execution_count": 14,
   "metadata": {
    "collapsed": true
   },
   "outputs": [],
   "source": [
    "import requests\n",
    "import bs4\n",
    "from bs4 import BeautifulSoup\n",
    "\n",
    "import re\n",
    "import pandas as pd\n",
    "import numpy as np\n",
    "\n",
    "from IPython.core.display import HTML, Image"
   ]
  },
  {
   "cell_type": "code",
   "execution_count": 15,
   "metadata": {
    "collapsed": true
   },
   "outputs": [],
   "source": [
    "def get_soup_from_url(url):\n",
    "    '''Returns Beautiful Soup for a given webpage'''\n",
    "    response = requests.get(url)\n",
    "    page = response.text\n",
    "    soup = BeautifulSoup(page,'lxml')\n",
    "    return soup\n",
    "\n",
    "def extract_location_from_result(result):\n",
    "    loca = result.find('span', class_ = 'location').text\n",
    "    location = loca.split(',')[0]\n",
    "    return str(location)\n",
    "\n",
    "def extract_company_from_result(result):\n",
    "    company = result.find('span', class_ = 'company').text.encode('ascii','ignore').strip()\n",
    "    return str(company)\n",
    "\n",
    "def extract_jobtitle_from_result(result):\n",
    "    jobtitle = result.find('a', class_ = 'jobtitle')\n",
    "    if jobtitle != None:\n",
    "        jobtitle = result.find('a',class_ = 'jobtitle').text.strip().encode('ascii','ignore')\n",
    "    else:\n",
    "        jobtitle = result.find('a').text.encode('ascii','ignore')\n",
    "    return str(jobtitle)\n",
    "\n",
    "def extract_salary_from_result(result):\n",
    "    salary = result.find('nobr')\n",
    "    if salary != None:\n",
    "        salary = result.find('nobr').text\n",
    "    else:\n",
    "        salary = np.nan\n",
    "    return str(salary)\n",
    "\n",
    "def DollarDrop(x):\n",
    "    y = x.split('$')\n",
    "    z = y[1].replace(',','')\n",
    "    return z\n",
    "\n",
    "def SalarySplitter(x):\n",
    "    a = x.strip().split(' ')\n",
    "    tenor = a[-1]\n",
    "    if tenor == 'year':\n",
    "        if a[1] == '-':\n",
    "            salary = (int(DollarDrop(a[0])) + int(DollarDrop(a[2])))/2\n",
    "        else:\n",
    "            salary = int(DollarDrop(a[0]))\n",
    "    else:\n",
    "        salary = np.nan\n",
    "    return salary"
   ]
  },
  {
   "cell_type": "code",
   "execution_count": 16,
   "metadata": {
    "collapsed": false
   },
   "outputs": [],
   "source": [
    "url_template = \"http://www.indeed.com/jobs?q=data+scientist+%2420%2C000&l={city}&start={start}\"\n",
    "max_results_per_city = 300\n",
    "\n",
    "results = []\n",
    "\n",
    "for city in set(['New+York', 'Chicago', 'Los+Angeles', 'Seattle', 'San+Francisco', 'Baltimore', 'Atlanta', 'Boston', \n",
    "                 'Dallas', 'Raleigh', 'Philadelphia']):\n",
    "    URL1 = (url_template.replace('{city}',city))\n",
    "    for start in range(0, max_results_per_city, 10):\n",
    "        URL2 = URL1.replace('{start}',str(start))\n",
    "        # Grab the results from the request (as above)\n",
    "        # Append to the full set of results\n",
    "        soup = get_soup_from_url(URL2)\n",
    "        for element in soup.findAll('div',class_ = 'result'):\n",
    "            miniResult=[]\n",
    "            miniResult.append(extract_jobtitle_from_result(element))\n",
    "            miniResult.append(extract_company_from_result(element))\n",
    "            miniResult.append(extract_location_from_result(element))\n",
    "            cityTag = city.replace('+',' ')\n",
    "            miniResult.append(cityTag)\n",
    "            miniResult.append(extract_salary_from_result(element))\n",
    "            results.append(miniResult)"
   ]
  },
  {
   "cell_type": "code",
   "execution_count": 17,
   "metadata": {
    "collapsed": true
   },
   "outputs": [],
   "source": [
    "df = pd.DataFrame(results, columns  = ['JobTitle', 'CompanyName', 'City', 'CityGrouping', 'Salary'])"
   ]
  },
  {
   "cell_type": "code",
   "execution_count": 18,
   "metadata": {
    "collapsed": false
   },
   "outputs": [],
   "source": [
    "df['Salary'] = df['Salary'].apply(lambda x: SalarySplitter(x))"
   ]
  },
  {
   "cell_type": "code",
   "execution_count": 19,
   "metadata": {
    "collapsed": false
   },
   "outputs": [],
   "source": [
    "df.dropna(inplace = True)"
   ]
  },
  {
   "cell_type": "code",
   "execution_count": 26,
   "metadata": {
    "collapsed": false
   },
   "outputs": [
    {
     "data": {
      "text/plain": [
       "Baltimore        33\n",
       "New York         33\n",
       "Chicago          28\n",
       "Atlanta          21\n",
       "Boston           19\n",
       "San Francisco    18\n",
       "Raleigh          12\n",
       "Philadelphia     12\n",
       "Dallas           12\n",
       "Seattle          11\n",
       "Los Angeles      11\n",
       "Name: CityGrouping, dtype: int64"
      ]
     },
     "execution_count": 26,
     "metadata": {},
     "output_type": "execute_result"
    }
   ],
   "source": [
    "df['CityGrouping'].value_counts()"
   ]
  },
  {
   "cell_type": "code",
   "execution_count": 21,
   "metadata": {
    "collapsed": false
   },
   "outputs": [],
   "source": [
    "df.to_csv('SalaryInfo.csv')"
   ]
  },
  {
   "cell_type": "code",
   "execution_count": null,
   "metadata": {
    "collapsed": true
   },
   "outputs": [],
   "source": []
  },
  {
   "cell_type": "code",
   "execution_count": null,
   "metadata": {
    "collapsed": true
   },
   "outputs": [],
   "source": []
  },
  {
   "cell_type": "code",
   "execution_count": 22,
   "metadata": {
    "collapsed": true
   },
   "outputs": [],
   "source": [
    "workdf = pd.read_csv('SalaryInfo.csv')"
   ]
  },
  {
   "cell_type": "code",
   "execution_count": 31,
   "metadata": {
    "collapsed": false
   },
   "outputs": [
    {
     "data": {
      "text/plain": [
       "106734.5"
      ]
     },
     "execution_count": 31,
     "metadata": {},
     "output_type": "execute_result"
    }
   ],
   "source": [
    "SalaryMedian = workdf['Salary'].median()\n",
    "SalaryMedian"
   ]
  },
  {
   "cell_type": "code",
   "execution_count": 29,
   "metadata": {
    "collapsed": true
   },
   "outputs": [],
   "source": [
    "workdf['HighSalary']=[x>SalaryMedian for x in workdf['Salary']]"
   ]
  },
  {
   "cell_type": "code",
   "execution_count": 30,
   "metadata": {
    "collapsed": false
   },
   "outputs": [
    {
     "data": {
      "text/html": [
       "<div>\n",
       "<table border=\"1\" class=\"dataframe\">\n",
       "  <thead>\n",
       "    <tr style=\"text-align: right;\">\n",
       "      <th></th>\n",
       "      <th>Unnamed: 0</th>\n",
       "      <th>JobTitle</th>\n",
       "      <th>CompanyName</th>\n",
       "      <th>City</th>\n",
       "      <th>CityGrouping</th>\n",
       "      <th>Salary</th>\n",
       "      <th>HighSalary</th>\n",
       "    </tr>\n",
       "  </thead>\n",
       "  <tbody>\n",
       "    <tr>\n",
       "      <th>0</th>\n",
       "      <td>5</td>\n",
       "      <td>Statistician</td>\n",
       "      <td>Etech Hi Inc.</td>\n",
       "      <td>Chicago</td>\n",
       "      <td>Chicago</td>\n",
       "      <td>71000.0</td>\n",
       "      <td>False</td>\n",
       "    </tr>\n",
       "    <tr>\n",
       "      <th>1</th>\n",
       "      <td>18</td>\n",
       "      <td>Data Scientist</td>\n",
       "      <td>Workbridge Associates</td>\n",
       "      <td>Chicago</td>\n",
       "      <td>Chicago</td>\n",
       "      <td>95000.0</td>\n",
       "      <td>False</td>\n",
       "    </tr>\n",
       "    <tr>\n",
       "      <th>2</th>\n",
       "      <td>22</td>\n",
       "      <td>Machine Learning Data Scientist</td>\n",
       "      <td>All-In Analytics</td>\n",
       "      <td>Chicago</td>\n",
       "      <td>Chicago</td>\n",
       "      <td>132500.0</td>\n",
       "      <td>True</td>\n",
       "    </tr>\n",
       "    <tr>\n",
       "      <th>3</th>\n",
       "      <td>25</td>\n",
       "      <td>Mid-Level Data Scientist</td>\n",
       "      <td>Workbridge Associates</td>\n",
       "      <td>Chicago</td>\n",
       "      <td>Chicago</td>\n",
       "      <td>105000.0</td>\n",
       "      <td>False</td>\n",
       "    </tr>\n",
       "    <tr>\n",
       "      <th>4</th>\n",
       "      <td>47</td>\n",
       "      <td>Senior Data Scientist</td>\n",
       "      <td>Workbridge Associates</td>\n",
       "      <td>Chicago</td>\n",
       "      <td>Chicago</td>\n",
       "      <td>150000.0</td>\n",
       "      <td>True</td>\n",
       "    </tr>\n",
       "  </tbody>\n",
       "</table>\n",
       "</div>"
      ],
      "text/plain": [
       "   Unnamed: 0                         JobTitle            CompanyName  \\\n",
       "0           5                     Statistician          Etech Hi Inc.   \n",
       "1          18                   Data Scientist  Workbridge Associates   \n",
       "2          22  Machine Learning Data Scientist       All-In Analytics   \n",
       "3          25         Mid-Level Data Scientist  Workbridge Associates   \n",
       "4          47            Senior Data Scientist  Workbridge Associates   \n",
       "\n",
       "      City CityGrouping    Salary HighSalary  \n",
       "0  Chicago      Chicago   71000.0      False  \n",
       "1  Chicago      Chicago   95000.0      False  \n",
       "2  Chicago      Chicago  132500.0       True  \n",
       "3  Chicago      Chicago  105000.0      False  \n",
       "4  Chicago      Chicago  150000.0       True  "
      ]
     },
     "execution_count": 30,
     "metadata": {},
     "output_type": "execute_result"
    }
   ],
   "source": [
    "workdf.head()"
   ]
  },
  {
   "cell_type": "code",
   "execution_count": null,
   "metadata": {
    "collapsed": false
   },
   "outputs": [],
   "source": []
  },
  {
   "cell_type": "code",
   "execution_count": null,
   "metadata": {
    "collapsed": true
   },
   "outputs": [],
   "source": []
  }
 ],
 "metadata": {
  "kernelspec": {
   "display_name": "Python 2",
   "language": "python",
   "name": "python2"
  },
  "language_info": {
   "codemirror_mode": {
    "name": "ipython",
    "version": 2
   },
   "file_extension": ".py",
   "mimetype": "text/x-python",
   "name": "python",
   "nbconvert_exporter": "python",
   "pygments_lexer": "ipython2",
   "version": "2.7.11"
  }
 },
 "nbformat": 4,
 "nbformat_minor": 0
}
