{
 "cells": [
  {
   "cell_type": "code",
   "execution_count": 14,
   "metadata": {
    "collapsed": false
   },
   "outputs": [],
   "source": [
    "%matplotlib inline\n",
    "from matplotlib import pyplot as plt\n",
    "\n",
    "from sklearn import datasets, linear_model\n",
    "from sklearn.metrics import mean_squared_error\n",
    "data = datasets.load_boston()\n",
    "import seaborn as sns\n",
    "lm = linear_model.LinearRegression()\n",
    "import numpy as np\n",
    "import pandas as pd\n",
    "df = pd.DataFrame(data.data, columns=data.feature_names)\n",
    "# df.describe()\n",
    "targets = pd.DataFrame(data.target, columns=[\"MEDV\"])\n"
   ]
  },
  {
   "cell_type": "code",
   "execution_count": 20,
   "metadata": {
    "collapsed": false
   },
   "outputs": [
    {
     "name": "stdout",
     "output_type": "stream",
     "text": [
      "MSE: 30.5124687773\n"
     ]
    }
   ],
   "source": [
    "\n",
    "\n",
    "X = df[[\"RM\", \"LSTAT\"]]\n",
    "y = targets[\"MEDV\"]\n",
    "\n",
    "model = lm.fit(X, y)\n",
    "predictions = lm.predict(X)\n",
    "\n",
    "# Plot the model\n",
    "#plt.figure(figsize=(16,8))\n",
    "#plt.scatter(predictions, y, s=30, c='b', marker='+', zorder=10)\n",
    "#plt.xlabel(\"Predicted Values from RM\")\n",
    "#plt.ylabel(\"Actual Values MEDV\")\n",
    "#plt.show()\n",
    "print \"MSE:\", mean_squared_error(y, predictions)\n"
   ]
  },
  {
   "cell_type": "code",
   "execution_count": 16,
   "metadata": {
    "collapsed": false
   },
   "outputs": [
    {
     "name": "stdout",
     "output_type": "stream",
     "text": [
      "MSE: 38.6943287589\n"
     ]
    }
   ],
   "source": [
    "\n",
    "\n",
    "X = df[[\"RM\", \"RAD\"]]\n",
    "y = targets[\"MEDV\"]\n",
    "\n",
    "model = lm.fit(X, y)\n",
    "predictions = lm.predict(X)\n",
    "\n",
    "# Plot the model\n",
    "#plt.figure(figsize=(16,8))\n",
    "#plt.scatter(predictions, y, s=30, c='b', marker='+', zorder=10)\n",
    "#plt.xlabel(\"Predicted Values from RM\")\n",
    "#plt.ylabel(\"Actual Values MEDV\")\n",
    "#plt.show()\n",
    "print \"MSE:\", mean_squared_error(y, predictions)\n"
   ]
  },
  {
   "cell_type": "code",
   "execution_count": 17,
   "metadata": {
    "collapsed": false
   },
   "outputs": [
    {
     "name": "stdout",
     "output_type": "stream",
     "text": [
      "MSE: 42.5875853408\n"
     ]
    }
   ],
   "source": [
    "\n",
    "\n",
    "X = df[[\"RM\", \"DIS\"]]\n",
    "y = targets[\"MEDV\"]\n",
    "\n",
    "model = lm.fit(X, y)\n",
    "predictions = lm.predict(X)\n",
    "\n",
    "# Plot the model\n",
    "#plt.figure(figsize=(16,8))\n",
    "#plt.scatter(predictions, y, s=30, c='b', marker='+', zorder=10)\n",
    "#plt.xlabel(\"Predicted Values from RM\")\n",
    "#plt.ylabel(\"Actual Values MEDV\")\n",
    "#plt.show()\n",
    "print \"MSE:\", mean_squared_error(y, predictions)\n"
   ]
  },
  {
   "cell_type": "code",
   "execution_count": 18,
   "metadata": {
    "collapsed": false
   },
   "outputs": [
    {
     "name": "stdout",
     "output_type": "stream",
     "text": [
      "MSE: 41.6747159952\n"
     ]
    }
   ],
   "source": [
    "\n",
    "\n",
    "X = df[[\"RM\", \"ZN\"]]\n",
    "y = targets[\"MEDV\"]\n",
    "\n",
    "model = lm.fit(X, y)\n",
    "predictions = lm.predict(X)\n",
    "\n",
    "# Plot the model\n",
    "#plt.figure(figsize=(16,8))\n",
    "#plt.scatter(predictions, y, s=30, c='b', marker='+', zorder=10)\n",
    "#plt.xlabel(\"Predicted Values from RM\")\n",
    "#plt.ylabel(\"Actual Values MEDV\")\n",
    "#plt.show()\n",
    "print \"MSE:\", mean_squared_error(y, predictions)\n"
   ]
  },
  {
   "cell_type": "code",
   "execution_count": 19,
   "metadata": {
    "collapsed": false
   },
   "outputs": [
    {
     "name": "stdout",
     "output_type": "stream",
     "text": [
      "MSE: 39.1454832115\n"
     ]
    }
   ],
   "source": [
    "\n",
    "\n",
    "X = df[[\"RM\", \"INDUS\"]]\n",
    "y = targets[\"MEDV\"]\n",
    "\n",
    "model = lm.fit(X, y)\n",
    "predictions = lm.predict(X)\n",
    "\n",
    "# Plot the model\n",
    "#plt.figure(figsize=(16,8))\n",
    "#plt.scatter(predictions, y, s=30, c='b', marker='+', zorder=10)\n",
    "#plt.xlabel(\"Predicted Values from RM\")\n",
    "#plt.ylabel(\"Actual Values MEDV\")\n",
    "#plt.show()\n",
    "print \"MSE:\", mean_squared_error(y, predictions)\n"
   ]
  },
  {
   "cell_type": "code",
   "execution_count": 21,
   "metadata": {
    "collapsed": false
   },
   "outputs": [
    {
     "name": "stdout",
     "output_type": "stream",
     "text": [
      "MSE: 38.4333672017\n"
     ]
    }
   ],
   "source": [
    "\n",
    "\n",
    "X = df[[\"LSTAT\", \"RAD\"]]\n",
    "y = targets[\"MEDV\"]\n",
    "\n",
    "model = lm.fit(X, y)\n",
    "predictions = lm.predict(X)\n",
    "\n",
    "# Plot the model\n",
    "#plt.figure(figsize=(16,8))\n",
    "#plt.scatter(predictions, y, s=30, c='b', marker='+', zorder=10)\n",
    "#plt.xlabel(\"Predicted Values from RM\")\n",
    "#plt.ylabel(\"Actual Values MEDV\")\n",
    "#plt.show()\n",
    "print \"MSE:\", mean_squared_error(y, predictions)\n"
   ]
  },
  {
   "cell_type": "code",
   "execution_count": 22,
   "metadata": {
    "collapsed": false
   },
   "outputs": [
    {
     "name": "stdout",
     "output_type": "stream",
     "text": [
      "MSE: 36.9564820135\n"
     ]
    }
   ],
   "source": [
    "\n",
    "X = df[[\"LSTAT\", \"DIS\"]]\n",
    "y = targets[\"MEDV\"]\n",
    "\n",
    "model = lm.fit(X, y)\n",
    "predictions = lm.predict(X)\n",
    "\n",
    "# Plot the model\n",
    "#plt.figure(figsize=(16,8))\n",
    "#plt.scatter(predictions, y, s=30, c='b', marker='+', zorder=10)\n",
    "#plt.xlabel(\"Predicted Values from RM\")\n",
    "#plt.ylabel(\"Actual Values MEDV\")\n",
    "#plt.show()\n",
    "print \"MSE:\", mean_squared_error(y, predictions)\n"
   ]
  },
  {
   "cell_type": "code",
   "execution_count": 23,
   "metadata": {
    "collapsed": false
   },
   "outputs": [
    {
     "name": "stdout",
     "output_type": "stream",
     "text": [
      "MSE: 38.1661232978\n"
     ]
    }
   ],
   "source": [
    "\n",
    "X = df[[\"LSTAT\", \"ZN\"]]\n",
    "y = targets[\"MEDV\"]\n",
    "\n",
    "model = lm.fit(X, y)\n",
    "predictions = lm.predict(X)\n",
    "\n",
    "# Plot the model\n",
    "#plt.figure(figsize=(16,8))\n",
    "#plt.scatter(predictions, y, s=30, c='b', marker='+', zorder=10)\n",
    "#plt.xlabel(\"Predicted Values from RM\")\n",
    "#plt.ylabel(\"Actual Values MEDV\")\n",
    "#plt.show()\n",
    "print \"MSE:\", mean_squared_error(y, predictions)\n"
   ]
  },
  {
   "cell_type": "code",
   "execution_count": 24,
   "metadata": {
    "collapsed": false
   },
   "outputs": [
    {
     "name": "stdout",
     "output_type": "stream",
     "text": [
      "MSE: 38.2878328673\n"
     ]
    }
   ],
   "source": [
    "\n",
    "X = df[[\"LSTAT\", \"INDUS\"]]\n",
    "y = targets[\"MEDV\"]\n",
    "\n",
    "model = lm.fit(X, y)\n",
    "predictions = lm.predict(X)\n",
    "\n",
    "# Plot the model\n",
    "#plt.figure(figsize=(16,8))\n",
    "#plt.scatter(predictions, y, s=30, c='b', marker='+', zorder=10)\n",
    "#plt.xlabel(\"Predicted Values from RM\")\n",
    "#plt.ylabel(\"Actual Values MEDV\")\n",
    "#plt.show()\n",
    "print \"MSE:\", mean_squared_error(y, predictions)\n"
   ]
  },
  {
   "cell_type": "code",
   "execution_count": 26,
   "metadata": {
    "collapsed": false
   },
   "outputs": [
    {
     "name": "stdout",
     "output_type": "stream",
     "text": [
      "MSE: 71.7064913086\n"
     ]
    }
   ],
   "source": [
    "\n",
    "X = df[[\"RAD\", \"DIS\"]]\n",
    "y = targets[\"MEDV\"]\n",
    "\n",
    "model = lm.fit(X, y)\n",
    "predictions = lm.predict(X)\n",
    "\n",
    "# Plot the model\n",
    "#plt.figure(figsize=(16,8))\n",
    "#plt.scatter(predictions, y, s=30, c='b', marker='+', zorder=10)\n",
    "#plt.xlabel(\"Predicted Values from RM\")\n",
    "#plt.ylabel(\"Actual Values MEDV\")\n",
    "#plt.show()\n",
    "print \"MSE:\", mean_squared_error(y, predictions)\n"
   ]
  },
  {
   "cell_type": "code",
   "execution_count": 25,
   "metadata": {
    "collapsed": false
   },
   "outputs": [
    {
     "name": "stdout",
     "output_type": "stream",
     "text": [
      "MSE: 66.675119424\n"
     ]
    }
   ],
   "source": [
    "\n",
    "X = df[[\"RAD\", \"ZN\"]]\n",
    "y = targets[\"MEDV\"]\n",
    "\n",
    "model = lm.fit(X, y)\n",
    "predictions = lm.predict(X)\n",
    "\n",
    "# Plot the model\n",
    "#plt.figure(figsize=(16,8))\n",
    "#plt.scatter(predictions, y, s=30, c='b', marker='+', zorder=10)\n",
    "#plt.xlabel(\"Predicted Values from RM\")\n",
    "#plt.ylabel(\"Actual Values MEDV\")\n",
    "#plt.show()\n",
    "print \"MSE:\", mean_squared_error(y, predictions)\n"
   ]
  },
  {
   "cell_type": "code",
   "execution_count": 27,
   "metadata": {
    "collapsed": false
   },
   "outputs": [
    {
     "name": "stdout",
     "output_type": "stream",
     "text": [
      "MSE: 63.5174130774\n"
     ]
    }
   ],
   "source": [
    "\n",
    "X = df[[\"RAD\", \"INDUS\"]]\n",
    "y = targets[\"MEDV\"]\n",
    "\n",
    "model = lm.fit(X, y)\n",
    "predictions = lm.predict(X)\n",
    "\n",
    "# Plot the model\n",
    "#plt.figure(figsize=(16,8))\n",
    "#plt.scatter(predictions, y, s=30, c='b', marker='+', zorder=10)\n",
    "#plt.xlabel(\"Predicted Values from RM\")\n",
    "#plt.ylabel(\"Actual Values MEDV\")\n",
    "#plt.show()\n",
    "print \"MSE:\", mean_squared_error(y, predictions)\n"
   ]
  },
  {
   "cell_type": "code",
   "execution_count": 28,
   "metadata": {
    "collapsed": false
   },
   "outputs": [
    {
     "name": "stdout",
     "output_type": "stream",
     "text": [
      "MSE: 73.4352045113\n"
     ]
    }
   ],
   "source": [
    "\n",
    "X = df[[\"DIS\", \"ZN\"]]\n",
    "y = targets[\"MEDV\"]\n",
    "\n",
    "model = lm.fit(X, y)\n",
    "predictions = lm.predict(X)\n",
    "\n",
    "# Plot the model\n",
    "#plt.figure(figsize=(16,8))\n",
    "#plt.scatter(predictions, y, s=30, c='b', marker='+', zorder=10)\n",
    "#plt.xlabel(\"Predicted Values from RM\")\n",
    "#plt.ylabel(\"Actual Values MEDV\")\n",
    "#plt.show()\n",
    "print \"MSE:\", mean_squared_error(y, predictions)\n"
   ]
  },
  {
   "cell_type": "code",
   "execution_count": 29,
   "metadata": {
    "collapsed": false
   },
   "outputs": [
    {
     "name": "stdout",
     "output_type": "stream",
     "text": [
      "MSE: 63.2158857525\n"
     ]
    }
   ],
   "source": [
    "\n",
    "X = df[[\"DIS\", \"INDUS\"]]\n",
    "y = targets[\"MEDV\"]\n",
    "\n",
    "model = lm.fit(X, y)\n",
    "predictions = lm.predict(X)\n",
    "\n",
    "# Plot the model\n",
    "#plt.figure(figsize=(16,8))\n",
    "#plt.scatter(predictions, y, s=30, c='b', marker='+', zorder=10)\n",
    "#plt.xlabel(\"Predicted Values from RM\")\n",
    "#plt.ylabel(\"Actual Values MEDV\")\n",
    "#plt.show()\n",
    "print \"MSE:\", mean_squared_error(y, predictions)\n"
   ]
  },
  {
   "cell_type": "code",
   "execution_count": 30,
   "metadata": {
    "collapsed": false
   },
   "outputs": [
    {
     "name": "stdout",
     "output_type": "stream",
     "text": [
      "MSE: 63.4325901587\n"
     ]
    }
   ],
   "source": [
    "\n",
    "X = df[[\"ZN\", \"INDUS\"]]\n",
    "y = targets[\"MEDV\"]\n",
    "\n",
    "model = lm.fit(X, y)\n",
    "predictions = lm.predict(X)\n",
    "\n",
    "# Plot the model\n",
    "#plt.figure(figsize=(16,8))\n",
    "#plt.scatter(predictions, y, s=30, c='b', marker='+', zorder=10)\n",
    "#plt.xlabel(\"Predicted Values from RM\")\n",
    "#plt.ylabel(\"Actual Values MEDV\")\n",
    "#plt.show()\n",
    "print \"MSE:\", mean_squared_error(y, predictions)\n"
   ]
  },
  {
   "cell_type": "code",
   "execution_count": null,
   "metadata": {
    "collapsed": true
   },
   "outputs": [],
   "source": []
  },
  {
   "cell_type": "code",
   "execution_count": 57,
   "metadata": {
    "collapsed": false
   },
   "outputs": [
    {
     "name": "stdout",
     "output_type": "stream",
     "text": [
      "MSE: 27.1304057585\n"
     ]
    }
   ],
   "source": [
    "\n",
    "X = df[[\"RM\", \"LSTAT\",\"PTRATIO\"]]\n",
    "y = targets[\"MEDV\"]\n",
    "\n",
    "model = lm.fit(X, y)\n",
    "predictions = lm.predict(X)\n",
    "\n",
    "# Plot the model\n",
    "#plt.figure(figsize=(16,8))\n",
    "#plt.scatter(predictions, y, s=30, c='b', marker='+', zorder=10)\n",
    "#plt.xlabel(\"Predicted Values from RM\")\n",
    "#plt.ylabel(\"Actual Values MEDV\")\n",
    "#plt.show()\n",
    "print \"MSE:\", mean_squared_error(y, predictions)\n"
   ]
  },
  {
   "cell_type": "code",
   "execution_count": 60,
   "metadata": {
    "collapsed": false
   },
   "outputs": [
    {
     "name": "stdout",
     "output_type": "stream",
     "text": [
      "MSE: 27.1304057585\n"
     ]
    }
   ],
   "source": [
    "\n",
    "X = df[[\"RM\", \"LSTAT\",\"PTRATIO\"]]\n",
    "y = targets[\"MEDV\"]\n",
    "\n",
    "model = lm.fit(X, y)\n",
    "predictions = lm.predict(X)\n",
    "\n",
    "# Plot the model\n",
    "#plt.figure(figsize=(16,8))\n",
    "#plt.scatter(predictions, y, s=30, c='b', marker='+', zorder=10)\n",
    "#plt.xlabel(\"Predicted Values from RM\")\n",
    "#plt.ylabel(\"Actual Values MEDV\")\n",
    "#plt.show()\n",
    "print \"MSE:\", mean_squared_error(y, predictions)\n"
   ]
  },
  {
   "cell_type": "code",
   "execution_count": 62,
   "metadata": {
    "collapsed": false
   },
   "outputs": [
    {
     "data": {
      "image/png": "[encoded data removed]",
      "text/plain": [
       "<matplotlib.figure.Figure at 0x118291a90>"
      ]
     },
     "metadata": {},
     "output_type": "display_data"
    },
    {
     "name": "stdout",
     "output_type": "stream",
     "text": [
      "MSE: 26.1440863688\n"
     ]
    }
   ],
   "source": [
    "\n",
    "X = df[[\"LSTAT\", \"RM\",\"PTRATIO\",\"DIS\"]]\n",
    "y = targets[\"MEDV\"]\n",
    "\n",
    "model = lm.fit(X, y)\n",
    "predictions = lm.predict(X)\n",
    "\n",
    "# Plot the model\n",
    "plt.figure(figsize=(16,8))\n",
    "plt.scatter(predictions, y, s=30, c='b', marker='+', zorder=10)\n",
    "plt.xlabel(\"Predicted Values from RM\")\n",
    "plt.ylabel(\"Actual Values MEDV\")\n",
    "plt.show()\n",
    "print \"MSE:\", mean_squared_error(y, predictions)\n"
   ]
  },
  {
   "cell_type": "code",
   "execution_count": null,
   "metadata": {
    "collapsed": true
   },
   "outputs": [],
   "source": []
  }
 ],
 "metadata": {
  "kernelspec": {
   "display_name": "Python 2",
   "language": "python",
   "name": "python2"
  },
  "language_info": {
   "codemirror_mode": {
    "name": "ipython",
    "version": 2
   },
   "file_extension": ".py",
   "mimetype": "text/x-python",
   "name": "python",
   "nbconvert_exporter": "python",
   "pygments_lexer": "ipython2",
   "version": "2.7.11"
  }
 },
 "nbformat": 4,
 "nbformat_minor": 0
}
