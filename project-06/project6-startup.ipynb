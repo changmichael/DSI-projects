{
 "cells": [
  {
   "cell_type": "code",
   "execution_count": 1,
   "metadata": {
    "collapsed": true
   },
   "outputs": [],
   "source": [
    "from imdbpie import Imdb\n",
    "imdb = Imdb()\n",
    "imdb = Imdb(anonymize=True) # to proxy requests\n",
    "\n",
    "# Creating an instance with caching enabled\n",
    "# Note that the cached responses expire every 2 hours or so.\n",
    "# The API response itself dictates the expiry time)\n",
    "imdb = Imdb(cache=True)\n",
    "\n",
    "from __future__ import division, print_function\n",
    "import json\n",
    "import requests\n",
    "from bs4 import BeautifulSoup\n",
    "from selenium import webdriver\n",
    "import re\n",
    "import pandas as pd\n",
    "import numpy as np\n",
    "from sklearn.preprocessing import MinMaxScaler\n",
    "from sklearn.feature_extraction.text import CountVectorizer, HashingVectorizer, TfidfVectorizer\n",
    "from sklearn.ensemble import RandomForestClassifier, ExtraTreesClassifier\n",
    "\n",
    "from IPython.core.display import HTML, Image"
   ]
  },
  {
   "cell_type": "code",
   "execution_count": 2,
   "metadata": {
    "collapsed": true
   },
   "outputs": [],
   "source": [
    "def get_soup_from_url(url):\n",
    "    '''Returns Beautiful Soup for a given webpage'''\n",
    "    response = requests.get(url)\n",
    "    page = response.text\n",
    "    soup = BeautifulSoup(page,'lxml')\n",
    "    return soup\n",
    "\n",
    "def findTime(soup):\n",
    "    a = soup.find(text=re.compile('Runtime:'))\n",
    "    try:\n",
    "        return str(a.findNext('time').contents[0])\n",
    "    except:\n",
    "        return np.nan\n",
    "\n",
    "def findRating(soup):\n",
    "    try:\n",
    "        return str(soup.find('span', {'itemprop':'contentRating'}).text)\n",
    "    except:\n",
    "        return \"Not Rated\"\n",
    "    \n",
    "def findMeta(soup):\n",
    "    a = soup.find('div',class_ = 'titleReviewBarItem')\n",
    "    try:\n",
    "        return int(a.findNext('span').contents[0])\n",
    "    except:\n",
    "        return np.nan\n",
    "    \n",
    "def findGross(soup):\n",
    "    a = soup.findAll('div',{'id':'titleDetails'},{'class':'article'})\n",
    "    for x in a:\n",
    "        try:\n",
    "            #print(x)\n",
    "            for i in range(len(x)):\n",
    "                #print(i)\n",
    "                if str(x.findAll('div','txt-block')[i].getText().encode('ascii', 'ignore')\\\n",
    "                       .decode('ascii')).split()[0] == 'Gross:':\n",
    "                    return(str(x.findAll('div','txt-block')[i].getText()).split()[1])\n",
    "        except:\n",
    "            return np.nan\n",
    "            \n",
    "\n",
    "def findBudget(soup):\n",
    "    a = soup.findAll('div',{'id':'titleDetails'},{'class':'article'})\n",
    "    for x in a:\n",
    "        try:\n",
    "            #print(x)\n",
    "            for i in range(len(x)):\n",
    "                #print(i)\n",
    "                if str(x.findAll('div','txt-block')[i].getText().encode('ascii', 'ignore')\\\n",
    "                       .decode('ascii')).split()[0] == 'Budget:':\n",
    "                    return(str(x.findAll('div','txt-block')[i].getText()).split()[1])\n",
    "        except:\n",
    "            return np.nan"
   ]
  },
  {
   "cell_type": "code",
   "execution_count": null,
   "metadata": {
    "collapsed": true
   },
   "outputs": [],
   "source": []
  },
  {
   "cell_type": "code",
   "execution_count": 3,
   "metadata": {
    "collapsed": false
   },
   "outputs": [],
   "source": [
    "links=[]\n",
    "\n",
    "# data = imdb.top_250()\n",
    "dfimdb = pd.DataFrame(imdb.top_250())\n",
    "top_250_url = 'http://www.imdb.com/chart/top?ref_=nv_mv_250_6'\n",
    "soup_250= get_soup_from_url(top_250_url)\n",
    "\n",
    "for x in dfimdb['tconst']:\n",
    "    url1 = 'http://www.imdb.com/title/'\n",
    "    url2 = '/?ref_=nv_sr_1'\n",
    "    link = url1 + x + url2\n",
    "    links.append(str(link))"
   ]
  },
  {
   "cell_type": "code",
   "execution_count": null,
   "metadata": {
    "collapsed": false
   },
   "outputs": [],
   "source": []
  },
  {
   "cell_type": "code",
   "execution_count": 4,
   "metadata": {
    "collapsed": false
   },
   "outputs": [],
   "source": [
    "def get_movie_info(url):\n",
    "    '''Takes in a movie's URL and scrapes that webpage using Beautiful Soup\n",
    "    \n",
    "    Returns a list of that movie's Title, Gross, Rating and Distributor\n",
    "    \n",
    "    \n",
    "    '''\n",
    "    soup = get_soup_from_url(url)\n",
    "    \n",
    "    results = []\n",
    "    \n",
    "    userRatings = str(soup.find('span',{'itemprop':'reviewCount'}).text.split()[0])\n",
    "    criticRatings = int(soup.find('span',{'itemprop':'reviewCount'}).findNextSibling().text.split()[0])\n",
    "    title_string = soup.find('h1').text\n",
    "    title = str(title_string.split('(')[0].strip().encode('utf8'))\n",
    "    year_string = str(title_string.split('(')[1].strip().encode('utf8'))\n",
    "    year = int(year_string.replace(')',''))\n",
    "    time = findTime(soup)\n",
    "    MPAArating = findRating(soup)\n",
    "    IMDBRating = float(soup.find('span',{'itemprop':'ratingValue'}).text)\n",
    "    IMDBRatings = str(soup.find('span',{'itemprop':'ratingCount'}).text)\n",
    "    genre = str(soup.find('span', {'itemprop':'genre'}).text)\n",
    "    director = str(soup.find('span', {'itemprop':'name'}).text.encode('utf8'))\n",
    "    writer = str(soup.find('span', {'itemprop':'creator'}).getText().encode('utf8')).strip().replace(',','')\n",
    "    actor = str(soup.find('span', {'itemprop':'actors'}).text.encode('utf8')).strip().replace(',','')\n",
    "    description = description = str(soup.find('div', {'itemprop':'description'}).getText().encode('utf8')).strip()\n",
    "#     metascore = findMeta(soup)\n",
    "#     gross = findGross(soup)\n",
    "#     budget = findBudget(soup)\n",
    "    \n",
    "    results.append(title)\n",
    "    results.append(year)\n",
    "    results.append(time)\n",
    "    results.append(genre)\n",
    "    results.append(director)\n",
    "    results.append(writer)\n",
    "    results.append(actor)\n",
    "    results.append(MPAArating)\n",
    "    results.append(description)\n",
    "    results.append(userRatings)\n",
    "    results.append(criticRatings)\n",
    "#     results.append(budget)\n",
    "#     results.append(gross)\n",
    "#     results.append(metascore)\n",
    "    results.append(IMDBRatings)\n",
    "    results.append(IMDBRating)\n",
    "\n",
    "\n",
    "    return results  "
   ]
  },
  {
   "cell_type": "code",
   "execution_count": null,
   "metadata": {
    "collapsed": true
   },
   "outputs": [],
   "source": []
  },
  {
   "cell_type": "code",
   "execution_count": 5,
   "metadata": {
    "collapsed": false
   },
   "outputs": [],
   "source": [
    "table = []\n",
    "for url in links:\n",
    "#     print(url)\n",
    "    info = get_movie_info(url)\n",
    "    table.append(info)"
   ]
  },
  {
   "cell_type": "code",
   "execution_count": 6,
   "metadata": {
    "collapsed": false
   },
   "outputs": [],
   "source": [
    "df = pd.DataFrame(table, columns = ['Title','Year', 'Runtime','Genre','Director','Writer','Actor', \\\n",
    "                                    'MPAARating', 'Description', 'numUserRatings','numCriticRatings', \\\n",
    "                                    'numIMDBRatings','IMDBRating'])"
   ]
  },
  {
   "cell_type": "code",
   "execution_count": 7,
   "metadata": {
    "collapsed": true
   },
   "outputs": [],
   "source": [
    "df.to_csv('movie Info.csv')"
   ]
  },
  {
   "cell_type": "code",
   "execution_count": null,
   "metadata": {
    "collapsed": true
   },
   "outputs": [],
   "source": []
  },
  {
   "cell_type": "markdown",
   "metadata": {},
   "source": [
    "# New approach - l'API de OMDB"
   ]
  },
  {
   "cell_type": "code",
   "execution_count": 2,
   "metadata": {
    "collapsed": false
   },
   "outputs": [],
   "source": [
    "def get_top_250():\n",
    "    response = requests.get('http://www.imdb.com/chart/top')\n",
    "    html = response.text\n",
    "    entries = re.findall(\"<a href.*?/title/(.*?)/\", html)\n",
    "    return list(set(entries))\n",
    "\n",
    "def get_entry(entry):\n",
    "    res = requests.get('http://www.omdbapi.com/?i='+entry)\n",
    "    if res.status_code != 200:\n",
    "        print(entry, res.status_code)\n",
    "    else:\n",
    "        print('.', end=\" \" )\n",
    "    try:\n",
    "        j = json.loads(res.text)\n",
    "    except ValueError:\n",
    "        j = None\n",
    "    return j\n",
    "\n",
    "def get_gross(entry):\n",
    "    response = requests.get('http://www.imdb.com/title/'+entry)\n",
    "    html = response.text\n",
    "    try:\n",
    "        gross_list = re.findall(\"Gross:</h4>[ ]*\\$([^ ]*)\", html)\n",
    "        gross = int(gross_list[0].replace(',', ''))\n",
    "        print('.', end=\" \")\n",
    "        return gross\n",
    "    except Exception as ex:\n",
    "        print\n",
    "        print(ex, entry, response.status_code)\n",
    "        return None\n",
    "\n",
    "def intminutes(x):\n",
    "    y = x.replace('min', '').strip()\n",
    "    return int(y)\n",
    "\n",
    "def intvotes(x):\n",
    "    y = x.replace(',', '').strip()\n",
    "    return int(y)\n",
    "\n"
   ]
  },
  {
   "cell_type": "code",
   "execution_count": 3,
   "metadata": {
    "collapsed": false
   },
   "outputs": [
    {
     "data": {
      "text/plain": [
       "250"
      ]
     },
     "execution_count": 3,
     "metadata": {},
     "output_type": "execute_result"
    }
   ],
   "source": [
    "entries = get_top_250()\n",
    "len(entries)"
   ]
  },
  {
   "cell_type": "code",
   "execution_count": 4,
   "metadata": {
    "collapsed": false,
    "scrolled": true
   },
   "outputs": [
    {
     "name": "stdout",
     "output_type": "stream",
     "text": [
      ". . . . . . . . . . . . . . . . . . . . . . . . . . . . . . . . . . . . . . . . . . . . . . . . . . . . . . . . . . . . . . . . . . . . . . . . . . . . . . . . . . . . . . . . . . . . . . . . . . . . . . . . . . . . . . . . . . . . . . . . . . . . . . . . . . . . . . . . . . . . . . . . . . . . . . . . . . . . . . . . . . . . . . . . . . . . . . . . . . . . . . . . . . . . . . . . . . . . . . . . . . . . . . . . . . . . . . . . . . . . . . . . . . . . . . . . . . . . . . . . . . . . . . . . . . "
     ]
    }
   ],
   "source": [
    "entries_dict_list = [get_entry(e) for e in entries]"
   ]
  },
  {
   "cell_type": "code",
   "execution_count": 5,
   "metadata": {
    "collapsed": true
   },
   "outputs": [],
   "source": [
    "df = pd.DataFrame(entries_dict_list)"
   ]
  },
  {
   "cell_type": "code",
   "execution_count": 6,
   "metadata": {
    "collapsed": false
   },
   "outputs": [
    {
     "name": "stdout",
     "output_type": "stream",
     "text": [
      "<class 'pandas.core.frame.DataFrame'>\n",
      "RangeIndex: 250 entries, 0 to 249\n",
      "Data columns (total 20 columns):\n",
      "Actors        250 non-null object\n",
      "Awards        250 non-null object\n",
      "Country       250 non-null object\n",
      "Director      250 non-null object\n",
      "Genre         250 non-null object\n",
      "Language      250 non-null object\n",
      "Metascore     250 non-null object\n",
      "Plot          250 non-null object\n",
      "Poster        250 non-null object\n",
      "Rated         250 non-null object\n",
      "Released      250 non-null object\n",
      "Response      250 non-null object\n",
      "Runtime       250 non-null object\n",
      "Title         250 non-null object\n",
      "Type          250 non-null object\n",
      "Writer        250 non-null object\n",
      "Year          250 non-null object\n",
      "imdbID        250 non-null object\n",
      "imdbRating    250 non-null object\n",
      "imdbVotes     250 non-null object\n",
      "dtypes: object(20)\n",
      "memory usage: 39.1+ KB\n"
     ]
    }
   ],
   "source": [
    "df.info()"
   ]
  },
  {
   "cell_type": "code",
   "execution_count": null,
   "metadata": {
    "collapsed": true
   },
   "outputs": [],
   "source": []
  },
  {
   "cell_type": "code",
   "execution_count": 7,
   "metadata": {
    "collapsed": false
   },
   "outputs": [
    {
     "name": "stdout",
     "output_type": "stream",
     "text": [
      ". . . . . . . list index out of range tt0046268 200\n",
      "list index out of range tt0055630 200\n",
      ". . . . . list index out of range tt0057115 200\n",
      ". list index out of range tt0071315 200\n",
      ". . . . . list index out of range tt0074896 200\n",
      ". . list index out of range tt0021749 200\n",
      ". . list index out of range tt0050613 200\n",
      "list index out of range tt0053125 200\n",
      ". . . list index out of range tt1220719 200\n",
      "list index out of range tt0025316 200\n",
      ". . list index out of range tt0083922 200\n",
      ". . . list index out of range tt0072684 200\n",
      ". list index out of range tt0074958 200\n",
      ". . . . list index out of range tt0036775 200\n",
      ". . . . . . list index out of range tt0978762 200\n",
      ". . list index out of range tt0080678 200\n",
      ". . list index out of range tt0056592 200\n",
      ". list index out of range tt0095327 200\n",
      ". . . . . . . . . list index out of range tt0046438 200\n",
      ". list index out of range tt0015864 200\n",
      ". list index out of range tt0045152 200\n",
      ". . . . list index out of range tt0046911 200\n",
      ". list index out of range tt0050986 200\n",
      ". list index out of range tt0091251 200\n",
      ". . . . . . . . . . list index out of range tt0032553 200\n",
      "list index out of range tt0032551 200\n",
      ". . . . . . list index out of range tt0060827 200\n",
      ". . . list index out of range tt0031679 200\n",
      ". . . . . . . list index out of range tt0053198 200\n",
      ". . . list index out of range tt0050825 200\n",
      "list index out of range tt0042876 200\n",
      "list index out of range tt0083987 200\n",
      ". . . list index out of range tt0044079 200\n",
      "list index out of range tt0041546 200\n",
      ". . . . . . list index out of range tt0092067 200\n",
      ". . . . list index out of range tt1954470 200\n",
      ". . . . . . . . list index out of range tt0057012 200\n",
      "list index out of range tt0096283 200\n",
      ". list index out of range tt0064116 200\n",
      ". . . . list index out of range tt0081505 200\n",
      "list index out of range tt0038650 200\n",
      ". list index out of range tt0034583 200\n",
      ". . . . . list index out of range tt0046250 200\n",
      ". . list index out of range tt0033870 200\n",
      ". . . list index out of range tt0040897 200\n",
      ". . list index out of range tt0066921 200\n",
      "list index out of range tt0061512 200\n",
      "list index out of range tt0033467 200\n",
      ". list index out of range tt0017925 200\n",
      ". . . . list index out of range tt0055031 200\n",
      ". list index out of range tt0087544 200\n",
      ". . . list index out of range tt0050083 200\n",
      ". . list index out of range tt0018455 200\n",
      ". . . . list index out of range tt0077416 200\n",
      ". . . . . . . . . list index out of range tt0050976 200\n",
      ". . . . . . . . . list index out of range tt0043014 200\n",
      "list index out of range tt0079944 200\n",
      ". list index out of range tt0053604 200\n",
      ". . . . . list index out of range tt0051201 200\n",
      ". list index out of range tt0032976 200\n",
      ". list index out of range tt0059578 200\n",
      "list index out of range tt0044706 200\n",
      "list index out of range tt0072890 200\n",
      ". . . . . . . list index out of range tt1028532 200\n",
      ". . . . . . list index out of range tt0075314 200\n"
     ]
    }
   ],
   "source": [
    "grosses = [(e, get_gross(e)) for e in entries]"
   ]
  },
  {
   "cell_type": "code",
   "execution_count": 8,
   "metadata": {
    "collapsed": false
   },
   "outputs": [
    {
     "data": {
      "text/html": [
       "<div>\n",
       "<table border=\"1\" class=\"dataframe\">\n",
       "  <thead>\n",
       "    <tr style=\"text-align: right;\">\n",
       "      <th></th>\n",
       "      <th>imdbID</th>\n",
       "      <th>Gross</th>\n",
       "    </tr>\n",
       "  </thead>\n",
       "  <tbody>\n",
       "    <tr>\n",
       "      <th>0</th>\n",
       "      <td>tt2582802</td>\n",
       "      <td>13092000.0</td>\n",
       "    </tr>\n",
       "    <tr>\n",
       "      <th>1</th>\n",
       "      <td>tt0047478</td>\n",
       "      <td>269061.0</td>\n",
       "    </tr>\n",
       "    <tr>\n",
       "      <th>2</th>\n",
       "      <td>tt0082971</td>\n",
       "      <td>242374454.0</td>\n",
       "    </tr>\n",
       "    <tr>\n",
       "      <th>3</th>\n",
       "      <td>tt0050212</td>\n",
       "      <td>27200000.0</td>\n",
       "    </tr>\n",
       "    <tr>\n",
       "      <th>4</th>\n",
       "      <td>tt0848228</td>\n",
       "      <td>623279547.0</td>\n",
       "    </tr>\n",
       "  </tbody>\n",
       "</table>\n",
       "</div>"
      ],
      "text/plain": [
       "      imdbID        Gross\n",
       "0  tt2582802   13092000.0\n",
       "1  tt0047478     269061.0\n",
       "2  tt0082971  242374454.0\n",
       "3  tt0050212   27200000.0\n",
       "4  tt0848228  623279547.0"
      ]
     },
     "execution_count": 8,
     "metadata": {},
     "output_type": "execute_result"
    }
   ],
   "source": [
    "df1 = pd.DataFrame(grosses, columns=['imdbID', 'Gross'])\n",
    "df1.head()"
   ]
  },
  {
   "cell_type": "code",
   "execution_count": 9,
   "metadata": {
    "collapsed": false
   },
   "outputs": [
    {
     "data": {
      "text/plain": [
       "65"
      ]
     },
     "execution_count": 9,
     "metadata": {},
     "output_type": "execute_result"
    }
   ],
   "source": [
    "df1['Gross'].isnull().sum()"
   ]
  },
  {
   "cell_type": "code",
   "execution_count": 10,
   "metadata": {
    "collapsed": false
   },
   "outputs": [
    {
     "name": "stdout",
     "output_type": "stream",
     "text": [
      "<class 'pandas.core.frame.DataFrame'>\n",
      "RangeIndex: 250 entries, 0 to 249\n",
      "Data columns (total 20 columns):\n",
      "Actors        250 non-null object\n",
      "Awards        245 non-null object\n",
      "Country       250 non-null object\n",
      "Director      250 non-null object\n",
      "Genre         250 non-null object\n",
      "Language      249 non-null object\n",
      "Metascore     168 non-null object\n",
      "Plot          250 non-null object\n",
      "Poster        250 non-null object\n",
      "Rated         249 non-null object\n",
      "Released      249 non-null object\n",
      "Response      250 non-null object\n",
      "Runtime       250 non-null object\n",
      "Title         250 non-null object\n",
      "Type          250 non-null object\n",
      "Writer        250 non-null object\n",
      "Year          250 non-null object\n",
      "imdbID        250 non-null object\n",
      "imdbRating    250 non-null object\n",
      "imdbVotes     250 non-null object\n",
      "dtypes: object(20)\n",
      "memory usage: 39.1+ KB\n"
     ]
    }
   ],
   "source": [
    "df = df.replace('N/A', np.nan)\n",
    "df.info()"
   ]
  },
  {
   "cell_type": "code",
   "execution_count": 11,
   "metadata": {
    "collapsed": true
   },
   "outputs": [],
   "source": []
  },
  {
   "cell_type": "code",
   "execution_count": null,
   "metadata": {
    "collapsed": true
   },
   "outputs": [],
   "source": []
  },
  {
   "cell_type": "code",
   "execution_count": 12,
   "metadata": {
    "collapsed": true
   },
   "outputs": [],
   "source": [
    "df.Released = pd.to_datetime(df.Released)\n",
    "df.Runtime = df.Runtime.apply(intminutes)\n",
    "df.Year = df.Year.astype(int)\n",
    "df.imdbRating = df.imdbRating.astype(float)\n",
    "df.imdbVotes = df.imdbVotes.apply(intvotes)"
   ]
  },
  {
   "cell_type": "code",
   "execution_count": 13,
   "metadata": {
    "collapsed": true
   },
   "outputs": [],
   "source": [
    "df = pd.merge(df, df1)"
   ]
  },
  {
   "cell_type": "code",
   "execution_count": 14,
   "metadata": {
    "collapsed": false
   },
   "outputs": [
    {
     "data": {
      "text/html": [
       "<div>\n",
       "<table border=\"1\" class=\"dataframe\">\n",
       "  <thead>\n",
       "    <tr style=\"text-align: right;\">\n",
       "      <th></th>\n",
       "      <th>genre_action</th>\n",
       "      <th>genre_adventure</th>\n",
       "      <th>genre_animation</th>\n",
       "      <th>genre_biography</th>\n",
       "      <th>genre_comedy</th>\n",
       "      <th>genre_crime</th>\n",
       "      <th>genre_drama</th>\n",
       "      <th>genre_family</th>\n",
       "      <th>genre_fantasy</th>\n",
       "      <th>genre_fi</th>\n",
       "      <th>...</th>\n",
       "      <th>genre_music</th>\n",
       "      <th>genre_musical</th>\n",
       "      <th>genre_mystery</th>\n",
       "      <th>genre_noir</th>\n",
       "      <th>genre_romance</th>\n",
       "      <th>genre_sci</th>\n",
       "      <th>genre_sport</th>\n",
       "      <th>genre_thriller</th>\n",
       "      <th>genre_war</th>\n",
       "      <th>genre_western</th>\n",
       "    </tr>\n",
       "  </thead>\n",
       "  <tbody>\n",
       "    <tr>\n",
       "      <th>0</th>\n",
       "      <td>0</td>\n",
       "      <td>0</td>\n",
       "      <td>0</td>\n",
       "      <td>0</td>\n",
       "      <td>0</td>\n",
       "      <td>0</td>\n",
       "      <td>1</td>\n",
       "      <td>0</td>\n",
       "      <td>0</td>\n",
       "      <td>0</td>\n",
       "      <td>...</td>\n",
       "      <td>1</td>\n",
       "      <td>0</td>\n",
       "      <td>0</td>\n",
       "      <td>0</td>\n",
       "      <td>0</td>\n",
       "      <td>0</td>\n",
       "      <td>0</td>\n",
       "      <td>0</td>\n",
       "      <td>0</td>\n",
       "      <td>0</td>\n",
       "    </tr>\n",
       "    <tr>\n",
       "      <th>1</th>\n",
       "      <td>1</td>\n",
       "      <td>1</td>\n",
       "      <td>0</td>\n",
       "      <td>0</td>\n",
       "      <td>0</td>\n",
       "      <td>0</td>\n",
       "      <td>1</td>\n",
       "      <td>0</td>\n",
       "      <td>0</td>\n",
       "      <td>0</td>\n",
       "      <td>...</td>\n",
       "      <td>0</td>\n",
       "      <td>0</td>\n",
       "      <td>0</td>\n",
       "      <td>0</td>\n",
       "      <td>0</td>\n",
       "      <td>0</td>\n",
       "      <td>0</td>\n",
       "      <td>0</td>\n",
       "      <td>0</td>\n",
       "      <td>0</td>\n",
       "    </tr>\n",
       "    <tr>\n",
       "      <th>2</th>\n",
       "      <td>1</td>\n",
       "      <td>1</td>\n",
       "      <td>0</td>\n",
       "      <td>0</td>\n",
       "      <td>0</td>\n",
       "      <td>0</td>\n",
       "      <td>0</td>\n",
       "      <td>0</td>\n",
       "      <td>0</td>\n",
       "      <td>0</td>\n",
       "      <td>...</td>\n",
       "      <td>0</td>\n",
       "      <td>0</td>\n",
       "      <td>0</td>\n",
       "      <td>0</td>\n",
       "      <td>0</td>\n",
       "      <td>0</td>\n",
       "      <td>0</td>\n",
       "      <td>0</td>\n",
       "      <td>0</td>\n",
       "      <td>0</td>\n",
       "    </tr>\n",
       "    <tr>\n",
       "      <th>3</th>\n",
       "      <td>0</td>\n",
       "      <td>1</td>\n",
       "      <td>0</td>\n",
       "      <td>0</td>\n",
       "      <td>0</td>\n",
       "      <td>0</td>\n",
       "      <td>1</td>\n",
       "      <td>0</td>\n",
       "      <td>0</td>\n",
       "      <td>0</td>\n",
       "      <td>...</td>\n",
       "      <td>0</td>\n",
       "      <td>0</td>\n",
       "      <td>0</td>\n",
       "      <td>0</td>\n",
       "      <td>0</td>\n",
       "      <td>0</td>\n",
       "      <td>0</td>\n",
       "      <td>0</td>\n",
       "      <td>1</td>\n",
       "      <td>0</td>\n",
       "    </tr>\n",
       "    <tr>\n",
       "      <th>4</th>\n",
       "      <td>1</td>\n",
       "      <td>1</td>\n",
       "      <td>0</td>\n",
       "      <td>0</td>\n",
       "      <td>0</td>\n",
       "      <td>0</td>\n",
       "      <td>0</td>\n",
       "      <td>0</td>\n",
       "      <td>0</td>\n",
       "      <td>1</td>\n",
       "      <td>...</td>\n",
       "      <td>0</td>\n",
       "      <td>0</td>\n",
       "      <td>0</td>\n",
       "      <td>0</td>\n",
       "      <td>0</td>\n",
       "      <td>1</td>\n",
       "      <td>0</td>\n",
       "      <td>0</td>\n",
       "      <td>0</td>\n",
       "      <td>0</td>\n",
       "    </tr>\n",
       "  </tbody>\n",
       "</table>\n",
       "<p>5 rows × 23 columns</p>\n",
       "</div>"
      ],
      "text/plain": [
       "   genre_action  genre_adventure  genre_animation  genre_biography  \\\n",
       "0             0                0                0                0   \n",
       "1             1                1                0                0   \n",
       "2             1                1                0                0   \n",
       "3             0                1                0                0   \n",
       "4             1                1                0                0   \n",
       "\n",
       "   genre_comedy  genre_crime  genre_drama  genre_family  genre_fantasy  \\\n",
       "0             0            0            1             0              0   \n",
       "1             0            0            1             0              0   \n",
       "2             0            0            0             0              0   \n",
       "3             0            0            1             0              0   \n",
       "4             0            0            0             0              0   \n",
       "\n",
       "   genre_fi      ...        genre_music  genre_musical  genre_mystery  \\\n",
       "0         0      ...                  1              0              0   \n",
       "1         0      ...                  0              0              0   \n",
       "2         0      ...                  0              0              0   \n",
       "3         0      ...                  0              0              0   \n",
       "4         1      ...                  0              0              0   \n",
       "\n",
       "   genre_noir  genre_romance  genre_sci  genre_sport  genre_thriller  \\\n",
       "0           0              0          0            0               0   \n",
       "1           0              0          0            0               0   \n",
       "2           0              0          0            0               0   \n",
       "3           0              0          0            0               0   \n",
       "4           0              0          1            0               0   \n",
       "\n",
       "   genre_war  genre_western  \n",
       "0          0              0  \n",
       "1          0              0  \n",
       "2          0              0  \n",
       "3          1              0  \n",
       "4          0              0  \n",
       "\n",
       "[5 rows x 23 columns]"
      ]
     },
     "execution_count": 14,
     "metadata": {},
     "output_type": "execute_result"
    }
   ],
   "source": [
    "cv = CountVectorizer()\n",
    "data = cv.fit_transform(df.Genre).todense()\n",
    "columns = ['genre_'+c for c in cv.get_feature_names()]\n",
    "genredf = pd.DataFrame(data, columns=columns)\n",
    "genredf.head()"
   ]
  },
  {
   "cell_type": "code",
   "execution_count": 15,
   "metadata": {
    "collapsed": true
   },
   "outputs": [],
   "source": [
    "df = pd.concat([df, genredf], axis = 1)"
   ]
  },
  {
   "cell_type": "code",
   "execution_count": 16,
   "metadata": {
    "collapsed": false
   },
   "outputs": [
    {
     "data": {
      "text/html": [
       "<div>\n",
       "<table border=\"1\" class=\"dataframe\">\n",
       "  <thead>\n",
       "    <tr style=\"text-align: right;\">\n",
       "      <th></th>\n",
       "      <th>actor: aamir khan</th>\n",
       "      <th>actor: aaron eckhart</th>\n",
       "      <th>actor: abdel ahmed</th>\n",
       "      <th>actor: adam baldwin</th>\n",
       "      <th>actor: adam driver</th>\n",
       "      <th>actor: adolphe menjou</th>\n",
       "      <th>actor: adrien brody</th>\n",
       "      <th>actor: agnes moorehead</th>\n",
       "      <th>actor: ahney her</th>\n",
       "      <th>actor: akemi yamaguchi</th>\n",
       "      <th>...</th>\n",
       "      <th>actor: woody harrelson</th>\n",
       "      <th>actor: xolani mali</th>\n",
       "      <th>actor: yacef saadi</th>\n",
       "      <th>actor: yoshiko shinohara</th>\n",
       "      <th>actor: yukiko shimazaki</th>\n",
       "      <th>actor: yves montand</th>\n",
       "      <th>actor: yôko tsukasa</th>\n",
       "      <th>actor: zach grenier</th>\n",
       "      <th>actor: zoe saldana</th>\n",
       "      <th>actor: álvaro guerrero</th>\n",
       "    </tr>\n",
       "  </thead>\n",
       "  <tbody>\n",
       "    <tr>\n",
       "      <th>0</th>\n",
       "      <td>0</td>\n",
       "      <td>0</td>\n",
       "      <td>0</td>\n",
       "      <td>0</td>\n",
       "      <td>0</td>\n",
       "      <td>0</td>\n",
       "      <td>0</td>\n",
       "      <td>0</td>\n",
       "      <td>0</td>\n",
       "      <td>0</td>\n",
       "      <td>...</td>\n",
       "      <td>0</td>\n",
       "      <td>0</td>\n",
       "      <td>0</td>\n",
       "      <td>0</td>\n",
       "      <td>0</td>\n",
       "      <td>0</td>\n",
       "      <td>0</td>\n",
       "      <td>0</td>\n",
       "      <td>0</td>\n",
       "      <td>0</td>\n",
       "    </tr>\n",
       "    <tr>\n",
       "      <th>1</th>\n",
       "      <td>0</td>\n",
       "      <td>0</td>\n",
       "      <td>0</td>\n",
       "      <td>0</td>\n",
       "      <td>0</td>\n",
       "      <td>0</td>\n",
       "      <td>0</td>\n",
       "      <td>0</td>\n",
       "      <td>0</td>\n",
       "      <td>0</td>\n",
       "      <td>...</td>\n",
       "      <td>0</td>\n",
       "      <td>0</td>\n",
       "      <td>0</td>\n",
       "      <td>0</td>\n",
       "      <td>1</td>\n",
       "      <td>0</td>\n",
       "      <td>0</td>\n",
       "      <td>0</td>\n",
       "      <td>0</td>\n",
       "      <td>0</td>\n",
       "    </tr>\n",
       "    <tr>\n",
       "      <th>2</th>\n",
       "      <td>0</td>\n",
       "      <td>0</td>\n",
       "      <td>0</td>\n",
       "      <td>0</td>\n",
       "      <td>0</td>\n",
       "      <td>0</td>\n",
       "      <td>0</td>\n",
       "      <td>0</td>\n",
       "      <td>0</td>\n",
       "      <td>0</td>\n",
       "      <td>...</td>\n",
       "      <td>0</td>\n",
       "      <td>0</td>\n",
       "      <td>0</td>\n",
       "      <td>0</td>\n",
       "      <td>0</td>\n",
       "      <td>0</td>\n",
       "      <td>0</td>\n",
       "      <td>0</td>\n",
       "      <td>0</td>\n",
       "      <td>0</td>\n",
       "    </tr>\n",
       "    <tr>\n",
       "      <th>3</th>\n",
       "      <td>0</td>\n",
       "      <td>0</td>\n",
       "      <td>0</td>\n",
       "      <td>0</td>\n",
       "      <td>0</td>\n",
       "      <td>0</td>\n",
       "      <td>0</td>\n",
       "      <td>0</td>\n",
       "      <td>0</td>\n",
       "      <td>0</td>\n",
       "      <td>...</td>\n",
       "      <td>0</td>\n",
       "      <td>0</td>\n",
       "      <td>0</td>\n",
       "      <td>0</td>\n",
       "      <td>0</td>\n",
       "      <td>0</td>\n",
       "      <td>0</td>\n",
       "      <td>0</td>\n",
       "      <td>0</td>\n",
       "      <td>0</td>\n",
       "    </tr>\n",
       "    <tr>\n",
       "      <th>4</th>\n",
       "      <td>0</td>\n",
       "      <td>0</td>\n",
       "      <td>0</td>\n",
       "      <td>0</td>\n",
       "      <td>0</td>\n",
       "      <td>0</td>\n",
       "      <td>0</td>\n",
       "      <td>0</td>\n",
       "      <td>0</td>\n",
       "      <td>0</td>\n",
       "      <td>...</td>\n",
       "      <td>0</td>\n",
       "      <td>0</td>\n",
       "      <td>0</td>\n",
       "      <td>0</td>\n",
       "      <td>0</td>\n",
       "      <td>0</td>\n",
       "      <td>0</td>\n",
       "      <td>0</td>\n",
       "      <td>0</td>\n",
       "      <td>0</td>\n",
       "    </tr>\n",
       "  </tbody>\n",
       "</table>\n",
       "<p>5 rows × 812 columns</p>\n",
       "</div>"
      ],
      "text/plain": [
       "   actor: aamir khan  actor: aaron eckhart  actor: abdel ahmed  \\\n",
       "0                  0                     0                   0   \n",
       "1                  0                     0                   0   \n",
       "2                  0                     0                   0   \n",
       "3                  0                     0                   0   \n",
       "4                  0                     0                   0   \n",
       "\n",
       "   actor: adam baldwin  actor: adam driver  actor: adolphe menjou  \\\n",
       "0                    0                   0                      0   \n",
       "1                    0                   0                      0   \n",
       "2                    0                   0                      0   \n",
       "3                    0                   0                      0   \n",
       "4                    0                   0                      0   \n",
       "\n",
       "   actor: adrien brody  actor: agnes moorehead  actor: ahney her  \\\n",
       "0                    0                       0                 0   \n",
       "1                    0                       0                 0   \n",
       "2                    0                       0                 0   \n",
       "3                    0                       0                 0   \n",
       "4                    0                       0                 0   \n",
       "\n",
       "   actor: akemi yamaguchi           ...            actor: woody harrelson  \\\n",
       "0                       0           ...                                 0   \n",
       "1                       0           ...                                 0   \n",
       "2                       0           ...                                 0   \n",
       "3                       0           ...                                 0   \n",
       "4                       0           ...                                 0   \n",
       "\n",
       "   actor: xolani mali  actor: yacef saadi  actor: yoshiko shinohara  \\\n",
       "0                   0                   0                         0   \n",
       "1                   0                   0                         0   \n",
       "2                   0                   0                         0   \n",
       "3                   0                   0                         0   \n",
       "4                   0                   0                         0   \n",
       "\n",
       "   actor: yukiko shimazaki  actor: yves montand  actor: yôko tsukasa  \\\n",
       "0                        0                    0                    0   \n",
       "1                        1                    0                    0   \n",
       "2                        0                    0                    0   \n",
       "3                        0                    0                    0   \n",
       "4                        0                    0                    0   \n",
       "\n",
       "   actor: zach grenier  actor: zoe saldana  actor: álvaro guerrero  \n",
       "0                    0                   0                       0  \n",
       "1                    0                   0                       0  \n",
       "2                    0                   0                       0  \n",
       "3                    0                   0                       0  \n",
       "4                    0                   0                       0  \n",
       "\n",
       "[5 rows x 812 columns]"
      ]
     },
     "execution_count": 16,
     "metadata": {},
     "output_type": "execute_result"
    }
   ],
   "source": [
    "cv = CountVectorizer(token_pattern=u'(?u)\\\\w+\\.?\\\\w?\\.? \\\\w+')\n",
    "data = cv.fit_transform(df.Actors).todense()\n",
    "columns = ['actor: '+c for c in cv.get_feature_names()]\n",
    "actorsdf = pd.DataFrame(data, columns=columns)\n",
    "actorsdf.head()"
   ]
  },
  {
   "cell_type": "code",
   "execution_count": 17,
   "metadata": {
    "collapsed": true
   },
   "outputs": [],
   "source": [
    "df = pd.concat([df, actorsdf], axis = 1)"
   ]
  },
  {
   "cell_type": "code",
   "execution_count": 19,
   "metadata": {
    "collapsed": false
   },
   "outputs": [
    {
     "data": {
      "text/plain": [
       "Index([                  u'Actors',                   u'Awards',\n",
       "                        u'Country',                 u'Director',\n",
       "                          u'Genre',                 u'Language',\n",
       "                      u'Metascore',                     u'Plot',\n",
       "                         u'Poster',                    u'Rated',\n",
       "       ...\n",
       "         u'actor: woody harrelson',       u'actor: xolani mali',\n",
       "             u'actor: yacef saadi', u'actor: yoshiko shinohara',\n",
       "        u'actor: yukiko shimazaki',      u'actor: yves montand',\n",
       "            u'actor: yôko tsukasa',      u'actor: zach grenier',\n",
       "             u'actor: zoe saldana',   u'actor: álvaro guerrero'],\n",
       "      dtype='object', length=856)"
      ]
     },
     "execution_count": 19,
     "metadata": {},
     "output_type": "execute_result"
    }
   ],
   "source": [
    "df.columns"
   ]
  },
  {
   "cell_type": "code",
   "execution_count": null,
   "metadata": {
    "collapsed": true
   },
   "outputs": [],
   "source": []
  },
  {
   "cell_type": "code",
   "execution_count": null,
   "metadata": {
    "collapsed": true
   },
   "outputs": [],
   "source": []
  },
  {
   "cell_type": "code",
   "execution_count": null,
   "metadata": {
    "collapsed": true
   },
   "outputs": [],
   "source": []
  },
  {
   "cell_type": "code",
   "execution_count": null,
   "metadata": {
    "collapsed": true
   },
   "outputs": [],
   "source": []
  },
  {
   "cell_type": "code",
   "execution_count": null,
   "metadata": {
    "collapsed": true
   },
   "outputs": [],
   "source": []
  },
  {
   "cell_type": "code",
   "execution_count": 5,
   "metadata": {
    "collapsed": true
   },
   "outputs": [],
   "source": [
    "df = pd.read_csv('movieInfo.csv')"
   ]
  },
  {
   "cell_type": "code",
   "execution_count": 6,
   "metadata": {
    "collapsed": false
   },
   "outputs": [
    {
     "data": {
      "text/plain": [
       "1"
      ]
     },
     "execution_count": 6,
     "metadata": {},
     "output_type": "execute_result"
    }
   ],
   "source": [
    "null_data = df[df.isnull().any(axis=1)]\n",
    "len(null_data)"
   ]
  },
  {
   "cell_type": "code",
   "execution_count": 98,
   "metadata": {
    "collapsed": false
   },
   "outputs": [
    {
     "data": {
      "text/plain": [
       "84"
      ]
     },
     "execution_count": 98,
     "metadata": {},
     "output_type": "execute_result"
    }
   ],
   "source": [
    "df.drop('Metascore',1, inplace = True)\n",
    "null_data = df[df.isnull().any(axis=1)]\n",
    "len(null_data)"
   ]
  },
  {
   "cell_type": "code",
   "execution_count": 99,
   "metadata": {
    "collapsed": false
   },
   "outputs": [
    {
     "data": {
      "text/plain": [
       "34"
      ]
     },
     "execution_count": 99,
     "metadata": {},
     "output_type": "execute_result"
    }
   ],
   "source": [
    "df.drop('Gross', 1, inplace=True)\n",
    "null_data = df[df.isnull().any(axis=1)]\n",
    "len(null_data)"
   ]
  },
  {
   "cell_type": "code",
   "execution_count": 100,
   "metadata": {
    "collapsed": false
   },
   "outputs": [
    {
     "data": {
      "text/plain": [
       "1"
      ]
     },
     "execution_count": 100,
     "metadata": {},
     "output_type": "execute_result"
    }
   ],
   "source": [
    "df.drop('Budget',1,inplace=True)\n",
    "null_data = df[df.isnull().any(axis=1)]\n",
    "len(null_data)"
   ]
  },
  {
   "cell_type": "code",
   "execution_count": null,
   "metadata": {
    "collapsed": true
   },
   "outputs": [],
   "source": []
  },
  {
   "cell_type": "code",
   "execution_count": 7,
   "metadata": {
    "collapsed": true
   },
   "outputs": [],
   "source": [
    "def ratingCleaner(x):\n",
    "    y = str(x).split()[0]\n",
    "    if y == 'Rated':\n",
    "        return str(x).split()[1]\n",
    "    elif y == 'Not':\n",
    "        return x\n",
    "    else:\n",
    "        return y\n",
    "\n",
    "def ratingCombiner(x):\n",
    "    if x == 'M':\n",
    "        return 'X'\n",
    "    elif x == 'Unrated':\n",
    "        return 'Not Rated'\n",
    "    elif x == 'Passed':\n",
    "        return 'Not Rated'\n",
    "    elif x == 'Approved':\n",
    "        return 'G'\n",
    "    else:\n",
    "        return x"
   ]
  },
  {
   "cell_type": "code",
   "execution_count": 8,
   "metadata": {
    "collapsed": false
   },
   "outputs": [
    {
     "data": {
      "text/html": [
       "<div>\n",
       "<table border=\"1\" class=\"dataframe\">\n",
       "  <thead>\n",
       "    <tr style=\"text-align: right;\">\n",
       "      <th></th>\n",
       "      <th>Title</th>\n",
       "      <th>Year</th>\n",
       "      <th>Runtime</th>\n",
       "      <th>Genre</th>\n",
       "      <th>Director</th>\n",
       "      <th>Writer</th>\n",
       "      <th>Actor</th>\n",
       "      <th>MPAARating</th>\n",
       "      <th>Description</th>\n",
       "      <th>numUserRatings</th>\n",
       "      <th>numCriticRatings</th>\n",
       "      <th>numIMDBRatings</th>\n",
       "      <th>IMDBRating</th>\n",
       "    </tr>\n",
       "  </thead>\n",
       "  <tbody>\n",
       "    <tr>\n",
       "      <th>0</th>\n",
       "      <td>The Shawshank Redemption</td>\n",
       "      <td>1994</td>\n",
       "      <td>142</td>\n",
       "      <td>Crime</td>\n",
       "      <td>Frank Darabont</td>\n",
       "      <td>Stephen King</td>\n",
       "      <td>Tim Robbins</td>\n",
       "      <td>R</td>\n",
       "      <td>Two imprisoned men bond over a number of years...</td>\n",
       "      <td>4120</td>\n",
       "      <td>198</td>\n",
       "      <td>1679862</td>\n",
       "      <td>9.3</td>\n",
       "    </tr>\n",
       "    <tr>\n",
       "      <th>1</th>\n",
       "      <td>The Godfather</td>\n",
       "      <td>1972</td>\n",
       "      <td>175</td>\n",
       "      <td>Crime</td>\n",
       "      <td>Francis Ford Coppola</td>\n",
       "      <td>Mario Puzo</td>\n",
       "      <td>Marlon Brando</td>\n",
       "      <td>R</td>\n",
       "      <td>The aging patriarch of an organized crime dyna...</td>\n",
       "      <td>2224</td>\n",
       "      <td>207</td>\n",
       "      <td>1149324</td>\n",
       "      <td>9.2</td>\n",
       "    </tr>\n",
       "    <tr>\n",
       "      <th>2</th>\n",
       "      <td>The Godfather: Part II</td>\n",
       "      <td>1974</td>\n",
       "      <td>202</td>\n",
       "      <td>Crime</td>\n",
       "      <td>Francis Ford Coppola</td>\n",
       "      <td>Francis Ford Coppola</td>\n",
       "      <td>Al Pacino</td>\n",
       "      <td>R</td>\n",
       "      <td>The early life and career of Vito Corleone in ...</td>\n",
       "      <td>652</td>\n",
       "      <td>149</td>\n",
       "      <td>786009</td>\n",
       "      <td>9.0</td>\n",
       "    </tr>\n",
       "    <tr>\n",
       "      <th>3</th>\n",
       "      <td>The Dark Knight</td>\n",
       "      <td>2008</td>\n",
       "      <td>152</td>\n",
       "      <td>Action</td>\n",
       "      <td>Christopher Nolan</td>\n",
       "      <td>Jonathan Nolan</td>\n",
       "      <td>Christian Bale</td>\n",
       "      <td>PG-13</td>\n",
       "      <td>When the menace known as the Joker wreaks havo...</td>\n",
       "      <td>4646</td>\n",
       "      <td>644</td>\n",
       "      <td>1664897</td>\n",
       "      <td>9.0</td>\n",
       "    </tr>\n",
       "    <tr>\n",
       "      <th>4</th>\n",
       "      <td>Schindler's List</td>\n",
       "      <td>1993</td>\n",
       "      <td>195</td>\n",
       "      <td>Biography</td>\n",
       "      <td>Steven Spielberg</td>\n",
       "      <td>Thomas Keneally</td>\n",
       "      <td>Liam Neeson</td>\n",
       "      <td>R</td>\n",
       "      <td>In Poland during World War II, Oskar Schindler...</td>\n",
       "      <td>1266</td>\n",
       "      <td>174</td>\n",
       "      <td>859751</td>\n",
       "      <td>8.9</td>\n",
       "    </tr>\n",
       "  </tbody>\n",
       "</table>\n",
       "</div>"
      ],
      "text/plain": [
       "                      Title  Year  Runtime      Genre              Director  \\\n",
       "0  The Shawshank Redemption  1994      142      Crime        Frank Darabont   \n",
       "1             The Godfather  1972      175      Crime  Francis Ford Coppola   \n",
       "2    The Godfather: Part II  1974      202      Crime  Francis Ford Coppola   \n",
       "3           The Dark Knight  2008      152     Action     Christopher Nolan   \n",
       "4          Schindler's List  1993      195  Biography      Steven Spielberg   \n",
       "\n",
       "                  Writer           Actor MPAARating  \\\n",
       "0          Stephen King      Tim Robbins          R   \n",
       "1            Mario Puzo    Marlon Brando          R   \n",
       "2  Francis Ford Coppola        Al Pacino          R   \n",
       "3        Jonathan Nolan   Christian Bale      PG-13   \n",
       "4       Thomas Keneally      Liam Neeson          R   \n",
       "\n",
       "                                         Description  numUserRatings  \\\n",
       "0  Two imprisoned men bond over a number of years...            4120   \n",
       "1  The aging patriarch of an organized crime dyna...            2224   \n",
       "2  The early life and career of Vito Corleone in ...             652   \n",
       "3  When the menace known as the Joker wreaks havo...            4646   \n",
       "4  In Poland during World War II, Oskar Schindler...            1266   \n",
       "\n",
       "   numCriticRatings  numIMDBRatings  IMDBRating  \n",
       "0               198         1679862         9.3  \n",
       "1               207         1149324         9.2  \n",
       "2               149          786009         9.0  \n",
       "3               644         1664897         9.0  \n",
       "4               174          859751         8.9  "
      ]
     },
     "execution_count": 8,
     "metadata": {},
     "output_type": "execute_result"
    }
   ],
   "source": [
    "df['numIMDBRatings'] = df['numIMDBRatings'].apply(lambda x: x.replace(',',''))\n",
    "df['numUserRatings'] = df['numUserRatings'].apply(lambda x: x.replace(',',''))\n",
    "df['numUserRatings'] = df['numUserRatings'].apply(lambda x: int(x))\n",
    "df['numCriticRatings'] = df['numCriticRatings'].apply(lambda x: int(x))\n",
    "df['numIMDBRatings'] = df['numIMDBRatings'].apply(lambda x: int(x))\n",
    "df['Runtime'].fillna('146 min',inplace = True)\n",
    "df['Runtime'] = df['Runtime'].apply(lambda x: x.split()[0])\n",
    "df['Runtime'] = df['Runtime'].apply(lambda x: int(x))\n",
    "df['MPAARating'] = df['MPAARating'].apply(lambda x: ratingCleaner(x))\n",
    "df['MPAARating'] = df['MPAARating'].apply(lambda x: ratingCombiner(x))\n",
    "df['Writer'] = df['Writer'].apply(lambda x: x.split('(')[0])\n",
    "df.drop('Unnamed: 0',1,inplace=True)\n",
    "df.head()"
   ]
  },
  {
   "cell_type": "code",
   "execution_count": 9,
   "metadata": {
    "collapsed": false
   },
   "outputs": [
    {
     "data": {
      "text/plain": [
       "R            104\n",
       "Not Rated     49\n",
       "PG            37\n",
       "PG-13         34\n",
       "G             24\n",
       "X              2\n",
       "Name: MPAARating, dtype: int64"
      ]
     },
     "execution_count": 9,
     "metadata": {},
     "output_type": "execute_result"
    }
   ],
   "source": [
    "df['MPAARating'].value_counts()"
   ]
  },
  {
   "cell_type": "code",
   "execution_count": 14,
   "metadata": {
    "collapsed": true
   },
   "outputs": [],
   "source": []
  },
  {
   "cell_type": "markdown",
   "metadata": {},
   "source": [
    "# Modeling!"
   ]
  },
  {
   "cell_type": "code",
   "execution_count": 10,
   "metadata": {
    "collapsed": false
   },
   "outputs": [
    {
     "data": {
      "text/html": [
       "<div>\n",
       "<table border=\"1\" class=\"dataframe\">\n",
       "  <thead>\n",
       "    <tr style=\"text-align: right;\">\n",
       "      <th></th>\n",
       "      <th>Title</th>\n",
       "      <th>Year</th>\n",
       "      <th>Runtime</th>\n",
       "      <th>Genre</th>\n",
       "      <th>Director</th>\n",
       "      <th>Writer</th>\n",
       "      <th>Actor</th>\n",
       "      <th>MPAARating</th>\n",
       "      <th>Description</th>\n",
       "      <th>numUserRatings</th>\n",
       "      <th>numCriticRatings</th>\n",
       "      <th>numIMDBRatings</th>\n",
       "      <th>IMDBRating</th>\n",
       "    </tr>\n",
       "  </thead>\n",
       "  <tbody>\n",
       "    <tr>\n",
       "      <th>0</th>\n",
       "      <td>The Shawshank Redemption</td>\n",
       "      <td>1994</td>\n",
       "      <td>142</td>\n",
       "      <td>Crime</td>\n",
       "      <td>Frank Darabont</td>\n",
       "      <td>Stephen King</td>\n",
       "      <td>Tim Robbins</td>\n",
       "      <td>R</td>\n",
       "      <td>Two imprisoned men bond over a number of years...</td>\n",
       "      <td>4120</td>\n",
       "      <td>198</td>\n",
       "      <td>1679862</td>\n",
       "      <td>9.3</td>\n",
       "    </tr>\n",
       "    <tr>\n",
       "      <th>1</th>\n",
       "      <td>The Godfather</td>\n",
       "      <td>1972</td>\n",
       "      <td>175</td>\n",
       "      <td>Crime</td>\n",
       "      <td>Francis Ford Coppola</td>\n",
       "      <td>Mario Puzo</td>\n",
       "      <td>Marlon Brando</td>\n",
       "      <td>R</td>\n",
       "      <td>The aging patriarch of an organized crime dyna...</td>\n",
       "      <td>2224</td>\n",
       "      <td>207</td>\n",
       "      <td>1149324</td>\n",
       "      <td>9.2</td>\n",
       "    </tr>\n",
       "    <tr>\n",
       "      <th>2</th>\n",
       "      <td>The Godfather: Part II</td>\n",
       "      <td>1974</td>\n",
       "      <td>202</td>\n",
       "      <td>Crime</td>\n",
       "      <td>Francis Ford Coppola</td>\n",
       "      <td>Francis Ford Coppola</td>\n",
       "      <td>Al Pacino</td>\n",
       "      <td>R</td>\n",
       "      <td>The early life and career of Vito Corleone in ...</td>\n",
       "      <td>652</td>\n",
       "      <td>149</td>\n",
       "      <td>786009</td>\n",
       "      <td>9.0</td>\n",
       "    </tr>\n",
       "    <tr>\n",
       "      <th>3</th>\n",
       "      <td>The Dark Knight</td>\n",
       "      <td>2008</td>\n",
       "      <td>152</td>\n",
       "      <td>Action</td>\n",
       "      <td>Christopher Nolan</td>\n",
       "      <td>Jonathan Nolan</td>\n",
       "      <td>Christian Bale</td>\n",
       "      <td>PG-13</td>\n",
       "      <td>When the menace known as the Joker wreaks havo...</td>\n",
       "      <td>4646</td>\n",
       "      <td>644</td>\n",
       "      <td>1664897</td>\n",
       "      <td>9.0</td>\n",
       "    </tr>\n",
       "    <tr>\n",
       "      <th>4</th>\n",
       "      <td>Schindler's List</td>\n",
       "      <td>1993</td>\n",
       "      <td>195</td>\n",
       "      <td>Biography</td>\n",
       "      <td>Steven Spielberg</td>\n",
       "      <td>Thomas Keneally</td>\n",
       "      <td>Liam Neeson</td>\n",
       "      <td>R</td>\n",
       "      <td>In Poland during World War II, Oskar Schindler...</td>\n",
       "      <td>1266</td>\n",
       "      <td>174</td>\n",
       "      <td>859751</td>\n",
       "      <td>8.9</td>\n",
       "    </tr>\n",
       "  </tbody>\n",
       "</table>\n",
       "</div>"
      ],
      "text/plain": [
       "                      Title  Year  Runtime      Genre              Director  \\\n",
       "0  The Shawshank Redemption  1994      142      Crime        Frank Darabont   \n",
       "1             The Godfather  1972      175      Crime  Francis Ford Coppola   \n",
       "2    The Godfather: Part II  1974      202      Crime  Francis Ford Coppola   \n",
       "3           The Dark Knight  2008      152     Action     Christopher Nolan   \n",
       "4          Schindler's List  1993      195  Biography      Steven Spielberg   \n",
       "\n",
       "                  Writer           Actor MPAARating  \\\n",
       "0          Stephen King      Tim Robbins          R   \n",
       "1            Mario Puzo    Marlon Brando          R   \n",
       "2  Francis Ford Coppola        Al Pacino          R   \n",
       "3        Jonathan Nolan   Christian Bale      PG-13   \n",
       "4       Thomas Keneally      Liam Neeson          R   \n",
       "\n",
       "                                         Description  numUserRatings  \\\n",
       "0  Two imprisoned men bond over a number of years...            4120   \n",
       "1  The aging patriarch of an organized crime dyna...            2224   \n",
       "2  The early life and career of Vito Corleone in ...             652   \n",
       "3  When the menace known as the Joker wreaks havo...            4646   \n",
       "4  In Poland during World War II, Oskar Schindler...            1266   \n",
       "\n",
       "   numCriticRatings  numIMDBRatings  IMDBRating  \n",
       "0               198         1679862         9.3  \n",
       "1               207         1149324         9.2  \n",
       "2               149          786009         9.0  \n",
       "3               644         1664897         9.0  \n",
       "4               174          859751         8.9  "
      ]
     },
     "execution_count": 10,
     "metadata": {},
     "output_type": "execute_result"
    }
   ],
   "source": [
    "df.head()"
   ]
  },
  {
   "cell_type": "code",
   "execution_count": 11,
   "metadata": {
    "collapsed": false
   },
   "outputs": [
    {
     "data": {
      "text/plain": [
       "Index([u'Title', u'Year', u'Runtime', u'Genre', u'Director', u'Writer',\n",
       "       u'Actor', u'MPAARating', u'Description', u'numUserRatings',\n",
       "       u'numCriticRatings', u'numIMDBRatings', u'IMDBRating'],\n",
       "      dtype='object')"
      ]
     },
     "execution_count": 11,
     "metadata": {},
     "output_type": "execute_result"
    }
   ],
   "source": [
    "df.columns"
   ]
  },
  {
   "cell_type": "code",
   "execution_count": 12,
   "metadata": {
    "collapsed": false
   },
   "outputs": [],
   "source": [
    "dummydf = df[['Genre','Director','Writer', 'Actor','MPAARating']]\n",
    "dummydf = pd.get_dummies(dummydf)"
   ]
  },
  {
   "cell_type": "code",
   "execution_count": 13,
   "metadata": {
    "collapsed": false
   },
   "outputs": [],
   "source": [
    "scalingdf = df[['Year','Runtime','numUserRatings','numCriticRatings','numIMDBRatings']]\n",
    "scalingdf = MinMaxScaler().fit_transform(scalingdf.astype(float))\n",
    "scalingdf = pd.DataFrame(scalingdf, columns = ['Year','Runtime','numUserRatings','numCriticRatings','numIMDBRatings'])"
   ]
  },
  {
   "cell_type": "code",
   "execution_count": 14,
   "metadata": {
    "collapsed": true
   },
   "outputs": [],
   "source": [
    "y = df['IMDBRating']"
   ]
  },
  {
   "cell_type": "code",
   "execution_count": 15,
   "metadata": {
    "collapsed": false
   },
   "outputs": [
    {
     "data": {
      "text/plain": [
       "TfidfVectorizer(analyzer=u'word', binary=False, decode_error=u'strict',\n",
       "        dtype=<type 'numpy.int64'>, encoding=u'utf-8', input=u'content',\n",
       "        lowercase=True, max_df=1.0, max_features=None, min_df=1,\n",
       "        ngram_range=(1, 1), norm=u'l2', preprocessor=None, smooth_idf=True,\n",
       "        stop_words='english', strip_accents=None, sublinear_tf=False,\n",
       "        token_pattern=u'(?u)\\\\b\\\\w\\\\w+\\\\b', tokenizer=None, use_idf=True,\n",
       "        vocabulary=None)"
      ]
     },
     "execution_count": 15,
     "metadata": {},
     "output_type": "execute_result"
    }
   ],
   "source": [
    "tfidfvect = TfidfVectorizer(stop_words = 'english')\n",
    "tfidfvect.fit(df['Description'])"
   ]
  },
  {
   "cell_type": "code",
   "execution_count": 16,
   "metadata": {
    "collapsed": false
   },
   "outputs": [
    {
     "data": {
      "text/html": [
       "<div>\n",
       "<table border=\"1\" class=\"dataframe\">\n",
       "  <thead>\n",
       "    <tr style=\"text-align: right;\">\n",
       "      <th></th>\n",
       "      <th>000</th>\n",
       "      <th>10</th>\n",
       "      <th>12</th>\n",
       "      <th>15</th>\n",
       "      <th>16th</th>\n",
       "      <th>1820s</th>\n",
       "      <th>18th</th>\n",
       "      <th>1920s</th>\n",
       "      <th>1936</th>\n",
       "      <th>1937</th>\n",
       "      <th>...</th>\n",
       "      <th>year</th>\n",
       "      <th>years</th>\n",
       "      <th>yoda</th>\n",
       "      <th>york</th>\n",
       "      <th>young</th>\n",
       "      <th>younger</th>\n",
       "      <th>youngest</th>\n",
       "      <th>zero</th>\n",
       "      <th>zone</th>\n",
       "      <th>zubrowka</th>\n",
       "    </tr>\n",
       "  </thead>\n",
       "  <tbody>\n",
       "    <tr>\n",
       "      <th>0</th>\n",
       "      <td>0.0</td>\n",
       "      <td>0.0</td>\n",
       "      <td>0.0</td>\n",
       "      <td>0.0</td>\n",
       "      <td>0.0</td>\n",
       "      <td>0.0</td>\n",
       "      <td>0.0</td>\n",
       "      <td>0.000000</td>\n",
       "      <td>0.0</td>\n",
       "      <td>0.0</td>\n",
       "      <td>...</td>\n",
       "      <td>0.0</td>\n",
       "      <td>0.252166</td>\n",
       "      <td>0.0</td>\n",
       "      <td>0.000000</td>\n",
       "      <td>0.0</td>\n",
       "      <td>0.0</td>\n",
       "      <td>0.0</td>\n",
       "      <td>0.0</td>\n",
       "      <td>0.0</td>\n",
       "      <td>0.0</td>\n",
       "    </tr>\n",
       "    <tr>\n",
       "      <th>1</th>\n",
       "      <td>0.0</td>\n",
       "      <td>0.0</td>\n",
       "      <td>0.0</td>\n",
       "      <td>0.0</td>\n",
       "      <td>0.0</td>\n",
       "      <td>0.0</td>\n",
       "      <td>0.0</td>\n",
       "      <td>0.000000</td>\n",
       "      <td>0.0</td>\n",
       "      <td>0.0</td>\n",
       "      <td>...</td>\n",
       "      <td>0.0</td>\n",
       "      <td>0.000000</td>\n",
       "      <td>0.0</td>\n",
       "      <td>0.000000</td>\n",
       "      <td>0.0</td>\n",
       "      <td>0.0</td>\n",
       "      <td>0.0</td>\n",
       "      <td>0.0</td>\n",
       "      <td>0.0</td>\n",
       "      <td>0.0</td>\n",
       "    </tr>\n",
       "    <tr>\n",
       "      <th>2</th>\n",
       "      <td>0.0</td>\n",
       "      <td>0.0</td>\n",
       "      <td>0.0</td>\n",
       "      <td>0.0</td>\n",
       "      <td>0.0</td>\n",
       "      <td>0.0</td>\n",
       "      <td>0.0</td>\n",
       "      <td>0.217608</td>\n",
       "      <td>0.0</td>\n",
       "      <td>0.0</td>\n",
       "      <td>...</td>\n",
       "      <td>0.0</td>\n",
       "      <td>0.000000</td>\n",
       "      <td>0.0</td>\n",
       "      <td>0.170867</td>\n",
       "      <td>0.0</td>\n",
       "      <td>0.0</td>\n",
       "      <td>0.0</td>\n",
       "      <td>0.0</td>\n",
       "      <td>0.0</td>\n",
       "      <td>0.0</td>\n",
       "    </tr>\n",
       "    <tr>\n",
       "      <th>3</th>\n",
       "      <td>0.0</td>\n",
       "      <td>0.0</td>\n",
       "      <td>0.0</td>\n",
       "      <td>0.0</td>\n",
       "      <td>0.0</td>\n",
       "      <td>0.0</td>\n",
       "      <td>0.0</td>\n",
       "      <td>0.000000</td>\n",
       "      <td>0.0</td>\n",
       "      <td>0.0</td>\n",
       "      <td>...</td>\n",
       "      <td>0.0</td>\n",
       "      <td>0.000000</td>\n",
       "      <td>0.0</td>\n",
       "      <td>0.000000</td>\n",
       "      <td>0.0</td>\n",
       "      <td>0.0</td>\n",
       "      <td>0.0</td>\n",
       "      <td>0.0</td>\n",
       "      <td>0.0</td>\n",
       "      <td>0.0</td>\n",
       "    </tr>\n",
       "    <tr>\n",
       "      <th>4</th>\n",
       "      <td>0.0</td>\n",
       "      <td>0.0</td>\n",
       "      <td>0.0</td>\n",
       "      <td>0.0</td>\n",
       "      <td>0.0</td>\n",
       "      <td>0.0</td>\n",
       "      <td>0.0</td>\n",
       "      <td>0.000000</td>\n",
       "      <td>0.0</td>\n",
       "      <td>0.0</td>\n",
       "      <td>...</td>\n",
       "      <td>0.0</td>\n",
       "      <td>0.000000</td>\n",
       "      <td>0.0</td>\n",
       "      <td>0.000000</td>\n",
       "      <td>0.0</td>\n",
       "      <td>0.0</td>\n",
       "      <td>0.0</td>\n",
       "      <td>0.0</td>\n",
       "      <td>0.0</td>\n",
       "      <td>0.0</td>\n",
       "    </tr>\n",
       "  </tbody>\n",
       "</table>\n",
       "<p>5 rows × 2081 columns</p>\n",
       "</div>"
      ],
      "text/plain": [
       "   000   10   12   15  16th  1820s  18th     1920s  1936  1937    ...     \\\n",
       "0  0.0  0.0  0.0  0.0   0.0    0.0   0.0  0.000000   0.0   0.0    ...      \n",
       "1  0.0  0.0  0.0  0.0   0.0    0.0   0.0  0.000000   0.0   0.0    ...      \n",
       "2  0.0  0.0  0.0  0.0   0.0    0.0   0.0  0.217608   0.0   0.0    ...      \n",
       "3  0.0  0.0  0.0  0.0   0.0    0.0   0.0  0.000000   0.0   0.0    ...      \n",
       "4  0.0  0.0  0.0  0.0   0.0    0.0   0.0  0.000000   0.0   0.0    ...      \n",
       "\n",
       "   year     years  yoda      york  young  younger  youngest  zero  zone  \\\n",
       "0   0.0  0.252166   0.0  0.000000    0.0      0.0       0.0   0.0   0.0   \n",
       "1   0.0  0.000000   0.0  0.000000    0.0      0.0       0.0   0.0   0.0   \n",
       "2   0.0  0.000000   0.0  0.170867    0.0      0.0       0.0   0.0   0.0   \n",
       "3   0.0  0.000000   0.0  0.000000    0.0      0.0       0.0   0.0   0.0   \n",
       "4   0.0  0.000000   0.0  0.000000    0.0      0.0       0.0   0.0   0.0   \n",
       "\n",
       "   zubrowka  \n",
       "0       0.0  \n",
       "1       0.0  \n",
       "2       0.0  \n",
       "3       0.0  \n",
       "4       0.0  \n",
       "\n",
       "[5 rows x 2081 columns]"
      ]
     },
     "execution_count": 16,
     "metadata": {},
     "output_type": "execute_result"
    }
   ],
   "source": [
    "nlpdf  = pd.DataFrame(tfidfvect.transform(df['Description']).todense(),columns=tfidfvect.get_feature_names(),index=df['Description'])\n",
    "nlpdf.transpose().sort_values(df['Description'][0], ascending=False).head(10).transpose()\n",
    "nlpdf.reset_index(inplace=True)\n",
    "nlpdf.drop('Description',1,inplace = True)\n",
    "nlpdf.head()"
   ]
  },
  {
   "cell_type": "code",
   "execution_count": null,
   "metadata": {
    "collapsed": false
   },
   "outputs": [],
   "source": []
  },
  {
   "cell_type": "code",
   "execution_count": 17,
   "metadata": {
    "collapsed": true
   },
   "outputs": [],
   "source": [
    "X = pd.concat([dummydf,scalingdf,nlpdf], axis =1)"
   ]
  },
  {
   "cell_type": "code",
   "execution_count": 18,
   "metadata": {
    "collapsed": false
   },
   "outputs": [],
   "source": [
    "def bucketingY(x):\n",
    "    if x >= 9.0:\n",
    "        return 1\n",
    "    elif x >= 8.5:\n",
    "        return 2\n",
    "    else:\n",
    "        return 3"
   ]
  },
  {
   "cell_type": "code",
   "execution_count": 19,
   "metadata": {
    "collapsed": false
   },
   "outputs": [],
   "source": [
    "y = y.apply(lambda x: bucketingY(x))"
   ]
  },
  {
   "cell_type": "code",
   "execution_count": 20,
   "metadata": {
    "collapsed": false
   },
   "outputs": [
    {
     "name": "stderr",
     "output_type": "stream",
     "text": [
      "/Users/michael/anaconda/lib/python2.7/site-packages/pandas/indexes/base.py:1229: UnicodeWarning: Unicode equal comparison failed to convert both arguments to Unicode - interpreting them as being unequal\n",
      "  return key in self._engine\n"
     ]
    },
    {
     "data": {
      "text/html": [
       "<div>\n",
       "<table border=\"1\" class=\"dataframe\">\n",
       "  <thead>\n",
       "    <tr style=\"text-align: right;\">\n",
       "      <th></th>\n",
       "      <th>Genre_Action</th>\n",
       "      <th>Genre_Adventure</th>\n",
       "      <th>Genre_Animation</th>\n",
       "      <th>Genre_Biography</th>\n",
       "      <th>Genre_Comedy</th>\n",
       "      <th>Genre_Crime</th>\n",
       "      <th>Genre_Drama</th>\n",
       "      <th>Genre_Film-Noir</th>\n",
       "      <th>Genre_Horror</th>\n",
       "      <th>Genre_Mystery</th>\n",
       "      <th>...</th>\n",
       "      <th>year</th>\n",
       "      <th>years</th>\n",
       "      <th>yoda</th>\n",
       "      <th>york</th>\n",
       "      <th>young</th>\n",
       "      <th>younger</th>\n",
       "      <th>youngest</th>\n",
       "      <th>zero</th>\n",
       "      <th>zone</th>\n",
       "      <th>zubrowka</th>\n",
       "    </tr>\n",
       "  </thead>\n",
       "  <tbody>\n",
       "    <tr>\n",
       "      <th>0</th>\n",
       "      <td>0.0</td>\n",
       "      <td>0.0</td>\n",
       "      <td>0.0</td>\n",
       "      <td>0.0</td>\n",
       "      <td>0.0</td>\n",
       "      <td>1.0</td>\n",
       "      <td>0.0</td>\n",
       "      <td>0.0</td>\n",
       "      <td>0.0</td>\n",
       "      <td>0.0</td>\n",
       "      <td>...</td>\n",
       "      <td>0.0</td>\n",
       "      <td>0.252166</td>\n",
       "      <td>0.0</td>\n",
       "      <td>0.000000</td>\n",
       "      <td>0.0</td>\n",
       "      <td>0.0</td>\n",
       "      <td>0.0</td>\n",
       "      <td>0.0</td>\n",
       "      <td>0.0</td>\n",
       "      <td>0.0</td>\n",
       "    </tr>\n",
       "    <tr>\n",
       "      <th>1</th>\n",
       "      <td>0.0</td>\n",
       "      <td>0.0</td>\n",
       "      <td>0.0</td>\n",
       "      <td>0.0</td>\n",
       "      <td>0.0</td>\n",
       "      <td>1.0</td>\n",
       "      <td>0.0</td>\n",
       "      <td>0.0</td>\n",
       "      <td>0.0</td>\n",
       "      <td>0.0</td>\n",
       "      <td>...</td>\n",
       "      <td>0.0</td>\n",
       "      <td>0.000000</td>\n",
       "      <td>0.0</td>\n",
       "      <td>0.000000</td>\n",
       "      <td>0.0</td>\n",
       "      <td>0.0</td>\n",
       "      <td>0.0</td>\n",
       "      <td>0.0</td>\n",
       "      <td>0.0</td>\n",
       "      <td>0.0</td>\n",
       "    </tr>\n",
       "    <tr>\n",
       "      <th>2</th>\n",
       "      <td>0.0</td>\n",
       "      <td>0.0</td>\n",
       "      <td>0.0</td>\n",
       "      <td>0.0</td>\n",
       "      <td>0.0</td>\n",
       "      <td>1.0</td>\n",
       "      <td>0.0</td>\n",
       "      <td>0.0</td>\n",
       "      <td>0.0</td>\n",
       "      <td>0.0</td>\n",
       "      <td>...</td>\n",
       "      <td>0.0</td>\n",
       "      <td>0.000000</td>\n",
       "      <td>0.0</td>\n",
       "      <td>0.170867</td>\n",
       "      <td>0.0</td>\n",
       "      <td>0.0</td>\n",
       "      <td>0.0</td>\n",
       "      <td>0.0</td>\n",
       "      <td>0.0</td>\n",
       "      <td>0.0</td>\n",
       "    </tr>\n",
       "    <tr>\n",
       "      <th>3</th>\n",
       "      <td>1.0</td>\n",
       "      <td>0.0</td>\n",
       "      <td>0.0</td>\n",
       "      <td>0.0</td>\n",
       "      <td>0.0</td>\n",
       "      <td>0.0</td>\n",
       "      <td>0.0</td>\n",
       "      <td>0.0</td>\n",
       "      <td>0.0</td>\n",
       "      <td>0.0</td>\n",
       "      <td>...</td>\n",
       "      <td>0.0</td>\n",
       "      <td>0.000000</td>\n",
       "      <td>0.0</td>\n",
       "      <td>0.000000</td>\n",
       "      <td>0.0</td>\n",
       "      <td>0.0</td>\n",
       "      <td>0.0</td>\n",
       "      <td>0.0</td>\n",
       "      <td>0.0</td>\n",
       "      <td>0.0</td>\n",
       "    </tr>\n",
       "    <tr>\n",
       "      <th>4</th>\n",
       "      <td>0.0</td>\n",
       "      <td>0.0</td>\n",
       "      <td>0.0</td>\n",
       "      <td>1.0</td>\n",
       "      <td>0.0</td>\n",
       "      <td>0.0</td>\n",
       "      <td>0.0</td>\n",
       "      <td>0.0</td>\n",
       "      <td>0.0</td>\n",
       "      <td>0.0</td>\n",
       "      <td>...</td>\n",
       "      <td>0.0</td>\n",
       "      <td>0.000000</td>\n",
       "      <td>0.0</td>\n",
       "      <td>0.000000</td>\n",
       "      <td>0.0</td>\n",
       "      <td>0.0</td>\n",
       "      <td>0.0</td>\n",
       "      <td>0.0</td>\n",
       "      <td>0.0</td>\n",
       "      <td>0.0</td>\n",
       "    </tr>\n",
       "  </tbody>\n",
       "</table>\n",
       "<p>5 rows × 2649 columns</p>\n",
       "</div>"
      ],
      "text/plain": [
       "   Genre_Action  Genre_Adventure  Genre_Animation  Genre_Biography  \\\n",
       "0           0.0              0.0              0.0              0.0   \n",
       "1           0.0              0.0              0.0              0.0   \n",
       "2           0.0              0.0              0.0              0.0   \n",
       "3           1.0              0.0              0.0              0.0   \n",
       "4           0.0              0.0              0.0              1.0   \n",
       "\n",
       "   Genre_Comedy  Genre_Crime  Genre_Drama  Genre_Film-Noir  Genre_Horror  \\\n",
       "0           0.0          1.0          0.0              0.0           0.0   \n",
       "1           0.0          1.0          0.0              0.0           0.0   \n",
       "2           0.0          1.0          0.0              0.0           0.0   \n",
       "3           0.0          0.0          0.0              0.0           0.0   \n",
       "4           0.0          0.0          0.0              0.0           0.0   \n",
       "\n",
       "   Genre_Mystery    ...     year     years  yoda      york  young  younger  \\\n",
       "0            0.0    ...      0.0  0.252166   0.0  0.000000    0.0      0.0   \n",
       "1            0.0    ...      0.0  0.000000   0.0  0.000000    0.0      0.0   \n",
       "2            0.0    ...      0.0  0.000000   0.0  0.170867    0.0      0.0   \n",
       "3            0.0    ...      0.0  0.000000   0.0  0.000000    0.0      0.0   \n",
       "4            0.0    ...      0.0  0.000000   0.0  0.000000    0.0      0.0   \n",
       "\n",
       "   youngest  zero  zone  zubrowka  \n",
       "0       0.0   0.0   0.0       0.0  \n",
       "1       0.0   0.0   0.0       0.0  \n",
       "2       0.0   0.0   0.0       0.0  \n",
       "3       0.0   0.0   0.0       0.0  \n",
       "4       0.0   0.0   0.0       0.0  \n",
       "\n",
       "[5 rows x 2649 columns]"
      ]
     },
     "execution_count": 20,
     "metadata": {},
     "output_type": "execute_result"
    }
   ],
   "source": [
    "X.head()"
   ]
  },
  {
   "cell_type": "code",
   "execution_count": null,
   "metadata": {
    "collapsed": true
   },
   "outputs": [],
   "source": []
  }
 ],
 "metadata": {
  "kernelspec": {
   "display_name": "Python 2",
   "language": "python",
   "name": "python2"
  },
  "language_info": {
   "codemirror_mode": {
    "name": "ipython",
    "version": 2
   },
   "file_extension": ".py",
   "mimetype": "text/x-python",
   "name": "python",
   "nbconvert_exporter": "python",
   "pygments_lexer": "ipython2",
   "version": "2.7.12"
  }
 },
 "nbformat": 4,
 "nbformat_minor": 0
}
