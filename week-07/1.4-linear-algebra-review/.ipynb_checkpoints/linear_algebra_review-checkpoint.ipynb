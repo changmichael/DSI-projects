{
 "cells": [
  {
   "cell_type": "code",
   "execution_count": 1,
   "metadata": {
    "collapsed": true,
    "slideshow": {
     "slide_type": "skip"
    }
   },
   "outputs": [],
   "source": [
    "import numpy as np"
   ]
  },
  {
   "cell_type": "markdown",
   "metadata": {
    "slideshow": {
     "slide_type": "slide"
    }
   },
   "source": [
    "# Linear algebra: review of basic concepts with numpy\n",
    "\n",
    "#### 1. Introduction\n",
    "#### 2. Vectors and matrices\n",
    "#### 3. Vector addition, scalar multiplication, dot products\n",
    "#### 4. Matrix multiplication\n",
    "#### 5. Identity matrix\n",
    "#### 6. Linear algebra operations in numpy\n",
    "#### 7. Independent practice"
   ]
  },
  {
   "cell_type": "markdown",
   "metadata": {
    "slideshow": {
     "slide_type": "slide"
    }
   },
   "source": [
    "### Vectors and matrices\n",
    "\n",
    "An m x n **matrix** is a rectangular array of numbers with m rows and n columns. Each number in the matrix is an entry.\n",
    "\n",
    "$$A= \\left[ \\begin{array}{c}\n",
    "a_{11} & a_{12} & ... & a_{1n}  \\\\\n",
    "a_{21} & a_{22} & ... & a_{2n}  \\\\\n",
    "... & ... & ... & ... \\\\\n",
    "a_{m1} & a_{m2} & ... & a_{mn}\n",
    "\\end{array} \\right]$$\n",
    "\n",
    "$$A \\in \\mathbb{R}^{mn}$$\n",
    "\n",
    "Entries can be denoted $a_{mn}$\n",
    "\n",
    "(Definitions from 'Linear Algebra', Heffernon)"
   ]
  },
  {
   "cell_type": "markdown",
   "metadata": {
    "slideshow": {
     "slide_type": "slide"
    }
   },
   "source": [
    "A (column) **vector** is a matrix with a single column. Entries are components.\n",
    "\n",
    "$$\\vec{v} = \\left[ \\begin{array}{c}\n",
    "1 \\\\\n",
    "3 \\\\\n",
    "7 \\\\\n",
    "\\vdots \\\\\n",
    "n\n",
    "\\end{array} \\right]$$\n",
    "\n",
    "$\\vec{v} \\in \\mathbb{R}^{n}$, where $\\mathbb{R}^{n}$ is n-dimensional real coordinate space. It includes all possible real-valued n-tuples, i.e. $\\vec{v}$.\n",
    "\n",
    "\n",
    "Components are denoted $v_{i}$."
   ]
  },
  {
   "cell_type": "markdown",
   "metadata": {
    "slideshow": {
     "slide_type": "slide"
    }
   },
   "source": [
    "![](./assets/images/r3_vectors.png)\n",
    "\n",
    "We can represent vectors as arrows in n-dimensional space, having magnitude and direction.\n",
    "\n",
    "(Image from: \n",
    "Louis Scharf, Linear Algebra: Vectors. OpenStax CNX. Sep 17, 2009 http://cnx.org/contents/3d05d982-e21c-4f8a-ab5a-d3e94186f924@6.)"
   ]
  },
  {
   "cell_type": "markdown",
   "metadata": {
    "slideshow": {
     "slide_type": "slide"
    }
   },
   "source": [
    "A matrix with a single row is a row vector.\n",
    "\n",
    "$$\\vec{u} = \\left[ \\begin{array}{c}\n",
    "1&3&7\n",
    "\\end{array} \\right]$$\n",
    "\n",
    "It is the **transpose** of a column vector: $\\vec{v}^{T} = \\vec{u}$. And vice versa."
   ]
  },
  {
   "cell_type": "markdown",
   "metadata": {
    "slideshow": {
     "slide_type": "slide"
    }
   },
   "source": [
    "The **magnitude** of a vector $\\vec{v} \\in \\mathbb{R}^{n}$ in is interpretable as its length, and calculable via the Euclidean distance:\n",
    "\n",
    "$\\vec{v} = \\left[ \\begin{array}{c}\n",
    "v_{1} \\\\\n",
    "v_{2} \\\\\n",
    "\\vdots \\\\\n",
    "v_{n}\n",
    "\\end{array} \\right]$\n",
    "\n",
    "then $\\| \\vec{v} \\| = \\sqrt{v_{1}^{2} + v_{2}^{2} + ... + v_{n}^{2}}$\n",
    "\n",
    "E.g. if $\\vec{v} = \n",
    "\\left[ \\begin{array}{c}\n",
    "3 \\\\\n",
    "4\n",
    "\\end{array} \\right]$, then $\\| \\vec{v} \\| = \\sqrt{3^{2} + 4^{2}}$\n",
    "\n",
    "This is also called the vector **norm**."
   ]
  },
  {
   "cell_type": "markdown",
   "metadata": {
    "slideshow": {
     "slide_type": "slide"
    }
   },
   "source": [
    "Vector **addition** is straightforward. If two vectors are of equal dimensions:\n",
    "\n",
    "$\\vec{v} = \\left[ \\begin{array}{c}\n",
    "1 \\\\\n",
    "3 \\\\\n",
    "7\n",
    "\\end{array} \\right],  \\vec{w} = \\left[ \\begin{array}{c}\n",
    "1 \\\\\n",
    "0 \\\\\n",
    "1\n",
    "\\end{array} \\right]$\n",
    "\n",
    "$\\vec{v} + \\vec{w} =\n",
    "\\left[ \\begin{array}{c}\n",
    "1 \\\\\n",
    "3 \\\\\n",
    "7\n",
    "\\end{array} \\right] + \\left[ \\begin{array}{c}\n",
    "1 \\\\\n",
    "0 \\\\\n",
    "1\n",
    "\\end{array} \\right] = \n",
    "\\left[ \\begin{array}{c}\n",
    "1+1 \\\\\n",
    "3+0 \\\\\n",
    "7+1\n",
    "\\end{array} \\right] = \n",
    "\\left[ \\begin{array}{c}\n",
    "2 \\\\\n",
    "3 \\\\\n",
    "8\n",
    "\\end{array} \\right]\n",
    "$\n",
    "\n",
    "(Subtraction is similar.)"
   ]
  },
  {
   "cell_type": "markdown",
   "metadata": {
    "slideshow": {
     "slide_type": "slide"
    }
   },
   "source": [
    "![](./assets/images/r3_vectors.png)\n",
    "\n",
    "> Check: what operations are shown here?"
   ]
  },
  {
   "cell_type": "markdown",
   "metadata": {
    "slideshow": {
     "slide_type": "slide"
    }
   },
   "source": [
    "We scale a vector with **scalar multiplication**, multiplying a vector by a scalar (single quantity):\n",
    "\n",
    "$ b \\left[ \\begin{array}{c}\n",
    "1 \\\\\n",
    "3 \\\\\n",
    "7\n",
    "\\end{array} \\right] = \n",
    " \\left[ \\begin{array}{c}\n",
    "b1 \\\\\n",
    "b3 \\\\\n",
    "b7\n",
    "\\end{array} \\right]$\n",
    "\n",
    "If $\\vec{a} = \\left[ \\begin{array}{c}\n",
    "2 \\\\\n",
    "1 \n",
    "\\end{array} \\right]$ and $b = 3$:\n",
    "\n",
    "![](./assets/images/scalar_multiplication_3a.png)"
   ]
  },
  {
   "cell_type": "code",
   "execution_count": 79,
   "metadata": {
    "collapsed": false,
    "slideshow": {
     "slide_type": "slide"
    }
   },
   "outputs": [
    {
     "data": {
      "text/plain": [
       "array([ 1.,  3.])"
      ]
     },
     "execution_count": 79,
     "metadata": {},
     "output_type": "execute_result"
    }
   ],
   "source": [
    "# Independent practice\n",
    "# First calculate by hand, then fill in ___s to calculate with numpy.\n",
    "\n",
    "\"\"\"\n",
    "v = np.array([3.0,4.0])\n",
    "u = np.array([2.0,1.0])\n",
    "___           # Find sum of vectors v and u\n",
    "___           # Find vectors u subtracted from v\n",
    "____          # Find v multiplied times some scalar, e.g. 3\n",
    "np.linalg__() # Find magnitude of vector v\n",
    "\n",
    "\"\"\"\n",
    "\n"
   ]
  },
  {
   "cell_type": "markdown",
   "metadata": {
    "slideshow": {
     "slide_type": "slide"
    }
   },
   "source": [
    "The **dot product** of two n-dimension vectors is:\n",
    "\n",
    "$ \\vec{v} \\cdot \\vec{w} =\\sum _{i=1}^{n}v_{i}w_{i}=v_{1}w_{1}+v_{2}w_{2}+\\cdots +v_{n}w_{n} $\n",
    "\n",
    "So, if:\n",
    "\n",
    "$\\vec{v} = \\left[ \\begin{array}{c}\n",
    "1 \\\\\n",
    "3 \\\\\n",
    "7\n",
    "\\end{array} \\right], \\vec{w} = \\left[ \\begin{array}{c}\n",
    "1 \\\\\n",
    "0 \\\\\n",
    "1\n",
    "\\end{array} \\right]$\n",
    "\n",
    "$ \\vec{v} \\cdot \\vec{w} = 1*1 + 3*0 + 7*1 = 11 $"
   ]
  },
  {
   "cell_type": "markdown",
   "metadata": {
    "slideshow": {
     "slide_type": "slide"
    }
   },
   "source": [
    "![](./assets/images/dot_product_projection.png)"
   ]
  },
  {
   "cell_type": "markdown",
   "metadata": {
    "slideshow": {
     "slide_type": "slide"
    }
   },
   "source": [
    "**Matrix multiplication**, $A_{mn} * B_{ij}$, is valid when the left matrix has the same number of columns as the right matrix has rows ($n = i$). Each entry is the dot product of corresponding row and column vectors.\n",
    "\n",
    "![](./assets/images/matrix-multiply-a.gif)\n",
    "(Image: mathisfun.com!)"
   ]
  },
  {
   "cell_type": "markdown",
   "metadata": {
    "slideshow": {
     "slide_type": "slide"
    }
   },
   "source": [
    "The **identity matrix**, $I_{n}$ is the matrix where $I_{n} A = A$:\n",
    "\n",
    "$$ I * \\left[ \\begin{array}{c}\n",
    "a_{11} & a_{12} \\\\\n",
    "a_{21} & a_{22} \n",
    "\\end{array} \\right] = \\left[ \\begin{array}{c}\n",
    "a_{11} & a_{12} \\\\\n",
    "a_{21} & a_{22} \n",
    "\\end{array} \\right]$$\n",
    "\n",
    "E.g.:\n",
    "\n",
    "$$ \\left[ \\begin{array}{c}\n",
    "1 & 0 \\\\\n",
    "0 & 1 \n",
    "\\end{array} \\right] * \\left[ \\begin{array}{c}\n",
    "3 & 4 \\\\\n",
    "5 & 6 \n",
    "\\end{array} \\right] = \\left[ \\begin{array}{c}\n",
    "(1* 3 + 0 * 5) & (1 * 4 + 0 * 6) \\\\\n",
    "(0 * 3 + 1 * 5) & (0 * 4 + 1 * 6) \n",
    "\\end{array} \\right] =\n",
    "\\left[ \\begin{array}{c}\n",
    "3 & 4 \\\\\n",
    "5 & 6 \n",
    "\\end{array} \\right]$$\n",
    "\n",
    "This is the matrix equivalent of multiplying a value times the identity 1."
   ]
  },
  {
   "cell_type": "code",
   "execution_count": 82,
   "metadata": {
    "collapsed": false,
    "slideshow": {
     "slide_type": "slide"
    }
   },
   "outputs": [
    {
     "data": {
      "text/plain": [
       "9.0"
      ]
     },
     "execution_count": 82,
     "metadata": {},
     "output_type": "execute_result"
    }
   ],
   "source": [
    "# Independent practice\n",
    "# First calculate by hand, then fill in ___s to calculate with numpy.\n",
    "\n",
    "A = np.array(____) # Create 2 x 3 matrix A, of type array\n",
    "B = np.array(____) # Create 3 x 2 matrix B, of type array\n",
    "___ # Calculate A x B"
   ]
  },
  {
   "cell_type": "markdown",
   "metadata": {
    "slideshow": {
     "slide_type": "slide"
    }
   },
   "source": [
    "## Independent practice\n",
    "\n",
    "Review the numpy operations, and try out their examples, here: http://docs.scipy.org/doc/numpy/reference/routines.linalg.html\n",
    "\n",
    "This week we will work heavily with eigenvectors and eigenvalues (to be covered)."
   ]
  },
  {
   "cell_type": "markdown",
   "metadata": {
    "slideshow": {
     "slide_type": "slide"
    }
   },
   "source": [
    "### Supplemental resources\n",
    "\n",
    "+ For a surprisingly comprehensive (yet dense!) review, be sure to check out [Linear algebra in four pages](http://www-bcf.usc.edu/~lototsky/MATH408/LinAlg1.pdf)\n",
    "+ This [deck](http://cseweb.ucsd.edu/classes/wi05/cse252a/linear_algebra_review.pdf) provides great insight into linear operations and advanced geometric topics\n",
    "+ Stanford's Review and Reference [26-page](http://cs229.stanford.edu/section/cs229-linalg.pdf) guide provides a nice review\n",
    "+ Spend some time on [Khan Academy](https://www.khanacademy.org/math/linear-algebra/matrix-transformations#concept-intro)!"
   ]
  }
 ],
 "metadata": {
  "celltoolbar": "Slideshow",
  "kernelspec": {
   "display_name": "Python 2",
   "language": "python",
   "name": "python2"
  },
  "language_info": {
   "codemirror_mode": {
    "name": "ipython",
    "version": 2
   },
   "file_extension": ".py",
   "mimetype": "text/x-python",
   "name": "python",
   "nbconvert_exporter": "python",
   "pygments_lexer": "ipython2",
   "version": "2.7.12"
  }
 },
 "nbformat": 4,
 "nbformat_minor": 0
}
