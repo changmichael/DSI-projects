{
 "cells": [
  {
   "cell_type": "markdown",
   "metadata": {
    "slideshow": {
     "slide_type": "slide"
    }
   },
   "source": [
    "![](https://ga-dash.s3.amazonaws.com/production/assets/logo-9f88ae6c9c3871690e33280fcf557f33.png)\n",
    "# Production code: logging, unit testing, refactoring, and PEP-8\n",
    "Week 11 | Lesson 3.1\n"
   ]
  },
  {
   "cell_type": "markdown",
   "metadata": {
    "slideshow": {
     "slide_type": "slide"
    }
   },
   "source": [
    "### LEARNING OBJECTIVES\n",
    "*After this lesson, you will be able to:*\n",
    "- Implement a logging mechanism in Python\n",
    "- Write unit tests and run them as a suite\n",
    "- Identify examples of code that could be refactored"
   ]
  },
  {
   "cell_type": "markdown",
   "metadata": {
    "slideshow": {
     "slide_type": "slide"
    }
   },
   "source": [
    "### Software engineer: You didn't check your code and your tests into master without a code review, did you?\n",
    "\n",
    "\n",
    "### Data Scientist: Checked my what into what without a what?\n",
    "\n",
    "#### - Software development skills for data scientists (http://treycausey.com/software_dev_skills.html)"
   ]
  },
  {
   "cell_type": "markdown",
   "metadata": {
    "slideshow": {
     "slide_type": "slide"
    }
   },
   "source": [
    "### LESSON GUIDE\n",
    "| TIMING  | TYPE  | TOPIC  |\n",
    "|:-:|---|---|\n",
    "| 5 min | [Opening](#opening) | Opening |\n",
    "| 30 min | [Logging](#logging) | Logging |\n",
    "| 30 min | [Unit testing](#unit-testing) | Unit testing |\n",
    "| 20 min | [Refactoring](#refactoring) | Refactoring |\n",
    "| 5 min | [Conclusion](#conclusion) | Conclusion |"
   ]
  },
  {
   "cell_type": "markdown",
   "metadata": {
    "slideshow": {
     "slide_type": "slide"
    }
   },
   "source": [
    "### Logging\n",
    "\n",
    "- Why log? Diagnostics and auditing.\n",
    "- Ad hoc `print` statements: not crazy for simple personal scripts. Not sufficient for anything more"
   ]
  },
  {
   "cell_type": "markdown",
   "metadata": {
    "slideshow": {
     "slide_type": "slide"
    }
   },
   "source": [
    "#### Python's `logging` library\n",
    "\n",
    "- Better practice: more control, less mess"
   ]
  },
  {
   "cell_type": "markdown",
   "metadata": {
    "slideshow": {
     "slide_type": "slide"
    }
   },
   "source": [
    "#### Codealong: `logging`\n",
    "\n",
    "We'll add logging statements that output a .log file.\n",
    "\n",
    "```python\n",
    "import logging\n",
    "logging.basicConfig(filename='test.log', level=logging.INFO)\n",
    "log = logging.getLogger(__name__)\n",
    "```\n",
    "\n",
    "This configures our logging system (specifically, the \"root logger\"), by specifying a write file and a \"level\" (more on that in a moment). It also creates a logger object with a name of either `__main__` or the name of your module.\n",
    "\n",
    "> The special variable `__name__` is equal to \"`__main__`\" when a program is run directly, or equal to the name of that _module_ when it's imported by another module. E.g. if `example.py` consists of the line `print __name__`, if you run `python example.py` you'll see `__main__`. If you run `python newModule.py` and `import example`, you'll see `example` printed.\n"
   ]
  },
  {
   "cell_type": "markdown",
   "metadata": {
    "slideshow": {
     "slide_type": "slide"
    }
   },
   "source": [
    "```python\n",
    "log.debug('Very granular logging message, useful for debugging.')\n",
    "log.info('Simple update on normal execution, e.g. \"Processing record {} of {}\"'.format(10,100)\n",
    "log.warning('You\\'ve seen these in sklearn, warning about methods being deprecated')\n",
    "log.error('Logs an error message')\n",
    "log.critical('Well this is an issue')\n",
    "```\n",
    "\n",
    "There are five \"levels\" of logging. You  configure the system's threshold for logging via logging.basicConfig.\n",
    "\n",
    "> Check: what do you expect to see in test.log?"
   ]
  },
  {
   "cell_type": "markdown",
   "metadata": {
    "slideshow": {
     "slide_type": "slide"
    }
   },
   "source": [
    "There are other useful configuration parameters, particularly format:\n",
    "\n",
    "```python\n",
    "logging.basicConfig(filename='test.log', filemode='w', format='%(asctime)s %(levelname)s:%(message)s', level=logging.INFO)\n",
    "```\n",
    "\n",
    "You'll need to add this at the start of your file, as .basicConfig does nothing if it's run after your logging system is configured."
   ]
  },
  {
   "cell_type": "markdown",
   "metadata": {
    "slideshow": {
     "slide_type": "slide"
    }
   },
   "source": [
    "#### Configuring via JSON inputs\n",
    "\n",
    "We've been hardcoding our logging settings. This is a relatively brittle approach. What if we want to make tweaks? What if we have multiple modules to configure? \n",
    "\n",
    "One alternative is to read in a JSON configuration file:\n",
    "\n",
    "```json\n",
    "{\n",
    "    \"version\": 1,\n",
    "    \"disable_existing_loggers\": \"false\",\n",
    "    \"formatters\": {\n",
    "        \"basic\": {\n",
    "            \"class\": \"logging.Formatter\",\n",
    "            \"datefmt\": \"%Y-%m-%d %I:%M:%S\",\n",
    "            \"format\": \"%(asctime)s %(levelname)s %(name)s %(message)s\"\n",
    "        }\n",
    "    },\n",
    "\n",
    "    \"handlers\": {\n",
    "        \"console\": {\n",
    "            \"class\": \"logging.StreamHandler\",\n",
    "            \"level\": \"DEBUG\",\n",
    "            \"formatter\": \"basic\",\n",
    "            \"stream\": \"ext://sys.stdout\"\n",
    "        },\n",
    "        \"file\": {\n",
    "            \"class\": \"logging.FileHandler\",\n",
    "            \"level\": \"DEBUG\",\n",
    "            \"formatter\": \"basic\",\n",
    "            \"filename\": \"test.log\",\n",
    "            \"mode\": \"w\",\n",
    "            \"encoding\": \"utf-8\"\n",
    "        }\n",
    "    },\n",
    "\n",
    "    \"loggers\": { },\n",
    "\n",
    "    \"root\": {\n",
    "        \"handlers\": [\"console\", \"file\"],\n",
    "        \"level\": \"INFO\"\n",
    "    }\n",
    "}\n",
    "```"
   ]
  },
  {
   "cell_type": "markdown",
   "metadata": {
    "slideshow": {
     "slide_type": "slide"
    }
   },
   "source": [
    "This example includes a few important keys:\n",
    "\n",
    "- version: must be set to 1.\n",
    "- disable_existing_loggers: defaults to True.\n",
    "- formatters: sets the format for the logging messages\n",
    "- handlers: configure the components that send log records to their destinations\n",
    "- loggers: empty here, but you can name specific loggers\n",
    "- root: configures the root logger, which all other loggers descend from\n",
    "\n",
    "(There are other components explained in the documentation. https://docs.python.org/3/library/logging.config.html#logging-config-dictschema)"
   ]
  },
  {
   "cell_type": "markdown",
   "metadata": {
    "slideshow": {
     "slide_type": "slide"
    }
   },
   "source": [
    "You can parse and pass the JSON file into `logging.config.dictConfig()`:\n",
    "\n",
    "```python\n",
    "import json\n",
    "\n",
    "with open(\"logging_config.json\", \"r\") as fd:\n",
    "    logging.config.dictConfig(json.load(fd))\n",
    "```"
   ]
  },
  {
   "cell_type": "markdown",
   "metadata": {
    "slideshow": {
     "slide_type": "slide"
    }
   },
   "source": [
    "### Independent practice: logging\n",
    "\n",
    "- Using the `logging` library, add at least three logging statements to one of the scripts you've written in class.\n",
    "- Write a JSON file and use it to configure your logger\n",
    "- Output the stream to 'test.log'. Slack your log!"
   ]
  },
  {
   "cell_type": "markdown",
   "metadata": {
    "slideshow": {
     "slide_type": "slide"
    }
   },
   "source": [
    "## Unit testing\n",
    "\n",
    "Testing for bugs is ubiquitous within software development. There are structured frameworks for doing this.\n",
    "\n",
    "_Unit testing_ is testing the most granular components of your code, e.g. specific functions, to look for syntax, logic and execution errors.\n",
    "\n",
    "If your job is data analysis, rather than building data products, you'll probably get away without formal testing. But it's still a good idea. It will sharpen your code, ease collaboration, and make _refactoring_ less fretful.   "
   ]
  },
  {
   "cell_type": "markdown",
   "metadata": {},
   "source": [
    "There are several frameworks for unit testing in Python. We'll use `pytest` today:\n",
    "\n",
    "```bash\n",
    "pip install -U pytest\n",
    "```\n",
    "\n",
    "`pytest` is popular because it simplifies the code required to write and run tests. But you should also get familiar with the base [unittest/PyUnit library](https://docs.python.org/2/library/unittest.html)."
   ]
  },
  {
   "cell_type": "markdown",
   "metadata": {
    "slideshow": {
     "slide_type": "slide"
    }
   },
   "source": [
    "Your initial tests can be written based on your program specifications: what are its functions supposed to _do_? Let's say we have these trivial functions:\n",
    "\n",
    "```python\n",
    "\n",
    "def rectangle_area(w,h):\n",
    "    return w*h\n",
    "\n",
    "def strip_stopwords(phrase, stopwords):\n",
    "    phrase = phrase.split()\n",
    "    phrase = [w for w in phrase if w not in stopwords]\n",
    "    phrase = ' '.join(phrase)\n",
    "    return phrase\n",
    "```"
   ]
  },
  {
   "cell_type": "markdown",
   "metadata": {
    "slideshow": {
     "slide_type": "slide"
    }
   },
   "source": [
    "If these were in a file (module) named `example.py`, then a pytest `test.py` file could look like:\n",
    "\n",
    "```python\n",
    "import pytest\n",
    "import examples\n",
    "\n",
    "def test_area_calculation():\n",
    "    assert examples.rectangle_area(10,2) == 20\n",
    "    \n",
    "def test_stopwords():\n",
    "    sentence = \"the quick brown fox jumped over the lazy dog\"\n",
    "    stopwords = ['the', 'an', 'a', 'of', 'to']\n",
    "    assert examples.strip_stopwords(sentence, stopwords) == 'quick brown fox jumped over lazy dog'\n",
    "```\n",
    "\n",
    "We could `assert` any Boolean condition, e.g.:\n",
    "```python\n",
    "assert examples.strip_stopwords(sentence, stopwords) != 'the quick brown fox jumped over the lazy dog'\n",
    "```"
   ]
  },
  {
   "cell_type": "markdown",
   "metadata": {
    "slideshow": {
     "slide_type": "slide"
    }
   },
   "source": [
    "It is also important to consider what your code should _not_ do, i.e., when should it fail and what exceptions should it raise? Our area calculation function should only work with numeric types:\n",
    "\n",
    "```python\n",
    "def test_area_type_handling():\n",
    "    with pytest.raises(TypeError):\n",
    "        examples.rectangle_area(5,'testing')\n",
    "```\n",
    "\n",
    "`assert` and `with pytest.raises(___Error): ....` are two workhorse commands."
   ]
  },
  {
   "cell_type": "markdown",
   "metadata": {
    "slideshow": {
     "slide_type": "slide"
    }
   },
   "source": [
    "### Guided practice: running a test suite\n",
    "\n",
    "A basic unit testing battery requires a couple things:\n",
    "\n",
    "- A script with your test functions, each of which has a name starting with \"test\"\n",
    "- The module you want to test (for simplicity, in the same directory)\n",
    "\n",
    "Py.test will automatically detect and run your tests for you. Let's try it! The bash command is:\n",
    "\n",
    "```bash\n",
    "py.test [-v] test_script.py\n",
    "```"
   ]
  },
  {
   "cell_type": "markdown",
   "metadata": {
    "slideshow": {
     "slide_type": "slide"
    }
   },
   "source": [
    "Often you will need to test methods of classes - and for this you may need to instantiate the class with specific values. Take yesterday's Tic Tac Toe code, for example:\n",
    "\n",
    "```python\n",
    "import random\n",
    "import numpy as np\n",
    "\n",
    "class tictactoe():\n",
    "    def __init__(self):\n",
    "        self.board = np.chararray((3,3))\n",
    "        self.wincombos = [self.board[0], self.board[1], self.board[2], \\\n",
    "                          self.board[:,0], self.board[:,1], self.board[:,2], \\\n",
    "                          self.board.diagonal(), np.fliplr(self.board).diagonal()]\n",
    "        \n",
    "        keyboard = np.array([[1,2,3],[4,5,6],[7,8,9]])\n",
    "        moves_dict = {1:(0,0), 2:(0,1), 3:(0,2), 4:(1,0), 5:(1,1), 6:(1,2), 7:(2,0), 8:(2,1), 9:(2,2)}\n",
    "        \n",
    "    def make_computer_move(self):\n",
    "        '''Only makes random moves. \n",
    "\n",
    "        If you want to improve the game's AI, start here.\n",
    "        '''\n",
    "        \n",
    "        #Make a random move \n",
    "        x = random.randint(0,2)\n",
    "        y = random.randint(0,2)\n",
    "\n",
    "        #Check if that space is occupied\n",
    "        while self.board[x][y] != '-':\n",
    "            x = random.randint(0,2)\n",
    "            y = random.randint(0,2)\n",
    "            \n",
    "        self.board[x][y] = 'O'\n",
    " ```"
   ]
  },
  {
   "cell_type": "markdown",
   "metadata": {
    "slideshow": {
     "slide_type": "slide"
    }
   },
   "source": [
    "Let's say we want to make sure `make_computer_move` puts an 'O' into a board full of '-'s. Note that the initialization does _not_ include setting up the board with dashes. So how do we test this function?\n",
    "\n",
    "\"Fixtures\". They're a little involved, but the basic syntax is:\n",
    "\n",
    "```python\n",
    "@pytest.fixture()\n",
    "def setup():\n",
    "\tt = tictactoe.tictactoe()\n",
    "\tt.board[:] = '-'\n",
    "\treturn t\n",
    "\n",
    "def test_computer_move(setup):\n",
    "\tsetup.make_computer_move()\n",
    "\tassert 'O' in setup.board\n",
    "```\n"
   ]
  },
  {
   "cell_type": "markdown",
   "metadata": {
    "slideshow": {
     "slide_type": "slide"
    }
   },
   "source": [
    "### Independent practice: writing test functions\n",
    "\n",
    "Let's take a step toward production! Add at least one more unit test for the trivial example functions, and two more unit tests for the Tic Tac Toe solution code (or your version). "
   ]
  },
  {
   "cell_type": "markdown",
   "metadata": {
    "slideshow": {
     "slide_type": "slide"
    }
   },
   "source": [
    "### Refactoring\n",
    "\n",
    "This software development vocabulary word just means \"improving your code\". The general axes are:\n",
    "\n",
    "- Efficiency\n",
    "- Readability\n",
    "- Extensibility"
   ]
  },
  {
   "cell_type": "markdown",
   "metadata": {
    "slideshow": {
     "slide_type": "slide"
    }
   },
   "source": [
    "Some easy wins:\n",
    "\n",
    "- Don't Repeat Yourself (DRY)\n",
    "- Use helpful names\n",
    "- Comment your code!\n",
    "\n",
    "You can also improve your code's readability, and your own credibility, by following a community standard stylistic convention. The most popular is [PEP-8](https://www.python.org/dev/peps/pep-0008/).\n",
    "\n",
    "Please take a few minutes to skim the documentation."
   ]
  },
  {
   "cell_type": "markdown",
   "metadata": {
    "slideshow": {
     "slide_type": "slide"
    }
   },
   "source": [
    "\"Linters\" are tools for checking your code for errors. There are style linters available, as standalone programs or integrations to IDEs / text editors.\n",
    "\n",
    "We'll use an easy one:\n",
    "\n",
    "```bash\n",
    "$pip install -U pep8\n",
    "$pep8 tictactoe.py\n",
    "```"
   ]
  },
  {
   "cell_type": "markdown",
   "metadata": {
    "slideshow": {
     "slide_type": "slide"
    }
   },
   "source": [
    "Let's look at a few refactoring examples together:\n",
    "\n",
    "```python\n",
    "if isSpecialDeal():\n",
    "    total = price * 0.95\n",
    "    send()\n",
    "else:\n",
    "    total = price * 0.98\n",
    "    send()\n",
    "```\n",
    "\n",
    "> Check: what notion is this violating? How can we improve it?\n",
    "\n",
    "\n",
    "(Examples from https://github.com/shvetsgroup/refactoring.guru-examples/tree/master/simple/python)"
   ]
  },
  {
   "cell_type": "markdown",
   "metadata": {
    "slideshow": {
     "slide_type": "slide"
    }
   },
   "source": [
    "Don't repeat yourself:\n",
    "\n",
    "```python\n",
    "if isSpecialDeal():\n",
    "    total = price * 0.95\n",
    "else:\n",
    "    total = price * 0.98\n",
    "send()\n",
    "```\n",
    "\n",
    "How about this one?\n",
    "\n",
    "```python\n",
    "def output(self, type):\n",
    "    if name == \"banner\"\n",
    "        # Print the banner.\n",
    "        # ...\n",
    "    if name == \"info\"\n",
    "        # Print the info.\n",
    "        # ...\n",
    "```\n",
    "\n"
   ]
  },
  {
   "cell_type": "markdown",
   "metadata": {
    "slideshow": {
     "slide_type": "slide"
    }
   },
   "source": [
    "Make it easier to adjust what happens in each case:\n",
    "\n",
    "```python\n",
    "def outputBanner(self):\n",
    "    # Print the banner.\n",
    "    # ...\n",
    "\n",
    "def outputInfo(self):\n",
    "    # Print the info.\n",
    "    # ...\n",
    "```\n",
    "\n",
    "And here?\n",
    "\n",
    "```python\n",
    "def foundPerson(people):\n",
    "    for i in range(len(people)):\n",
    "        if people[i] == \"Don\":\n",
    "            return \"Don\"\n",
    "        if people[i] == \"John\":\n",
    "            return \"John\"\n",
    "        if people[i] == \"Kent\":\n",
    "            return \"Kent\"\n",
    "    return \"\"\n",
    "```"
   ]
  },
  {
   "cell_type": "markdown",
   "metadata": {
    "slideshow": {
     "slide_type": "slide"
    }
   },
   "source": [
    "That code wasn't very Pythonic, plus it doubles the risk of typos.\n",
    "\n",
    "```python\n",
    "def foundPerson(people):\n",
    "    candidates = [\"Don\", \"John\", \"Kent\"]\n",
    "    for i in range(len(people)):\n",
    "        if people[i] in candidates:\n",
    "            return people[i]\n",
    "    return \"\"\n",
    "```"
   ]
  },
  {
   "cell_type": "markdown",
   "metadata": {
    "slideshow": {
     "slide_type": "slide"
    }
   },
   "source": [
    "### Additional resources\n",
    "\n",
    "Software development\n",
    "\n",
    "- http://treycausey.com/software_dev_skills.html\n",
    "- http://12factor.net/\n",
    "\n",
    "Logging\n",
    "\n",
    "- http://victorlin.me/posts/2012/08/26/good-logging-practice-in-python\n",
    "- http://www.blog.pythonlibrary.org/2012/08/02/python-101-an-intro-to-logging/\n",
    "\n",
    "(Unit) testing\n",
    "- http://docs.python-guide.org/en/latest/writing/tests/\n",
    "- http://stackoverflow.com/questions/4904096/whats-the-difference-between-unit-functional-acceptance-and-integration-test\n"
   ]
  }
 ],
 "metadata": {
  "celltoolbar": "Slideshow",
  "kernelspec": {
   "display_name": "Python 2",
   "language": "python",
   "name": "python2"
  },
  "language_info": {
   "codemirror_mode": {
    "name": "ipython",
    "version": 2
   },
   "file_extension": ".py",
   "mimetype": "text/x-python",
   "name": "python",
   "nbconvert_exporter": "python",
   "pygments_lexer": "ipython2",
   "version": "2.7.12"
  }
 },
 "nbformat": 4,
 "nbformat_minor": 0
}
