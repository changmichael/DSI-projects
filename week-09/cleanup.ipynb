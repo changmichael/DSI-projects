{
 "cells": [
  {
   "cell_type": "code",
   "execution_count": 1,
   "metadata": {
    "collapsed": true
   },
   "outputs": [],
   "source": [
    "import pandas as pd\n"
   ]
  },
  {
   "cell_type": "code",
   "execution_count": 2,
   "metadata": {
    "collapsed": true
   },
   "outputs": [],
   "source": [
    "df = pd.read_csv('turnstile_160730.txt')"
   ]
  },
  {
   "cell_type": "code",
   "execution_count": 8,
   "metadata": {
    "collapsed": false
   },
   "outputs": [
    {
     "data": {
      "text/html": [
       "<div>\n",
       "<table border=\"1\" class=\"dataframe\">\n",
       "  <thead>\n",
       "    <tr style=\"text-align: right;\">\n",
       "      <th></th>\n",
       "      <th>C/A</th>\n",
       "      <th>UNIT</th>\n",
       "      <th>SCP</th>\n",
       "      <th>STATION</th>\n",
       "      <th>LINENAME</th>\n",
       "      <th>DIVISION</th>\n",
       "      <th>DATE</th>\n",
       "      <th>TIME</th>\n",
       "      <th>DESC</th>\n",
       "      <th>ENTRIES</th>\n",
       "      <th>EXITS</th>\n",
       "    </tr>\n",
       "  </thead>\n",
       "  <tbody>\n",
       "    <tr>\n",
       "      <th>0</th>\n",
       "      <td>A002</td>\n",
       "      <td>R051</td>\n",
       "      <td>02-00-00</td>\n",
       "      <td>59 ST</td>\n",
       "      <td>NQR456</td>\n",
       "      <td>BMT</td>\n",
       "      <td>07/23/2016</td>\n",
       "      <td>00:00:00</td>\n",
       "      <td>REGULAR</td>\n",
       "      <td>5751337</td>\n",
       "      <td>1950621</td>\n",
       "    </tr>\n",
       "  </tbody>\n",
       "</table>\n",
       "</div>"
      ],
      "text/plain": [
       "    C/A  UNIT       SCP STATION LINENAME DIVISION        DATE      TIME  \\\n",
       "0  A002  R051  02-00-00   59 ST   NQR456      BMT  07/23/2016  00:00:00   \n",
       "\n",
       "      DESC  ENTRIES  \\\n",
       "0  REGULAR  5751337   \n",
       "\n",
       "   EXITS                                                                 \n",
       "0                                            1950621                     "
      ]
     },
     "execution_count": 8,
     "metadata": {},
     "output_type": "execute_result"
    }
   ],
   "source": [
    "df.head(1)"
   ]
  },
  {
   "cell_type": "code",
   "execution_count": 10,
   "metadata": {
    "collapsed": false,
    "scrolled": false
   },
   "outputs": [],
   "source": [
    "test_df = df.copy()"
   ]
  },
  {
   "cell_type": "code",
   "execution_count": 11,
   "metadata": {
    "collapsed": true
   },
   "outputs": [],
   "source": [
    "test_df.drop('C/A',1,inplace=True)\n",
    "test_df.drop('UNIT',1,inplace=True)\n",
    "test_df.drop('SCP',1,inplace=True)\n",
    "test_df.drop('LINENAME',1,inplace=True)\n",
    "test_df.drop('DIVISION',1,inplace=True)\n",
    "test_df.drop('DESC',1,inplace=True)"
   ]
  },
  {
   "cell_type": "code",
   "execution_count": 12,
   "metadata": {
    "collapsed": false
   },
   "outputs": [
    {
     "data": {
      "text/html": [
       "<div>\n",
       "<table border=\"1\" class=\"dataframe\">\n",
       "  <thead>\n",
       "    <tr style=\"text-align: right;\">\n",
       "      <th></th>\n",
       "      <th>STATION</th>\n",
       "      <th>DATE</th>\n",
       "      <th>TIME</th>\n",
       "      <th>ENTRIES</th>\n",
       "      <th>EXITS</th>\n",
       "    </tr>\n",
       "  </thead>\n",
       "  <tbody>\n",
       "    <tr>\n",
       "      <th>0</th>\n",
       "      <td>59 ST</td>\n",
       "      <td>07/23/2016</td>\n",
       "      <td>00:00:00</td>\n",
       "      <td>5751337</td>\n",
       "      <td>1950621</td>\n",
       "    </tr>\n",
       "  </tbody>\n",
       "</table>\n",
       "</div>"
      ],
      "text/plain": [
       "  STATION        DATE      TIME  ENTRIES  \\\n",
       "0   59 ST  07/23/2016  00:00:00  5751337   \n",
       "\n",
       "   EXITS                                                                 \n",
       "0                                            1950621                     "
      ]
     },
     "execution_count": 12,
     "metadata": {},
     "output_type": "execute_result"
    }
   ],
   "source": [
    "test_df.head(1)"
   ]
  },
  {
   "cell_type": "code",
   "execution_count": 20,
   "metadata": {
    "collapsed": false
   },
   "outputs": [
    {
     "data": {
      "text/plain": [
       "9803"
      ]
     },
     "execution_count": 20,
     "metadata": {},
     "output_type": "execute_result"
    }
   ],
   "source": [
    "len(test_df['TIME'].unique())"
   ]
  },
  {
   "cell_type": "code",
   "execution_count": 18,
   "metadata": {
    "collapsed": false
   },
   "outputs": [
    {
     "data": {
      "text/plain": [
       "04:00:00    16790\n",
       "08:00:00    16788\n",
       "16:00:00    16779\n",
       "20:00:00    16777\n",
       "00:00:00    16769\n",
       "12:00:00    16762\n",
       "01:00:00    11723\n",
       "09:00:00    11722\n",
       "17:00:00    11711\n",
       "05:00:00    11705\n",
       "21:00:00    11697\n",
       "13:00:00    11688\n",
       "06:00:00      770\n",
       "10:00:00      770\n",
       "22:00:00      770\n",
       "02:00:00      770\n",
       "18:00:00      770\n",
       "14:00:00      770\n",
       "07:00:00      273\n",
       "15:00:00      273\n",
       "23:00:00      273\n",
       "19:00:00      273\n",
       "03:00:00      273\n",
       "11:00:00      272\n",
       "00:22:00      260\n",
       "20:22:00      259\n",
       "12:22:00      259\n",
       "04:22:00      259\n",
       "16:22:00      258\n",
       "08:22:00      258\n",
       "            ...  \n",
       "08:11:30        1\n",
       "14:00:19        1\n",
       "17:05:57        1\n",
       "17:05:58        1\n",
       "07:47:21        1\n",
       "11:49:56        1\n",
       "11:49:51        1\n",
       "05:04:50        1\n",
       "22:31:38        1\n",
       "18:49:39        1\n",
       "22:35:00        1\n",
       "01:18:43        1\n",
       "10:46:23        1\n",
       "18:21:18        1\n",
       "00:31:31        1\n",
       "15:59:09        1\n",
       "00:31:37        1\n",
       "10:08:43        1\n",
       "10:08:44        1\n",
       "20:55:37        1\n",
       "10:08:46        1\n",
       "10:08:49        1\n",
       "23:01:41        1\n",
       "20:55:38        1\n",
       "15:36:51        1\n",
       "22:32:31        1\n",
       "00:31:39        1\n",
       "10:46:28        1\n",
       "23:01:45        1\n",
       "15:50:18        1\n",
       "Name: TIME, dtype: int64"
      ]
     },
     "execution_count": 18,
     "metadata": {},
     "output_type": "execute_result"
    }
   ],
   "source": [
    "test_df[test_df['STATION']'TIME'].value_counts()"
   ]
  },
  {
   "cell_type": "code",
   "execution_count": null,
   "metadata": {
    "collapsed": true
   },
   "outputs": [],
   "source": []
  }
 ],
 "metadata": {
  "kernelspec": {
   "display_name": "Python 2",
   "language": "python",
   "name": "python2"
  },
  "language_info": {
   "codemirror_mode": {
    "name": "ipython",
    "version": 2
   },
   "file_extension": ".py",
   "mimetype": "text/x-python",
   "name": "python",
   "nbconvert_exporter": "python",
   "pygments_lexer": "ipython2",
   "version": "2.7.12"
  }
 },
 "nbformat": 4,
 "nbformat_minor": 0
}
