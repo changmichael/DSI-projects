{
 "cells": [
  {
   "cell_type": "code",
   "execution_count": 1,
   "metadata": {
    "collapsed": false
   },
   "outputs": [],
   "source": [
    "import pandas as pd\n",
    "import numpy as np\n",
    "import matplotlib.pyplot as plt\n",
    "%matplotlib inline"
   ]
  },
  {
   "cell_type": "code",
   "execution_count": 2,
   "metadata": {
    "collapsed": false
   },
   "outputs": [],
   "source": [
    "# read in the raw data from the github url\n",
    "\n",
    "df = pd.read_csv(\"https://raw.githubusercontent.com/suneel0101/lesson-plan/master/crunchbase_monthly_export.csv\")"
   ]
  },
  {
   "cell_type": "code",
   "execution_count": 3,
   "metadata": {
    "collapsed": false
   },
   "outputs": [
    {
     "data": {
      "text/html": [
       "<div>\n",
       "<table border=\"1\" class=\"dataframe\">\n",
       "  <thead>\n",
       "    <tr style=\"text-align: right;\">\n",
       "      <th></th>\n",
       "      <th>permalink</th>\n",
       "      <th>name</th>\n",
       "      <th>homepage_url</th>\n",
       "      <th>category_list</th>\n",
       "      <th>market</th>\n",
       "      <th>funding_total_usd</th>\n",
       "      <th>status</th>\n",
       "      <th>country_code</th>\n",
       "      <th>state_code</th>\n",
       "      <th>region</th>\n",
       "      <th>city</th>\n",
       "      <th>funding_rounds</th>\n",
       "      <th>founded_at</th>\n",
       "      <th>founded_month</th>\n",
       "      <th>founded_quarter</th>\n",
       "      <th>founded_year</th>\n",
       "      <th>first_funding_at</th>\n",
       "      <th>last_funding_at</th>\n",
       "      <th>Unnamed: 18</th>\n",
       "    </tr>\n",
       "  </thead>\n",
       "  <tbody>\n",
       "    <tr>\n",
       "      <th>0</th>\n",
       "      <td>/organization/canal-do-credito</td>\n",
       "      <td>Canal do Credito</td>\n",
       "      <td>http://www.canaldocredito.com.br</td>\n",
       "      <td>|Credit|Technology|Services|Finance|</td>\n",
       "      <td>Credit</td>\n",
       "      <td>750,000</td>\n",
       "      <td>NaN</td>\n",
       "      <td>BRA</td>\n",
       "      <td>NaN</td>\n",
       "      <td>Rio de Janeiro</td>\n",
       "      <td>Belo Horizonte</td>\n",
       "      <td>1</td>\n",
       "      <td>NaN</td>\n",
       "      <td>NaN</td>\n",
       "      <td>NaN</td>\n",
       "      <td>NaN</td>\n",
       "      <td>1/1/10</td>\n",
       "      <td>1/1/10</td>\n",
       "      <td>NaN</td>\n",
       "    </tr>\n",
       "    <tr>\n",
       "      <th>1</th>\n",
       "      <td>/organization/waywire</td>\n",
       "      <td>#waywire</td>\n",
       "      <td>http://www.waywire.com</td>\n",
       "      <td>|Entertainment|Politics|Social Media|News|</td>\n",
       "      <td>Entertainment</td>\n",
       "      <td>1,750,000</td>\n",
       "      <td>acquired</td>\n",
       "      <td>USA</td>\n",
       "      <td>NY</td>\n",
       "      <td>New York City</td>\n",
       "      <td>New York</td>\n",
       "      <td>1</td>\n",
       "      <td>6/1/12</td>\n",
       "      <td>2012-06</td>\n",
       "      <td>2012-Q2</td>\n",
       "      <td>2012.0</td>\n",
       "      <td>6/30/12</td>\n",
       "      <td>6/30/12</td>\n",
       "      <td>NaN</td>\n",
       "    </tr>\n",
       "    <tr>\n",
       "      <th>2</th>\n",
       "      <td>/organization/tv-communications</td>\n",
       "      <td>&amp;TV Communications</td>\n",
       "      <td>http://enjoyandtv.com</td>\n",
       "      <td>|Games|</td>\n",
       "      <td>Games</td>\n",
       "      <td>4,000,000</td>\n",
       "      <td>operating</td>\n",
       "      <td>USA</td>\n",
       "      <td>CA</td>\n",
       "      <td>Los Angeles</td>\n",
       "      <td>Los Angeles</td>\n",
       "      <td>2</td>\n",
       "      <td>NaN</td>\n",
       "      <td>NaN</td>\n",
       "      <td>NaN</td>\n",
       "      <td>NaN</td>\n",
       "      <td>6/4/10</td>\n",
       "      <td>9/23/10</td>\n",
       "      <td>NaN</td>\n",
       "    </tr>\n",
       "    <tr>\n",
       "      <th>3</th>\n",
       "      <td>/organization/rock-your-paper</td>\n",
       "      <td>'Rock' Your Paper</td>\n",
       "      <td>http://www.rockyourpaper.org</td>\n",
       "      <td>|Publishing|Education|</td>\n",
       "      <td>Education</td>\n",
       "      <td>40,000</td>\n",
       "      <td>operating</td>\n",
       "      <td>EST</td>\n",
       "      <td>NaN</td>\n",
       "      <td>Tallinn</td>\n",
       "      <td>Tallinn</td>\n",
       "      <td>1</td>\n",
       "      <td>10/26/12</td>\n",
       "      <td>2012-10</td>\n",
       "      <td>2012-Q4</td>\n",
       "      <td>2012.0</td>\n",
       "      <td>8/9/12</td>\n",
       "      <td>8/9/12</td>\n",
       "      <td>NaN</td>\n",
       "    </tr>\n",
       "    <tr>\n",
       "      <th>4</th>\n",
       "      <td>/organization/in-touch-network</td>\n",
       "      <td>(In)Touch Network</td>\n",
       "      <td>http://www.InTouchNetwork.com</td>\n",
       "      <td>|Electronics|Guides|Coffee|Restaurants|Music|i...</td>\n",
       "      <td>Apps</td>\n",
       "      <td>1,500,000</td>\n",
       "      <td>operating</td>\n",
       "      <td>GBR</td>\n",
       "      <td>NaN</td>\n",
       "      <td>London</td>\n",
       "      <td>London</td>\n",
       "      <td>1</td>\n",
       "      <td>4/1/11</td>\n",
       "      <td>2011-04</td>\n",
       "      <td>2011-Q2</td>\n",
       "      <td>2011.0</td>\n",
       "      <td>4/1/11</td>\n",
       "      <td>4/1/11</td>\n",
       "      <td>NaN</td>\n",
       "    </tr>\n",
       "  </tbody>\n",
       "</table>\n",
       "</div>"
      ],
      "text/plain": [
       "                         permalink                name  \\\n",
       "0   /organization/canal-do-credito    Canal do Credito   \n",
       "1            /organization/waywire            #waywire   \n",
       "2  /organization/tv-communications  &TV Communications   \n",
       "3    /organization/rock-your-paper   'Rock' Your Paper   \n",
       "4   /organization/in-touch-network   (In)Touch Network   \n",
       "\n",
       "                       homepage_url  \\\n",
       "0  http://www.canaldocredito.com.br   \n",
       "1            http://www.waywire.com   \n",
       "2             http://enjoyandtv.com   \n",
       "3      http://www.rockyourpaper.org   \n",
       "4     http://www.InTouchNetwork.com   \n",
       "\n",
       "                                       category_list          market   \\\n",
       "0               |Credit|Technology|Services|Finance|          Credit    \n",
       "1         |Entertainment|Politics|Social Media|News|   Entertainment    \n",
       "2                                            |Games|           Games    \n",
       "3                             |Publishing|Education|       Education    \n",
       "4  |Electronics|Guides|Coffee|Restaurants|Music|i...            Apps    \n",
       "\n",
       "   funding_total_usd      status country_code state_code          region  \\\n",
       "0            750,000         NaN          BRA        NaN  Rio de Janeiro   \n",
       "1          1,750,000    acquired          USA         NY   New York City   \n",
       "2          4,000,000   operating          USA         CA     Los Angeles   \n",
       "3             40,000   operating          EST        NaN         Tallinn   \n",
       "4          1,500,000   operating          GBR        NaN          London   \n",
       "\n",
       "             city  funding_rounds founded_at founded_month founded_quarter  \\\n",
       "0  Belo Horizonte               1        NaN           NaN             NaN   \n",
       "1        New York               1     6/1/12       2012-06         2012-Q2   \n",
       "2     Los Angeles               2        NaN           NaN             NaN   \n",
       "3         Tallinn               1   10/26/12       2012-10         2012-Q4   \n",
       "4          London               1     4/1/11       2011-04         2011-Q2   \n",
       "\n",
       "   founded_year first_funding_at last_funding_at  Unnamed: 18  \n",
       "0           NaN           1/1/10          1/1/10          NaN  \n",
       "1        2012.0          6/30/12         6/30/12          NaN  \n",
       "2           NaN           6/4/10         9/23/10          NaN  \n",
       "3        2012.0           8/9/12          8/9/12          NaN  \n",
       "4        2011.0           4/1/11          4/1/11          NaN  "
      ]
     },
     "execution_count": 3,
     "metadata": {},
     "output_type": "execute_result"
    }
   ],
   "source": [
    "df.head()"
   ]
  },
  {
   "cell_type": "markdown",
   "metadata": {},
   "source": [
    "#### 1. Clean the data. Use .apply and lambda functions where you can"
   ]
  },
  {
   "cell_type": "code",
   "execution_count": 4,
   "metadata": {
    "collapsed": false
   },
   "outputs": [
    {
     "name": "stdout",
     "output_type": "stream",
     "text": [
      "['permalink', 'name', 'homepageurl', 'categorylist', 'market', 'fundingtotalusd', 'status', 'countrycode', 'statecode', 'region', 'city', 'fundingrounds', 'foundedat', 'foundedmonth', 'foundedquarter', 'foundedyear', 'firstfundingat', 'lastfundingat', 'Unnamed:18']\n"
     ]
    },
    {
     "data": {
      "text/html": [
       "<div>\n",
       "<table border=\"1\" class=\"dataframe\">\n",
       "  <thead>\n",
       "    <tr style=\"text-align: right;\">\n",
       "      <th></th>\n",
       "      <th>permalink</th>\n",
       "      <th>name</th>\n",
       "      <th>homepageurl</th>\n",
       "      <th>categorylist</th>\n",
       "      <th>market</th>\n",
       "      <th>fundingtotalusd</th>\n",
       "      <th>status</th>\n",
       "      <th>countrycode</th>\n",
       "      <th>statecode</th>\n",
       "      <th>region</th>\n",
       "      <th>city</th>\n",
       "      <th>fundingrounds</th>\n",
       "      <th>foundedat</th>\n",
       "      <th>foundedmonth</th>\n",
       "      <th>foundedquarter</th>\n",
       "      <th>foundedyear</th>\n",
       "      <th>firstfundingat</th>\n",
       "      <th>lastfundingat</th>\n",
       "      <th>Unnamed:18</th>\n",
       "    </tr>\n",
       "  </thead>\n",
       "  <tbody>\n",
       "    <tr>\n",
       "      <th>0</th>\n",
       "      <td>/organization/canal-do-credito</td>\n",
       "      <td>Canal do Credito</td>\n",
       "      <td>http://www.canaldocredito.com.br</td>\n",
       "      <td>|Credit|Technology|Services|Finance|</td>\n",
       "      <td>Credit</td>\n",
       "      <td>750,000</td>\n",
       "      <td>NaN</td>\n",
       "      <td>BRA</td>\n",
       "      <td>NaN</td>\n",
       "      <td>Rio de Janeiro</td>\n",
       "      <td>Belo Horizonte</td>\n",
       "      <td>1</td>\n",
       "      <td>NaN</td>\n",
       "      <td>NaN</td>\n",
       "      <td>NaN</td>\n",
       "      <td>NaN</td>\n",
       "      <td>1/1/10</td>\n",
       "      <td>1/1/10</td>\n",
       "      <td>NaN</td>\n",
       "    </tr>\n",
       "    <tr>\n",
       "      <th>1</th>\n",
       "      <td>/organization/waywire</td>\n",
       "      <td>#waywire</td>\n",
       "      <td>http://www.waywire.com</td>\n",
       "      <td>|Entertainment|Politics|Social Media|News|</td>\n",
       "      <td>Entertainment</td>\n",
       "      <td>1,750,000</td>\n",
       "      <td>acquired</td>\n",
       "      <td>USA</td>\n",
       "      <td>NY</td>\n",
       "      <td>New York City</td>\n",
       "      <td>New York</td>\n",
       "      <td>1</td>\n",
       "      <td>6/1/12</td>\n",
       "      <td>2012-06</td>\n",
       "      <td>2012-Q2</td>\n",
       "      <td>2012.0</td>\n",
       "      <td>6/30/12</td>\n",
       "      <td>6/30/12</td>\n",
       "      <td>NaN</td>\n",
       "    </tr>\n",
       "    <tr>\n",
       "      <th>2</th>\n",
       "      <td>/organization/tv-communications</td>\n",
       "      <td>&amp;TV Communications</td>\n",
       "      <td>http://enjoyandtv.com</td>\n",
       "      <td>|Games|</td>\n",
       "      <td>Games</td>\n",
       "      <td>4,000,000</td>\n",
       "      <td>operating</td>\n",
       "      <td>USA</td>\n",
       "      <td>CA</td>\n",
       "      <td>Los Angeles</td>\n",
       "      <td>Los Angeles</td>\n",
       "      <td>2</td>\n",
       "      <td>NaN</td>\n",
       "      <td>NaN</td>\n",
       "      <td>NaN</td>\n",
       "      <td>NaN</td>\n",
       "      <td>6/4/10</td>\n",
       "      <td>9/23/10</td>\n",
       "      <td>NaN</td>\n",
       "    </tr>\n",
       "    <tr>\n",
       "      <th>3</th>\n",
       "      <td>/organization/rock-your-paper</td>\n",
       "      <td>'Rock' Your Paper</td>\n",
       "      <td>http://www.rockyourpaper.org</td>\n",
       "      <td>|Publishing|Education|</td>\n",
       "      <td>Education</td>\n",
       "      <td>40,000</td>\n",
       "      <td>operating</td>\n",
       "      <td>EST</td>\n",
       "      <td>NaN</td>\n",
       "      <td>Tallinn</td>\n",
       "      <td>Tallinn</td>\n",
       "      <td>1</td>\n",
       "      <td>10/26/12</td>\n",
       "      <td>2012-10</td>\n",
       "      <td>2012-Q4</td>\n",
       "      <td>2012.0</td>\n",
       "      <td>8/9/12</td>\n",
       "      <td>8/9/12</td>\n",
       "      <td>NaN</td>\n",
       "    </tr>\n",
       "    <tr>\n",
       "      <th>4</th>\n",
       "      <td>/organization/in-touch-network</td>\n",
       "      <td>(In)Touch Network</td>\n",
       "      <td>http://www.InTouchNetwork.com</td>\n",
       "      <td>|Electronics|Guides|Coffee|Restaurants|Music|i...</td>\n",
       "      <td>Apps</td>\n",
       "      <td>1,500,000</td>\n",
       "      <td>operating</td>\n",
       "      <td>GBR</td>\n",
       "      <td>NaN</td>\n",
       "      <td>London</td>\n",
       "      <td>London</td>\n",
       "      <td>1</td>\n",
       "      <td>4/1/11</td>\n",
       "      <td>2011-04</td>\n",
       "      <td>2011-Q2</td>\n",
       "      <td>2011.0</td>\n",
       "      <td>4/1/11</td>\n",
       "      <td>4/1/11</td>\n",
       "      <td>NaN</td>\n",
       "    </tr>\n",
       "  </tbody>\n",
       "</table>\n",
       "</div>"
      ],
      "text/plain": [
       "                         permalink                name  \\\n",
       "0   /organization/canal-do-credito    Canal do Credito   \n",
       "1            /organization/waywire            #waywire   \n",
       "2  /organization/tv-communications  &TV Communications   \n",
       "3    /organization/rock-your-paper   'Rock' Your Paper   \n",
       "4   /organization/in-touch-network   (In)Touch Network   \n",
       "\n",
       "                        homepageurl  \\\n",
       "0  http://www.canaldocredito.com.br   \n",
       "1            http://www.waywire.com   \n",
       "2             http://enjoyandtv.com   \n",
       "3      http://www.rockyourpaper.org   \n",
       "4     http://www.InTouchNetwork.com   \n",
       "\n",
       "                                        categorylist           market  \\\n",
       "0               |Credit|Technology|Services|Finance|          Credit    \n",
       "1         |Entertainment|Politics|Social Media|News|   Entertainment    \n",
       "2                                            |Games|           Games    \n",
       "3                             |Publishing|Education|       Education    \n",
       "4  |Electronics|Guides|Coffee|Restaurants|Music|i...            Apps    \n",
       "\n",
       "  fundingtotalusd     status countrycode statecode          region  \\\n",
       "0        750,000         NaN         BRA       NaN  Rio de Janeiro   \n",
       "1      1,750,000    acquired         USA        NY   New York City   \n",
       "2      4,000,000   operating         USA        CA     Los Angeles   \n",
       "3         40,000   operating         EST       NaN         Tallinn   \n",
       "4      1,500,000   operating         GBR       NaN          London   \n",
       "\n",
       "             city  fundingrounds foundedat foundedmonth foundedquarter  \\\n",
       "0  Belo Horizonte              1       NaN          NaN            NaN   \n",
       "1        New York              1    6/1/12      2012-06        2012-Q2   \n",
       "2     Los Angeles              2       NaN          NaN            NaN   \n",
       "3         Tallinn              1  10/26/12      2012-10        2012-Q4   \n",
       "4          London              1    4/1/11      2011-04        2011-Q2   \n",
       "\n",
       "   foundedyear firstfundingat lastfundingat  Unnamed:18  \n",
       "0          NaN         1/1/10        1/1/10         NaN  \n",
       "1       2012.0        6/30/12       6/30/12         NaN  \n",
       "2          NaN         6/4/10       9/23/10         NaN  \n",
       "3       2012.0         8/9/12        8/9/12         NaN  \n",
       "4       2011.0         4/1/11        4/1/11         NaN  "
      ]
     },
     "execution_count": 4,
     "metadata": {},
     "output_type": "execute_result"
    }
   ],
   "source": [
    "nuList=[]\n",
    "nueList=[]\n",
    "for i in range(len(df.columns)):\n",
    "    stringer1 = ''\n",
    "    stringer2 = ''\n",
    "    x = df.columns[i].split(' ') #and df.columns[i].split('_')\n",
    "    for j in range(len(x)):\n",
    "        if x[j] != '':\n",
    "            stringer1 = stringer1+x[j]\n",
    "    nuList.append(stringer1)\n",
    "    y = nuList[i].split('_')\n",
    "    for k in range(len(y)):\n",
    "        stringer2=stringer2+y[k]\n",
    "    nueList.append(stringer2)\n",
    "print nueList\n",
    "df.columns = nueList\n",
    "df.head()"
   ]
  },
  {
   "cell_type": "code",
   "execution_count": 5,
   "metadata": {
    "collapsed": false
   },
   "outputs": [],
   "source": [
    "# convert the funding, year founded, and funding_rounds columns to integers\n",
    "df['fundingtotalusd'] = df['fundingtotalusd'].apply(lambda x: x.replace(',',''))\n",
    "df['fundingtotalusd'] = df['fundingtotalusd'].apply(lambda x: x.strip(' '))\n",
    "df['fundingtotalusd'] = df['fundingtotalusd'].apply(lambda x: x.replace('-','0'))\n",
    "df['fundingtotalusd'] = df['fundingtotalusd'].apply(lambda x: int(x))"
   ]
  },
  {
   "cell_type": "code",
   "execution_count": 6,
   "metadata": {
    "collapsed": false
   },
   "outputs": [
    {
     "data": {
      "text/plain": [
       "numpy.int64"
      ]
     },
     "execution_count": 6,
     "metadata": {},
     "output_type": "execute_result"
    }
   ],
   "source": [
    "type(df['fundingtotalusd'][3])"
   ]
  },
  {
   "cell_type": "code",
   "execution_count": null,
   "metadata": {
    "collapsed": true
   },
   "outputs": [],
   "source": [
    "# convert category_list so that each cell is a list of categories\n"
   ]
  },
  {
   "cell_type": "code",
   "execution_count": null,
   "metadata": {
    "collapsed": true
   },
   "outputs": [],
   "source": [
    "# use value_counts on market, status, and country_code to check for any repeats or misnamed entries"
   ]
  },
  {
   "cell_type": "code",
   "execution_count": null,
   "metadata": {
    "collapsed": true
   },
   "outputs": [],
   "source": [
    "# BONUS: convert the date columns to appropriate datetime objects"
   ]
  },
  {
   "cell_type": "markdown",
   "metadata": {},
   "source": [
    "#### 2. Using isnull(), take a subset of the dataframe that has no founded at date"
   ]
  },
  {
   "cell_type": "code",
   "execution_count": null,
   "metadata": {
    "collapsed": true
   },
   "outputs": [],
   "source": []
  },
  {
   "cell_type": "markdown",
   "metadata": {},
   "source": [
    "#### 3. Create a new column, founded_year_x, that's a copy of founded_year. Then, replace all the missing values with either the mean , mode, or median of that column. \n",
    "Add a note explaining which statistic you picked and why:"
   ]
  },
  {
   "cell_type": "code",
   "execution_count": null,
   "metadata": {
    "collapsed": true
   },
   "outputs": [],
   "source": []
  },
  {
   "cell_type": "markdown",
   "metadata": {
    "collapsed": true
   },
   "source": [
    "#### 4. Take a subset of US-based companies using boolean selection"
   ]
  },
  {
   "cell_type": "code",
   "execution_count": null,
   "metadata": {
    "collapsed": false
   },
   "outputs": [],
   "source": []
  },
  {
   "cell_type": "markdown",
   "metadata": {},
   "source": [
    "#### 5. Create a pivot table showing total, mean, and median funding amount by year"
   ]
  },
  {
   "cell_type": "code",
   "execution_count": null,
   "metadata": {
    "collapsed": true
   },
   "outputs": [],
   "source": []
  },
  {
   "cell_type": "markdown",
   "metadata": {},
   "source": [
    "#### 6. Create a pivot table showing total, mean and median funding amount by market"
   ]
  },
  {
   "cell_type": "code",
   "execution_count": null,
   "metadata": {
    "collapsed": true
   },
   "outputs": [],
   "source": []
  },
  {
   "cell_type": "markdown",
   "metadata": {},
   "source": [
    "#### 7. CHALLENGE: Using matplotlib, create a scatter plot showing funding amount on the y-axis, and first_funding_date on the x-axis\n",
    "(first_funding_date will need to be a timestamp)"
   ]
  },
  {
   "cell_type": "code",
   "execution_count": null,
   "metadata": {
    "collapsed": true
   },
   "outputs": [],
   "source": []
  },
  {
   "cell_type": "markdown",
   "metadata": {},
   "source": [
    "#### 8. Here's the fun part. Create a hypothesis based on your data that you can reasonably test. \n",
    "For example: \"Credit companies based in the US that only get 1 round of funding tend to receive more funding than companies based outside the US\"\n",
    "\n",
    "\n",
    "\n",
    "When you have your hypothesis, write it below, and Slack it to the instructors so we can check in. "
   ]
  },
  {
   "cell_type": "code",
   "execution_count": null,
   "metadata": {
    "collapsed": true
   },
   "outputs": [],
   "source": []
  },
  {
   "cell_type": "markdown",
   "metadata": {},
   "source": [
    "#### 9. Test your hypothesis. \n",
    "\n",
    "You'll need to evaluate your hypothesis using a t-test (see Monday's lecture 1.3), so make sure you have enough data compare samples. If your original hypothesis is too narrow, you may need to broaden the scope."
   ]
  },
  {
   "cell_type": "code",
   "execution_count": null,
   "metadata": {
    "collapsed": true
   },
   "outputs": [],
   "source": []
  },
  {
   "cell_type": "markdown",
   "metadata": {},
   "source": [
    "#### 10. CHALLENGE\n",
    "- Plot the distribution of both samples\n",
    "- Explain your results in one short sentence. \n",
    "- Explain your result in a slighly longer technical paragraph, touching on the statistics you presented. \n",
    "- Subset your findings: if you looked at a certain market in a certain geography, break it down by another variable (e.g number of funding rounds) and compare those samples. "
   ]
  },
  {
   "cell_type": "code",
   "execution_count": null,
   "metadata": {
    "collapsed": true
   },
   "outputs": [],
   "source": []
  }
 ],
 "metadata": {
  "kernelspec": {
   "display_name": "Python 2",
   "language": "python",
   "name": "python2"
  },
  "language_info": {
   "codemirror_mode": {
    "name": "ipython",
    "version": 2
   },
   "file_extension": ".py",
   "mimetype": "text/x-python",
   "name": "python",
   "nbconvert_exporter": "python",
   "pygments_lexer": "ipython2",
   "version": "2.7.11"
  }
 },
 "nbformat": 4,
 "nbformat_minor": 0
}
