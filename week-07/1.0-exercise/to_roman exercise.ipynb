{
 "cells": [
  {
   "cell_type": "code",
   "execution_count": 42,
   "metadata": {
    "collapsed": false
   },
   "outputs": [
    {
     "data": {
      "text/plain": [
       "7"
      ]
     },
     "execution_count": 42,
     "metadata": {},
     "output_type": "execute_result"
    }
   ],
   "source": [
    "x=776\n",
    "y = str(x)\n",
    "z = [a for a in y]\n",
    "len"
   ]
  },
  {
   "cell_type": "code",
   "execution_count": 54,
   "metadata": {
    "collapsed": false
   },
   "outputs": [],
   "source": [
    "def to_roman(number1):\n",
    "    newnum=[]\n",
    "    x = str(number1)\n",
    "    singnumdict = {'0':'', '1':'I', '2':'II', '3':'III', '4':'IV', '5':'V', '6':'VI', '7':'VII','8':'VIII', '9':'IX'}\n",
    "    tennumdict = {'0':'', '1':'X', '2':'XX', '3':'XXX', '4':'XL', '5':'L', '6':'LX', '7':'LXX', '8':'LXXX', '9':'XC'}\n",
    "    hunnumdict = {'0':'', '1':'C', '2':'CC', '3':'CCC', '4':'CD', '5':'D', '6':'DC', '7':'DCC', '8':'DCCC', '9':'CM'}\n",
    "    for a in range(len(x)):\n",
    "        if len(x) == 3:\n",
    "            for b in range(len(x)):\n",
    "                newnum.append(hunnumdict[x[0]])\n",
    "                newnum.append(tennumdict[x[1]])\n",
    "                newnum.append(singnumdict[x[2]])\n",
    "        elif len(x) == 2:\n",
    "            for b in range(len(x)):\n",
    "                newnum.append(tennumdict[x[0]])\n",
    "                newnum.append(singnumdict[x[1]])\n",
    "        elif len(x) == 1:\n",
    "            newnum.append(singnumdict[0])\n",
    "        else:\n",
    "            newnum.append('M')\n",
    "    newnumber = newnum[0]+newnum[1]+newnum[2]\n",
    "    return newnumber"
   ]
  },
  {
   "cell_type": "code",
   "execution_count": 56,
   "metadata": {
    "collapsed": false
   },
   "outputs": [
    {
     "data": {
      "text/plain": [
       "'XXIIXX'"
      ]
     },
     "execution_count": 56,
     "metadata": {},
     "output_type": "execute_result"
    }
   ],
   "source": [
    "to_roman(22)"
   ]
  },
  {
   "cell_type": "code",
   "execution_count": 89,
   "metadata": {
    "collapsed": true
   },
   "outputs": [],
   "source": [
    "def to_roman(number1):\n",
    "    newnum=[]\n",
    "    x = str(number1)\n",
    "    singnumdict = {'0':'', '1':'I', '2':'II', '3':'III', '4':'IV', '5':'V', '6':'VI', '7':'VII','8':'VIII', '9':'IX'}\n",
    "    tennumdict = {'0':'', '1':'X', '2':'XX', '3':'XXX', '4':'XL', '5':'L', '6':'LX', '7':'LXX', '8':'LXXX', '9':'XC'}\n",
    "    hunnumdict = {'0':'', '1':'C', '2':'CC', '3':'CCC', '4':'CD', '5':'D', '6':'DC', '7':'DCC', '8':'DCCC', '9':'CM'}\n",
    "    if len(x) == 3:\n",
    "            newnum.append(hunnumdict[x[0]])\n",
    "            newnum.append(tennumdict[x[1]])\n",
    "            newnum.append(singnumdict[x[2]])\n",
    "            newnumber = newnum[0]+newnum[1]+newnum[2]\n",
    "    elif len(x) == 2:\n",
    "            newnum.append(tennumdict[x[0]])\n",
    "            newnum.append(singnumdict[x[1]])\n",
    "            newnumber = newnum[0]+newnum[1]\n",
    "    elif len(x) == 1:\n",
    "        newnum.append(singnumdict[x[0]])\n",
    "        newnumber = newnum[0]\n",
    "    else:\n",
    "        newnum.append('M')\n",
    "        newnumber = newnum[0]\n",
    "    return newnumber"
   ]
  },
  {
   "cell_type": "code",
   "execution_count": 90,
   "metadata": {
    "collapsed": false
   },
   "outputs": [
    {
     "data": {
      "text/plain": [
       "'IX'"
      ]
     },
     "execution_count": 90,
     "metadata": {},
     "output_type": "execute_result"
    }
   ],
   "source": [
    "to_roman(9)"
   ]
  },
  {
   "cell_type": "code",
   "execution_count": 93,
   "metadata": {
    "collapsed": false
   },
   "outputs": [
    {
     "name": "stdout",
     "output_type": "stream",
     "text": [
      "Enter an integer (1 to 4999): 199\n",
      "CXCIX\n"
     ]
    }
   ],
   "source": [
    "def to_roman(number):\n",
    "    numerals = { 1 : \"I\", 4 : \"IV\", 5 : \"V\", 9 : \"IX\", 10 : \"X\", 40 : \"XL\", \n",
    "        50 : \"L\", 90 : \"XC\", 100 : \"C\", 400 : \"CD\", 500 : \"D\", 900 : \"CM\", 1000 : \"M\" }\n",
    "    result = \"\"\n",
    "    for value, numeral in sorted(numerals.items(), reverse=True):\n",
    "        while number >= value:\n",
    "            result += numeral\n",
    "            number -= value\n",
    "    return result\n",
    "print to_roman(input(\"Enter an integer (1 to 4999): \"))"
   ]
  },
  {
   "cell_type": "code",
   "execution_count": null,
   "metadata": {
    "collapsed": true
   },
   "outputs": [],
   "source": []
  }
 ],
 "metadata": {
  "kernelspec": {
   "display_name": "Python 2",
   "language": "python",
   "name": "python2"
  },
  "language_info": {
   "codemirror_mode": {
    "name": "ipython",
    "version": 2
   },
   "file_extension": ".py",
   "mimetype": "text/x-python",
   "name": "python",
   "nbconvert_exporter": "python",
   "pygments_lexer": "ipython2",
   "version": "2.7.12"
  }
 },
 "nbformat": 4,
 "nbformat_minor": 0
}
