{
 "cells": [
  {
   "cell_type": "markdown",
   "metadata": {
    "slideshow": {
     "slide_type": "slide"
    }
   },
   "source": [
    "# ![](https://ga-dash.s3.amazonaws.com/production/assets/logo-9f88ae6c9c3871690e33280fcf557f33.png) Tuning the ARIMA Model\n",
    "Week 9 | Lesson 5.1\n"
   ]
  },
  {
   "cell_type": "markdown",
   "metadata": {
    "slideshow": {
     "slide_type": "slide"
    }
   },
   "source": [
    "\n",
    "### LEARNING OBJECTIVES\n",
    "*After this lesson, you will be able to:*\n",
    "- Incorporate seasonal factors into the ARIMA model\n",
    "- Demonstrate the use of differencing in analysing time series data\n",
    "\n",
    "Also:\n",
    "- Set up, enter and exit a conda environment\n"
   ]
  },
  {
   "cell_type": "markdown",
   "metadata": {
    "slideshow": {
     "slide_type": "slide"
    }
   },
   "source": [
    "### Mini installfestivus - virtual environments\n",
    "\n",
    "For this lesson and lab, we'll use the development version of `statsmodels` (>= 0.8) in a `conda env`, so we can access SARIMA and other in-development features.\n",
    "\n",
    "We'll install this in a new conda environment so it doesn't interfere with workflow outside this lesson.\n",
    "\n",
    "```bash\n",
    "conda create -n statsmodeldevenv python=2.7 pandas numpy scipy ipython jupyter patsy cython matplotlib\n",
    "source activate statsmodeldevenv\n",
    "git clone git://github.com/statsmodels/statsmodels.git\n",
    "cd statsmodels/\n",
    "python setup.py install\n",
    "conda list\n",
    "```\n",
    "\n",
    "You should see version 0.8.0+ of `statsmodels` listed.\n"
   ]
  },
  {
   "cell_type": "markdown",
   "metadata": {
    "slideshow": {
     "slide_type": "slide"
    }
   },
   "source": [
    "```bash\n",
    "ipython kernelspec install-self --user\n",
    "mkdir -p ~/.ipython/kernels\n",
    "mv ~/.local/share/jupyter/kernels/python2 ~/.ipython/kernels/<kernel_name>\n",
    "```\n",
    "\n",
    "Then open `~/.ipython/kernels/<kernel_name>/kernel.json` in a text editor and change the JSON key called `display_name`.\n",
    " \n",
    "(Directions from http://help.pythonanywhere.com/pages/IPythonNotebookVirtualenvs)"
   ]
  },
  {
   "cell_type": "markdown",
   "metadata": {
    "slideshow": {
     "slide_type": "slide"
    }
   },
   "source": [
    "### LESSON GUIDE\n",
    "| TIMING  | TYPE  | TOPIC  |\n",
    "|:-:|---|---|\n",
    "| 10 min  | [Opening](#opening)  | Opening - Time series review |\n",
    "| 15 min  | [Introduction](#seasonalarima)   | Seasonal ARIMA  |\n",
    "| 10 min  | [Discussion](#acf)   | ACF/PACF Usage  | \n",
    "| 15 min  | [Codealong](#eda)   | European Retail Trade Data EDA  |\n",
    "| 15 min  | [Codealong](#model)   | European Retail Trade Data Modeling  |\n",
    "| 10 min  | [Introduction](#intro-box)   | The Ljung-Box Test  |\n",
    "| 25 min  | [Demo](#practice)  | Tuning SARIMA  |\n",
    "| 10 min  | [Codealong](#predictions)  | Predictions  |\n",
    "| 10 min  | [Conclusion](#conclusion)  | Topic description  |\n",
    "\n",
    "---\n",
    "\n"
   ]
  },
  {
   "cell_type": "markdown",
   "metadata": {
    "slideshow": {
     "slide_type": "slide"
    }
   },
   "source": [
    "<a name=\"opening\"></a>\n",
    "## Opening - time series recap (10 mins)\n",
    "\n",
    "What are the components of a time series?"
   ]
  },
  {
   "cell_type": "markdown",
   "metadata": {
    "slideshow": {
     "slide_type": "slide"
    }
   },
   "source": [
    "![](./assets/images/elecequip_trend.png)\n",
    "\n",
    "(From https://www.otexts.org/fpp/6/1)"
   ]
  },
  {
   "cell_type": "markdown",
   "metadata": {
    "slideshow": {
     "slide_type": "slide"
    }
   },
   "source": [
    "![](./assets/images/elecequip_stl.png)"
   ]
  },
  {
   "cell_type": "markdown",
   "metadata": {
    "slideshow": {
     "slide_type": "slide"
    }
   },
   "source": [
    "What is stationarity and why does it matter? Which of these time series are stationary?\n",
    "\n",
    "![](./assets/images/stationary.png)"
   ]
  },
  {
   "cell_type": "markdown",
   "metadata": {
    "slideshow": {
     "slide_type": "slide"
    }
   },
   "source": [
    "We can transform a series into stationarity by decomposing it into trend and seasonality, either with an additive or multiplicative model.\n",
    "\n",
    "With an additive model:\n",
    "\n",
    "$$\\hat E = Y_t - \\hat T_t - \\hat S_t$$\n",
    "\n",
    "With multiplicative:\n",
    "\n",
    "$$\\hat E = Y_t * (\\hat T_t * \\hat S_t)$$\n",
    "\n",
    "> Check: how did we calculate the trend component?\n"
   ]
  },
  {
   "cell_type": "markdown",
   "metadata": {
    "slideshow": {
     "slide_type": "slide"
    }
   },
   "source": [
    "Calculating a seasonal component is similarly straightforward:\n",
    "\n",
    "![](./assets/images/elecequip3.png)"
   ]
  },
  {
   "cell_type": "markdown",
   "metadata": {
    "slideshow": {
     "slide_type": "slide"
    }
   },
   "source": [
    "In a moment, we'll look at a S(easonal)ARIMA model that takes seasonality into account. First, a quick review of ARIMA:\n",
    "\n",
    "AR:\n",
    "$$y_i = c + \\beta_1 * y_(i-1) + \\beta_2 * y_(i-2)\\ +\\ ...\\ +\\ \\beta_p * y_(i-p)\\ +\\ \\epsilon$$\n",
    "\n",
    "MA:\n",
    "$$y_i = mean + \\beta_1 * \\epsilon_i + ... \\beta_q * \\epsilon_q$$\n",
    "\n",
    "ARIMA:\n",
    "$$y_t - y_{(t-1)} = ARMA(p, q)$$\n",
    "\n",
    "> Check: intuitively, what are each of these models leveraging?"
   ]
  },
  {
   "cell_type": "markdown",
   "metadata": {
    "slideshow": {
     "slide_type": "slide"
    }
   },
   "source": [
    "<a name=\"seasonalarima\"></a>\n",
    "## Introduction: Seasonal ARIMA (10 mins)\n",
    "\n",
    "The Seasonal ARIMA model combines the Non-Seasonal ARIMA with Seasonal factors in a _multiplicative model_. This model assumes that as the data increase, so does the seasonal pattern. Most time series plots exhibit such a pattern. In this model, the trend and seasonal components are multiplied and then added to the error component.\n",
    "\n",
    "![Seasonal Arima Model](./assets/images/sarima1.png)"
   ]
  },
  {
   "cell_type": "markdown",
   "metadata": {
    "slideshow": {
     "slide_type": "slide"
    }
   },
   "source": [
    "- _p_ = non-seasonal AR order\n",
    "- _d_ = non-seasonal differencing\n",
    "- _q_ = non-seasonal MA order\n",
    "- _P_ = seasonal AR order\n",
    "- _D_ = seasonal differencing\n",
    "- _Q_ = seasonal MA order\n",
    "- _m_ = number of periods per season\n",
    "\n",
    "In identifying a seasonal model, the first step is to determine whether or not a seasonal difference is needed. We can do that by investigating the ACF and PACF graphs for our data."
   ]
  },
  {
   "cell_type": "markdown",
   "metadata": {
    "slideshow": {
     "slide_type": "slide"
    }
   },
   "source": [
    "### PCF plots\n",
    "\n",
    "- \"In general, the \"partial\" correlation between two variables is the amount of correlation between them which is not explained by their mutual correlations with a specified set of other variables.\"\n",
    "- \"...A partial autocorrelation is the amount of correlation between a variable and a lag of itself that is not explained by correlations at all lower-order-lags.\" (http://people.duke.edu/~rnau/411arim3.htm)\n",
    "\n"
   ]
  },
  {
   "cell_type": "markdown",
   "metadata": {
    "slideshow": {
     "slide_type": "slide"
    }
   },
   "source": [
    "![](./assets/images/unitsac0.gif)\n"
   ]
  },
  {
   "cell_type": "markdown",
   "metadata": {
    "slideshow": {
     "slide_type": "slide"
    }
   },
   "source": [
    "![](./assets/images/unitspa0.gif)\n"
   ]
  },
  {
   "cell_type": "markdown",
   "metadata": {
    "slideshow": {
     "slide_type": "slide"
    }
   },
   "source": [
    "<a name=\"acf\"></a>\n",
    "## Discussion: ACF/PACF Usage (10 mins)\n",
    "\n",
    "We can determine the seasonal parameters for an AR or MA model using the seasonal lags that appear in the ACF and PACF. For example, an **ARIMA(0,0,0)(0,0,1)12** model would have the following characteristics:\n",
    "\n",
    "- A spike at _k_ = 12 in the ACF, but no other significant spikes\n",
    "- Exponential decay in seasonal lags in the PACF (i.e. decay at lags 12, 24, 36, ...)\n",
    "\n",
    "By observing these characteristics, we would have deduced that _m_ = 12, and our seasonal MA order should be 1.\n",
    "\n",
    "**CHECK:** Calling on the information gained in the last lesson, why does this make sense?\n"
   ]
  },
  {
   "cell_type": "markdown",
   "metadata": {
    "slideshow": {
     "slide_type": "slide"
    }
   },
   "source": [
    "Similarly, an **ARIMA(0,0,0)(1,0,0)12** model would show the following:\n",
    "\n",
    "- A spike at _k_ = 12 in the PACF, but no other significant spikes\n",
    "- Exponential decay in seasonal lags in the ACF\n",
    "\n",
    "If the data you are investigating displays a seasonal pattern that is both _strong_ and _stable over time_ (i.e. temperatures are higher in the Summer, lower in the Winter), then it is likely that your Seasonal Difference term _D_ should be set to 1. This will prevent the seasonal pattern from \"dying out\" in the long-term forecasts. \n",
    "\n",
    "In considering the appropriate seasonal orders for an ARIMA model, focus solely on the seasonal lags. The modeling procedure is almost the same as for non-seasonal data, except that we need to select seasonal AR and MA terms as well as the non-seasonal components of the model. This process can be best illustrated using examples, so let's walk through one now.\n"
   ]
  },
  {
   "cell_type": "markdown",
   "metadata": {
    "slideshow": {
     "slide_type": "slide"
    }
   },
   "source": [
    "<a name=\"eda\"></a>\n",
    "## Codealong: European Retail Trade Data EDA (15 mins)\n",
    "\n",
    "Let's take a look at this data set, which displays European retail trade data reported quarterly from 1996-2011. To start, let's load the data into pandas and build a basic plot. (Open the [`sarima.ipynb`](./code/starter-code/w9d5_arima_tuning_lesson_sarima_practice.ipynb) notebook to follow along.)\n",
    "\n",
    "\n",
    "```python\n",
    "import pandas as pd\n",
    "%matplotlib inline\n",
    "\n",
    "df = pd.read_csv('../../assets/data/euretail.csv')\n",
    "df = df.set_index(['Year'])\n",
    "df.stack().plot()\n",
    "```\n",
    "\n"
   ]
  },
  {
   "cell_type": "markdown",
   "metadata": {
    "slideshow": {
     "slide_type": "slide"
    }
   },
   "source": [
    "![](./assets/images/euplot.png)\n",
    "\n",
    "Off the bat, what can we tell about our data? We see that our data is Non-Stationary, and there are some apparent seasonal patterns. Let's take a Seasonal Difference to see what effect that has. What should our value for _m_ be in this case?\n"
   ]
  },
  {
   "cell_type": "markdown",
   "metadata": {
    "slideshow": {
     "slide_type": "fragment"
    }
   },
   "source": [
    ">Answer: Best to start with 4, because our samples are taken quarterly\n"
   ]
  },
  {
   "cell_type": "markdown",
   "metadata": {
    "slideshow": {
     "slide_type": "slide"
    }
   },
   "source": [
    "```python\n",
    "from statsmodels.graphics.tsaplots import plot_acf, plot_pacf\n",
    "\n",
    "diff0 = df.stack().diff(periods=4)[4:]\n",
    "diff0.plot(title='European Retail Trade Differenced')\n",
    "plot_acf(diff0, lags=30)\n",
    "plot_pacf(diff0, lags=30)\n",
    "```\n"
   ]
  },
  {
   "cell_type": "markdown",
   "metadata": {
    "slideshow": {
     "slide_type": "slide"
    }
   },
   "source": [
    "![](./assets/images/eu_diff0.png)\n",
    "![](./assets/images/eu_diff0_acf.png)\n",
    "![](./assets/images/eu_diff0_pacf.png)\n",
    "\n",
    "What does this tell us, and what should we do next?\n",
    "\n",
    "\n"
   ]
  },
  {
   "cell_type": "markdown",
   "metadata": {
    "slideshow": {
     "slide_type": "fragment"
    }
   },
   "source": [
    "> Answer: The data is still non-stationary, so let's take an additional first order difference.\n"
   ]
  },
  {
   "cell_type": "markdown",
   "metadata": {
    "slideshow": {
     "slide_type": "slide"
    }
   },
   "source": [
    "```python\n",
    "diff1 = diff0.diff()[1:]\n",
    "diff1.plot(title='European Retail Trade Differenced Twice')\n",
    "plot_acf(diff1, lags=30)\n",
    "plot_pacf(diff1, lags=30)\n",
    "```\n",
    "\n",
    "![](./assets/images/eu_diff1.png)\n",
    "![](./assets/images/eu_diff1_acf.png)\n",
    "![](./assets/images/eu_diff1_pacf.png)\n",
    "\n",
    "Now we have more stationary data, and have a good idea of which values for _d_ and _D_ we want for our model."
   ]
  },
  {
   "cell_type": "markdown",
   "metadata": {
    "slideshow": {
     "slide_type": "slide"
    }
   },
   "source": [
    "<a name=\"model\"></a>\n",
    "## Codealong: European Retail Trade Data Modeling (15 mins)\n",
    "\n",
    "The next step is to find appropriate AR, MA, Seasonal AR, and Seasonal MA terms for our model. We will do this using the ACF and PACF of the doubly difference data. Our ACF shows a significant spike at lags 1 and 4. The first spike suggests a _non-seasonal_ MA(1) component, while the second spike suggests a _seasonal_ MA(1) component. \n",
    "\n",
    "Therefore, we will start with an **ARIMA(0,1,1)(0,1,1)4** model.\n",
    "\n",
    "**CHECK:** Make sure you understand the reasoning behind the choices made to populate all of the Seasonal ARIMA parameters. Can you explain each to the person sitting next to you?\n",
    "\n",
    "\n",
    "```python\n",
    "import statsmodels.api as sm\n",
    "data = df.stack().values\n",
    "model = sm.tsa.statespace.SARIMAX(data, order=(0,1,1), seasonal_order=(0,1,1,4))\n",
    "results = model.fit()\n",
    "print results.summary()\n",
    "```\n",
    "\n",
    "\n",
    "Take a moment to inspect the results summary before plotting the residuals. As we've only auditioned one model, the summary won't tell us much, but what do you see? Let's go ahead and plot the residuals and their ACF/PACF.\n",
    "\n",
    "```python\n",
    "# Don't plot the first 5 values, to account for data loss when differencing (d=1 + D=5)\n",
    "residuals = results.resid[5:]\n",
    "plt.plot(residuals)\n",
    "\n",
    "plot_acf(residuals, lags=30)\n",
    "plot_pacf(residuals, lags=30)\n",
    "```\n",
    "\n",
    "What do we see? There are significant spikes at lag 2 in both ACF and PACF, and an almost significant spike at lag 3. This indiactes that some _additional_ non-seasonal terms are needed. "
   ]
  },
  {
   "cell_type": "markdown",
   "metadata": {
    "slideshow": {
     "slide_type": "slide"
    }
   },
   "source": [
    "### AIC metric\n",
    "\n",
    "Information-based model evaluation metric, used to compare models. You want to minimize it.\n",
    "\n",
    "$$AIC =2k-2\\ln(L) $$\n",
    "\n",
    "- L is the maximum value of the likelihood function for the model\n",
    "- k is the number of estimated parameters in the model\n",
    "\n"
   ]
  },
  {
   "cell_type": "markdown",
   "metadata": {
    "slideshow": {
     "slide_type": "slide"
    }
   },
   "source": [
    "<a name=\"intro-box\"></a>\n",
    "## Introduction: The Ljung-Box Test (10 Mins)\n",
    "\n",
    "The Ljung-Box test is a type of statistical test of whether any of a group of autocorrelations of a time series are different from zero. Instead of testing randomness at each distinct lag, it tests the “overall” randomness based on a number of lags. We can use this heuristic to test the fit of our model. By using the Ljung-Box test, we can determine whether the residuals from our model have any autocorrelation.\n",
    "\n",
    "It is computed as such:\n",
    "\n",
    "![](./assets/images/box.png)\n",
    "\n",
    "\n",
    "\n",
    "\n",
    "\n"
   ]
  },
  {
   "cell_type": "markdown",
   "metadata": {
    "slideshow": {
     "slide_type": "slide"
    }
   },
   "source": [
    "Statsmodels leaves it up to the user to select the number of lags. For time series that are Non-Seasonal, it is recommended that you use _k_ = MIN(10, T/5). In other words, if your sample has over 50 observations, then your _k_ should be the number of periods divided by 5. Otherwise, use _k_ = 10.\n",
    "\n",
    "Let's evaluate the output of the Ljung-Box test by checking the p-values, which are the second results provided. If the p-value is high, we will accept the Null Hypothesis that our data is Random.\n",
    "\n",
    "```python\n",
    "from statsmodels.stats.diagnostic import acorr_ljungbox\n",
    "\n",
    "lags = min(10, len(residuals)/5)\n",
    "\n",
    "acorr_ljungbox(residuals, lags=lags)\n",
    "```\n",
    "\n",
    "What does the output tell us?\n",
    "\n"
   ]
  },
  {
   "cell_type": "markdown",
   "metadata": {
    "slideshow": {
     "slide_type": "fragment"
    }
   },
   "source": [
    "> Answer: The p-value of 0.22 at lag _k_ = 11 tells us that the residuals have no autocorrelations and are seemingly random"
   ]
  },
  {
   "cell_type": "markdown",
   "metadata": {
    "slideshow": {
     "slide_type": "slide"
    }
   },
   "source": [
    "<a name=\"practice\"></a>\n",
    "## Guided Practice: Seasonal ARIMA Tuning (25 mins)\n",
    "\n",
    "We're going to tune this further. Start testing more SARIMA models on your data! (Build on what's in your codealong notebook.)\n",
    "\n",
    "Some tips along the way:\n",
    "\n",
    "- Record your AIC values for each SARIMA model\n",
    "- Examine the ACF/PACF of your residuals. Do they resemble white noise?\n",
    "- For each model you try, add a comment as to the effect you think your tuning had\n",
    "- Try only altering one term at a time\n",
    "\n",
    "\n",
    "\n"
   ]
  },
  {
   "cell_type": "markdown",
   "metadata": {
    "slideshow": {
     "slide_type": "slide"
    }
   },
   "source": [
    "Who found the lowest AIC? Let's discuss how you got there, and what you've learned.\n"
   ]
  },
  {
   "cell_type": "markdown",
   "metadata": {
    "slideshow": {
     "slide_type": "slide"
    }
   },
   "source": [
    "<a name=\"predictions\"></a>\n",
    "## Codealong: Predictions (10 mins)\n",
    "\n",
    "Now that we've chosen a model, let's chart our predictions. We can use the built in `forecast` function to make this easy. Let's go over a quick way to view our forecast.\n",
    "\n",
    "```python\n",
    "preds = res.forecast(12)\n",
    "fcast = np.concatenate((data, preds), axis=0)\n",
    "\n",
    "plt.figure();\n",
    "plt.plot(data, 'o' , fcast, 'r--');\n",
    "```\n",
    "\n",
    "**CHECK:** Do these predictions look meaningful based on the data? How do the predictions compare to the Non-Seasonal ARIMA model?"
   ]
  },
  {
   "cell_type": "markdown",
   "metadata": {
    "slideshow": {
     "slide_type": "slide"
    }
   },
   "source": [
    "<a name=\"conclusion\"></a>\n",
    "## Conclusion (10 mins)\n",
    "\n",
    "- These models typically take months to tune.\n",
    "- The goal today was to show you where to start!\n",
    "- Eyeball your data: the original time series, decompositions, and ACF/PACFs of the series and your residuals.\n",
    "- Use AIC values as an evaluation metric.\n",
    "- Often a tuned (S)AR(I)MA model is just a start: you may want to stack it with other predictive models.\n",
    "***\n",
    "\n",
    "\n"
   ]
  },
  {
   "cell_type": "markdown",
   "metadata": {
    "slideshow": {
     "slide_type": "slide"
    }
   },
   "source": [
    "### ADDITIONAL RESOURCES\n",
    "\n",
    "- [Penn State STAT 510 SARIMA Lesson](https://onlinecourses.science.psu.edu/stat510/node/67)\n",
    "- [Duke SARIMA Lesson](http://people.duke.edu/~rnau/seasarim.htm)\n",
    "- [SARIMAX Documentation](http://www.statsmodels.org/dev/generated/statsmodels.tsa.statespace.sarimax.SARIMAX.html)\n",
    "- [Forecasting, Hyndman](https://www.otexts.org/fpp)\n",
    "- [Hyndman's blog](http://robjhyndman.com/hyndsight/forecasting/)"
   ]
  }
 ],
 "metadata": {
  "celltoolbar": "Slideshow",
  "kernelspec": {
   "display_name": "Python 2",
   "language": "python",
   "name": "python2"
  },
  "language_info": {
   "codemirror_mode": {
    "name": "ipython",
    "version": 2
   },
   "file_extension": ".py",
   "mimetype": "text/x-python",
   "name": "python",
   "nbconvert_exporter": "python",
   "pygments_lexer": "ipython2",
   "version": "2.7.12"
  }
 },
 "nbformat": 4,
 "nbformat_minor": 0
}
