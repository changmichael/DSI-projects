{
 "cells": [
  {
   "cell_type": "code",
   "execution_count": 1,
   "metadata": {
    "collapsed": true
   },
   "outputs": [],
   "source": [
    "import pandas as pd\n",
    "import random"
   ]
  },
  {
   "cell_type": "code",
   "execution_count": 2,
   "metadata": {
    "collapsed": false
   },
   "outputs": [],
   "source": [
    "# Board setup\n",
    "numRows = 3\n",
    "numCols = 3\n",
    "ticRow1=[]\n",
    "ticRow2=[]\n",
    "ticRow3=[]\n",
    "winner = 'none'\n",
    "\n",
    "for a in range(numCols):\n",
    "    ticRow1.append('-')\n",
    "    ticRow2.append('-')\n",
    "    ticRow3.append('-')\n",
    "\n",
    "def displayBoard():\n",
    "    print ticRow1\n",
    "    print ticRow2\n",
    "    print ticRow3\n",
    "    print\n",
    "    print"
   ]
  },
  {
   "cell_type": "code",
   "execution_count": 3,
   "metadata": {
    "collapsed": false
   },
   "outputs": [
    {
     "name": "stdout",
     "output_type": "stream",
     "text": [
      "['-', '-', '-']\n",
      "['-', '-', '-']\n",
      "['-', '-', '-']\n",
      "\n",
      "\n"
     ]
    }
   ],
   "source": [
    "displayBoard()"
   ]
  },
  {
   "cell_type": "code",
   "execution_count": 4,
   "metadata": {
    "collapsed": false
   },
   "outputs": [],
   "source": [
    "def playerTurn():\n",
    "    playerRow=int(raw_input('Enter coordinates for row (0-2):'))\n",
    "    playerCol=int(raw_input('Enter coordinates for col (0-2):'))\n",
    "    if playerRow <0 or playerCol<0 or playerRow>2 or playerCol>2:\n",
    "        print \"not valid input, please enter valid input\"\n",
    "        playerTurn()\n",
    "    elif playerRow == 0:\n",
    "        ticRow1[playerCol] = 'X'\n",
    "        displayBoard()\n",
    "    elif playerRow == 1:\n",
    "        ticRow2[playerCol] = 'X'\n",
    "        displayBoard()\n",
    "    elif playerRow == 2:\n",
    "        ticRow3[playerCol] = 'X'\n",
    "        displayBoard()"
   ]
  },
  {
   "cell_type": "code",
   "execution_count": 17,
   "metadata": {
    "collapsed": false
   },
   "outputs": [
    {
     "name": "stdout",
     "output_type": "stream",
     "text": [
      "Enter coordinates for row (0-2):3\n",
      "Enter coordinates for col (0-2):1\n",
      "not valid input, please enter valid input\n",
      "Enter coordinates for row (0-2):1\n",
      "Enter coordinates for col (0-2):1\n",
      "['X', 'X', 'X']\n",
      "['-', 'X', 'O']\n",
      "['-', 'O', '-']\n",
      "\n",
      "\n"
     ]
    }
   ],
   "source": [
    "playerTurn()"
   ]
  },
  {
   "cell_type": "code",
   "execution_count": null,
   "metadata": {
    "collapsed": false
   },
   "outputs": [],
   "source": []
  },
  {
   "cell_type": "code",
   "execution_count": 5,
   "metadata": {
    "collapsed": false
   },
   "outputs": [],
   "source": [
    "def computerTurn():\n",
    "    computerRow=random.randint(0,2)\n",
    "    computerCol=random.randint(0,2)\n",
    "    if computerRow == 0:\n",
    "        if ticRow1[computerCol] == '-':\n",
    "            ticRow1[computerCol] = 'O'\n",
    "            print \"Computer moves\"\n",
    "            displayBoard()\n",
    "        else:\n",
    "            computerTurn()\n",
    "    elif computerRow == 1:\n",
    "        if ticRow2[computerCol] == '-':\n",
    "            ticRow2[computerCol] = 'O'\n",
    "            displayBoard()\n",
    "        else: \n",
    "            computerTurn()\n",
    "    elif computerRow == 2:\n",
    "        if ticRow3[computerCol] == '-':\n",
    "            ticRow3[computerCol] = 'O'\n",
    "            displayBoard()\n",
    "        else:\n",
    "            computerTurn()\n",
    "    "
   ]
  },
  {
   "cell_type": "code",
   "execution_count": 7,
   "metadata": {
    "collapsed": false
   },
   "outputs": [
    {
     "name": "stdout",
     "output_type": "stream",
     "text": [
      "['X', '-', '-']\n",
      "['-', '-', '-']\n",
      "['-', 'O', '-']\n",
      "\n",
      "\n"
     ]
    }
   ],
   "source": [
    "computerTurn()"
   ]
  },
  {
   "cell_type": "code",
   "execution_count": 6,
   "metadata": {
    "collapsed": false
   },
   "outputs": [],
   "source": [
    "def winCheck():\n",
    "    if ticRow1[0]==ticRow1[1]==ticRow1[2]:\n",
    "        if ticRow1[0] == 'X':\n",
    "            winner = 'player'\n",
    "        else:\n",
    "            winner = 'computer'\n",
    "    elif ticRow2[0]==ticRow2[1]==ticRow2[2]:\n",
    "        if ticRow2[0] == 'X':\n",
    "            winner = 'player'\n",
    "        else:\n",
    "            winner = 'computer'\n",
    "    elif ticRow3[0]==ticRow3[1]==ticRow3[2]:\n",
    "        if ticRow3[0] == 'X':\n",
    "            winner = 'player'\n",
    "        else:\n",
    "            winner = 'computer'\n",
    "    elif ticRow1[0]==ticRow2[0]==ticRow3[0]:\n",
    "        if ticRow3[0] == 'X':\n",
    "            winner = 'player'\n",
    "        else:\n",
    "            winner = 'computer'\n",
    "    elif ticRow1[1]==ticRow2[1]==ticRow3[1]:\n",
    "        if ticRow3[0] == 'X':\n",
    "            winner = 'player'\n",
    "        else:\n",
    "            winner = 'computer'\n",
    "    elif ticRow1[2]==ticRow2[2]==ticRow3[2]:\n",
    "        if ticRow3[0] == 'X':\n",
    "            winner = 'player'\n",
    "        else:\n",
    "            winner = 'computer'\n",
    "    elif ticRow1[0]==ticRow2[1]==ticRow3[2]:\n",
    "        if ticRow3[0] == 'X':\n",
    "            winner = 'player'\n",
    "        else:\n",
    "            winner = 'computer'\n",
    "    elif ticRow1[2]==ticRow2[1]==ticRow3[0]:\n",
    "        if ticRow3[0] == 'X':\n",
    "            winner = 'player'\n",
    "        else:\n",
    "            winner = 'computer'"
   ]
  },
  {
   "cell_type": "code",
   "execution_count": 7,
   "metadata": {
    "collapsed": true
   },
   "outputs": [],
   "source": [
    "def ticGame():\n",
    "    while winner == 'none':\n",
    "        playerTurn()\n",
    "        computerTurn()\n",
    "        winCheck()\n",
    "        print winner\n",
    "    print \"winner is:\" + str(winner)"
   ]
  },
  {
   "cell_type": "code",
   "execution_count": 8,
   "metadata": {
    "collapsed": false
   },
   "outputs": [
    {
     "name": "stdout",
     "output_type": "stream",
     "text": [
      "Enter coordinates for row (0-2):0\n",
      "Enter coordinates for col (0-2):1\n",
      "['-', 'X', '-']\n",
      "['-', '-', '-']\n",
      "['-', '-', '-']\n",
      "\n",
      "\n",
      "['-', 'X', '-']\n",
      "['O', '-', '-']\n",
      "['-', '-', '-']\n",
      "\n",
      "\n",
      "none\n",
      "Enter coordinates for row (0-2):1\n",
      "Enter coordinates for col (0-2):1\n",
      "['-', 'X', '-']\n",
      "['O', 'X', '-']\n",
      "['-', '-', '-']\n",
      "\n",
      "\n",
      "['-', 'X', '-']\n",
      "['O', 'X', '-']\n",
      "['O', '-', '-']\n",
      "\n",
      "\n",
      "none\n",
      "Enter coordinates for row (0-2):2\n",
      "Enter coordinates for col (0-2):1\n",
      "['-', 'X', '-']\n",
      "['O', 'X', '-']\n",
      "['O', 'X', '-']\n",
      "\n",
      "\n",
      "['-', 'X', '-']\n",
      "['O', 'X', '-']\n",
      "['O', 'X', 'O']\n",
      "\n",
      "\n",
      "none\n"
     ]
    },
    {
     "ename": "KeyboardInterrupt",
     "evalue": "",
     "output_type": "error",
     "traceback": [
      "\u001b[0;31m---------------------------------------------------------------------------\u001b[0m",
      "\u001b[0;31mKeyboardInterrupt\u001b[0m                         Traceback (most recent call last)",
      "\u001b[0;32m<ipython-input-8-4b64aa88d826>\u001b[0m in \u001b[0;36m<module>\u001b[0;34m()\u001b[0m\n\u001b[0;32m----> 1\u001b[0;31m \u001b[0mticGame\u001b[0m\u001b[0;34m(\u001b[0m\u001b[0;34m)\u001b[0m\u001b[0;34m\u001b[0m\u001b[0m\n\u001b[0m",
      "\u001b[0;32m<ipython-input-7-ebe5ee78ba06>\u001b[0m in \u001b[0;36mticGame\u001b[0;34m()\u001b[0m\n\u001b[1;32m      1\u001b[0m \u001b[0;32mdef\u001b[0m \u001b[0mticGame\u001b[0m\u001b[0;34m(\u001b[0m\u001b[0;34m)\u001b[0m\u001b[0;34m:\u001b[0m\u001b[0;34m\u001b[0m\u001b[0m\n\u001b[1;32m      2\u001b[0m     \u001b[0;32mwhile\u001b[0m \u001b[0mwinner\u001b[0m \u001b[0;34m==\u001b[0m \u001b[0;34m'none'\u001b[0m\u001b[0;34m:\u001b[0m\u001b[0;34m\u001b[0m\u001b[0m\n\u001b[0;32m----> 3\u001b[0;31m         \u001b[0mplayerTurn\u001b[0m\u001b[0;34m(\u001b[0m\u001b[0;34m)\u001b[0m\u001b[0;34m\u001b[0m\u001b[0m\n\u001b[0m\u001b[1;32m      4\u001b[0m         \u001b[0mcomputerTurn\u001b[0m\u001b[0;34m(\u001b[0m\u001b[0;34m)\u001b[0m\u001b[0;34m\u001b[0m\u001b[0m\n\u001b[1;32m      5\u001b[0m         \u001b[0mwinCheck\u001b[0m\u001b[0;34m(\u001b[0m\u001b[0;34m)\u001b[0m\u001b[0;34m\u001b[0m\u001b[0m\n",
      "\u001b[0;32m<ipython-input-4-501e0fd186fe>\u001b[0m in \u001b[0;36mplayerTurn\u001b[0;34m()\u001b[0m\n\u001b[1;32m      1\u001b[0m \u001b[0;32mdef\u001b[0m \u001b[0mplayerTurn\u001b[0m\u001b[0;34m(\u001b[0m\u001b[0;34m)\u001b[0m\u001b[0;34m:\u001b[0m\u001b[0;34m\u001b[0m\u001b[0m\n\u001b[0;32m----> 2\u001b[0;31m     \u001b[0mplayerRow\u001b[0m\u001b[0;34m=\u001b[0m\u001b[0mint\u001b[0m\u001b[0;34m(\u001b[0m\u001b[0mraw_input\u001b[0m\u001b[0;34m(\u001b[0m\u001b[0;34m'Enter coordinates for row (0-2):'\u001b[0m\u001b[0;34m)\u001b[0m\u001b[0;34m)\u001b[0m\u001b[0;34m\u001b[0m\u001b[0m\n\u001b[0m\u001b[1;32m      3\u001b[0m     \u001b[0mplayerCol\u001b[0m\u001b[0;34m=\u001b[0m\u001b[0mint\u001b[0m\u001b[0;34m(\u001b[0m\u001b[0mraw_input\u001b[0m\u001b[0;34m(\u001b[0m\u001b[0;34m'Enter coordinates for col (0-2):'\u001b[0m\u001b[0;34m)\u001b[0m\u001b[0;34m)\u001b[0m\u001b[0;34m\u001b[0m\u001b[0m\n\u001b[1;32m      4\u001b[0m     \u001b[0;32mif\u001b[0m \u001b[0mplayerRow\u001b[0m \u001b[0;34m<\u001b[0m\u001b[0;36m0\u001b[0m \u001b[0;32mor\u001b[0m \u001b[0mplayerCol\u001b[0m\u001b[0;34m<\u001b[0m\u001b[0;36m0\u001b[0m \u001b[0;32mor\u001b[0m \u001b[0mplayerRow\u001b[0m\u001b[0;34m>\u001b[0m\u001b[0;36m2\u001b[0m \u001b[0;32mor\u001b[0m \u001b[0mplayerCol\u001b[0m\u001b[0;34m>\u001b[0m\u001b[0;36m2\u001b[0m\u001b[0;34m:\u001b[0m\u001b[0;34m\u001b[0m\u001b[0m\n\u001b[1;32m      5\u001b[0m         \u001b[0;32mprint\u001b[0m \u001b[0;34m\"not valid input, please enter valid input\"\u001b[0m\u001b[0;34m\u001b[0m\u001b[0m\n",
      "\u001b[0;32m/Users/michael/anaconda/lib/python2.7/site-packages/ipykernel/kernelbase.pyc\u001b[0m in \u001b[0;36mraw_input\u001b[0;34m(self, prompt)\u001b[0m\n\u001b[1;32m    687\u001b[0m             \u001b[0mself\u001b[0m\u001b[0;34m.\u001b[0m\u001b[0m_parent_ident\u001b[0m\u001b[0;34m,\u001b[0m\u001b[0;34m\u001b[0m\u001b[0m\n\u001b[1;32m    688\u001b[0m             \u001b[0mself\u001b[0m\u001b[0;34m.\u001b[0m\u001b[0m_parent_header\u001b[0m\u001b[0;34m,\u001b[0m\u001b[0;34m\u001b[0m\u001b[0m\n\u001b[0;32m--> 689\u001b[0;31m             \u001b[0mpassword\u001b[0m\u001b[0;34m=\u001b[0m\u001b[0mFalse\u001b[0m\u001b[0;34m,\u001b[0m\u001b[0;34m\u001b[0m\u001b[0m\n\u001b[0m\u001b[1;32m    690\u001b[0m         )\n\u001b[1;32m    691\u001b[0m \u001b[0;34m\u001b[0m\u001b[0m\n",
      "\u001b[0;32m/Users/michael/anaconda/lib/python2.7/site-packages/ipykernel/kernelbase.pyc\u001b[0m in \u001b[0;36m_input_request\u001b[0;34m(self, prompt, ident, parent, password)\u001b[0m\n\u001b[1;32m    717\u001b[0m             \u001b[0;32mexcept\u001b[0m \u001b[0mKeyboardInterrupt\u001b[0m\u001b[0;34m:\u001b[0m\u001b[0;34m\u001b[0m\u001b[0m\n\u001b[1;32m    718\u001b[0m                 \u001b[0;31m# re-raise KeyboardInterrupt, to truncate traceback\u001b[0m\u001b[0;34m\u001b[0m\u001b[0;34m\u001b[0m\u001b[0m\n\u001b[0;32m--> 719\u001b[0;31m                 \u001b[0;32mraise\u001b[0m \u001b[0mKeyboardInterrupt\u001b[0m\u001b[0;34m\u001b[0m\u001b[0m\n\u001b[0m\u001b[1;32m    720\u001b[0m             \u001b[0;32melse\u001b[0m\u001b[0;34m:\u001b[0m\u001b[0;34m\u001b[0m\u001b[0m\n\u001b[1;32m    721\u001b[0m                 \u001b[0;32mbreak\u001b[0m\u001b[0;34m\u001b[0m\u001b[0m\n",
      "\u001b[0;31mKeyboardInterrupt\u001b[0m: "
     ]
    }
   ],
   "source": [
    "ticGame()"
   ]
  },
  {
   "cell_type": "code",
   "execution_count": 9,
   "metadata": {
    "collapsed": false
   },
   "outputs": [
    {
     "name": "stdout",
     "output_type": "stream",
     "text": [
      "['-', 'X', '-']\n",
      "['O', 'X', '-']\n",
      "['O', 'X', 'O']\n",
      "\n",
      "\n"
     ]
    }
   ],
   "source": [
    "displayBoard()"
   ]
  },
  {
   "cell_type": "code",
   "execution_count": 10,
   "metadata": {
    "collapsed": false
   },
   "outputs": [
    {
     "data": {
      "text/plain": [
       "'X'"
      ]
     },
     "execution_count": 10,
     "metadata": {},
     "output_type": "execute_result"
    }
   ],
   "source": [
    "ticRow1[1]"
   ]
  },
  {
   "cell_type": "code",
   "execution_count": 11,
   "metadata": {
    "collapsed": false
   },
   "outputs": [
    {
     "data": {
      "text/plain": [
       "'X'"
      ]
     },
     "execution_count": 11,
     "metadata": {},
     "output_type": "execute_result"
    }
   ],
   "source": [
    "ticRow2[1]"
   ]
  },
  {
   "cell_type": "code",
   "execution_count": 12,
   "metadata": {
    "collapsed": false
   },
   "outputs": [
    {
     "data": {
      "text/plain": [
       "'X'"
      ]
     },
     "execution_count": 12,
     "metadata": {},
     "output_type": "execute_result"
    }
   ],
   "source": [
    "ticRow3[1]"
   ]
  },
  {
   "cell_type": "code",
   "execution_count": null,
   "metadata": {
    "collapsed": true
   },
   "outputs": [],
   "source": []
  }
 ],
 "metadata": {
  "kernelspec": {
   "display_name": "Python 2",
   "language": "python",
   "name": "python2"
  },
  "language_info": {
   "codemirror_mode": {
    "name": "ipython",
    "version": 2
   },
   "file_extension": ".py",
   "mimetype": "text/x-python",
   "name": "python",
   "nbconvert_exporter": "python",
   "pygments_lexer": "ipython2",
   "version": "2.7.12"
  }
 },
 "nbformat": 4,
 "nbformat_minor": 0
}
