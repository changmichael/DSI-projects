{
 "cells": [
  {
   "cell_type": "code",
   "execution_count": 1,
   "metadata": {
    "collapsed": true
   },
   "outputs": [],
   "source": [
    "import pandas as pd\n",
    "import random"
   ]
  },
  {
   "cell_type": "code",
   "execution_count": 11,
   "metadata": {
    "collapsed": true
   },
   "outputs": [],
   "source": [
    "items = ['Michael', 'Kelly', 'Tim', 'Phillippa', 'Peter', 'Katty', 'Rebecca', 'Tamara', 'Tucker', 'Hudson', 'Lydia', 'Sam']"
   ]
  },
  {
   "cell_type": "code",
   "execution_count": 3,
   "metadata": {
    "collapsed": false
   },
   "outputs": [
    {
     "name": "stdout",
     "output_type": "stream",
     "text": [
      "(1) - Get one student \n",
      "(2) - Get pairs \n",
      "(3) - Get threes \n",
      "(4) - Get list of students\n",
      ">> 2\n"
     ]
    }
   ],
   "source": [
    "numberStyle = raw_input('(1) - Get one student \\n(2) - Get pairs \\n(3) - Get threes \\n(4) - Get list of students\\n>> ')"
   ]
  },
  {
   "cell_type": "code",
   "execution_count": 4,
   "metadata": {
    "collapsed": false
   },
   "outputs": [],
   "source": []
  },
  {
   "cell_type": "code",
   "execution_count": 12,
   "metadata": {
    "collapsed": false
   },
   "outputs": [],
   "source": [
    "def randomizer(items):\n",
    "    random.shuffle(items)\n",
    "    numberStyle = raw_input('(1) - Get one student \\n(2) - Get pairs \\n(3) - Get threes \\n(4) - Get list of students\\n>> ')\n",
    "    numberStyle = int(numberStyle)\n",
    "    if numberStyle == 1:\n",
    "        return items[0]\n",
    "    elif numberStyle == 2:\n",
    "        endList = []\n",
    "        for i in range((len(items)/2)-1):\n",
    "            endList.append((items[i],items[i+1]))\n",
    "        return endList\n",
    "    elif numberStyle == 3:\n",
    "        endList = []\n",
    "        for i in range((len(items)/3)-1):\n",
    "            endList.append((items[i], items[i+1], items[i+3]))\n",
    "        print endList\n",
    "    elif numberStyle == 4:\n",
    "        return items"
   ]
  },
  {
   "cell_type": "code",
   "execution_count": 13,
   "metadata": {
    "collapsed": false
   },
   "outputs": [
    {
     "name": "stdout",
     "output_type": "stream",
     "text": [
      "(1) - Get one student \n",
      "(2) - Get pairs \n",
      "(3) - Get threes \n",
      "(4) - Get list of students\n",
      ">> 3\n",
      "0\n",
      "1\n",
      "[('Lydia', 'Katty', 'Rebecca'), ('Katty', 'Michael', 'Tamara')]\n"
     ]
    }
   ],
   "source": [
    "randomizer(items)"
   ]
  },
  {
   "cell_type": "code",
   "execution_count": 4,
   "metadata": {
    "collapsed": false
   },
   "outputs": [
    {
     "data": {
      "text/plain": [
       "['Michael',\n",
       " 'Kelly',\n",
       " 'Tim',\n",
       " 'Phillippa',\n",
       " 'Peter',\n",
       " 'Katty',\n",
       " 'Rebecca',\n",
       " 'Tamara',\n",
       " 'Tucker',\n",
       " 'Hudson',\n",
       " 'Lydia',\n",
       " 'Sam']"
      ]
     },
     "execution_count": 4,
     "metadata": {},
     "output_type": "execute_result"
    }
   ],
   "source": [
    "items"
   ]
  },
  {
   "cell_type": "code",
   "execution_count": null,
   "metadata": {
    "collapsed": true
   },
   "outputs": [],
   "source": []
  }
 ],
 "metadata": {
  "kernelspec": {
   "display_name": "Python 2",
   "language": "python",
   "name": "python2"
  },
  "language_info": {
   "codemirror_mode": {
    "name": "ipython",
    "version": 2
   },
   "file_extension": ".py",
   "mimetype": "text/x-python",
   "name": "python",
   "nbconvert_exporter": "python",
   "pygments_lexer": "ipython2",
   "version": "2.7.12"
  }
 },
 "nbformat": 4,
 "nbformat_minor": 0
}
