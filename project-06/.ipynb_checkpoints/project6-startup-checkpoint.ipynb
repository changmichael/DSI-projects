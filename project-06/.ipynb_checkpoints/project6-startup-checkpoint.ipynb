{
 "cells": [
  {
   "cell_type": "code",
   "execution_count": 1,
   "metadata": {
    "collapsed": true
   },
   "outputs": [],
   "source": [
    "from imdbpie import Imdb\n",
    "imdb = Imdb()\n",
    "imdb = Imdb(anonymize=True) # to proxy requests\n",
    "\n",
    "# Creating an instance with caching enabled\n",
    "# Note that the cached responses expire every 2 hours or so.\n",
    "# The API response itself dictates the expiry time)\n",
    "imdb = Imdb(cache=True)\n",
    "\n",
    "from __future__ import division, print_function\n",
    "\n",
    "import requests\n",
    "from bs4 import BeautifulSoup\n",
    "from selenium import webdriver\n",
    "import re\n",
    "import pandas as pd\n",
    "import numpy as np\n",
    "from sklearn.preprocessing import MinMaxScaler\n",
    "from sklearn.feature_extraction.text import CountVectorizer, HashingVectorizer, TfidfVectorizer\n",
    "\n",
    "from IPython.core.display import HTML, Image"
   ]
  },
  {
   "cell_type": "code",
   "execution_count": 2,
   "metadata": {
    "collapsed": true
   },
   "outputs": [],
   "source": [
    "def get_soup_from_url(url):\n",
    "    '''Returns Beautiful Soup for a given webpage'''\n",
    "    response = requests.get(url)\n",
    "    page = response.text\n",
    "    soup = BeautifulSoup(page,'lxml')\n",
    "    return soup\n",
    "\n",
    "def findTime(soup):\n",
    "    a = soup.find(text=re.compile('Runtime:'))\n",
    "    try:\n",
    "        return str(a.findNext('time').contents[0])\n",
    "    except:\n",
    "        return np.nan\n",
    "\n",
    "def findRating(soup):\n",
    "    try:\n",
    "        return str(soup.find('span', {'itemprop':'contentRating'}).text)\n",
    "    except:\n",
    "        return \"Not Rated\"\n",
    "    \n",
    "def findMeta(soup):\n",
    "    a = soup.find('div',class_ = 'titleReviewBarItem')\n",
    "    try:\n",
    "        return int(a.findNext('span').contents[0])\n",
    "    except:\n",
    "        return np.nan\n",
    "    \n",
    "def findGross(soup):\n",
    "    a = soup.findAll('div',{'id':'titleDetails'},{'class':'article'})\n",
    "    for x in a:\n",
    "        try:\n",
    "            #print(x)\n",
    "            for i in range(len(x)):\n",
    "                #print(i)\n",
    "                if str(x.findAll('div','txt-block')[i].getText().encode('ascii', 'ignore')\\\n",
    "                       .decode('ascii')).split()[0] == 'Gross:':\n",
    "                    return(str(x.findAll('div','txt-block')[i].getText()).split()[1])\n",
    "        except:\n",
    "            return np.nan\n",
    "            \n",
    "\n",
    "def findBudget(soup):\n",
    "    a = soup.findAll('div',{'id':'titleDetails'},{'class':'article'})\n",
    "    for x in a:\n",
    "        try:\n",
    "            #print(x)\n",
    "            for i in range(len(x)):\n",
    "                #print(i)\n",
    "                if str(x.findAll('div','txt-block')[i].getText().encode('ascii', 'ignore')\\\n",
    "                       .decode('ascii')).split()[0] == 'Budget:':\n",
    "                    return(str(x.findAll('div','txt-block')[i].getText()).split()[1])\n",
    "        except:\n",
    "            return np.nan"
   ]
  },
  {
   "cell_type": "code",
   "execution_count": null,
   "metadata": {
    "collapsed": true
   },
   "outputs": [],
   "source": []
  },
  {
   "cell_type": "code",
   "execution_count": 3,
   "metadata": {
    "collapsed": false
   },
   "outputs": [],
   "source": [
    "links=[]\n",
    "\n",
    "# data = imdb.top_250()\n",
    "dfimdb = pd.DataFrame(imdb.top_250())\n",
    "top_250_url = 'http://www.imdb.com/chart/top?ref_=nv_mv_250_6'\n",
    "soup_250= get_soup_from_url(top_250_url)\n",
    "\n",
    "for x in dfimdb['tconst']:\n",
    "    url1 = 'http://www.imdb.com/title/'\n",
    "    url2 = '/?ref_=nv_sr_1'\n",
    "    link = url1 + x + url2\n",
    "    links.append(str(link))"
   ]
  },
  {
   "cell_type": "code",
   "execution_count": null,
   "metadata": {
    "collapsed": false
   },
   "outputs": [],
   "source": []
  },
  {
   "cell_type": "code",
   "execution_count": 4,
   "metadata": {
    "collapsed": false
   },
   "outputs": [],
   "source": [
    "def get_movie_info(url):\n",
    "    '''Takes in a movie's URL and scrapes that webpage using Beautiful Soup\n",
    "    \n",
    "    Returns a list of that movie's Title, Gross, Rating and Distributor\n",
    "    \n",
    "    \n",
    "    '''\n",
    "    soup = get_soup_from_url(url)\n",
    "    \n",
    "    results = []\n",
    "    \n",
    "    userRatings = str(soup.find('span',{'itemprop':'reviewCount'}).text.split()[0])\n",
    "    criticRatings = int(soup.find('span',{'itemprop':'reviewCount'}).findNextSibling().text.split()[0])\n",
    "    title_string = soup.find('h1').text\n",
    "    title = str(title_string.split('(')[0].strip().encode('utf8'))\n",
    "    year_string = str(title_string.split('(')[1].strip().encode('utf8'))\n",
    "    year = int(year_string.replace(')',''))\n",
    "    time = findTime(soup)\n",
    "    MPAArating = findRating(soup)\n",
    "    IMDBRating = float(soup.find('span',{'itemprop':'ratingValue'}).text)\n",
    "    IMDBRatings = str(soup.find('span',{'itemprop':'ratingCount'}).text)\n",
    "    genre = str(soup.find('span', {'itemprop':'genre'}).text)\n",
    "    director = str(soup.find('span', {'itemprop':'name'}).text.encode('utf8'))\n",
    "    writer = str(soup.find('span', {'itemprop':'creator'}).getText().encode('utf8')).strip().replace(',','')\n",
    "    actor = str(soup.find('span', {'itemprop':'actors'}).text.encode('utf8')).strip().replace(',','')\n",
    "    description = description = str(soup.find('div', {'itemprop':'description'}).getText().encode('utf8')).strip()\n",
    "#     metascore = findMeta(soup)\n",
    "#     gross = findGross(soup)\n",
    "#     budget = findBudget(soup)\n",
    "    \n",
    "    results.append(title)\n",
    "    results.append(year)\n",
    "    results.append(time)\n",
    "    results.append(genre)\n",
    "    results.append(director)\n",
    "    results.append(writer)\n",
    "    results.append(actor)\n",
    "    results.append(MPAArating)\n",
    "    results.append(description)\n",
    "    results.append(userRatings)\n",
    "    results.append(criticRatings)\n",
    "#     results.append(budget)\n",
    "#     results.append(gross)\n",
    "#     results.append(metascore)\n",
    "    results.append(IMDBRatings)\n",
    "    results.append(IMDBRating)\n",
    "\n",
    "\n",
    "    return results  "
   ]
  },
  {
   "cell_type": "code",
   "execution_count": 7,
   "metadata": {
    "collapsed": true
   },
   "outputs": [],
   "source": [
    "soup = get_soup_from_url('http://www.imdb.com/title/tt0103064/?pf_rd_m=A2FGELUUNOQJNL&pf_rd_p=2398042102&pf_rd_r=1YH6XVXD9CACM3N144DE&pf_rd_s=center-1&pf_rd_t=15506&pf_rd_i=top&ref_=chttp_tt_41')"
   ]
  },
  {
   "cell_type": "code",
   "execution_count": null,
   "metadata": {
    "collapsed": false
   },
   "outputs": [],
   "source": []
  },
  {
   "cell_type": "code",
   "execution_count": null,
   "metadata": {
    "collapsed": true
   },
   "outputs": [],
   "source": []
  },
  {
   "cell_type": "code",
   "execution_count": null,
   "metadata": {
    "collapsed": true
   },
   "outputs": [],
   "source": []
  },
  {
   "cell_type": "code",
   "execution_count": null,
   "metadata": {
    "collapsed": true
   },
   "outputs": [],
   "source": []
  },
  {
   "cell_type": "code",
   "execution_count": 5,
   "metadata": {
    "collapsed": false
   },
   "outputs": [],
   "source": [
    "table = []\n",
    "for url in links:\n",
    "#     print(url)\n",
    "    info = get_movie_info(url)\n",
    "    table.append(info)"
   ]
  },
  {
   "cell_type": "code",
   "execution_count": 6,
   "metadata": {
    "collapsed": false
   },
   "outputs": [],
   "source": [
    "df = pd.DataFrame(table, columns = ['Title','Year', 'Runtime','Genre','Director','Writer','Actor', \\\n",
    "                                    'MPAARating', 'Description', 'numUserRatings','numCriticRatings', \\\n",
    "                                    'numIMDBRatings','IMDBRating'])"
   ]
  },
  {
   "cell_type": "code",
   "execution_count": 7,
   "metadata": {
    "collapsed": true
   },
   "outputs": [],
   "source": [
    "df.to_csv('movieInfo.csv')"
   ]
  },
  {
   "cell_type": "code",
   "execution_count": null,
   "metadata": {
    "collapsed": true
   },
   "outputs": [],
   "source": []
  },
  {
   "cell_type": "code",
   "execution_count": 16,
   "metadata": {
    "collapsed": true
   },
   "outputs": [],
   "source": [
    "df = pd.read_csv('movieInfo.csv')"
   ]
  },
  {
   "cell_type": "code",
   "execution_count": 17,
   "metadata": {
    "collapsed": false
   },
   "outputs": [
    {
     "data": {
      "text/plain": [
       "1"
      ]
     },
     "execution_count": 17,
     "metadata": {},
     "output_type": "execute_result"
    }
   ],
   "source": [
    "null_data = df[df.isnull().any(axis=1)]\n",
    "len(null_data)"
   ]
  },
  {
   "cell_type": "code",
   "execution_count": 98,
   "metadata": {
    "collapsed": false
   },
   "outputs": [
    {
     "data": {
      "text/plain": [
       "84"
      ]
     },
     "execution_count": 98,
     "metadata": {},
     "output_type": "execute_result"
    }
   ],
   "source": [
    "df.drop('Metascore',1, inplace = True)\n",
    "null_data = df[df.isnull().any(axis=1)]\n",
    "len(null_data)"
   ]
  },
  {
   "cell_type": "code",
   "execution_count": 99,
   "metadata": {
    "collapsed": false
   },
   "outputs": [
    {
     "data": {
      "text/plain": [
       "34"
      ]
     },
     "execution_count": 99,
     "metadata": {},
     "output_type": "execute_result"
    }
   ],
   "source": [
    "df.drop('Gross', 1, inplace=True)\n",
    "null_data = df[df.isnull().any(axis=1)]\n",
    "len(null_data)"
   ]
  },
  {
   "cell_type": "code",
   "execution_count": 100,
   "metadata": {
    "collapsed": false
   },
   "outputs": [
    {
     "data": {
      "text/plain": [
       "1"
      ]
     },
     "execution_count": 100,
     "metadata": {},
     "output_type": "execute_result"
    }
   ],
   "source": [
    "df.drop('Budget',1,inplace=True)\n",
    "null_data = df[df.isnull().any(axis=1)]\n",
    "len(null_data)"
   ]
  },
  {
   "cell_type": "code",
   "execution_count": null,
   "metadata": {
    "collapsed": true
   },
   "outputs": [],
   "source": []
  },
  {
   "cell_type": "code",
   "execution_count": 18,
   "metadata": {
    "collapsed": true
   },
   "outputs": [],
   "source": [
    "def ratingCleaner(x):\n",
    "    y = str(x).split()[0]\n",
    "    if y == 'Rated':\n",
    "        return str(x).split()[1]\n",
    "    elif y == 'Not':\n",
    "        return x\n",
    "    else:\n",
    "        return y\n",
    "\n",
    "def ratingCombiner(x):\n",
    "    if x == 'M':\n",
    "        return 'X'\n",
    "    elif x == 'Unrated':\n",
    "        return 'Not Rated'\n",
    "    elif x == 'Passed':\n",
    "        return 'Not Rated'\n",
    "    elif x == 'Approved':\n",
    "        return 'G'\n",
    "    else:\n",
    "        return x"
   ]
  },
  {
   "cell_type": "code",
   "execution_count": 19,
   "metadata": {
    "collapsed": false
   },
   "outputs": [
    {
     "data": {
      "text/html": [
       "<div>\n",
       "<table border=\"1\" class=\"dataframe\">\n",
       "  <thead>\n",
       "    <tr style=\"text-align: right;\">\n",
       "      <th></th>\n",
       "      <th>Title</th>\n",
       "      <th>Year</th>\n",
       "      <th>Runtime</th>\n",
       "      <th>Genre</th>\n",
       "      <th>Director</th>\n",
       "      <th>Writer</th>\n",
       "      <th>Actor</th>\n",
       "      <th>MPAARating</th>\n",
       "      <th>Description</th>\n",
       "      <th>numUserRatings</th>\n",
       "      <th>numCriticRatings</th>\n",
       "      <th>numIMDBRatings</th>\n",
       "      <th>IMDBRating</th>\n",
       "    </tr>\n",
       "  </thead>\n",
       "  <tbody>\n",
       "    <tr>\n",
       "      <th>0</th>\n",
       "      <td>The Shawshank Redemption</td>\n",
       "      <td>1994</td>\n",
       "      <td>142</td>\n",
       "      <td>Crime</td>\n",
       "      <td>Frank Darabont</td>\n",
       "      <td>Stephen King</td>\n",
       "      <td>Tim Robbins</td>\n",
       "      <td>R</td>\n",
       "      <td>Two imprisoned men bond over a number of years...</td>\n",
       "      <td>4120</td>\n",
       "      <td>198</td>\n",
       "      <td>1679862</td>\n",
       "      <td>9.3</td>\n",
       "    </tr>\n",
       "    <tr>\n",
       "      <th>1</th>\n",
       "      <td>The Godfather</td>\n",
       "      <td>1972</td>\n",
       "      <td>175</td>\n",
       "      <td>Crime</td>\n",
       "      <td>Francis Ford Coppola</td>\n",
       "      <td>Mario Puzo</td>\n",
       "      <td>Marlon Brando</td>\n",
       "      <td>R</td>\n",
       "      <td>The aging patriarch of an organized crime dyna...</td>\n",
       "      <td>2224</td>\n",
       "      <td>207</td>\n",
       "      <td>1149324</td>\n",
       "      <td>9.2</td>\n",
       "    </tr>\n",
       "    <tr>\n",
       "      <th>2</th>\n",
       "      <td>The Godfather: Part II</td>\n",
       "      <td>1974</td>\n",
       "      <td>202</td>\n",
       "      <td>Crime</td>\n",
       "      <td>Francis Ford Coppola</td>\n",
       "      <td>Francis Ford Coppola</td>\n",
       "      <td>Al Pacino</td>\n",
       "      <td>R</td>\n",
       "      <td>The early life and career of Vito Corleone in ...</td>\n",
       "      <td>652</td>\n",
       "      <td>149</td>\n",
       "      <td>786009</td>\n",
       "      <td>9.0</td>\n",
       "    </tr>\n",
       "    <tr>\n",
       "      <th>3</th>\n",
       "      <td>The Dark Knight</td>\n",
       "      <td>2008</td>\n",
       "      <td>152</td>\n",
       "      <td>Action</td>\n",
       "      <td>Christopher Nolan</td>\n",
       "      <td>Jonathan Nolan</td>\n",
       "      <td>Christian Bale</td>\n",
       "      <td>PG-13</td>\n",
       "      <td>When the menace known as the Joker wreaks havo...</td>\n",
       "      <td>4646</td>\n",
       "      <td>644</td>\n",
       "      <td>1664897</td>\n",
       "      <td>9.0</td>\n",
       "    </tr>\n",
       "    <tr>\n",
       "      <th>4</th>\n",
       "      <td>Schindler's List</td>\n",
       "      <td>1993</td>\n",
       "      <td>195</td>\n",
       "      <td>Biography</td>\n",
       "      <td>Steven Spielberg</td>\n",
       "      <td>Thomas Keneally</td>\n",
       "      <td>Liam Neeson</td>\n",
       "      <td>R</td>\n",
       "      <td>In Poland during World War II, Oskar Schindler...</td>\n",
       "      <td>1266</td>\n",
       "      <td>174</td>\n",
       "      <td>859751</td>\n",
       "      <td>8.9</td>\n",
       "    </tr>\n",
       "  </tbody>\n",
       "</table>\n",
       "</div>"
      ],
      "text/plain": [
       "                      Title  Year  Runtime      Genre              Director  \\\n",
       "0  The Shawshank Redemption  1994      142      Crime        Frank Darabont   \n",
       "1             The Godfather  1972      175      Crime  Francis Ford Coppola   \n",
       "2    The Godfather: Part II  1974      202      Crime  Francis Ford Coppola   \n",
       "3           The Dark Knight  2008      152     Action     Christopher Nolan   \n",
       "4          Schindler's List  1993      195  Biography      Steven Spielberg   \n",
       "\n",
       "                  Writer           Actor MPAARating  \\\n",
       "0          Stephen King      Tim Robbins          R   \n",
       "1            Mario Puzo    Marlon Brando          R   \n",
       "2  Francis Ford Coppola        Al Pacino          R   \n",
       "3        Jonathan Nolan   Christian Bale      PG-13   \n",
       "4       Thomas Keneally      Liam Neeson          R   \n",
       "\n",
       "                                         Description  numUserRatings  \\\n",
       "0  Two imprisoned men bond over a number of years...            4120   \n",
       "1  The aging patriarch of an organized crime dyna...            2224   \n",
       "2  The early life and career of Vito Corleone in ...             652   \n",
       "3  When the menace known as the Joker wreaks havo...            4646   \n",
       "4  In Poland during World War II, Oskar Schindler...            1266   \n",
       "\n",
       "   numCriticRatings  numIMDBRatings  IMDBRating  \n",
       "0               198         1679862         9.3  \n",
       "1               207         1149324         9.2  \n",
       "2               149          786009         9.0  \n",
       "3               644         1664897         9.0  \n",
       "4               174          859751         8.9  "
      ]
     },
     "execution_count": 19,
     "metadata": {},
     "output_type": "execute_result"
    }
   ],
   "source": [
    "df['numIMDBRatings'] = df['numIMDBRatings'].apply(lambda x: x.replace(',',''))\n",
    "df['numUserRatings'] = df['numUserRatings'].apply(lambda x: x.replace(',',''))\n",
    "df['numUserRatings'] = df['numUserRatings'].apply(lambda x: int(x))\n",
    "df['numCriticRatings'] = df['numCriticRatings'].apply(lambda x: int(x))\n",
    "df['numIMDBRatings'] = df['numIMDBRatings'].apply(lambda x: int(x))\n",
    "df['Runtime'].fillna('146 min',inplace = True)\n",
    "df['Runtime'] = df['Runtime'].apply(lambda x: x.split()[0])\n",
    "df['Runtime'] = df['Runtime'].apply(lambda x: int(x))\n",
    "df['MPAARating'] = df['MPAARating'].apply(lambda x: ratingCleaner(x))\n",
    "df['MPAARating'] = df['MPAARating'].apply(lambda x: ratingCombiner(x))\n",
    "df['Writer'] = df['Writer'].apply(lambda x: x.split('(')[0])\n",
    "df.drop('Unnamed: 0',1,inplace=True)\n",
    "df.head()"
   ]
  },
  {
   "cell_type": "code",
   "execution_count": 20,
   "metadata": {
    "collapsed": false
   },
   "outputs": [
    {
     "data": {
      "text/plain": [
       "R            104\n",
       "Not Rated     49\n",
       "PG            37\n",
       "PG-13         34\n",
       "G             24\n",
       "X              2\n",
       "Name: MPAARating, dtype: int64"
      ]
     },
     "execution_count": 20,
     "metadata": {},
     "output_type": "execute_result"
    }
   ],
   "source": [
    "df['MPAARating'].value_counts()"
   ]
  },
  {
   "cell_type": "code",
   "execution_count": 14,
   "metadata": {
    "collapsed": true
   },
   "outputs": [],
   "source": []
  },
  {
   "cell_type": "markdown",
   "metadata": {},
   "source": [
    "# Modeling!"
   ]
  },
  {
   "cell_type": "code",
   "execution_count": 21,
   "metadata": {
    "collapsed": false
   },
   "outputs": [
    {
     "data": {
      "text/html": [
       "<div>\n",
       "<table border=\"1\" class=\"dataframe\">\n",
       "  <thead>\n",
       "    <tr style=\"text-align: right;\">\n",
       "      <th></th>\n",
       "      <th>Title</th>\n",
       "      <th>Year</th>\n",
       "      <th>Runtime</th>\n",
       "      <th>Genre</th>\n",
       "      <th>Director</th>\n",
       "      <th>Writer</th>\n",
       "      <th>Actor</th>\n",
       "      <th>MPAARating</th>\n",
       "      <th>Description</th>\n",
       "      <th>numUserRatings</th>\n",
       "      <th>numCriticRatings</th>\n",
       "      <th>numIMDBRatings</th>\n",
       "      <th>IMDBRating</th>\n",
       "    </tr>\n",
       "  </thead>\n",
       "  <tbody>\n",
       "    <tr>\n",
       "      <th>0</th>\n",
       "      <td>The Shawshank Redemption</td>\n",
       "      <td>1994</td>\n",
       "      <td>142</td>\n",
       "      <td>Crime</td>\n",
       "      <td>Frank Darabont</td>\n",
       "      <td>Stephen King</td>\n",
       "      <td>Tim Robbins</td>\n",
       "      <td>R</td>\n",
       "      <td>Two imprisoned men bond over a number of years...</td>\n",
       "      <td>4120</td>\n",
       "      <td>198</td>\n",
       "      <td>1679862</td>\n",
       "      <td>9.3</td>\n",
       "    </tr>\n",
       "    <tr>\n",
       "      <th>1</th>\n",
       "      <td>The Godfather</td>\n",
       "      <td>1972</td>\n",
       "      <td>175</td>\n",
       "      <td>Crime</td>\n",
       "      <td>Francis Ford Coppola</td>\n",
       "      <td>Mario Puzo</td>\n",
       "      <td>Marlon Brando</td>\n",
       "      <td>R</td>\n",
       "      <td>The aging patriarch of an organized crime dyna...</td>\n",
       "      <td>2224</td>\n",
       "      <td>207</td>\n",
       "      <td>1149324</td>\n",
       "      <td>9.2</td>\n",
       "    </tr>\n",
       "    <tr>\n",
       "      <th>2</th>\n",
       "      <td>The Godfather: Part II</td>\n",
       "      <td>1974</td>\n",
       "      <td>202</td>\n",
       "      <td>Crime</td>\n",
       "      <td>Francis Ford Coppola</td>\n",
       "      <td>Francis Ford Coppola</td>\n",
       "      <td>Al Pacino</td>\n",
       "      <td>R</td>\n",
       "      <td>The early life and career of Vito Corleone in ...</td>\n",
       "      <td>652</td>\n",
       "      <td>149</td>\n",
       "      <td>786009</td>\n",
       "      <td>9.0</td>\n",
       "    </tr>\n",
       "    <tr>\n",
       "      <th>3</th>\n",
       "      <td>The Dark Knight</td>\n",
       "      <td>2008</td>\n",
       "      <td>152</td>\n",
       "      <td>Action</td>\n",
       "      <td>Christopher Nolan</td>\n",
       "      <td>Jonathan Nolan</td>\n",
       "      <td>Christian Bale</td>\n",
       "      <td>PG-13</td>\n",
       "      <td>When the menace known as the Joker wreaks havo...</td>\n",
       "      <td>4646</td>\n",
       "      <td>644</td>\n",
       "      <td>1664897</td>\n",
       "      <td>9.0</td>\n",
       "    </tr>\n",
       "    <tr>\n",
       "      <th>4</th>\n",
       "      <td>Schindler's List</td>\n",
       "      <td>1993</td>\n",
       "      <td>195</td>\n",
       "      <td>Biography</td>\n",
       "      <td>Steven Spielberg</td>\n",
       "      <td>Thomas Keneally</td>\n",
       "      <td>Liam Neeson</td>\n",
       "      <td>R</td>\n",
       "      <td>In Poland during World War II, Oskar Schindler...</td>\n",
       "      <td>1266</td>\n",
       "      <td>174</td>\n",
       "      <td>859751</td>\n",
       "      <td>8.9</td>\n",
       "    </tr>\n",
       "  </tbody>\n",
       "</table>\n",
       "</div>"
      ],
      "text/plain": [
       "                      Title  Year  Runtime      Genre              Director  \\\n",
       "0  The Shawshank Redemption  1994      142      Crime        Frank Darabont   \n",
       "1             The Godfather  1972      175      Crime  Francis Ford Coppola   \n",
       "2    The Godfather: Part II  1974      202      Crime  Francis Ford Coppola   \n",
       "3           The Dark Knight  2008      152     Action     Christopher Nolan   \n",
       "4          Schindler's List  1993      195  Biography      Steven Spielberg   \n",
       "\n",
       "                  Writer           Actor MPAARating  \\\n",
       "0          Stephen King      Tim Robbins          R   \n",
       "1            Mario Puzo    Marlon Brando          R   \n",
       "2  Francis Ford Coppola        Al Pacino          R   \n",
       "3        Jonathan Nolan   Christian Bale      PG-13   \n",
       "4       Thomas Keneally      Liam Neeson          R   \n",
       "\n",
       "                                         Description  numUserRatings  \\\n",
       "0  Two imprisoned men bond over a number of years...            4120   \n",
       "1  The aging patriarch of an organized crime dyna...            2224   \n",
       "2  The early life and career of Vito Corleone in ...             652   \n",
       "3  When the menace known as the Joker wreaks havo...            4646   \n",
       "4  In Poland during World War II, Oskar Schindler...            1266   \n",
       "\n",
       "   numCriticRatings  numIMDBRatings  IMDBRating  \n",
       "0               198         1679862         9.3  \n",
       "1               207         1149324         9.2  \n",
       "2               149          786009         9.0  \n",
       "3               644         1664897         9.0  \n",
       "4               174          859751         8.9  "
      ]
     },
     "execution_count": 21,
     "metadata": {},
     "output_type": "execute_result"
    }
   ],
   "source": [
    "df.head()"
   ]
  },
  {
   "cell_type": "code",
   "execution_count": 28,
   "metadata": {
    "collapsed": false
   },
   "outputs": [
    {
     "data": {
      "text/plain": [
       "Index([u'Title', u'Runtime', u'Genre', u'Director', u'Writer', u'Actor',\n",
       "       u'MPAARating', u'Description', u'numUserRatings', u'numCriticRatings',\n",
       "       u'numIMDBRatings', u'IMDBRating'],\n",
       "      dtype='object')"
      ]
     },
     "execution_count": 28,
     "metadata": {},
     "output_type": "execute_result"
    }
   ],
   "source": [
    "df.columns"
   ]
  },
  {
   "cell_type": "code",
   "execution_count": 22,
   "metadata": {
    "collapsed": false
   },
   "outputs": [],
   "source": [
    "dummydf = df[['Genre','Director','Writer', 'Actor','MPAARating']]\n",
    "dummydf = pd.get_dummies(dummydf)"
   ]
  },
  {
   "cell_type": "code",
   "execution_count": 23,
   "metadata": {
    "collapsed": false
   },
   "outputs": [],
   "source": [
    "scalingdf = df[['Year','Runtime','numUserRatings','numCriticRatings','numIMDBRatings']]\n",
    "scalingdf = MinMaxScaler().fit_transform(scalingdf.astype(float))\n",
    "scalingdf = pd.DataFrame(scalingdf, columns = ['Year','Runtime','numUserRatings','numCriticRatings','numIMDBRatings'])"
   ]
  },
  {
   "cell_type": "code",
   "execution_count": 24,
   "metadata": {
    "collapsed": true
   },
   "outputs": [],
   "source": [
    "y = df['IMDBRating']"
   ]
  },
  {
   "cell_type": "code",
   "execution_count": 36,
   "metadata": {
    "collapsed": false
   },
   "outputs": [
    {
     "data": {
      "text/plain": [
       "TfidfVectorizer(analyzer=u'word', binary=False, decode_error=u'strict',\n",
       "        dtype=<type 'numpy.int64'>, encoding=u'utf-8', input=u'content',\n",
       "        lowercase=True, max_df=1.0, max_features=None, min_df=1,\n",
       "        ngram_range=(1, 1), norm=u'l2', preprocessor=None, smooth_idf=True,\n",
       "        stop_words='english', strip_accents=None, sublinear_tf=False,\n",
       "        token_pattern=u'(?u)\\\\b\\\\w\\\\w+\\\\b', tokenizer=None, use_idf=True,\n",
       "        vocabulary=None)"
      ]
     },
     "execution_count": 36,
     "metadata": {},
     "output_type": "execute_result"
    }
   ],
   "source": [
    "tfidfvect = TfidfVectorizer(stop_words = 'english')\n",
    "tfidfvect.fit(df['Description'])"
   ]
  },
  {
   "cell_type": "code",
   "execution_count": 40,
   "metadata": {
    "collapsed": false
   },
   "outputs": [
    {
     "data": {
      "text/html": [
       "<div>\n",
       "<table border=\"1\" class=\"dataframe\">\n",
       "  <thead>\n",
       "    <tr style=\"text-align: right;\">\n",
       "      <th></th>\n",
       "      <th>000</th>\n",
       "      <th>10</th>\n",
       "      <th>12</th>\n",
       "      <th>15</th>\n",
       "      <th>16th</th>\n",
       "      <th>1820s</th>\n",
       "      <th>18th</th>\n",
       "      <th>1920s</th>\n",
       "      <th>1936</th>\n",
       "      <th>1937</th>\n",
       "      <th>...</th>\n",
       "      <th>year</th>\n",
       "      <th>years</th>\n",
       "      <th>yoda</th>\n",
       "      <th>york</th>\n",
       "      <th>young</th>\n",
       "      <th>younger</th>\n",
       "      <th>youngest</th>\n",
       "      <th>zero</th>\n",
       "      <th>zone</th>\n",
       "      <th>zubrowka</th>\n",
       "    </tr>\n",
       "  </thead>\n",
       "  <tbody>\n",
       "    <tr>\n",
       "      <th>0</th>\n",
       "      <td>0.0</td>\n",
       "      <td>0.0</td>\n",
       "      <td>0.0</td>\n",
       "      <td>0.0</td>\n",
       "      <td>0.0</td>\n",
       "      <td>0.0</td>\n",
       "      <td>0.0</td>\n",
       "      <td>0.000000</td>\n",
       "      <td>0.0</td>\n",
       "      <td>0.0</td>\n",
       "      <td>...</td>\n",
       "      <td>0.0</td>\n",
       "      <td>0.252166</td>\n",
       "      <td>0.0</td>\n",
       "      <td>0.000000</td>\n",
       "      <td>0.0</td>\n",
       "      <td>0.0</td>\n",
       "      <td>0.0</td>\n",
       "      <td>0.0</td>\n",
       "      <td>0.0</td>\n",
       "      <td>0.0</td>\n",
       "    </tr>\n",
       "    <tr>\n",
       "      <th>1</th>\n",
       "      <td>0.0</td>\n",
       "      <td>0.0</td>\n",
       "      <td>0.0</td>\n",
       "      <td>0.0</td>\n",
       "      <td>0.0</td>\n",
       "      <td>0.0</td>\n",
       "      <td>0.0</td>\n",
       "      <td>0.000000</td>\n",
       "      <td>0.0</td>\n",
       "      <td>0.0</td>\n",
       "      <td>...</td>\n",
       "      <td>0.0</td>\n",
       "      <td>0.000000</td>\n",
       "      <td>0.0</td>\n",
       "      <td>0.000000</td>\n",
       "      <td>0.0</td>\n",
       "      <td>0.0</td>\n",
       "      <td>0.0</td>\n",
       "      <td>0.0</td>\n",
       "      <td>0.0</td>\n",
       "      <td>0.0</td>\n",
       "    </tr>\n",
       "    <tr>\n",
       "      <th>2</th>\n",
       "      <td>0.0</td>\n",
       "      <td>0.0</td>\n",
       "      <td>0.0</td>\n",
       "      <td>0.0</td>\n",
       "      <td>0.0</td>\n",
       "      <td>0.0</td>\n",
       "      <td>0.0</td>\n",
       "      <td>0.217608</td>\n",
       "      <td>0.0</td>\n",
       "      <td>0.0</td>\n",
       "      <td>...</td>\n",
       "      <td>0.0</td>\n",
       "      <td>0.000000</td>\n",
       "      <td>0.0</td>\n",
       "      <td>0.170867</td>\n",
       "      <td>0.0</td>\n",
       "      <td>0.0</td>\n",
       "      <td>0.0</td>\n",
       "      <td>0.0</td>\n",
       "      <td>0.0</td>\n",
       "      <td>0.0</td>\n",
       "    </tr>\n",
       "    <tr>\n",
       "      <th>3</th>\n",
       "      <td>0.0</td>\n",
       "      <td>0.0</td>\n",
       "      <td>0.0</td>\n",
       "      <td>0.0</td>\n",
       "      <td>0.0</td>\n",
       "      <td>0.0</td>\n",
       "      <td>0.0</td>\n",
       "      <td>0.000000</td>\n",
       "      <td>0.0</td>\n",
       "      <td>0.0</td>\n",
       "      <td>...</td>\n",
       "      <td>0.0</td>\n",
       "      <td>0.000000</td>\n",
       "      <td>0.0</td>\n",
       "      <td>0.000000</td>\n",
       "      <td>0.0</td>\n",
       "      <td>0.0</td>\n",
       "      <td>0.0</td>\n",
       "      <td>0.0</td>\n",
       "      <td>0.0</td>\n",
       "      <td>0.0</td>\n",
       "    </tr>\n",
       "    <tr>\n",
       "      <th>4</th>\n",
       "      <td>0.0</td>\n",
       "      <td>0.0</td>\n",
       "      <td>0.0</td>\n",
       "      <td>0.0</td>\n",
       "      <td>0.0</td>\n",
       "      <td>0.0</td>\n",
       "      <td>0.0</td>\n",
       "      <td>0.000000</td>\n",
       "      <td>0.0</td>\n",
       "      <td>0.0</td>\n",
       "      <td>...</td>\n",
       "      <td>0.0</td>\n",
       "      <td>0.000000</td>\n",
       "      <td>0.0</td>\n",
       "      <td>0.000000</td>\n",
       "      <td>0.0</td>\n",
       "      <td>0.0</td>\n",
       "      <td>0.0</td>\n",
       "      <td>0.0</td>\n",
       "      <td>0.0</td>\n",
       "      <td>0.0</td>\n",
       "    </tr>\n",
       "  </tbody>\n",
       "</table>\n",
       "<p>5 rows × 2081 columns</p>\n",
       "</div>"
      ],
      "text/plain": [
       "   000   10   12   15  16th  1820s  18th     1920s  1936  1937    ...     \\\n",
       "0  0.0  0.0  0.0  0.0   0.0    0.0   0.0  0.000000   0.0   0.0    ...      \n",
       "1  0.0  0.0  0.0  0.0   0.0    0.0   0.0  0.000000   0.0   0.0    ...      \n",
       "2  0.0  0.0  0.0  0.0   0.0    0.0   0.0  0.217608   0.0   0.0    ...      \n",
       "3  0.0  0.0  0.0  0.0   0.0    0.0   0.0  0.000000   0.0   0.0    ...      \n",
       "4  0.0  0.0  0.0  0.0   0.0    0.0   0.0  0.000000   0.0   0.0    ...      \n",
       "\n",
       "   year     years  yoda      york  young  younger  youngest  zero  zone  \\\n",
       "0   0.0  0.252166   0.0  0.000000    0.0      0.0       0.0   0.0   0.0   \n",
       "1   0.0  0.000000   0.0  0.000000    0.0      0.0       0.0   0.0   0.0   \n",
       "2   0.0  0.000000   0.0  0.170867    0.0      0.0       0.0   0.0   0.0   \n",
       "3   0.0  0.000000   0.0  0.000000    0.0      0.0       0.0   0.0   0.0   \n",
       "4   0.0  0.000000   0.0  0.000000    0.0      0.0       0.0   0.0   0.0   \n",
       "\n",
       "   zubrowka  \n",
       "0       0.0  \n",
       "1       0.0  \n",
       "2       0.0  \n",
       "3       0.0  \n",
       "4       0.0  \n",
       "\n",
       "[5 rows x 2081 columns]"
      ]
     },
     "execution_count": 40,
     "metadata": {},
     "output_type": "execute_result"
    }
   ],
   "source": [
    "nlpdf  = pd.DataFrame(tfidfvect.transform(df['Description']).todense(),columns=tfidfvect.get_feature_names(),index=df['Description'])\n",
    "nlpdf.transpose().sort_values(df['Description'][0], ascending=False).head(10).transpose()\n",
    "nlpdf.reset_index(inplace=True)\n",
    "nlpdf.drop('Description',1,inplace = True)\n",
    "nlpdf.head()"
   ]
  },
  {
   "cell_type": "code",
   "execution_count": null,
   "metadata": {
    "collapsed": false
   },
   "outputs": [],
   "source": []
  },
  {
   "cell_type": "code",
   "execution_count": 30,
   "metadata": {
    "collapsed": true
   },
   "outputs": [],
   "source": [
    "X = pd.concat([dummydf,scalingdf,nlpdf], axis =1)"
   ]
  },
  {
   "cell_type": "code",
   "execution_count": 44,
   "metadata": {
    "collapsed": false
   },
   "outputs": [],
   "source": [
    "def bucketingY(x):\n",
    "    if x >= 9.0:\n",
    "        return 1\n",
    "    elif x >= 8.5:\n",
    "        return 2\n",
    "    else:\n",
    "        return 3"
   ]
  },
  {
   "cell_type": "code",
   "execution_count": 46,
   "metadata": {
    "collapsed": false
   },
   "outputs": [],
   "source": [
    "y = y.apply(lambda x: bucketingY(x))"
   ]
  },
  {
   "cell_type": "code",
   "execution_count": null,
   "metadata": {
    "collapsed": false
   },
   "outputs": [],
   "source": []
  },
  {
   "cell_type": "code",
   "execution_count": null,
   "metadata": {
    "collapsed": true
   },
   "outputs": [],
   "source": []
  }
 ],
 "metadata": {
  "kernelspec": {
   "display_name": "Python 2",
   "language": "python",
   "name": "python2"
  },
  "language_info": {
   "codemirror_mode": {
    "name": "ipython",
    "version": 2
   },
   "file_extension": ".py",
   "mimetype": "text/x-python",
   "name": "python",
   "nbconvert_exporter": "python",
   "pygments_lexer": "ipython2",
   "version": "2.7.12"
  }
 },
 "nbformat": 4,
 "nbformat_minor": 0
}
