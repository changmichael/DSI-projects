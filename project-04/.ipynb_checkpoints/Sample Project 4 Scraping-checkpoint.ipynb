{
 "cells": [
  {
   "cell_type": "code",
   "execution_count": 124,
   "metadata": {
    "collapsed": true
   },
   "outputs": [],
   "source": [
    "import requests\n",
    "import pandas as pd\n",
    "import numpy as np\n",
    "from bs4 import BeautifulSoup"
   ]
  },
  {
   "cell_type": "code",
   "execution_count": 152,
   "metadata": {
    "collapsed": true
   },
   "outputs": [],
   "source": [
    "r = requests.get('http://www.indeed.com/jobs?q=data+scientist&l=nyc&start=30')"
   ]
  },
  {
   "cell_type": "code",
   "execution_count": 153,
   "metadata": {
    "collapsed": false
   },
   "outputs": [],
   "source": [
    "soup = BeautifulSoup(r.content, \"lxml\")"
   ]
  },
  {
   "cell_type": "code",
   "execution_count": 154,
   "metadata": {
    "collapsed": false
   },
   "outputs": [],
   "source": [
    "loc = soup.findAll(class_='location')\n",
    "\n",
    "locations = []\n",
    "for i in loc:\n",
    "    try:\n",
    "        locations.append(i.text)\n",
    "    except:\n",
    "        locations.append(np.nana)"
   ]
  },
  {
   "cell_type": "code",
   "execution_count": 155,
   "metadata": {
    "collapsed": false
   },
   "outputs": [],
   "source": [
    "title = soup.findAll(class_='jobtitle')\n",
    "\n",
    "titles = []\n",
    "for i in title:\n",
    "    try:\n",
    "        titles.append(i.text.strip())\n",
    "    except:\n",
    "        titles.append(np.nan)"
   ]
  },
  {
   "cell_type": "code",
   "execution_count": 156,
   "metadata": {
    "collapsed": false
   },
   "outputs": [],
   "source": [
    "company = soup.findAll(class_='company')\n",
    "\n",
    "companies = []\n",
    "for i in company:\n",
    "    try:\n",
    "        companies.append(i.text.strip())\n",
    "    except:\n",
    "        companies.append(np.nan)"
   ]
  },
  {
   "cell_type": "code",
   "execution_count": 157,
   "metadata": {
    "collapsed": false
   },
   "outputs": [],
   "source": [
    "salary = soup.findAll(class_='location')\n",
    "\n",
    "salaries = []\n",
    "for i in salary:\n",
    "    try:\n",
    "        salaries.append(i.findNextSibling().get_text().strip())\n",
    "    except:\n",
    "        salaries.append(np.nan)"
   ]
  },
  {
   "cell_type": "code",
   "execution_count": 158,
   "metadata": {
    "collapsed": true
   },
   "outputs": [],
   "source": [
    "df = pd.DataFrame([titles, companies, locations, salaries]).T\n",
    "df.columns = ['title', 'company', 'locations','salary']"
   ]
  },
  {
   "cell_type": "code",
   "execution_count": 159,
   "metadata": {
    "collapsed": false
   },
   "outputs": [
    {
     "data": {
      "text/html": [
       "<div>\n",
       "<table border=\"1\" class=\"dataframe\">\n",
       "  <thead>\n",
       "    <tr style=\"text-align: right;\">\n",
       "      <th></th>\n",
       "      <th>title</th>\n",
       "      <th>company</th>\n",
       "      <th>locations</th>\n",
       "      <th>salary</th>\n",
       "    </tr>\n",
       "  </thead>\n",
       "  <tbody>\n",
       "    <tr>\n",
       "      <th>0</th>\n",
       "      <td>Data Scientist</td>\n",
       "      <td>Princeton Consulting</td>\n",
       "      <td>New York, NY</td>\n",
       "      <td>$100,000 - $200,000 a year</td>\n",
       "    </tr>\n",
       "    <tr>\n",
       "      <th>1</th>\n",
       "      <td>Lead Data Scientist</td>\n",
       "      <td>ASCAP</td>\n",
       "      <td>New York, NY</td>\n",
       "      <td>NaN</td>\n",
       "    </tr>\n",
       "    <tr>\n",
       "      <th>2</th>\n",
       "      <td>Data Scientist</td>\n",
       "      <td>Tilting Point</td>\n",
       "      <td>New York, NY</td>\n",
       "      <td>NaN</td>\n",
       "    </tr>\n",
       "    <tr>\n",
       "      <th>3</th>\n",
       "      <td>Data Scientist</td>\n",
       "      <td>The Nielsen Company</td>\n",
       "      <td>New York, NY 10003 (Greenwich Village area)</td>\n",
       "      <td>NaN</td>\n",
       "    </tr>\n",
       "    <tr>\n",
       "      <th>4</th>\n",
       "      <td>Data Scientist</td>\n",
       "      <td>x.ai</td>\n",
       "      <td>New York, NY 10004 (Financial District area)</td>\n",
       "      <td>NaN</td>\n",
       "    </tr>\n",
       "    <tr>\n",
       "      <th>5</th>\n",
       "      <td>Data Scientist</td>\n",
       "      <td>SecurityScorecard</td>\n",
       "      <td>New York, NY</td>\n",
       "      <td>NaN</td>\n",
       "    </tr>\n",
       "    <tr>\n",
       "      <th>6</th>\n",
       "      <td>Data Scientist VI</td>\n",
       "      <td>Memorial Sloan Kettering</td>\n",
       "      <td>New York, NY</td>\n",
       "      <td>NaN</td>\n",
       "    </tr>\n",
       "    <tr>\n",
       "      <th>7</th>\n",
       "      <td>Digital Marketing – Sr. Data Scientist - New Y...</td>\n",
       "      <td>JPMorgan Chase</td>\n",
       "      <td>New York, NY</td>\n",
       "      <td>NaN</td>\n",
       "    </tr>\n",
       "    <tr>\n",
       "      <th>8</th>\n",
       "      <td>Data Scientist (NYC)</td>\n",
       "      <td>Datadog</td>\n",
       "      <td>New York, NY 10001 (Chelsea area)</td>\n",
       "      <td>NaN</td>\n",
       "    </tr>\n",
       "    <tr>\n",
       "      <th>9</th>\n",
       "      <td>Data Scientist</td>\n",
       "      <td>Macy's</td>\n",
       "      <td>New York, NY</td>\n",
       "      <td>NaN</td>\n",
       "    </tr>\n",
       "    <tr>\n",
       "      <th>10</th>\n",
       "      <td>Data Scientist</td>\n",
       "      <td>RangTech</td>\n",
       "      <td>New York, NY</td>\n",
       "      <td>NaN</td>\n",
       "    </tr>\n",
       "    <tr>\n",
       "      <th>11</th>\n",
       "      <td>Associate Research Scientist</td>\n",
       "      <td>Columbia University</td>\n",
       "      <td>Palisades, NY</td>\n",
       "      <td>NaN</td>\n",
       "    </tr>\n",
       "    <tr>\n",
       "      <th>12</th>\n",
       "      <td>Data Scientist</td>\n",
       "      <td>AbilTo, Inc</td>\n",
       "      <td>New York, NY</td>\n",
       "      <td>NaN</td>\n",
       "    </tr>\n",
       "    <tr>\n",
       "      <th>13</th>\n",
       "      <td>Data Scientist – Predictive Analytics</td>\n",
       "      <td>Gallup</td>\n",
       "      <td>New York, NY</td>\n",
       "      <td>NaN</td>\n",
       "    </tr>\n",
       "    <tr>\n",
       "      <th>14</th>\n",
       "      <td>Data Scientist - Monitoring &amp; Anomaly Detectio...</td>\n",
       "      <td>Uber</td>\n",
       "      <td>New York, NY</td>\n",
       "      <td>NaN</td>\n",
       "    </tr>\n",
       "  </tbody>\n",
       "</table>\n",
       "</div>"
      ],
      "text/plain": [
       "                                                title  \\\n",
       "0                                      Data Scientist   \n",
       "1                                 Lead Data Scientist   \n",
       "2                                      Data Scientist   \n",
       "3                                      Data Scientist   \n",
       "4                                      Data Scientist   \n",
       "5                                      Data Scientist   \n",
       "6                                   Data Scientist VI   \n",
       "7   Digital Marketing – Sr. Data Scientist - New Y...   \n",
       "8                                Data Scientist (NYC)   \n",
       "9                                      Data Scientist   \n",
       "10                                     Data Scientist   \n",
       "11                       Associate Research Scientist   \n",
       "12                                     Data Scientist   \n",
       "13              Data Scientist – Predictive Analytics   \n",
       "14  Data Scientist - Monitoring & Anomaly Detectio...   \n",
       "\n",
       "                     company                                     locations  \\\n",
       "0       Princeton Consulting                                  New York, NY   \n",
       "1                      ASCAP                                  New York, NY   \n",
       "2              Tilting Point                                  New York, NY   \n",
       "3        The Nielsen Company   New York, NY 10003 (Greenwich Village area)   \n",
       "4                       x.ai  New York, NY 10004 (Financial District area)   \n",
       "5          SecurityScorecard                                  New York, NY   \n",
       "6   Memorial Sloan Kettering                                  New York, NY   \n",
       "7             JPMorgan Chase                                  New York, NY   \n",
       "8                    Datadog             New York, NY 10001 (Chelsea area)   \n",
       "9                     Macy's                                  New York, NY   \n",
       "10                  RangTech                                  New York, NY   \n",
       "11       Columbia University                                 Palisades, NY   \n",
       "12               AbilTo, Inc                                  New York, NY   \n",
       "13                    Gallup                                  New York, NY   \n",
       "14                      Uber                                  New York, NY   \n",
       "\n",
       "                        salary  \n",
       "0   $100,000 - $200,000 a year  \n",
       "1                          NaN  \n",
       "2                          NaN  \n",
       "3                          NaN  \n",
       "4                          NaN  \n",
       "5                          NaN  \n",
       "6                          NaN  \n",
       "7                          NaN  \n",
       "8                          NaN  \n",
       "9                          NaN  \n",
       "10                         NaN  \n",
       "11                         NaN  \n",
       "12                         NaN  \n",
       "13                         NaN  \n",
       "14                         NaN  "
      ]
     },
     "execution_count": 159,
     "metadata": {},
     "output_type": "execute_result"
    }
   ],
   "source": [
    "df"
   ]
  },
  {
   "cell_type": "code",
   "execution_count": null,
   "metadata": {
    "collapsed": true
   },
   "outputs": [],
   "source": []
  }
 ],
 "metadata": {
  "kernelspec": {
   "display_name": "Python 2",
   "language": "python",
   "name": "python2"
  },
  "language_info": {
   "codemirror_mode": {
    "name": "ipython",
    "version": 2
   },
   "file_extension": ".py",
   "mimetype": "text/x-python",
   "name": "python",
   "nbconvert_exporter": "python",
   "pygments_lexer": "ipython2",
   "version": "2.7.11"
  }
 },
 "nbformat": 4,
 "nbformat_minor": 0
}
