{
 "cells": [
  {
   "cell_type": "code",
   "execution_count": 3,
   "metadata": {
    "collapsed": true
   },
   "outputs": [],
   "source": [
    "from __future__ import division, print_function\n",
    "\n",
    "import requests\n",
    "from bs4 import BeautifulSoup\n",
    "from selenium import webdriver\n",
    "\n",
    "\n",
    "import pandas as pd\n",
    "import numpy as np\n",
    "\n",
    "from IPython.core.display import HTML, Image"
   ]
  },
  {
   "cell_type": "markdown",
   "metadata": {},
   "source": [
    "# Scraping a webpage"
   ]
  },
  {
   "cell_type": "markdown",
   "metadata": {},
   "source": [
    "Here's a link to the Box Office Mojo page for Jurrasic Park. See if you can scrape the following information:\n",
    "- Title\n",
    "- Domestic Total Gross\n",
    "- Distributor\n",
    "- MPAA rating"
   ]
  },
  {
   "cell_type": "code",
   "execution_count": 171,
   "metadata": {
    "collapsed": true
   },
   "outputs": [],
   "source": [
    "url = 'http://www.boxofficemojo.com/movies/?id=jurassicpark.htm'"
   ]
  },
  {
   "cell_type": "code",
   "execution_count": 17,
   "metadata": {
    "collapsed": false
   },
   "outputs": [],
   "source": [
    "response = requests.get(url)\n",
    "page = response.text\n",
    "soup = BeautifulSoup(page)"
   ]
  },
  {
   "cell_type": "code",
   "execution_count": 32,
   "metadata": {
    "collapsed": false
   },
   "outputs": [
    {
     "data": {
      "text/plain": [
       "'Jurassic Park'"
      ]
     },
     "execution_count": 32,
     "metadata": {},
     "output_type": "execute_result"
    }
   ],
   "source": [
    "title_string = soup.find('title').text\n",
    "title = str(title_string.split('(')[0].strip())\n",
    "title"
   ]
  },
  {
   "cell_type": "code",
   "execution_count": 38,
   "metadata": {
    "collapsed": true
   },
   "outputs": [],
   "source": [
    "# Regular expressions (aka RegEx or re) matches patterns in your strings\n",
    "# Use it to find text that is very similar to what you wrote\n",
    "import re"
   ]
  },
  {
   "cell_type": "code",
   "execution_count": 69,
   "metadata": {
    "collapsed": false
   },
   "outputs": [],
   "source": [
    "item = soup.find(text=re.compile(\"Distributor\"))"
   ]
  },
  {
   "cell_type": "code",
   "execution_count": 70,
   "metadata": {
    "collapsed": false,
    "scrolled": true
   },
   "outputs": [
    {
     "data": {
      "text/plain": [
       "u'Distributor: '"
      ]
     },
     "execution_count": 70,
     "metadata": {},
     "output_type": "execute_result"
    }
   ],
   "source": [
    "item"
   ]
  },
  {
   "cell_type": "code",
   "execution_count": 72,
   "metadata": {
    "collapsed": false
   },
   "outputs": [
    {
     "data": {
      "text/plain": [
       "u'Universal'"
      ]
     },
     "execution_count": 72,
     "metadata": {},
     "output_type": "execute_result"
    }
   ],
   "source": [
    "item.findNextSibling()"
   ]
  },
  {
   "cell_type": "code",
   "execution_count": 74,
   "metadata": {
    "collapsed": true
   },
   "outputs": [],
   "source": [
    "def get_soup_from_url(url):\n",
    "    '''Returns Beautiful Soup for a given webpage'''\n",
    "    response = requests.get(url)\n",
    "    page = response.text\n",
    "    soup = BeautifulSoup(page)\n",
    "    \n",
    "    return soup"
   ]
  },
  {
   "cell_type": "code",
   "execution_count": 86,
   "metadata": {
    "collapsed": true
   },
   "outputs": [],
   "source": [
    "def get_movie_info(url):\n",
    "    '''Takes in a movie's URL and scrapes that webpage using Beautiful Soup\n",
    "    \n",
    "    Returns a list of that movie's Title, Gross, Rating and Distributor\n",
    "    \n",
    "    \n",
    "    >> url = 'http://www.boxofficemojo.com/movies/?id=jurassicpark.htm'\n",
    "    >> get_movie_info(url)\n",
    "    ['Jurassic Park', '$357,067,947', 'PG-13', 'Universal']\n",
    "    \n",
    "    \n",
    "    '''\n",
    "    soup = get_soup_from_url(url)\n",
    "    \n",
    "    results = []\n",
    "    \n",
    "    title_string = soup.find('title').text\n",
    "    title = str(title_string.split('(')[0].strip())\n",
    "    \n",
    "    results.append(title)\n",
    "    \n",
    "    categories = ['Domestic Total Gross', 'MPAA', 'Distributor']\n",
    "    \n",
    "    for c in categories:\n",
    "        item = soup.find(text=re.compile(c))\n",
    "        \n",
    "        next_item = item.findNextSibling()\n",
    "        \n",
    "        parsed_item = next_item.text.encode('ascii') #This conversion from unicode to ascii lets Python 2 read the strings \n",
    "        \n",
    "        results.append(parsed_item)\n",
    "        \n",
    "    return results  "
   ]
  },
  {
   "cell_type": "code",
   "execution_count": 172,
   "metadata": {
    "collapsed": false
   },
   "outputs": [
    {
     "data": {
      "text/plain": [
       "['Jurassic Park', '$357,067,947', 'PG-13', 'Universal']"
      ]
     },
     "execution_count": 172,
     "metadata": {},
     "output_type": "execute_result"
    }
   ],
   "source": [
    "get_movie_info(url)"
   ]
  },
  {
   "cell_type": "markdown",
   "metadata": {},
   "source": [
    "# Scraping a few webpages"
   ]
  },
  {
   "cell_type": "markdown",
   "metadata": {},
   "source": [
    "Let's say we want to get that same information for several movies at once. Here's a link to the top 100 movies from 1993. Use this table to generate a list of URLs from each movie. \n",
    "\n"
   ]
  },
  {
   "cell_type": "code",
   "execution_count": 90,
   "metadata": {
    "collapsed": false
   },
   "outputs": [],
   "source": [
    "top_100_url = 'http://www.boxofficemojo.com/yearly/chart/?yr=1993&p=.htm'\n",
    "soup_100= get_soup_from_url(top_100_url)"
   ]
  },
  {
   "cell_type": "code",
   "execution_count": 132,
   "metadata": {
    "collapsed": false
   },
   "outputs": [],
   "source": [
    "links = []\n",
    "for item in soup_100.find_all('a', href=re.compile(\"/movies/\")):\n",
    "    tail_link = item['href']\n",
    "    link = 'http://www.boxofficemojo.com' + tail_link\n",
    "    links.append(link)"
   ]
  },
  {
   "cell_type": "code",
   "execution_count": 134,
   "metadata": {
    "collapsed": false
   },
   "outputs": [
    {
     "data": {
      "text/plain": [
       "['http://www.boxofficemojo.com/movies/?id=pixar2015.htm',\n",
       " 'http://www.boxofficemojo.com/movies/?id=jurassicpark.htm',\n",
       " 'http://www.boxofficemojo.com/movies/?id=mrsdoubtfire.htm',\n",
       " 'http://www.boxofficemojo.com/movies/?id=fugitive.htm',\n",
       " 'http://www.boxofficemojo.com/movies/?id=firm.htm']"
      ]
     },
     "execution_count": 134,
     "metadata": {},
     "output_type": "execute_result"
    }
   ],
   "source": [
    "links[:5]"
   ]
  },
  {
   "cell_type": "code",
   "execution_count": 138,
   "metadata": {
    "collapsed": false
   },
   "outputs": [
    {
     "data": {
      "text/plain": [
       "'http://www.boxofficemojo.com/movies/?id=pixar2015.htm'"
      ]
     },
     "execution_count": 138,
     "metadata": {},
     "output_type": "execute_result"
    }
   ],
   "source": [
    "links.pop(0) #remove the first Pixar item from the list of links"
   ]
  },
  {
   "cell_type": "markdown",
   "metadata": {},
   "source": [
    "### Reusing your code"
   ]
  },
  {
   "cell_type": "markdown",
   "metadata": {},
   "source": [
    "See if you can the code you wrote for Jurrasic Park into a function to grab Title, Gross, Distributor, and MPAA rating for each movie on the top 100.  "
   ]
  },
  {
   "cell_type": "code",
   "execution_count": null,
   "metadata": {
    "collapsed": false
   },
   "outputs": [],
   "source": [
    "table = []\n",
    "for url in links:\n",
    "    info = get_movie_info(url)\n",
    "    table.append(info)"
   ]
  },
  {
   "cell_type": "code",
   "execution_count": 141,
   "metadata": {
    "collapsed": false
   },
   "outputs": [
    {
     "data": {
      "text/plain": [
       "[['Jurassic Park', '$357,067,947', 'PG-13', 'Universal'],\n",
       " ['Mrs. Doubtfire', '$219,195,243', 'PG-13', 'Fox'],\n",
       " ['The Fugitive', '$183,875,760', 'PG-13', 'Warner Bros.'],\n",
       " ['The Firm', '$158,348,367', 'R', 'Paramount'],\n",
       " ['Sleepless in Seattle', '$126,680,884', 'PG', 'TriStar']]"
      ]
     },
     "execution_count": 141,
     "metadata": {},
     "output_type": "execute_result"
    }
   ],
   "source": [
    "table[:5]"
   ]
  },
  {
   "cell_type": "markdown",
   "metadata": {},
   "source": [
    "# Bonus: Turn the data you collected into a dataframe. \n",
    "Plot the Domestic total gross by MPAA rating, then by Distributor"
   ]
  },
  {
   "cell_type": "code",
   "execution_count": 151,
   "metadata": {
    "collapsed": false
   },
   "outputs": [],
   "source": [
    "df = pd.DataFrame(table, columns = ['Title', 'Domestic Gross', 'Rating', 'Distributor'])"
   ]
  },
  {
   "cell_type": "code",
   "execution_count": 152,
   "metadata": {
    "collapsed": false
   },
   "outputs": [
    {
     "data": {
      "text/html": [
       "<div>\n",
       "<table border=\"1\" class=\"dataframe\">\n",
       "  <thead>\n",
       "    <tr style=\"text-align: right;\">\n",
       "      <th></th>\n",
       "      <th>Title</th>\n",
       "      <th>Domestic Gross</th>\n",
       "      <th>Rating</th>\n",
       "      <th>Distributor</th>\n",
       "    </tr>\n",
       "  </thead>\n",
       "  <tbody>\n",
       "    <tr>\n",
       "      <th>0</th>\n",
       "      <td>Jurassic Park</td>\n",
       "      <td>$357,067,947</td>\n",
       "      <td>PG-13</td>\n",
       "      <td>Universal</td>\n",
       "    </tr>\n",
       "    <tr>\n",
       "      <th>1</th>\n",
       "      <td>Mrs. Doubtfire</td>\n",
       "      <td>$219,195,243</td>\n",
       "      <td>PG-13</td>\n",
       "      <td>Fox</td>\n",
       "    </tr>\n",
       "    <tr>\n",
       "      <th>2</th>\n",
       "      <td>The Fugitive</td>\n",
       "      <td>$183,875,760</td>\n",
       "      <td>PG-13</td>\n",
       "      <td>Warner Bros.</td>\n",
       "    </tr>\n",
       "    <tr>\n",
       "      <th>3</th>\n",
       "      <td>The Firm</td>\n",
       "      <td>$158,348,367</td>\n",
       "      <td>R</td>\n",
       "      <td>Paramount</td>\n",
       "    </tr>\n",
       "    <tr>\n",
       "      <th>4</th>\n",
       "      <td>Sleepless in Seattle</td>\n",
       "      <td>$126,680,884</td>\n",
       "      <td>PG</td>\n",
       "      <td>TriStar</td>\n",
       "    </tr>\n",
       "  </tbody>\n",
       "</table>\n",
       "</div>"
      ],
      "text/plain": [
       "                  Title Domestic Gross Rating   Distributor\n",
       "0         Jurassic Park   $357,067,947  PG-13     Universal\n",
       "1        Mrs. Doubtfire   $219,195,243  PG-13           Fox\n",
       "2          The Fugitive   $183,875,760  PG-13  Warner Bros.\n",
       "3              The Firm   $158,348,367      R     Paramount\n",
       "4  Sleepless in Seattle   $126,680,884     PG       TriStar"
      ]
     },
     "execution_count": 152,
     "metadata": {},
     "output_type": "execute_result"
    }
   ],
   "source": [
    "df.head()"
   ]
  },
  {
   "cell_type": "code",
   "execution_count": 155,
   "metadata": {
    "collapsed": false
   },
   "outputs": [],
   "source": [
    "df['Domestic Gross'] = df['Domestic Gross'].apply(lambda x: x.replace('$',''))\n",
    "df['Domestic Gross'] = df['Domestic Gross'].apply(lambda x: x.replace(',',''))\n",
    "df['Domestic Gross'] = df['Domestic Gross'].apply(lambda x: int(x))"
   ]
  },
  {
   "cell_type": "code",
   "execution_count": 156,
   "metadata": {
    "collapsed": false
   },
   "outputs": [
    {
     "data": {
      "text/html": [
       "<div>\n",
       "<table border=\"1\" class=\"dataframe\">\n",
       "  <thead>\n",
       "    <tr style=\"text-align: right;\">\n",
       "      <th></th>\n",
       "      <th>Title</th>\n",
       "      <th>Domestic Gross</th>\n",
       "      <th>Rating</th>\n",
       "      <th>Distributor</th>\n",
       "    </tr>\n",
       "  </thead>\n",
       "  <tbody>\n",
       "    <tr>\n",
       "      <th>0</th>\n",
       "      <td>Jurassic Park</td>\n",
       "      <td>357067947</td>\n",
       "      <td>PG-13</td>\n",
       "      <td>Universal</td>\n",
       "    </tr>\n",
       "    <tr>\n",
       "      <th>1</th>\n",
       "      <td>Mrs. Doubtfire</td>\n",
       "      <td>219195243</td>\n",
       "      <td>PG-13</td>\n",
       "      <td>Fox</td>\n",
       "    </tr>\n",
       "    <tr>\n",
       "      <th>2</th>\n",
       "      <td>The Fugitive</td>\n",
       "      <td>183875760</td>\n",
       "      <td>PG-13</td>\n",
       "      <td>Warner Bros.</td>\n",
       "    </tr>\n",
       "    <tr>\n",
       "      <th>3</th>\n",
       "      <td>The Firm</td>\n",
       "      <td>158348367</td>\n",
       "      <td>R</td>\n",
       "      <td>Paramount</td>\n",
       "    </tr>\n",
       "    <tr>\n",
       "      <th>4</th>\n",
       "      <td>Sleepless in Seattle</td>\n",
       "      <td>126680884</td>\n",
       "      <td>PG</td>\n",
       "      <td>TriStar</td>\n",
       "    </tr>\n",
       "  </tbody>\n",
       "</table>\n",
       "</div>"
      ],
      "text/plain": [
       "                  Title  Domestic Gross Rating   Distributor\n",
       "0         Jurassic Park       357067947  PG-13     Universal\n",
       "1        Mrs. Doubtfire       219195243  PG-13           Fox\n",
       "2          The Fugitive       183875760  PG-13  Warner Bros.\n",
       "3              The Firm       158348367      R     Paramount\n",
       "4  Sleepless in Seattle       126680884     PG       TriStar"
      ]
     },
     "execution_count": 156,
     "metadata": {},
     "output_type": "execute_result"
    }
   ],
   "source": [
    "df.head()"
   ]
  },
  {
   "cell_type": "code",
   "execution_count": 165,
   "metadata": {
    "collapsed": false
   },
   "outputs": [
    {
     "data": {
      "text/html": [
       "<div>\n",
       "<table border=\"1\" class=\"dataframe\">\n",
       "  <thead>\n",
       "    <tr style=\"text-align: right;\">\n",
       "      <th></th>\n",
       "      <th>Domestic Gross</th>\n",
       "    </tr>\n",
       "    <tr>\n",
       "      <th>Rating</th>\n",
       "      <th></th>\n",
       "    </tr>\n",
       "  </thead>\n",
       "  <tbody>\n",
       "    <tr>\n",
       "      <th>G</th>\n",
       "      <td>114649142</td>\n",
       "    </tr>\n",
       "    <tr>\n",
       "      <th>PG</th>\n",
       "      <td>1132420207</td>\n",
       "    </tr>\n",
       "    <tr>\n",
       "      <th>PG-13</th>\n",
       "      <td>1727437616</td>\n",
       "    </tr>\n",
       "    <tr>\n",
       "      <th>R</th>\n",
       "      <td>1519243482</td>\n",
       "    </tr>\n",
       "  </tbody>\n",
       "</table>\n",
       "</div>"
      ],
      "text/plain": [
       "        Domestic Gross\n",
       "Rating                \n",
       "G            114649142\n",
       "PG          1132420207\n",
       "PG-13       1727437616\n",
       "R           1519243482"
      ]
     },
     "execution_count": 165,
     "metadata": {},
     "output_type": "execute_result"
    }
   ],
   "source": [
    "%matplotlib inline\n",
    "df.groupby('Rating')[['Domestic Gross']].sum()"
   ]
  },
  {
   "cell_type": "code",
   "execution_count": 167,
   "metadata": {
    "collapsed": false
   },
   "outputs": [
    {
     "data": {
      "text/plain": [
       "<matplotlib.axes._subplots.AxesSubplot at 0x117d21e90>"
      ]
     },
     "execution_count": 167,
     "metadata": {},
     "output_type": "execute_result"
    },
    {
     "data": {
      "image/png": "[encoded data removed]",
      "text/plain": [
       "<matplotlib.figure.Figure at 0x118f7d7d0>"
      ]
     },
     "metadata": {},
     "output_type": "display_data"
    }
   ],
   "source": [
    "df.groupby('Rating')[['Domestic Gross']].sum().plot(kind='barh')"
   ]
  },
  {
   "cell_type": "code",
   "execution_count": 168,
   "metadata": {
    "collapsed": false
   },
   "outputs": [
    {
     "data": {
      "text/plain": [
       "<matplotlib.axes._subplots.AxesSubplot at 0x119d27510>"
      ]
     },
     "execution_count": 168,
     "metadata": {},
     "output_type": "execute_result"
    },
    {
     "data": {
      "image/png": "[encoded data removed]",
      "text/plain": [
       "<matplotlib.figure.Figure at 0x117f00b10>"
      ]
     },
     "metadata": {},
     "output_type": "display_data"
    }
   ],
   "source": [
    "df.groupby('Distributor')[['Domestic Gross']].sum().plot(kind='barh')"
   ]
  },
  {
   "cell_type": "code",
   "execution_count": null,
   "metadata": {
    "collapsed": true
   },
   "outputs": [],
   "source": []
  }
 ],
 "metadata": {
  "kernelspec": {
   "display_name": "Python 2",
   "language": "python",
   "name": "python2"
  },
  "language_info": {
   "codemirror_mode": {
    "name": "ipython",
    "version": 2
   },
   "file_extension": ".py",
   "mimetype": "text/x-python",
   "name": "python",
   "nbconvert_exporter": "python",
   "pygments_lexer": "ipython2",
   "version": "2.7.11"
  }
 },
 "nbformat": 4,
 "nbformat_minor": 0
}
