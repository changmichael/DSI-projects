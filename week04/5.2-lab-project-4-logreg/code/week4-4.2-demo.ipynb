{
 "cells": [
  {
   "cell_type": "code",
   "execution_count": 1,
   "metadata": {
    "collapsed": false
   },
   "outputs": [],
   "source": [
    "# these will install packages from the notebook!\n",
    "#!pip install sklearn\n",
    "#!pip install matplotlib\n",
    "#!pip install numpy\n",
    "#!pip install pandas\n"
   ]
  },
  {
   "cell_type": "code",
   "execution_count": 2,
   "metadata": {
    "collapsed": true
   },
   "outputs": [],
   "source": [
    "%matplotlib inline\n",
    "import numpy as np\n",
    "import matplotlib.pyplot as plt\n",
    "import pandas as pd\n",
    "from sklearn.linear_model import LogisticRegression\n",
    "from sklearn import datasets"
   ]
  },
  {
   "cell_type": "code",
   "execution_count": 3,
   "metadata": {
    "collapsed": false
   },
   "outputs": [
    {
     "data": {
      "text/plain": [
       "sklearn.datasets.base.Bunch"
      ]
     },
     "execution_count": 3,
     "metadata": {},
     "output_type": "execute_result"
    }
   ],
   "source": [
    "iris = datasets.load_iris() # load the digits (data)\n",
    "type(iris)"
   ]
  },
  {
   "cell_type": "code",
   "execution_count": null,
   "metadata": {
    "collapsed": true
   },
   "outputs": [],
   "source": []
  },
  {
   "cell_type": "code",
   "execution_count": 25,
   "metadata": {
    "collapsed": false
   },
   "outputs": [
    {
     "data": {
      "text/plain": [
       "['target_names', 'data', 'target', 'DESCR', 'feature_names']"
      ]
     },
     "execution_count": 25,
     "metadata": {},
     "output_type": "execute_result"
    }
   ],
   "source": [
    "iris.keys()"
   ]
  },
  {
   "cell_type": "code",
   "execution_count": 26,
   "metadata": {
    "collapsed": false
   },
   "outputs": [
    {
     "data": {
      "text/plain": [
       "['setosa', 'versicolor', 'virginica']"
      ]
     },
     "execution_count": 26,
     "metadata": {},
     "output_type": "execute_result"
    }
   ],
   "source": [
    "list(iris.target_names) # names of potential labels"
   ]
  },
  {
   "cell_type": "code",
   "execution_count": 27,
   "metadata": {
    "collapsed": false
   },
   "outputs": [
    {
     "data": {
      "text/plain": [
       "['sepal length (cm)',\n",
       " 'sepal width (cm)',\n",
       " 'petal length (cm)',\n",
       " 'petal width (cm)']"
      ]
     },
     "execution_count": 27,
     "metadata": {},
     "output_type": "execute_result"
    }
   ],
   "source": [
    "list(iris.feature_names) # names of features"
   ]
  },
  {
   "cell_type": "code",
   "execution_count": 28,
   "metadata": {
    "collapsed": false
   },
   "outputs": [],
   "source": [
    "irisdf = pd.DataFrame(iris.data, columns=iris.feature_names)\n",
    "irisdf['target'] = iris.target\n",
    "# append target (response column) to your new dataframe"
   ]
  },
  {
   "cell_type": "code",
   "execution_count": 29,
   "metadata": {
    "collapsed": false
   },
   "outputs": [
    {
     "data": {
      "text/html": [
       "<div>\n",
       "<table border=\"1\" class=\"dataframe\">\n",
       "  <thead>\n",
       "    <tr style=\"text-align: right;\">\n",
       "      <th></th>\n",
       "      <th>sepal length (cm)</th>\n",
       "      <th>sepal width (cm)</th>\n",
       "      <th>petal length (cm)</th>\n",
       "      <th>petal width (cm)</th>\n",
       "      <th>target</th>\n",
       "    </tr>\n",
       "  </thead>\n",
       "  <tbody>\n",
       "    <tr>\n",
       "      <th>0</th>\n",
       "      <td>5.1</td>\n",
       "      <td>3.5</td>\n",
       "      <td>1.4</td>\n",
       "      <td>0.2</td>\n",
       "      <td>0</td>\n",
       "    </tr>\n",
       "    <tr>\n",
       "      <th>1</th>\n",
       "      <td>4.9</td>\n",
       "      <td>3.0</td>\n",
       "      <td>1.4</td>\n",
       "      <td>0.2</td>\n",
       "      <td>0</td>\n",
       "    </tr>\n",
       "    <tr>\n",
       "      <th>2</th>\n",
       "      <td>4.7</td>\n",
       "      <td>3.2</td>\n",
       "      <td>1.3</td>\n",
       "      <td>0.2</td>\n",
       "      <td>0</td>\n",
       "    </tr>\n",
       "    <tr>\n",
       "      <th>3</th>\n",
       "      <td>4.6</td>\n",
       "      <td>3.1</td>\n",
       "      <td>1.5</td>\n",
       "      <td>0.2</td>\n",
       "      <td>0</td>\n",
       "    </tr>\n",
       "    <tr>\n",
       "      <th>4</th>\n",
       "      <td>5.0</td>\n",
       "      <td>3.6</td>\n",
       "      <td>1.4</td>\n",
       "      <td>0.2</td>\n",
       "      <td>0</td>\n",
       "    </tr>\n",
       "  </tbody>\n",
       "</table>\n",
       "</div>"
      ],
      "text/plain": [
       "   sepal length (cm)  sepal width (cm)  petal length (cm)  petal width (cm)  \\\n",
       "0                5.1               3.5                1.4               0.2   \n",
       "1                4.9               3.0                1.4               0.2   \n",
       "2                4.7               3.2                1.3               0.2   \n",
       "3                4.6               3.1                1.5               0.2   \n",
       "4                5.0               3.6                1.4               0.2   \n",
       "\n",
       "   target  \n",
       "0       0  \n",
       "1       0  \n",
       "2       0  \n",
       "3       0  \n",
       "4       0  "
      ]
     },
     "execution_count": 29,
     "metadata": {},
     "output_type": "execute_result"
    }
   ],
   "source": [
    "irisdf.head()"
   ]
  },
  {
   "cell_type": "code",
   "execution_count": null,
   "metadata": {
    "collapsed": true
   },
   "outputs": [],
   "source": []
  },
  {
   "cell_type": "code",
   "execution_count": 30,
   "metadata": {
    "collapsed": false
   },
   "outputs": [
    {
     "data": {
      "text/plain": [
       "sepal length (cm)    150\n",
       "sepal width (cm)     150\n",
       "petal length (cm)    150\n",
       "petal width (cm)     150\n",
       "target               150\n",
       "dtype: int64"
      ]
     },
     "execution_count": 30,
     "metadata": {},
     "output_type": "execute_result"
    }
   ],
   "source": [
    "irisdf.count() # no null values present"
   ]
  },
  {
   "cell_type": "code",
   "execution_count": 31,
   "metadata": {
    "collapsed": false
   },
   "outputs": [
    {
     "data": {
      "text/html": [
       "<div>\n",
       "<table border=\"1\" class=\"dataframe\">\n",
       "  <thead>\n",
       "    <tr style=\"text-align: right;\">\n",
       "      <th></th>\n",
       "      <th>sepal length (cm)</th>\n",
       "      <th>sepal width (cm)</th>\n",
       "      <th>petal length (cm)</th>\n",
       "      <th>petal width (cm)</th>\n",
       "      <th>target</th>\n",
       "    </tr>\n",
       "  </thead>\n",
       "  <tbody>\n",
       "    <tr>\n",
       "      <th>count</th>\n",
       "      <td>150.000000</td>\n",
       "      <td>150.000000</td>\n",
       "      <td>150.000000</td>\n",
       "      <td>150.000000</td>\n",
       "      <td>150.000000</td>\n",
       "    </tr>\n",
       "    <tr>\n",
       "      <th>mean</th>\n",
       "      <td>5.843333</td>\n",
       "      <td>3.054000</td>\n",
       "      <td>3.758667</td>\n",
       "      <td>1.198667</td>\n",
       "      <td>1.000000</td>\n",
       "    </tr>\n",
       "    <tr>\n",
       "      <th>std</th>\n",
       "      <td>0.828066</td>\n",
       "      <td>0.433594</td>\n",
       "      <td>1.764420</td>\n",
       "      <td>0.763161</td>\n",
       "      <td>0.819232</td>\n",
       "    </tr>\n",
       "    <tr>\n",
       "      <th>min</th>\n",
       "      <td>4.300000</td>\n",
       "      <td>2.000000</td>\n",
       "      <td>1.000000</td>\n",
       "      <td>0.100000</td>\n",
       "      <td>0.000000</td>\n",
       "    </tr>\n",
       "    <tr>\n",
       "      <th>25%</th>\n",
       "      <td>5.100000</td>\n",
       "      <td>2.800000</td>\n",
       "      <td>1.600000</td>\n",
       "      <td>0.300000</td>\n",
       "      <td>0.000000</td>\n",
       "    </tr>\n",
       "    <tr>\n",
       "      <th>50%</th>\n",
       "      <td>5.800000</td>\n",
       "      <td>3.000000</td>\n",
       "      <td>4.350000</td>\n",
       "      <td>1.300000</td>\n",
       "      <td>1.000000</td>\n",
       "    </tr>\n",
       "    <tr>\n",
       "      <th>75%</th>\n",
       "      <td>6.400000</td>\n",
       "      <td>3.300000</td>\n",
       "      <td>5.100000</td>\n",
       "      <td>1.800000</td>\n",
       "      <td>2.000000</td>\n",
       "    </tr>\n",
       "    <tr>\n",
       "      <th>max</th>\n",
       "      <td>7.900000</td>\n",
       "      <td>4.400000</td>\n",
       "      <td>6.900000</td>\n",
       "      <td>2.500000</td>\n",
       "      <td>2.000000</td>\n",
       "    </tr>\n",
       "  </tbody>\n",
       "</table>\n",
       "</div>"
      ],
      "text/plain": [
       "       sepal length (cm)  sepal width (cm)  petal length (cm)  \\\n",
       "count         150.000000        150.000000         150.000000   \n",
       "mean            5.843333          3.054000           3.758667   \n",
       "std             0.828066          0.433594           1.764420   \n",
       "min             4.300000          2.000000           1.000000   \n",
       "25%             5.100000          2.800000           1.600000   \n",
       "50%             5.800000          3.000000           4.350000   \n",
       "75%             6.400000          3.300000           5.100000   \n",
       "max             7.900000          4.400000           6.900000   \n",
       "\n",
       "       petal width (cm)      target  \n",
       "count        150.000000  150.000000  \n",
       "mean           1.198667    1.000000  \n",
       "std            0.763161    0.819232  \n",
       "min            0.100000    0.000000  \n",
       "25%            0.300000    0.000000  \n",
       "50%            1.300000    1.000000  \n",
       "75%            1.800000    2.000000  \n",
       "max            2.500000    2.000000  "
      ]
     },
     "execution_count": 31,
     "metadata": {},
     "output_type": "execute_result"
    }
   ],
   "source": [
    "irisdf.describe()"
   ]
  },
  {
   "cell_type": "code",
   "execution_count": 32,
   "metadata": {
    "collapsed": false
   },
   "outputs": [
    {
     "data": {
      "text/plain": [
       "sepal length (cm)    float64\n",
       "sepal width (cm)     float64\n",
       "petal length (cm)    float64\n",
       "petal width (cm)     float64\n",
       "target                 int64\n",
       "dtype: object"
      ]
     },
     "execution_count": 32,
     "metadata": {},
     "output_type": "execute_result"
    }
   ],
   "source": [
    "irisdf.dtypes"
   ]
  },
  {
   "cell_type": "code",
   "execution_count": 33,
   "metadata": {
    "collapsed": true
   },
   "outputs": [],
   "source": [
    "irisdf_new = irisdf[ irisdf.target != 2 ]\n",
    "# keep all rows which do not have target 2\n",
    "# since target can be 0,1, and 2, and logistic regression must be binary,\n",
    "# for this dataset, we will remove all rows which have a target of 2 to meet this requirement"
   ]
  },
  {
   "cell_type": "code",
   "execution_count": 34,
   "metadata": {
    "collapsed": false
   },
   "outputs": [
    {
     "data": {
      "text/plain": [
       "sepal length (cm)    100\n",
       "sepal width (cm)     100\n",
       "petal length (cm)    100\n",
       "petal width (cm)     100\n",
       "target               100\n",
       "dtype: int64"
      ]
     },
     "execution_count": 34,
     "metadata": {},
     "output_type": "execute_result"
    }
   ],
   "source": [
    "irisdf_new.count()"
   ]
  },
  {
   "cell_type": "code",
   "execution_count": 35,
   "metadata": {
    "collapsed": false
   },
   "outputs": [
    {
     "data": {
      "text/plain": [
       "sepal length (cm)    30\n",
       "sepal width (cm)     30\n",
       "petal length (cm)    30\n",
       "petal width (cm)     30\n",
       "target               30\n",
       "dtype: int64"
      ]
     },
     "execution_count": 35,
     "metadata": {},
     "output_type": "execute_result"
    }
   ],
   "source": [
    "test_df = irisdf_new[ irisdf_new.index < 30 ]\n",
    "# reserve 30 records for testing!\n",
    "# we will refer to this dataset later.\n",
    "\n",
    "test_df.count() "
   ]
  },
  {
   "cell_type": "code",
   "execution_count": 36,
   "metadata": {
    "collapsed": false
   },
   "outputs": [
    {
     "data": {
      "text/plain": [
       "sepal length (cm)    70\n",
       "sepal width (cm)     70\n",
       "petal length (cm)    70\n",
       "petal width (cm)     70\n",
       "target               70\n",
       "dtype: int64"
      ]
     },
     "execution_count": 36,
     "metadata": {},
     "output_type": "execute_result"
    }
   ],
   "source": [
    "train_df = irisdf_new[ irisdf_new.index >= 30 ] \n",
    "\n",
    "# take 70 records for model training\n",
    "train_df.count()"
   ]
  },
  {
   "cell_type": "code",
   "execution_count": 37,
   "metadata": {
    "collapsed": true
   },
   "outputs": [],
   "source": [
    "predictor_cols = [\"sepal length (cm)\",\"sepal width (cm)\",\n",
    "                  \"petal length (cm)\",\"petal width (cm)\"]\n",
    "# here is list of features"
   ]
  },
  {
   "cell_type": "code",
   "execution_count": 38,
   "metadata": {
    "collapsed": false
   },
   "outputs": [],
   "source": [
    "# lets create our prediction dataframe (columns are strickly feature columns)\n",
    "df_pred = train_df[predictor_cols]"
   ]
  },
  {
   "cell_type": "code",
   "execution_count": 39,
   "metadata": {
    "collapsed": false
   },
   "outputs": [
    {
     "data": {
      "text/plain": [
       "sepal length (cm)    70\n",
       "sepal width (cm)     70\n",
       "petal length (cm)    70\n",
       "petal width (cm)     70\n",
       "dtype: int64"
      ]
     },
     "execution_count": 39,
     "metadata": {},
     "output_type": "execute_result"
    }
   ],
   "source": [
    "df_pred.count()"
   ]
  },
  {
   "cell_type": "code",
   "execution_count": 40,
   "metadata": {
    "collapsed": false
   },
   "outputs": [],
   "source": [
    "# Now time to fit our model, using StatsModels!\n",
    "# to fit model you will use the training dataset, not the test dataset!\n",
    "logit = LogisticRegression()\n",
    "results = logit.fit(df_pred, train_df.target)\n",
    "#print type(results)"
   ]
  },
  {
   "cell_type": "code",
   "execution_count": 41,
   "metadata": {
    "collapsed": false
   },
   "outputs": [],
   "source": [
    "# disable chained-assignment caution\n",
    "pd.options.mode.chained_assignment = None\n",
    "# input test_pred_df into the logit model and append column to original test_df\n",
    "test_df['prediction'] = logit.predict(test_df[predictor_cols])"
   ]
  },
  {
   "cell_type": "code",
   "execution_count": 42,
   "metadata": {
    "collapsed": false
   },
   "outputs": [
    {
     "data": {
      "text/html": [
       "<div>\n",
       "<table border=\"1\" class=\"dataframe\">\n",
       "  <thead>\n",
       "    <tr style=\"text-align: right;\">\n",
       "      <th></th>\n",
       "      <th>sepal length (cm)</th>\n",
       "      <th>sepal width (cm)</th>\n",
       "      <th>petal length (cm)</th>\n",
       "      <th>petal width (cm)</th>\n",
       "      <th>target</th>\n",
       "      <th>prediction</th>\n",
       "    </tr>\n",
       "  </thead>\n",
       "  <tbody>\n",
       "    <tr>\n",
       "      <th>0</th>\n",
       "      <td>5.1</td>\n",
       "      <td>3.5</td>\n",
       "      <td>1.4</td>\n",
       "      <td>0.2</td>\n",
       "      <td>0</td>\n",
       "      <td>0</td>\n",
       "    </tr>\n",
       "    <tr>\n",
       "      <th>1</th>\n",
       "      <td>4.9</td>\n",
       "      <td>3.0</td>\n",
       "      <td>1.4</td>\n",
       "      <td>0.2</td>\n",
       "      <td>0</td>\n",
       "      <td>0</td>\n",
       "    </tr>\n",
       "    <tr>\n",
       "      <th>2</th>\n",
       "      <td>4.7</td>\n",
       "      <td>3.2</td>\n",
       "      <td>1.3</td>\n",
       "      <td>0.2</td>\n",
       "      <td>0</td>\n",
       "      <td>0</td>\n",
       "    </tr>\n",
       "    <tr>\n",
       "      <th>3</th>\n",
       "      <td>4.6</td>\n",
       "      <td>3.1</td>\n",
       "      <td>1.5</td>\n",
       "      <td>0.2</td>\n",
       "      <td>0</td>\n",
       "      <td>0</td>\n",
       "    </tr>\n",
       "    <tr>\n",
       "      <th>4</th>\n",
       "      <td>5.0</td>\n",
       "      <td>3.6</td>\n",
       "      <td>1.4</td>\n",
       "      <td>0.2</td>\n",
       "      <td>0</td>\n",
       "      <td>0</td>\n",
       "    </tr>\n",
       "  </tbody>\n",
       "</table>\n",
       "</div>"
      ],
      "text/plain": [
       "   sepal length (cm)  sepal width (cm)  petal length (cm)  petal width (cm)  \\\n",
       "0                5.1               3.5                1.4               0.2   \n",
       "1                4.9               3.0                1.4               0.2   \n",
       "2                4.7               3.2                1.3               0.2   \n",
       "3                4.6               3.1                1.5               0.2   \n",
       "4                5.0               3.6                1.4               0.2   \n",
       "\n",
       "   target  prediction  \n",
       "0       0           0  \n",
       "1       0           0  \n",
       "2       0           0  \n",
       "3       0           0  \n",
       "4       0           0  "
      ]
     },
     "execution_count": 42,
     "metadata": {},
     "output_type": "execute_result"
    }
   ],
   "source": [
    "test_df.head()"
   ]
  },
  {
   "cell_type": "code",
   "execution_count": null,
   "metadata": {
    "collapsed": true
   },
   "outputs": [],
   "source": []
  },
  {
   "cell_type": "code",
   "execution_count": 3,
   "metadata": {
    "collapsed": false
   },
   "outputs": [
    {
     "name": "stdout",
     "output_type": "stream",
     "text": [
      "<class 'bs4.BeautifulSoup'>\n"
     ]
    }
   ],
   "source": [
    "from bs4 import BeautifulSoup\n",
    "import urllib\n",
    "r = urllib.urlopen('http://www.aflcio.org/Legislation-and-Politics/Legislative-Alerts').read()\n",
    "soup = BeautifulSoup(r,'lxml')\n",
    "print type(soup)\n"
   ]
  },
  {
   "cell_type": "code",
   "execution_count": 4,
   "metadata": {
    "collapsed": false
   },
   "outputs": [
    {
     "name": "stdout",
     "output_type": "stream",
     "text": [
      "<!DOCTYPE html>\n",
      "<html class=\"no-js\" lang=\"en-US\" xml:lang=\"en-US\" xmlns=\"http://www.w3.org/1999/xhtml\" xmlns:fb=\"http://ogp.me/ns/fb#\">\n",
      " <head>\n",
      "  <title>\n",
      "   Legislative Alerts\n",
      "  </title>\n",
      "  <meta content=\"text/html; charset=utf-8\" name=\"Content-Type\"/>\n",
      "  <meta content=\"en-US\" name=\"Content-language\"/>\n",
      "  <meta content=\"\" name=\"author\"/>\n",
      "  <meta content=\"\" name=\"copyright\"/>\n",
      "  <meta content=\"\" name=\"description\"/>\n",
      "  <meta content=\"\" name=\"keywords\"/>\n",
      "  <meta content=\"TRUE\" name=\"MSSmartTagsPreventParsing\"/>\n",
      "  <meta content=\"eZ Publish\" name=\"generator\"/>\n",
      "  <meta content=\"Legislative Alerts\" property=\"og:title\"/>\n",
      "  <meta content=\"http://www.aflcio.org/Legislation-and-Politics/Legislative-Alerts\" property=\"og:url\"/>\n",
      "  <meta content=\"AFL-CIO\" property=\"og:site_name\"/>\n",
      "  <meta content=\"http://www.aflcio.org/extension/aflcio/design/aflcio_user/images/facebook_aflcio_200x200.jpg\" property=\"og:image\"/>\n",
      "  <meta content=\"non_profit\" property=\"og:type\"/>\n",
      "  <meta content=\"288636237825618\" property=\"\n"
     ]
    }
   ],
   "source": [
    "print soup.prettify()[0:1000]\n"
   ]
  },
  {
   "cell_type": "code",
   "execution_count": 5,
   "metadata": {
    "collapsed": false
   },
   "outputs": [
    {
     "data": {
      "text/html": [
       "<iframe src=http://www.aflcio.org/Legislation-and-Politics/Legislative-Alerts width=700 height=500></iframe>"
      ],
      "text/plain": [
       "<IPython.core.display.HTML object>"
      ]
     },
     "execution_count": 5,
     "metadata": {},
     "output_type": "execute_result"
    }
   ],
   "source": [
    "from IPython.display import HTML\n",
    "HTML('<iframe src=http://www.aflcio.org/Legislation-and-Politics/Legislative-Alerts width=700 height=500></iframe>')\n"
   ]
  },
  {
   "cell_type": "code",
   "execution_count": 6,
   "metadata": {
    "collapsed": false
   },
   "outputs": [
    {
     "name": "stdout",
     "output_type": "stream",
     "text": [
      "-Alerts/\" id=\"siteSearch\" method=\"post\">\n",
      "        <label for=\"keyword\">\n",
      "         Search Legislative Alerts:\n",
      "        </label>\n",
      "        <input id=\"keyword\" name=\"SearchText\" size=\"10\" type=\"text\" value=\"\"/>\n",
      "        <input alt=\"search\" class=\"button\" src=\"/extension/aflcio/design/aflcio_user/images/btn-search-blog.png\" type=\"image\"/>\n",
      "        <span>\n",
      "        </span>\n",
      "       </form>\n",
      "      </div>\n",
      "      <div class=\"legisalerts_year_search\">\n",
      "       <!-- //navigation footer -->\n",
      "       <form>\n",
      "        <label for=\"children_years_EC\">\n",
      "         Browse by Year:\n",
      "        </label>\n",
      "        <select id=\"children_years\">\n",
      "         <option selected=\"selected\" value=\"2016\">\n",
      "          2016\n",
      "         </option>\n",
      "         <option value=\"2015\">\n",
      "          2015\n",
      "         </option>\n",
      "         <option value=\"2014\">\n",
      "          2014\n",
      "         </option>\n",
      "         <option value=\"2013\">\n",
      "          2013\n",
      "         </option>\n",
      "         <option value=\"2012\">\n",
      "          2012\n",
      "         </option>\n",
      "         <option value=\"2011\">\n",
      "          2011\n",
      "         </option>\n",
      "         <option value=\"2010\">\n",
      "          2010\n",
      "         </option>\n",
      "        </select>\n",
      "       </form>\n",
      "       <script type=\"text/javascript\">\n",
      "        $(document).ready(function(){\n",
      "\t\t\t\t\t$('#children_years').change(function(){\n",
      "\t\t\t\t\t\twindow.location = \"/Legislation-and-Politics/Legislative-Alerts/(y)/\"+$(this).val();\n",
      "\t\t\t\t\t});\n",
      "\t\t\t\t});\n",
      "       </script>\n",
      "      </div>\n",
      "     </div>\n",
      "     <div class=\"legisalerts_listing\">\n",
      "      <div class=\"ec_statements\">\n",
      "       <div id=\"legalert_title\">\n",
      "        <a href=\"/Legislation-and-Politics/Legislative-Alerts/Letter-in-Support-of-Barack-Obama-s-Veto-of-DOL-Retirement-Rule-Override\">\n",
      "         Letter in Support of Barack Obama's Veto of DOL Retirement Rule Override\n",
      "        </a>\n",
      "       </div>\n",
      "       <div id=\"legalert_date\">\n",
      "        June 21, 2016\n",
      "       </di\n"
     ]
    }
   ],
   "source": [
    "print soup.prettify()[28700:30500]\n"
   ]
  },
  {
   "cell_type": "code",
   "execution_count": 7,
   "metadata": {
    "collapsed": false
   },
   "outputs": [],
   "source": [
    "letters = soup.find_all(\"div\", class_=\"ec_statements\")"
   ]
  },
  {
   "cell_type": "code",
   "execution_count": 10,
   "metadata": {
    "collapsed": false
   },
   "outputs": [
    {
     "data": {
      "text/plain": [
       "<div class=\"ec_statements\">\\n<div id=\"legalert_title\"><a href=\"/Legislation-and-Politics/Legislative-Alerts/Letter-in-Support-of-Barack-Obama-s-Veto-of-DOL-Retirement-Rule-Override\">Letter in Support of Barack Obama's Veto of DOL Retirement Rule Override</a></div>\\n<div id=\"legalert_date\">June 21, 2016</div>\\n</div>"
      ]
     },
     "execution_count": 10,
     "metadata": {},
     "output_type": "execute_result"
    }
   ],
   "source": [
    "letters[0]"
   ]
  },
  {
   "cell_type": "code",
   "execution_count": 33,
   "metadata": {
    "collapsed": false
   },
   "outputs": [
    {
     "name": "stdout",
     "output_type": "stream",
     "text": [
      "Letter in Support of Barack Obama's Veto of DOL Retirement Rule Override\n",
      "Myths v Facts Response - ILRWG H-2B Approps FY 2017\n",
      "AFL-CIO Opposes H-2B  Returning Worker Amendment\n",
      "Letter to House Education and the Workforce Committee Urging Them to Oppose the Resolution to Block the Dept. of Labor's Persuader Rule\n",
      "Letter to Representatives in opposition to the Local Radio Freedom Act\n",
      "Letter to Senators in opposition to the Local Radio Freedom Act\n",
      "Letter to Senators urging them to oppose the conference report on the Customs Bill (H.R. 644)\n",
      "Letter to Senators in support of the Workplace Action for a Growing Economy Act\n",
      "Letter to Representatives in support of The Workplace Action for a Growing Economy Act\n",
      "Letter to Representatives opposing the \"Fairness in Class Action Litigation and Furthering Asbestos Claim Transparency Act\"\n"
     ]
    }
   ],
   "source": [
    "lobbying = {}\n",
    "for element in letters:\n",
    "    #print(element.a.get_text())\n",
    "    lobbying[element.a.get_text()] = {}"
   ]
  },
  {
   "cell_type": "code",
   "execution_count": 34,
   "metadata": {
    "collapsed": false
   },
   "outputs": [
    {
     "data": {
      "text/plain": [
       "{u'AFL-CIO Opposes H-2B  Returning Worker Amendment': {},\n",
       " u\"Letter in Support of Barack Obama's Veto of DOL Retirement Rule Override\": {},\n",
       " u\"Letter to House Education and the Workforce Committee Urging Them to Oppose the Resolution to Block the Dept. of Labor's Persuader Rule\": {},\n",
       " u'Letter to Representatives in opposition to the Local Radio Freedom Act': {},\n",
       " u'Letter to Representatives in support of The Workplace Action for a Growing Economy Act': {},\n",
       " u'Letter to Representatives opposing the \"Fairness in Class Action Litigation and Furthering Asbestos Claim Transparency Act\"': {},\n",
       " u'Letter to Senators in opposition to the Local Radio Freedom Act': {},\n",
       " u'Letter to Senators in support of the Workplace Action for a Growing Economy Act': {},\n",
       " u'Letter to Senators urging them to oppose the conference report on the Customs Bill (H.R. 644)': {},\n",
       " u'Myths v Facts Response - ILRWG H-2B Approps FY 2017': {}}"
      ]
     },
     "execution_count": 34,
     "metadata": {},
     "output_type": "execute_result"
    }
   ],
   "source": [
    "lobbying"
   ]
  },
  {
   "cell_type": "code",
   "execution_count": 31,
   "metadata": {
    "collapsed": false
   },
   "outputs": [
    {
     "data": {
      "text/plain": [
       "'legalert_title'"
      ]
     },
     "execution_count": 31,
     "metadata": {},
     "output_type": "execute_result"
    }
   ],
   "source": [
    "letters[0].div['id']"
   ]
  },
  {
   "cell_type": "code",
   "execution_count": 32,
   "metadata": {
    "collapsed": true
   },
   "outputs": [],
   "source": [
    "prefix = \"www.aflcio.org\"\n"
   ]
  },
  {
   "cell_type": "code",
   "execution_count": 35,
   "metadata": {
    "collapsed": true
   },
   "outputs": [],
   "source": [
    "for element in letters:\n",
    "    lobbying[element.a.get_text()][\"link\"] = prefix + element.a[\"href\"]"
   ]
  },
  {
   "cell_type": "code",
   "execution_count": 39,
   "metadata": {
    "collapsed": false
   },
   "outputs": [
    {
     "data": {
      "text/plain": [
       "'June 21, 2016'"
      ]
     },
     "execution_count": 39,
     "metadata": {},
     "output_type": "execute_result"
    }
   ],
   "source": [
    "str(letters[0].find(id=\"legalert_date\").get_text())"
   ]
  },
  {
   "cell_type": "code",
   "execution_count": 40,
   "metadata": {
    "collapsed": true
   },
   "outputs": [],
   "source": [
    "for element in letters:\n",
    "    date = element.find(id=\"legalert_date\").get_text()\n",
    "    lobbying[element.a.get_text()][\"date\"] = date\n"
   ]
  },
  {
   "cell_type": "code",
   "execution_count": 41,
   "metadata": {
    "collapsed": false
   },
   "outputs": [
    {
     "data": {
      "text/plain": [
       "{u'AFL-CIO Opposes H-2B  Returning Worker Amendment': {'date': u'June 13, 2016',\n",
       "  'link': 'www.aflcio.org/Legislation-and-Politics/Legislative-Alerts/AFL-CIO-Opposes-H-2B-Returning-Worker-Amendment'},\n",
       " u\"Letter in Support of Barack Obama's Veto of DOL Retirement Rule Override\": {'date': u'June 21, 2016',\n",
       "  'link': 'www.aflcio.org/Legislation-and-Politics/Legislative-Alerts/Letter-in-Support-of-Barack-Obama-s-Veto-of-DOL-Retirement-Rule-Override'},\n",
       " u\"Letter to House Education and the Workforce Committee Urging Them to Oppose the Resolution to Block the Dept. of Labor's Persuader Rule\": {'date': u'May 17, 2016',\n",
       "  'link': 'www.aflcio.org/Legislation-and-Politics/Legislative-Alerts/Letter-to-House-Education-and-the-Workforce-Committee-Urging-Them-to-Oppose-the-Resolution-to-Block-the-Dept.-of-Labor-s-Persuader-Rule'},\n",
       " u'Letter to Representatives in opposition to the Local Radio Freedom Act': {'date': u'February 19, 2016',\n",
       "  'link': 'www.aflcio.org/Legislation-and-Politics/Legislative-Alerts/Letter-to-Representatives-in-opposition-to-the-Local-Radio-Freedom-Act'},\n",
       " u'Letter to Representatives in support of The Workplace Action for a Growing Economy Act': {'date': u'January 07, 2016',\n",
       "  'link': 'www.aflcio.org/Legislation-and-Politics/Legislative-Alerts/Letter-to-Representatives-in-support-of-The-Workplace-Action-for-a-Growing-Economy-Act'},\n",
       " u'Letter to Representatives opposing the \"Fairness in Class Action Litigation and Furthering Asbestos Claim Transparency Act\"': {'date': u'January 05, 2016',\n",
       "  'link': 'www.aflcio.org/Legislation-and-Politics/Legislative-Alerts/Letter-to-Representatives-opposing-the-Fairness-in-Class-Action-Litigation-and-Furthering-Asbestos-Claim-Transparency-Act'},\n",
       " u'Letter to Senators in opposition to the Local Radio Freedom Act': {'date': u'February 19, 2016',\n",
       "  'link': 'www.aflcio.org/Legislation-and-Politics/Legislative-Alerts/Letter-to-Senators-in-opposition-to-the-Local-Radio-Freedom-Act'},\n",
       " u'Letter to Senators in support of the Workplace Action for a Growing Economy Act': {'date': u'January 07, 2016',\n",
       "  'link': 'www.aflcio.org/Legislation-and-Politics/Legislative-Alerts/Letter-to-Senators-in-support-of-the-Workplace-Action-for-a-Growing-Economy-Act'},\n",
       " u'Letter to Senators urging them to oppose the conference report on the Customs Bill (H.R. 644)': {'date': u'February 09, 2016',\n",
       "  'link': 'www.aflcio.org/Legislation-and-Politics/Legislative-Alerts/Letter-to-Senators-urging-them-to-oppose-the-conference-report-on-the-Customs-Bill-H.R.-644'},\n",
       " u'Myths v Facts Response - ILRWG H-2B Approps FY 2017': {'date': u'June 13, 2016',\n",
       "  'link': 'www.aflcio.org/Legislation-and-Politics/Legislative-Alerts/Myths-v-Facts-Response-ILRWG-H-2B-Approps-FY-2017'}}"
      ]
     },
     "execution_count": 41,
     "metadata": {},
     "output_type": "execute_result"
    }
   ],
   "source": [
    "lobbying"
   ]
  },
  {
   "cell_type": "code",
   "execution_count": 42,
   "metadata": {
    "collapsed": false
   },
   "outputs": [
    {
     "name": "stdout",
     "output_type": "stream",
     "text": [
      "Letter to Senators urging them to oppose the conference report on the Customs Bill (H.R. 644): \n",
      "\tlink: www.aflcio.org/Legislation-and-Politics/Legislative-Alerts/Letter-to-Senators-urging-them-to-oppose-the-conference-report-on-the-Customs-Bill-H.R.-644\n",
      "\tdate: February 09, 2016\n",
      "\n",
      "\n",
      "Letter to Representatives opposing the \"Fairness in Class Action Litigation and Furthering Asbestos Claim Transparency Act\": \n",
      "\tlink: www.aflcio.org/Legislation-and-Politics/Legislative-Alerts/Letter-to-Representatives-opposing-the-Fairness-in-Class-Action-Litigation-and-Furthering-Asbestos-Claim-Transparency-Act\n",
      "\tdate: January 05, 2016\n",
      "\n",
      "\n",
      "AFL-CIO Opposes H-2B  Returning Worker Amendment: \n",
      "\tlink: www.aflcio.org/Legislation-and-Politics/Legislative-Alerts/AFL-CIO-Opposes-H-2B-Returning-Worker-Amendment\n",
      "\tdate: June 13, 2016\n",
      "\n",
      "\n",
      "Letter to Representatives in opposition to the Local Radio Freedom Act: \n",
      "\tlink: www.aflcio.org/Legislation-and-Politics/Legislative-Alerts/Letter-to-Representatives-in-opposition-to-the-Local-Radio-Freedom-Act\n",
      "\tdate: February 19, 2016\n",
      "\n",
      "\n",
      "Letter to Senators in support of the Workplace Action for a Growing Economy Act: \n",
      "\tlink: www.aflcio.org/Legislation-and-Politics/Legislative-Alerts/Letter-to-Senators-in-support-of-the-Workplace-Action-for-a-Growing-Economy-Act\n",
      "\tdate: January 07, 2016\n",
      "\n",
      "\n",
      "Letter to Representatives in support of The Workplace Action for a Growing Economy Act: \n",
      "\tlink: www.aflcio.org/Legislation-and-Politics/Legislative-Alerts/Letter-to-Representatives-in-support-of-The-Workplace-Action-for-a-Growing-Economy-Act\n",
      "\tdate: January 07, 2016\n",
      "\n",
      "\n",
      "Myths v Facts Response - ILRWG H-2B Approps FY 2017: \n",
      "\tlink: www.aflcio.org/Legislation-and-Politics/Legislative-Alerts/Myths-v-Facts-Response-ILRWG-H-2B-Approps-FY-2017\n",
      "\tdate: June 13, 2016\n",
      "\n",
      "\n",
      "Letter in Support of Barack Obama's Veto of DOL Retirement Rule Override: \n",
      "\tlink: www.aflcio.org/Legislation-and-Politics/Legislative-Alerts/Letter-in-Support-of-Barack-Obama-s-Veto-of-DOL-Retirement-Rule-Override\n",
      "\tdate: June 21, 2016\n",
      "\n",
      "\n",
      "Letter to Senators in opposition to the Local Radio Freedom Act: \n",
      "\tlink: www.aflcio.org/Legislation-and-Politics/Legislative-Alerts/Letter-to-Senators-in-opposition-to-the-Local-Radio-Freedom-Act\n",
      "\tdate: February 19, 2016\n",
      "\n",
      "\n",
      "Letter to House Education and the Workforce Committee Urging Them to Oppose the Resolution to Block the Dept. of Labor's Persuader Rule: \n",
      "\tlink: www.aflcio.org/Legislation-and-Politics/Legislative-Alerts/Letter-to-House-Education-and-the-Workforce-Committee-Urging-Them-to-Oppose-the-Resolution-to-Block-the-Dept.-of-Labor-s-Persuader-Rule\n",
      "\tdate: May 17, 2016\n",
      "\n",
      "\n"
     ]
    }
   ],
   "source": [
    "for item in lobbying.keys():\n",
    "    print item + \": \" + \"\\n\\t\" + \"link: \" + lobbying[item][\"link\"] + \"\\n\\t\" + \"date: \" + lobbying[item][\"date\"] + \"\\n\\n\" \n"
   ]
  },
  {
   "cell_type": "code",
   "execution_count": null,
   "metadata": {
    "collapsed": true
   },
   "outputs": [],
   "source": []
  }
 ],
 "metadata": {
  "kernelspec": {
   "display_name": "Python 2",
   "language": "python",
   "name": "python2"
  },
  "language_info": {
   "codemirror_mode": {
    "name": "ipython",
    "version": 2
   },
   "file_extension": ".py",
   "mimetype": "text/x-python",
   "name": "python",
   "nbconvert_exporter": "python",
   "pygments_lexer": "ipython2",
   "version": "2.7.11"
  }
 },
 "nbformat": 4,
 "nbformat_minor": 0
}
