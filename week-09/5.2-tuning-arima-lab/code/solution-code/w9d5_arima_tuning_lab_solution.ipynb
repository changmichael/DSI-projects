{
 "cells": [
  {
   "cell_type": "markdown",
   "metadata": {},
   "source": [
    "# Lab 4.2: Seasonal ARIMA\n",
    "\n",
    "#### This lab is semi-open ended, in that there are many different strategies that can be used when tuning the model. As long as you thoughtfully evaluate your models and document your processes you're on the right track. Every transformation and tuning should have a visualization or other EDA process to inform the actions taken."
   ]
  },
  {
   "cell_type": "markdown",
   "metadata": {
    "collapsed": false
   },
   "source": [
    "- Load in the data and perform EDA. \n",
    "- Record your observations regarding trend, seasonality, stationarity, etc.\n",
    "- Clean the data if needed and perform any transformations you deem necessary. Don't forget to document the decisions you made, and why you made them!\n",
    "- Be sure to plot ACF/PACF along the way, and record any observations you may have.\n",
    "- Keep a log of each model you audition, along with their AIC values. You should be auditioning at least half a dozen models.\n",
    "- Determine if Seasonal Differencing is needed. Make a note as to your decision, with graphical evidence to support.\n",
    "- Clearly address the logic behind your choices for all 7 terms (3 seasonal, 3 non-seasonal, and seasonal periods).\n",
    "- Utilize the Ljung-Box test to determine fit for your model. Record all observations.\n",
    "- Provide both in-sample and out-of-sample forecasts for at least 3 different models. Summarize the resulting RSME values in your writeup."
   ]
  },
  {
   "cell_type": "markdown",
   "metadata": {},
   "source": [
    "### Load in the data"
   ]
  },
  {
   "cell_type": "code",
   "execution_count": 2,
   "metadata": {
    "collapsed": false
   },
   "outputs": [],
   "source": [
    "import pandas as pd\n",
    "import numpy as np\n",
    "from statsmodels.graphics.tsaplots import plot_acf, plot_pacf\n",
    "\n",
    "df = pd.read_csv('../../assets/data/h02.csv', header=None, names=['Date', 'Sales'])\n",
    "df.set_index('Date', inplace=True)\n",
    "df.index = df.index.to_datetime()"
   ]
  },
  {
   "cell_type": "markdown",
   "metadata": {},
   "source": [
    "### Transformations\n",
    "When graphed, a small increase in the variance is observed, indicating the need for logarithmic transformation.\n",
    "There is a strong seasonal component, so we'd want to use seasonal differencing as well."
   ]
  },
  {
   "cell_type": "code",
   "execution_count": 3,
   "metadata": {
    "collapsed": false
   },
   "outputs": [],
   "source": [
    "df_log = df.apply(np.log)\n",
    "df_log_diff = df_log.diff(periods=12)[12:]"
   ]
  },
  {
   "cell_type": "code",
   "execution_count": 4,
   "metadata": {
    "collapsed": false
   },
   "outputs": [
    {
     "data": {
      "text/plain": [
       "<matplotlib.figure.Figure at 0x103a8fb90>"
      ]
     },
     "execution_count": 4,
     "metadata": {},
     "output_type": "execute_result"
    }
   ],
   "source": [
    "plot_acf(df_log_diff, lags=30)\n",
    "plot_pacf(df_log_diff, lags=30)"
   ]
  },
  {
   "cell_type": "markdown",
   "metadata": {},
   "source": [
    "ACF: No observable phenomenon at seasonal lags\n",
    "PACF: Spikes at seasonal lags 12, 24. 3 spikes in non-seasonal lags. \n",
    "\n",
    "Interpretation: Seasonal AR(2), Non-Seasonal AR(3). ACF gives little information."
   ]
  },
  {
   "cell_type": "markdown",
   "metadata": {},
   "source": [
    "### Initial Model Audition and Tuning"
   ]
  },
  {
   "cell_type": "code",
   "execution_count": 6,
   "metadata": {
    "collapsed": false
   },
   "outputs": [
    {
     "data": {
      "text/html": [
       "<table class=\"simpletable\">\n",
       "<caption>Statespace Model Results</caption>\n",
       "<tr>\n",
       "  <th>Dep. Variable:</th>                <td>Sales</td>             <th>  No. Observations:  </th>    <td>204</td>  \n",
       "</tr>\n",
       "<tr>\n",
       "  <th>Model:</th>           <td>SARIMAX(3, 0, 0)x(2, 1, 0, 12)</td> <th>  Log Likelihood     </th>  <td>243.789</td>\n",
       "</tr>\n",
       "<tr>\n",
       "  <th>Date:</th>                   <td>Fri, 03 Jun 2016</td>        <th>  AIC                </th> <td>-475.577</td>\n",
       "</tr>\n",
       "<tr>\n",
       "  <th>Time:</th>                       <td>00:55:08</td>            <th>  BIC                </th> <td>-455.669</td>\n",
       "</tr>\n",
       "<tr>\n",
       "  <th>Sample:</th>                    <td>07-03-1991</td>           <th>  HQIC               </th> <td>-467.524</td>\n",
       "</tr>\n",
       "<tr>\n",
       "  <th></th>                          <td>- 06-03-2008</td>          <th>                     </th>     <td> </td>   \n",
       "</tr>\n",
       "<tr>\n",
       "  <th>Covariance Type:</th>               <td>opg</td>              <th>                     </th>     <td> </td>   \n",
       "</tr>\n",
       "</table>\n",
       "<table class=\"simpletable\">\n",
       "<tr>\n",
       "      <td></td>        <th>coef</th>     <th>std err</th>      <th>z</th>      <th>P>|z|</th>  <th>[0.025</th>    <th>0.975]</th>  \n",
       "</tr>\n",
       "<tr>\n",
       "  <th>ar.L1</th>    <td>    0.0981</td> <td>    0.066</td> <td>    1.494</td> <td> 0.135</td> <td>   -0.031</td> <td>    0.227</td>\n",
       "</tr>\n",
       "<tr>\n",
       "  <th>ar.L2</th>    <td>    0.4063</td> <td>    0.049</td> <td>    8.371</td> <td> 0.000</td> <td>    0.311</td> <td>    0.501</td>\n",
       "</tr>\n",
       "<tr>\n",
       "  <th>ar.L3</th>    <td>    0.4308</td> <td>    0.063</td> <td>    6.847</td> <td> 0.000</td> <td>    0.307</td> <td>    0.554</td>\n",
       "</tr>\n",
       "<tr>\n",
       "  <th>ar.S.L12</th> <td>   -0.4366</td> <td>    0.075</td> <td>   -5.830</td> <td> 0.000</td> <td>   -0.583</td> <td>   -0.290</td>\n",
       "</tr>\n",
       "<tr>\n",
       "  <th>ar.S.L24</th> <td>   -0.2897</td> <td>    0.087</td> <td>   -3.334</td> <td> 0.001</td> <td>   -0.460</td> <td>   -0.119</td>\n",
       "</tr>\n",
       "<tr>\n",
       "  <th>sigma2</th>   <td>    0.0045</td> <td>    0.000</td> <td>   12.050</td> <td> 0.000</td> <td>    0.004</td> <td>    0.005</td>\n",
       "</tr>\n",
       "</table>\n",
       "<table class=\"simpletable\">\n",
       "<tr>\n",
       "  <th>Ljung-Box (Q):</th>          <td>59.04</td> <th>  Jarque-Bera (JB):  </th> <td>13.26</td>\n",
       "</tr>\n",
       "<tr>\n",
       "  <th>Prob(Q):</th>                <td>0.03</td>  <th>  Prob(JB):          </th> <td>0.00</td> \n",
       "</tr>\n",
       "<tr>\n",
       "  <th>Heteroskedasticity (H):</th> <td>1.55</td>  <th>  Skew:              </th> <td>0.06</td> \n",
       "</tr>\n",
       "<tr>\n",
       "  <th>Prob(H) (two-sided):</th>    <td>0.08</td>  <th>  Kurtosis:          </th> <td>4.28</td> \n",
       "</tr>\n",
       "</table>"
      ],
      "text/plain": [
       "<class 'statsmodels.iolib.summary.Summary'>\n",
       "\"\"\"\n",
       "                                 Statespace Model Results                                 \n",
       "==========================================================================================\n",
       "Dep. Variable:                              Sales   No. Observations:                  204\n",
       "Model:             SARIMAX(3, 0, 0)x(2, 1, 0, 12)   Log Likelihood                 243.789\n",
       "Date:                            Fri, 03 Jun 2016   AIC                           -475.577\n",
       "Time:                                    00:55:08   BIC                           -455.669\n",
       "Sample:                                07-03-1991   HQIC                          -467.524\n",
       "                                     - 06-03-2008                                         \n",
       "Covariance Type:                              opg                                         \n",
       "==============================================================================\n",
       "                 coef    std err          z      P>|z|      [0.025      0.975]\n",
       "------------------------------------------------------------------------------\n",
       "ar.L1          0.0981      0.066      1.494      0.135      -0.031       0.227\n",
       "ar.L2          0.4063      0.049      8.371      0.000       0.311       0.501\n",
       "ar.L3          0.4308      0.063      6.847      0.000       0.307       0.554\n",
       "ar.S.L12      -0.4366      0.075     -5.830      0.000      -0.583      -0.290\n",
       "ar.S.L24      -0.2897      0.087     -3.334      0.001      -0.460      -0.119\n",
       "sigma2         0.0045      0.000     12.050      0.000       0.004       0.005\n",
       "===================================================================================\n",
       "Ljung-Box (Q):                       59.04   Jarque-Bera (JB):                13.26\n",
       "Prob(Q):                              0.03   Prob(JB):                         0.00\n",
       "Heteroskedasticity (H):               1.55   Skew:                             0.06\n",
       "Prob(H) (two-sided):                  0.08   Kurtosis:                         4.28\n",
       "===================================================================================\n",
       "\n",
       "Warnings:\n",
       "[1] Covariance matrix calculated using the outer product of gradients (complex-step).\n",
       "\"\"\""
      ]
     },
     "execution_count": 6,
     "metadata": {},
     "output_type": "execute_result"
    }
   ],
   "source": [
    "import statsmodels.api as sm\n",
    "\n",
    "# NOTE: THIS IS JUST ONE MODEL YOU CAN BEGIN WITH.\n",
    "\n",
    "model = sm.tsa.statespace.SARIMAX(df_log, order=(3,0,0), seasonal_order=(2,1,0,12))\n",
    "results = model.fit()\n",
    "results.summary() # -> AIC:  -475.577, LB(Q) -> 59.03\n",
    "\n",
    "# NOTE: TUNE THE MODEL ONE TERM AT A TIME, MAKING TINY CHANGES. \n",
    "# IF YOU HAVE A DIFFERENT END RESULT, IT DOESN'T MEAN YOU ARE WRONG, AS LONG \n",
    "# AS YOU MAKE IMPROVEMENTS OVER YOUR INITIAL MODEL."
   ]
  },
  {
   "cell_type": "markdown",
   "metadata": {
    "collapsed": true
   },
   "source": [
    "### Final Model"
   ]
  },
  {
   "cell_type": "code",
   "execution_count": 7,
   "metadata": {
    "collapsed": false
   },
   "outputs": [
    {
     "data": {
      "text/html": [
       "<table class=\"simpletable\">\n",
       "<caption>Statespace Model Results</caption>\n",
       "<tr>\n",
       "  <th>Dep. Variable:</th>                <td>Sales</td>             <th>  No. Observations:  </th>    <td>204</td>  \n",
       "</tr>\n",
       "<tr>\n",
       "  <th>Model:</th>           <td>SARIMAX(3, 0, 1)x(0, 1, 2, 12)</td> <th>  Log Likelihood     </th>  <td>250.042</td>\n",
       "</tr>\n",
       "<tr>\n",
       "  <th>Date:</th>                   <td>Fri, 03 Jun 2016</td>        <th>  AIC                </th> <td>-486.085</td>\n",
       "</tr>\n",
       "<tr>\n",
       "  <th>Time:</th>                       <td>00:55:14</td>            <th>  BIC                </th> <td>-462.858</td>\n",
       "</tr>\n",
       "<tr>\n",
       "  <th>Sample:</th>                    <td>07-03-1991</td>           <th>  HQIC               </th> <td>-476.689</td>\n",
       "</tr>\n",
       "<tr>\n",
       "  <th></th>                          <td>- 06-03-2008</td>          <th>                     </th>     <td> </td>   \n",
       "</tr>\n",
       "<tr>\n",
       "  <th>Covariance Type:</th>               <td>opg</td>              <th>                     </th>     <td> </td>   \n",
       "</tr>\n",
       "</table>\n",
       "<table class=\"simpletable\">\n",
       "<tr>\n",
       "      <td></td>        <th>coef</th>     <th>std err</th>      <th>z</th>      <th>P>|z|</th>  <th>[0.025</th>    <th>0.975]</th>  \n",
       "</tr>\n",
       "<tr>\n",
       "  <th>ar.L1</th>    <td>   -0.1614</td> <td>    0.160</td> <td>   -1.009</td> <td> 0.313</td> <td>   -0.475</td> <td>    0.152</td>\n",
       "</tr>\n",
       "<tr>\n",
       "  <th>ar.L2</th>    <td>    0.5487</td> <td>    0.080</td> <td>    6.860</td> <td> 0.000</td> <td>    0.392</td> <td>    0.705</td>\n",
       "</tr>\n",
       "<tr>\n",
       "  <th>ar.L3</th>    <td>    0.5680</td> <td>    0.094</td> <td>    6.026</td> <td> 0.000</td> <td>    0.383</td> <td>    0.753</td>\n",
       "</tr>\n",
       "<tr>\n",
       "  <th>ma.L1</th>    <td>    0.3839</td> <td>    0.181</td> <td>    2.121</td> <td> 0.034</td> <td>    0.029</td> <td>    0.739</td>\n",
       "</tr>\n",
       "<tr>\n",
       "  <th>ma.S.L12</th> <td>   -0.5223</td> <td>    0.074</td> <td>   -7.030</td> <td> 0.000</td> <td>   -0.668</td> <td>   -0.377</td>\n",
       "</tr>\n",
       "<tr>\n",
       "  <th>ma.S.L24</th> <td>   -0.1768</td> <td>    0.092</td> <td>   -1.912</td> <td> 0.056</td> <td>   -0.358</td> <td>    0.004</td>\n",
       "</tr>\n",
       "<tr>\n",
       "  <th>sigma2</th>   <td>    0.0041</td> <td>    0.000</td> <td>   11.123</td> <td> 0.000</td> <td>    0.003</td> <td>    0.005</td>\n",
       "</tr>\n",
       "</table>\n",
       "<table class=\"simpletable\">\n",
       "<tr>\n",
       "  <th>Ljung-Box (Q):</th>          <td>50.81</td> <th>  Jarque-Bera (JB):  </th> <td>5.32</td>\n",
       "</tr>\n",
       "<tr>\n",
       "  <th>Prob(Q):</th>                <td>0.12</td>  <th>  Prob(JB):          </th> <td>0.07</td>\n",
       "</tr>\n",
       "<tr>\n",
       "  <th>Heteroskedasticity (H):</th> <td>1.58</td>  <th>  Skew:              </th> <td>0.03</td>\n",
       "</tr>\n",
       "<tr>\n",
       "  <th>Prob(H) (two-sided):</th>    <td>0.07</td>  <th>  Kurtosis:          </th> <td>3.81</td>\n",
       "</tr>\n",
       "</table>"
      ],
      "text/plain": [
       "<class 'statsmodels.iolib.summary.Summary'>\n",
       "\"\"\"\n",
       "                                 Statespace Model Results                                 \n",
       "==========================================================================================\n",
       "Dep. Variable:                              Sales   No. Observations:                  204\n",
       "Model:             SARIMAX(3, 0, 1)x(0, 1, 2, 12)   Log Likelihood                 250.042\n",
       "Date:                            Fri, 03 Jun 2016   AIC                           -486.085\n",
       "Time:                                    00:55:14   BIC                           -462.858\n",
       "Sample:                                07-03-1991   HQIC                          -476.689\n",
       "                                     - 06-03-2008                                         \n",
       "Covariance Type:                              opg                                         \n",
       "==============================================================================\n",
       "                 coef    std err          z      P>|z|      [0.025      0.975]\n",
       "------------------------------------------------------------------------------\n",
       "ar.L1         -0.1614      0.160     -1.009      0.313      -0.475       0.152\n",
       "ar.L2          0.5487      0.080      6.860      0.000       0.392       0.705\n",
       "ar.L3          0.5680      0.094      6.026      0.000       0.383       0.753\n",
       "ma.L1          0.3839      0.181      2.121      0.034       0.029       0.739\n",
       "ma.S.L12      -0.5223      0.074     -7.030      0.000      -0.668      -0.377\n",
       "ma.S.L24      -0.1768      0.092     -1.912      0.056      -0.358       0.004\n",
       "sigma2         0.0041      0.000     11.123      0.000       0.003       0.005\n",
       "===================================================================================\n",
       "Ljung-Box (Q):                       50.81   Jarque-Bera (JB):                 5.32\n",
       "Prob(Q):                              0.12   Prob(JB):                         0.07\n",
       "Heteroskedasticity (H):               1.58   Skew:                             0.03\n",
       "Prob(H) (two-sided):                  0.07   Kurtosis:                         3.81\n",
       "===================================================================================\n",
       "\n",
       "Warnings:\n",
       "[1] Covariance matrix calculated using the outer product of gradients (complex-step).\n",
       "\"\"\""
      ]
     },
     "execution_count": 7,
     "metadata": {},
     "output_type": "execute_result"
    }
   ],
   "source": [
    "# This is the model that I found to have the best AIC and Ljung-Box Q value.\n",
    "\n",
    "model = sm.tsa.statespace.SARIMAX(df_log, order=(3,0,1), seasonal_order=(0,1,2,12))\n",
    "results = model.fit()\n",
    "results.summary() # -> AIC: -486.079, LB(Q) -> 50.95"
   ]
  }
 ],
 "metadata": {
  "kernelspec": {
   "display_name": "Python 2",
   "language": "python",
   "name": "python2"
  },
  "language_info": {
   "codemirror_mode": {
    "name": "ipython",
    "version": 2
   },
   "file_extension": ".py",
   "mimetype": "text/x-python",
   "name": "python",
   "nbconvert_exporter": "python",
   "pygments_lexer": "ipython2",
   "version": "2.7.12"
  }
 },
 "nbformat": 4,
 "nbformat_minor": 0
}
