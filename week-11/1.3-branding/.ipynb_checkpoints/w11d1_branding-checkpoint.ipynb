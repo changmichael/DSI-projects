{
 "cells": [
  {
   "cell_type": "markdown",
   "metadata": {
    "slideshow": {
     "slide_type": "slide"
    }
   },
   "source": [
    "# ![](https://ga-dash.s3.amazonaws.com/production/assets/logo-9f88ae6c9c3871690e33280fcf557f33.png) Data Science Portfolios\n",
    "\n",
    "Week 11 | Lesson 1.3"
   ]
  },
  {
   "cell_type": "markdown",
   "metadata": {
    "slideshow": {
     "slide_type": "slide"
    }
   },
   "source": [
    "### LEARNING OBJECTIVES\n",
    "*After this lesson, you will be able to:*\n",
    "- Communicate your personal data science brand\n",
    "- Leverage opportunities for networking and industry exposure\n",
    "- Create a personalized professional development plan"
   ]
  },
  {
   "cell_type": "markdown",
   "metadata": {
    "slideshow": {
     "slide_type": "slide"
    }
   },
   "source": [
    "### LESSON GUIDE\n",
    "| TIMING  | TYPE  | TOPIC  |\n",
    "|:-:|---|---|\n",
    "| 5 min  | [Opening](#opening)  | Harsh Realities |\n",
    "| 75 min  | [Branding](#intro1)   | Build Your Data Science Brand  |\n",
    "| 45 min  | [Portfolio](#intro2)   | Assemble Your Portfolio |\n",
    "| 10 min  | [Networking](#intro3)   | Importance of Networking   |\n",
    "| 10 min  | [Forever a Student](#intro4)   | Always be Learning  |\n",
    "| 5 min  | [Conclusion](#conclusion)  | Takeaways & Advice |"
   ]
  },
  {
   "cell_type": "markdown",
   "metadata": {
    "slideshow": {
     "slide_type": "slide"
    }
   },
   "source": [
    "### Harsh Realities"
   ]
  },
  {
   "cell_type": "markdown",
   "metadata": {
    "slideshow": {
     "slide_type": "slide"
    }
   },
   "source": [
    "### Harsh Reality #1: Nobody Cares About About What You Want or What You've Done.\n",
    "\n",
    "People are busy. \n",
    "\n",
    "In the job market, they will generally only talk to you if you can do something for them. They don't have a lot of time to waste figuring out if that's the case and if so what that is. \n",
    "\n",
    "There are open positions because some business need must be filled."
   ]
  },
  {
   "cell_type": "markdown",
   "metadata": {
    "slideshow": {
     "slide_type": "slide"
    }
   },
   "source": [
    "### Your job is to:\n",
    "\n",
    "- Identify that need\n",
    "\n",
    "- Market yourself as the best person for fulfilling that need"
   ]
  },
  {
   "cell_type": "markdown",
   "metadata": {
    "slideshow": {
     "slide_type": "slide"
    }
   },
   "source": [
    "### Harsh Reality #2: People Label You.\n",
    "\n",
    "\n",
    "If you are lucky enough to pass the initial screen, you will get PCA'd into 2 to three characteristics. These characteristics are how you will be remembered and spoken about."
   ]
  },
  {
   "cell_type": "markdown",
   "metadata": {
    "slideshow": {
     "slide_type": "slide"
    }
   },
   "source": [
    "### Your job is to:\n",
    "\n",
    "- Define what those labels will be"
   ]
  },
  {
   "cell_type": "markdown",
   "metadata": {
    "slideshow": {
     "slide_type": "slide"
    }
   },
   "source": [
    "### Harsh Reality #3: People Are Persuaded By Emotion Not Facts.\n",
    "\n",
    "\n",
    "People tend to be horrible judges of character. Why? Because they judge people not on data, but on how you make them feel. If you make them feel good, they will fight to defend you despite hard evidence that they should not, and they will embue you will positive characteristics you have not demonstrated."
   ]
  },
  {
   "cell_type": "markdown",
   "metadata": {
    "slideshow": {
     "slide_type": "slide"
    }
   },
   "source": [
    "### Your job is to:\n",
    "\n",
    "- Emotionally appeal to them"
   ]
  },
  {
   "cell_type": "markdown",
   "metadata": {
    "slideshow": {
     "slide_type": "slide"
    }
   },
   "source": [
    "## Yes, But How Do We Do All of This?"
   ]
  },
  {
   "cell_type": "markdown",
   "metadata": {
    "slideshow": {
     "slide_type": "slide"
    }
   },
   "source": [
    "## You Must Have a Personal Narrative"
   ]
  },
  {
   "cell_type": "markdown",
   "metadata": {
    "slideshow": {
     "slide_type": "fragment"
    }
   },
   "source": [
    "### WTF is that?"
   ]
  },
  {
   "cell_type": "markdown",
   "metadata": {
    "slideshow": {
     "slide_type": "fragment"
    }
   },
   "source": [
    "A personal narrative is the backstory that brings you to their doorstep. It answers all the questions they have about who you are and what you can do for their company."
   ]
  },
  {
   "cell_type": "markdown",
   "metadata": {
    "slideshow": {
     "slide_type": "slide"
    }
   },
   "source": [
    "### The six story arcs\n",
    "\n",
    "[The Six Story Arcs](http://www.theatlantic.com/technology/archive/2016/07/the-six-main-arcs-in-storytelling-identified-by-a-computer/490733/)"
   ]
  },
  {
   "cell_type": "markdown",
   "metadata": {
    "slideshow": {
     "slide_type": "slide"
    }
   },
   "source": [
    "## Exercise: Spend the next 30 minutes doing the following:\n",
    "\n",
    "- Find 5-10 jobs you would want to apply to \n",
    "- Write down the skills required for these jobs (we'll use this later)\n",
    "- Create a base personal narrative and side narratives for the jobs you choose\n",
    "- Write down this narrative in detail"
   ]
  },
  {
   "cell_type": "markdown",
   "metadata": {
    "slideshow": {
     "slide_type": "slide"
    }
   },
   "source": [
    "## Exercise: Spend the next 30 minutes doing the following:\n",
    "\n",
    "- Get into groups of approximately 3 people\n",
    "- One person will listen and take notes, one person will be interviewed, and one person will be the interviewer\n",
    "- The interviewee should give the job requirement posting to the interviewer and note-taker and let them become familiarize themselves with it\n",
    "- Once the interviewer is ready, the prompt is 'Tell me a little about yourself and why you want to work for us'\n"
   ]
  },
  {
   "cell_type": "markdown",
   "metadata": {
    "slideshow": {
     "slide_type": "slide"
    }
   },
   "source": [
    "## Assemble Your Portfolio"
   ]
  },
  {
   "cell_type": "markdown",
   "metadata": {
    "slideshow": {
     "slide_type": "slide"
    }
   },
   "source": [
    "### Your portfolio is the manifestation of your skillset\n",
    "\n",
    "Ask yourself the following questions:\n",
    "\n",
    "1. Does this portfolio tell a compelling, easy-to-follow story even to someone with little to no technical background?\n",
    "2. Is it generic work or does it demonstrate the author has a deep commitment to answering a question?\n",
    "3. Is it visullaly beautiful?\n",
    "4. Does it clearly tell me why I should give a shit?"
   ]
  },
  {
   "cell_type": "markdown",
   "metadata": {
    "slideshow": {
     "slide_type": "slide"
    }
   },
   "source": [
    "## Exercise: Spend the next 30 minutes doing the following:\n",
    "\n",
    "- Read [How to Create A Data Science Protfolio that Will Get You Hired](http://www.datascienceweekly.org/articles/how-you-should-create-a-data-science-portfolio-that-will-get-you-hired)\n",
    "- Take a look at your existing portfolio and judge it by the 4 criteria above\n",
    "- Pair up and ask your partner to evaluate your portfolio on the 4 criteria\n",
    "- Using this infomation and the jobs that you want to apply to create a plan to build a better portfolio showcase - be prepared to share this with the class"
   ]
  },
  {
   "cell_type": "markdown",
   "metadata": {
    "slideshow": {
     "slide_type": "slide"
    }
   },
   "source": [
    "## Networking\n",
    "\n",
    "After you've cultivated your brand and built up a sample portfolio, the next step is to network! Your goal should be to connect with people in the field for insight, advice, mentoring, and leads.\n",
    "\n",
    "Networking sucks. At least it does in the minds of a lot of people. Generally, this is because people think of networking as a smarmy activity undertaken by self promoters. While this can definitely be the case, the trick is\n",
    "to think of networking as an opportunity to **be interested -- not interesting**.\n",
    "\n",
    "If you reconceptualize networking as an oppotunity to learn about people working on interesting projects, it becomes\n",
    "much more palatable. \n",
    "\n",
    "[Why You Suck at Networking](https://medium.com/@schnarr9/why-you-suck-at-networking-e3b53bf53a0e#.a87gxq5r7)"
   ]
  },
  {
   "cell_type": "markdown",
   "metadata": {
    "slideshow": {
     "slide_type": "slide"
    }
   },
   "source": [
    "## Find a mentor\n",
    "\n",
    "There's an old saying that goes: \"When you want advice, ask for money. When you want money, ask for advice.\"\n",
    "\n",
    "The surest way to succeed in your job search is to surround yourself with other people in the field and ask for advice and direction. Finding mentors in the field will give you the guidance you need to increase your network, sharpen your skills, and contribute to the data science community.\n",
    "\n",
    "When pitching potential mentors, you'll want to make sure you aren't just asking for help; look up a common interest and try to provide value in return.\n",
    "\n",
    "It's typically best to begin small; you might ask for an informational interview - like a quick chat over coffee - and discuss their background, roles, or favorite projects. Then relate these to your own skills, interests, and goals in the field.\n",
    "\n",
    "[Tim Ferris on Finding a Mentor](https://www.entrepreneur.com/article/249385)"
   ]
  },
  {
   "cell_type": "markdown",
   "metadata": {
    "slideshow": {
     "slide_type": "slide"
    }
   },
   "source": [
    "## Get Invovled - Conferences\n",
    "\n",
    "- Meetups\n",
    "- PyData\n",
    "- Strata-Hadoop World\n",
    "- DataKind\n",
    "- KDD\n",
    "\n",
    "[Quora Thread](https://www.quora.com/What-are-the-best-data-science-conferences-in-the-US)"
   ]
  },
  {
   "cell_type": "markdown",
   "metadata": {
    "slideshow": {
     "slide_type": "slide"
    }
   },
   "source": [
    "## Keep Learning - Resources\n",
    "\n",
    "**Data Science Competitions**\n",
    "- [Kaggle!](https://www.kaggle.com/competitions)\n",
    "- [DataKind](http://www.datakind.org)\n",
    "- [DrivenData](https://www.drivendata.org/competitions/)\n",
    "- [CrowdAnalytix](https://www.crowdanalytix.com/community)\n",
    "\n",
    "**Additional Resources**\n",
    "* [For additional public data science competitions, check out this list](http://www.kdnuggets.com/competitions/)\n",
    "* [For more advice on competitions and hiring, see this Quora post](https://www.quora.com/How-similar-are-Kaggle-competitions-to-what-data-scientists-do)"
   ]
  },
  {
   "cell_type": "markdown",
   "metadata": {
    "slideshow": {
     "slide_type": "slide"
    }
   },
   "source": [
    "## Keep Learning - More Resources\n",
    "\n",
    "When you aren't building your portfolio, networking, or applying for jobs, consider reading up on some other resources for learning about the field. The more information you have at your disposal, the better you'll be able to target your skills and approach.\n",
    "\n",
    "You might look up relevant topics on [Reddit](https://www.reddit.com/r/datascience) and [Quora](https://www.quora.com/topic/Data-Science) or follow some prominent figures on [Twitter](https://twitter.com/hashtag/datascience?lang=en). You should also check out the following:\n",
    "\n",
    "**Websites**\n",
    "\n",
    "- [KDNuggets](http://www.kdnuggets.com)\n",
    "- [DataTau](http://www.datatau.com)\n",
    "- [Hacker News](https://news.ycombinator.com)\n",
    "\n",
    "\n",
    "**Podcasts**\n",
    "\n",
    "- [Talking Machines](http://www.thetalkingmachines.com)\n",
    "- [Partially Derivative](http://partiallyderivative.com)\n",
    "- [O'Reilly Data Show](https://www.oreilly.com/topics/data)"
   ]
  },
  {
   "cell_type": "markdown",
   "metadata": {
    "slideshow": {
     "slide_type": "slide"
    }
   },
   "source": [
    "## Exercise: Spend the next 15 minutes browsing these resources and finding some that you'd like to get involved with"
   ]
  },
  {
   "cell_type": "markdown",
   "metadata": {
    "slideshow": {
     "slide_type": "slide"
    }
   },
   "source": [
    "## Conclusion\n",
    "\n",
    "\n",
    "- To get value, provide value\n",
    "- Be interested before interesting\n",
    "- Always be involved\n",
    "- Alway be learning"
   ]
  }
 ],
 "metadata": {
  "celltoolbar": "Slideshow",
  "kernelspec": {
   "display_name": "Python 2",
   "language": "python",
   "name": "python2"
  },
  "language_info": {
   "codemirror_mode": {
    "name": "ipython",
    "version": 2
   },
   "file_extension": ".py",
   "mimetype": "text/x-python",
   "name": "python",
   "nbconvert_exporter": "python",
   "pygments_lexer": "ipython2",
   "version": "2.7.12"
  }
 },
 "nbformat": 4,
 "nbformat_minor": 0
}
