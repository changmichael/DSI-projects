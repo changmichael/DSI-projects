{
 "cells": [
  {
   "cell_type": "markdown",
   "metadata": {},
   "source": [
    "# 1. Triple Double"
   ]
  },
  {
   "cell_type": "code",
   "execution_count": 13,
   "metadata": {
    "collapsed": false
   },
   "outputs": [
    {
     "data": {
      "text/plain": [
       "4"
      ]
     },
     "execution_count": 13,
     "metadata": {},
     "output_type": "execute_result"
    }
   ],
   "source": [
    "def double(x):\n",
    "    return x*2\n",
    "double(2)"
   ]
  },
  {
   "cell_type": "code",
   "execution_count": 14,
   "metadata": {
    "collapsed": true
   },
   "outputs": [],
   "source": [
    "def triple_double(func, x):\n",
    "    return 3* func(x)"
   ]
  },
  {
   "cell_type": "code",
   "execution_count": 15,
   "metadata": {
    "collapsed": false
   },
   "outputs": [
    {
     "data": {
      "text/plain": [
       "12"
      ]
     },
     "execution_count": 15,
     "metadata": {},
     "output_type": "execute_result"
    }
   ],
   "source": [
    "triple_double(double, 2)"
   ]
  },
  {
   "cell_type": "markdown",
   "metadata": {},
   "source": [
    "# 2: Decorators\n",
    "Here's the simple formatting for a decorator"
   ]
  },
  {
   "cell_type": "code",
   "execution_count": 41,
   "metadata": {
    "collapsed": false
   },
   "outputs": [
    {
     "data": {
      "text/plain": [
       "'Extra text on the output of None'"
      ]
     },
     "execution_count": 41,
     "metadata": {},
     "output_type": "execute_result"
    }
   ],
   "source": [
    "def decorate(func):\n",
    "    def wrapper(x):\n",
    "        return \"Extra text on the output of %s\" %func(x)\n",
    "    return wrapper\n",
    "\n",
    "@decorate\n",
    "def func(x):\n",
    "    pass\n",
    "\n",
    "func(2)"
   ]
  },
  {
   "cell_type": "code",
   "execution_count": 39,
   "metadata": {
    "collapsed": false
   },
   "outputs": [
    {
     "data": {
      "text/plain": [
       "'Your answer is 4'"
      ]
     },
     "execution_count": 39,
     "metadata": {},
     "output_type": "execute_result"
    }
   ],
   "source": [
    "def tell_me_more(func):\n",
    "    def inner(x):\n",
    "        return \"Your answer is %s\" % func(x)\n",
    "    return inner\n",
    "\n",
    "@tell_me_more\n",
    "def double(x):\n",
    "    return x*2\n",
    "\n",
    "double(2)"
   ]
  },
  {
   "cell_type": "markdown",
   "metadata": {},
   "source": [
    "A decorator is just a function called by an annotation. \n",
    "\n",
    "In this case `tell_me_more` is a function that modifies the `double` function. It's the same thing as writing this:\n",
    "\n",
    "```python\n",
    "double = tell_me_more(double)\n",
    "```"
   ]
  },
  {
   "cell_type": "code",
   "execution_count": 34,
   "metadata": {
    "collapsed": false
   },
   "outputs": [
    {
     "data": {
      "text/plain": [
       "'Your answer is 6'"
      ]
     },
     "execution_count": 34,
     "metadata": {},
     "output_type": "execute_result"
    }
   ],
   "source": [
    "tell_me_more(double)(3)"
   ]
  },
  {
   "cell_type": "code",
   "execution_count": 35,
   "metadata": {
    "collapsed": false
   },
   "outputs": [
    {
     "data": {
      "text/plain": [
       "4"
      ]
     },
     "execution_count": 35,
     "metadata": {},
     "output_type": "execute_result"
    }
   ],
   "source": [
    "double(2)"
   ]
  },
  {
   "cell_type": "code",
   "execution_count": 36,
   "metadata": {
    "collapsed": true
   },
   "outputs": [],
   "source": [
    "double = tell_me_more(double)"
   ]
  },
  {
   "cell_type": "code",
   "execution_count": 37,
   "metadata": {
    "collapsed": false
   },
   "outputs": [
    {
     "data": {
      "text/plain": [
       "'Your answer is 8'"
      ]
     },
     "execution_count": 37,
     "metadata": {},
     "output_type": "execute_result"
    }
   ],
   "source": [
    "double(4)"
   ]
  },
  {
   "cell_type": "markdown",
   "metadata": {},
   "source": [
    "# 3. Decorators with parameters\n",
    "again, here's the basic syntax:"
   ]
  },
  {
   "cell_type": "code",
   "execution_count": 43,
   "metadata": {
    "collapsed": true
   },
   "outputs": [],
   "source": [
    "def decorate(arg1):\n",
    "    def wrap(f):\n",
    "        def _wrap(arg):\n",
    "            f(arg + arg1)\n",
    "        return _wrap\n",
    "    return wrap\n",
    "\n",
    "@decorate(1)\n",
    "def func(arg):\n",
    "    pass"
   ]
  },
  {
   "cell_type": "code",
   "execution_count": 44,
   "metadata": {
    "collapsed": false
   },
   "outputs": [
    {
     "data": {
      "text/plain": [
       "'Hi Dan. Your answer is 4'"
      ]
     },
     "execution_count": 44,
     "metadata": {},
     "output_type": "execute_result"
    }
   ],
   "source": [
    "def tell_me_more_friend(name):\n",
    "    def decorate(func):\n",
    "        def inner(x):\n",
    "            return \"Hi {0}. Your answer is {1}\".format(name, func(x))\n",
    "        return inner\n",
    "    return decorate\n",
    "\n",
    "\n",
    "@tell_me_more_friend(\"Dan\")\n",
    "def double(x):\n",
    "    return x*2\n",
    "\n",
    "\n",
    "double(2)"
   ]
  },
  {
   "cell_type": "markdown",
   "metadata": {},
   "source": [
    "# Challenge\n",
    "Find the thirteen adjacent digits in the 1000-digit number that have the greatest product. What is the value of this product?\n",
    "\n",
    "https://projecteuler.net/problem=8"
   ]
  },
  {
   "cell_type": "code",
   "execution_count": 45,
   "metadata": {
    "collapsed": false
   },
   "outputs": [
    {
     "name": "stdout",
     "output_type": "stream",
     "text": [
      "23514624000\n",
      "The starting index is 197\n",
      "The 13 largest numbers are \n",
      "5576689664895\n"
     ]
    }
   ],
   "source": [
    "\n",
    "s = \"7316717653133062491922511967442657474235534919493496983520312774506326239578318016984801869478851843858615607891129494954595017379583319528532088055111254069874715852386305071569329096329522744304355766896648950445244523161731856403098711121722383113622298934233803081353362766142828064444866452387493035890729629049156044077239071381051585930796086670172427121883998797908792274921901699720888093776657273330010533678812202354218097512545405947522435258490771167055601360483958644670632441572215539753697817977846174064955149290862569321978468622482839722413756570560574902614079729686524145351004748216637048440319989000889524345065854122758866688116427171479924442928230863465674813919123162824586178664583591245665294765456828489128831426076900422421902267105562632111110937054421750694165896040807198403850962455444362981230987879927244284909188845801561660979191338754992005240636899125607176060588611646710940507754100225698315520005593572972571636269561882670428252483600823257530420752963450\"\n",
    "     \n",
    "largestProduct = 0\n",
    "start_ind = 0\n",
    "\n",
    "for i in range(0, len(s) - 13):\n",
    "\n",
    "    product = 1\n",
    "\n",
    "    for j in range(i, i + 13):\n",
    "        product *= int(s[j: j + 1])\n",
    "\n",
    "    if product > largestProduct:\n",
    "        largestProduct = product\n",
    "        start_ind = i\n",
    "\n",
    "print largestProduct\n",
    "print \"The starting index is %s\" %start_ind\n",
    "print \"The 13 largest numbers are \"\n",
    "print s[start_ind:start_ind+13]"
   ]
  },
  {
   "cell_type": "code",
   "execution_count": null,
   "metadata": {
    "collapsed": true
   },
   "outputs": [],
   "source": []
  }
 ],
 "metadata": {
  "kernelspec": {
   "display_name": "Python 2",
   "language": "python",
   "name": "python2"
  },
  "language_info": {
   "codemirror_mode": {
    "name": "ipython",
    "version": 2
   },
   "file_extension": ".py",
   "mimetype": "text/x-python",
   "name": "python",
   "nbconvert_exporter": "python",
   "pygments_lexer": "ipython2",
   "version": "2.7.12"
  },
  "widgets": {
   "state": {},
   "version": "1.1.0"
  }
 },
 "nbformat": 4,
 "nbformat_minor": 0
}
