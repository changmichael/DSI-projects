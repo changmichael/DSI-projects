{
 "cells": [
  {
   "cell_type": "code",
   "execution_count": 1,
   "metadata": {
    "collapsed": false
   },
   "outputs": [],
   "source": [
    "rosewater = \"Hello babies. Welcome to Earth. \\\n",
    "It's hot in the summer and cold in the winter. \\\n",
    "It's round and wet and crowded. On the outside, \\\n",
    "babies, you've got a hundred years here. \\\n",
    "There's only one rule that I know of, babies- \\\n",
    "'God damn it, you've got to be kind.'\""
   ]
  },
  {
   "cell_type": "markdown",
   "metadata": {},
   "source": [
    "Let's break this text up to make it more readable for machine learning. Split the text so it's a list of sentences. \n",
    "\n",
    "Then, remove punctuation from your sentences and make all your strings lowercase. "
   ]
  },
  {
   "cell_type": "code",
   "execution_count": 4,
   "metadata": {
    "collapsed": false
   },
   "outputs": [],
   "source": [
    "x = rosewater.replace(',','').replace(\"'\",\"\").replace('-','').lower().split('.')"
   ]
  },
  {
   "cell_type": "markdown",
   "metadata": {},
   "source": [
    "Now, vectorize each sentence so that each sentence is a list of words. You should now have a list of lists"
   ]
  },
  {
   "cell_type": "code",
   "execution_count": 5,
   "metadata": {
    "collapsed": false
   },
   "outputs": [
    {
     "data": {
      "text/plain": [
       "['hello babies',\n",
       " ' welcome to earth',\n",
       " ' its hot in the summer and cold in the winter',\n",
       " ' its round and wet and crowded',\n",
       " ' on the outside babies youve got a hundred years here',\n",
       " ' theres only one rule that i know of babies god damn it youve got to be kind',\n",
       " '']"
      ]
     },
     "execution_count": 5,
     "metadata": {},
     "output_type": "execute_result"
    }
   ],
   "source": [
    "x"
   ]
  },
  {
   "cell_type": "code",
   "execution_count": 8,
   "metadata": {
    "collapsed": false
   },
   "outputs": [
    {
     "data": {
      "text/plain": [
       "[['hello', 'babies'],\n",
       " ['welcome', 'to', 'earth'],\n",
       " ['its', 'hot', 'in', 'the', 'summer', 'and', 'cold', 'in', 'the', 'winter'],\n",
       " ['its', 'round', 'and', 'wet', 'and', 'crowded'],\n",
       " ['on',\n",
       "  'the',\n",
       "  'outside',\n",
       "  'babies',\n",
       "  'youve',\n",
       "  'got',\n",
       "  'a',\n",
       "  'hundred',\n",
       "  'years',\n",
       "  'here'],\n",
       " ['theres',\n",
       "  'only',\n",
       "  'one',\n",
       "  'rule',\n",
       "  'that',\n",
       "  'i',\n",
       "  'know',\n",
       "  'of',\n",
       "  'babies',\n",
       "  'god',\n",
       "  'damn',\n",
       "  'it',\n",
       "  'youve',\n",
       "  'got',\n",
       "  'to',\n",
       "  'be',\n",
       "  'kind']]"
      ]
     },
     "execution_count": 8,
     "metadata": {},
     "output_type": "execute_result"
    }
   ],
   "source": [
    "rosewaterList = [text.split() for text in x]\n",
    "rosewaterList = rosewaterList[:-1]\n",
    "rosewaterList"
   ]
  },
  {
   "cell_type": "markdown",
   "metadata": {},
   "source": [
    "Finally, create a count vectorizer. Create a list of dictionaries, where each dictionary represents a sentence, and the key:value pairs are the counts of each word"
   ]
  },
  {
   "cell_type": "markdown",
   "metadata": {},
   "source": [
    "If you sentence is ```\"My purpose? I have no purpose. I just cha cha.\"``` , then your outputs would look like this:\n"
   ]
  },
  {
   "cell_type": "raw",
   "metadata": {},
   "source": [
    "[['my', 'purpose'],\n",
    " ['i', 'have', 'no', 'purpose'],\n",
    " ['i', 'just', 'cha', 'cha']]"
   ]
  },
  {
   "cell_type": "raw",
   "metadata": {},
   "source": [
    "[{'my': 1, 'purpose': 1},\n",
    " {'have': 1, 'i': 1, 'no': 1, 'purpose': 1},\n",
    " {'cha': 2, 'i': 1, 'just': 1}]"
   ]
  },
  {
   "cell_type": "markdown",
   "metadata": {},
   "source": [
    "Do this for the rosewater text:"
   ]
  },
  {
   "cell_type": "code",
   "execution_count": 52,
   "metadata": {
    "collapsed": false
   },
   "outputs": [],
   "source": [
    "def dictionaryvalues(listed):\n",
    "    giantlist = []\n",
    "    for onelist in listed:\n",
    "        mastdict = {}\n",
    "        for item in onelist:\n",
    "            mastdict[item] = onelist.count(item)\n",
    "        giantlist.append(mastdict)\n",
    "    return giantlist\n",
    "\n",
    "y = dictionaryvalues(rosewaterList)"
   ]
  },
  {
   "cell_type": "markdown",
   "metadata": {},
   "source": [
    "Finally, turn your dictionary into a DataFrame"
   ]
  },
  {
   "cell_type": "code",
   "execution_count": 53,
   "metadata": {
    "collapsed": true
   },
   "outputs": [],
   "source": [
    "import pandas as pd"
   ]
  },
  {
   "cell_type": "code",
   "execution_count": 56,
   "metadata": {
    "collapsed": false
   },
   "outputs": [],
   "source": [
    "z = pd.DataFrame.from_dict(y)"
   ]
  },
  {
   "cell_type": "code",
   "execution_count": 58,
   "metadata": {
    "collapsed": false
   },
   "outputs": [],
   "source": [
    "z.fillna(value = 0, inplace = True)"
   ]
  },
  {
   "cell_type": "code",
   "execution_count": 59,
   "metadata": {
    "collapsed": false
   },
   "outputs": [
    {
     "data": {
      "text/html": [
       "<div>\n",
       "<table border=\"1\" class=\"dataframe\">\n",
       "  <thead>\n",
       "    <tr style=\"text-align: right;\">\n",
       "      <th></th>\n",
       "      <th>a</th>\n",
       "      <th>and</th>\n",
       "      <th>babies</th>\n",
       "      <th>be</th>\n",
       "      <th>cold</th>\n",
       "      <th>crowded</th>\n",
       "      <th>damn</th>\n",
       "      <th>earth</th>\n",
       "      <th>god</th>\n",
       "      <th>got</th>\n",
       "      <th>...</th>\n",
       "      <th>summer</th>\n",
       "      <th>that</th>\n",
       "      <th>the</th>\n",
       "      <th>theres</th>\n",
       "      <th>to</th>\n",
       "      <th>welcome</th>\n",
       "      <th>wet</th>\n",
       "      <th>winter</th>\n",
       "      <th>years</th>\n",
       "      <th>youve</th>\n",
       "    </tr>\n",
       "  </thead>\n",
       "  <tbody>\n",
       "    <tr>\n",
       "      <th>0</th>\n",
       "      <td>0.0</td>\n",
       "      <td>0.0</td>\n",
       "      <td>1.0</td>\n",
       "      <td>0.0</td>\n",
       "      <td>0.0</td>\n",
       "      <td>0.0</td>\n",
       "      <td>0.0</td>\n",
       "      <td>0.0</td>\n",
       "      <td>0.0</td>\n",
       "      <td>0.0</td>\n",
       "      <td>...</td>\n",
       "      <td>0.0</td>\n",
       "      <td>0.0</td>\n",
       "      <td>0.0</td>\n",
       "      <td>0.0</td>\n",
       "      <td>0.0</td>\n",
       "      <td>0.0</td>\n",
       "      <td>0.0</td>\n",
       "      <td>0.0</td>\n",
       "      <td>0.0</td>\n",
       "      <td>0.0</td>\n",
       "    </tr>\n",
       "    <tr>\n",
       "      <th>1</th>\n",
       "      <td>0.0</td>\n",
       "      <td>0.0</td>\n",
       "      <td>0.0</td>\n",
       "      <td>0.0</td>\n",
       "      <td>0.0</td>\n",
       "      <td>0.0</td>\n",
       "      <td>0.0</td>\n",
       "      <td>1.0</td>\n",
       "      <td>0.0</td>\n",
       "      <td>0.0</td>\n",
       "      <td>...</td>\n",
       "      <td>0.0</td>\n",
       "      <td>0.0</td>\n",
       "      <td>0.0</td>\n",
       "      <td>0.0</td>\n",
       "      <td>1.0</td>\n",
       "      <td>1.0</td>\n",
       "      <td>0.0</td>\n",
       "      <td>0.0</td>\n",
       "      <td>0.0</td>\n",
       "      <td>0.0</td>\n",
       "    </tr>\n",
       "    <tr>\n",
       "      <th>2</th>\n",
       "      <td>0.0</td>\n",
       "      <td>1.0</td>\n",
       "      <td>0.0</td>\n",
       "      <td>0.0</td>\n",
       "      <td>1.0</td>\n",
       "      <td>0.0</td>\n",
       "      <td>0.0</td>\n",
       "      <td>0.0</td>\n",
       "      <td>0.0</td>\n",
       "      <td>0.0</td>\n",
       "      <td>...</td>\n",
       "      <td>1.0</td>\n",
       "      <td>0.0</td>\n",
       "      <td>2.0</td>\n",
       "      <td>0.0</td>\n",
       "      <td>0.0</td>\n",
       "      <td>0.0</td>\n",
       "      <td>0.0</td>\n",
       "      <td>1.0</td>\n",
       "      <td>0.0</td>\n",
       "      <td>0.0</td>\n",
       "    </tr>\n",
       "    <tr>\n",
       "      <th>3</th>\n",
       "      <td>0.0</td>\n",
       "      <td>2.0</td>\n",
       "      <td>0.0</td>\n",
       "      <td>0.0</td>\n",
       "      <td>0.0</td>\n",
       "      <td>1.0</td>\n",
       "      <td>0.0</td>\n",
       "      <td>0.0</td>\n",
       "      <td>0.0</td>\n",
       "      <td>0.0</td>\n",
       "      <td>...</td>\n",
       "      <td>0.0</td>\n",
       "      <td>0.0</td>\n",
       "      <td>0.0</td>\n",
       "      <td>0.0</td>\n",
       "      <td>0.0</td>\n",
       "      <td>0.0</td>\n",
       "      <td>1.0</td>\n",
       "      <td>0.0</td>\n",
       "      <td>0.0</td>\n",
       "      <td>0.0</td>\n",
       "    </tr>\n",
       "    <tr>\n",
       "      <th>4</th>\n",
       "      <td>1.0</td>\n",
       "      <td>0.0</td>\n",
       "      <td>1.0</td>\n",
       "      <td>0.0</td>\n",
       "      <td>0.0</td>\n",
       "      <td>0.0</td>\n",
       "      <td>0.0</td>\n",
       "      <td>0.0</td>\n",
       "      <td>0.0</td>\n",
       "      <td>1.0</td>\n",
       "      <td>...</td>\n",
       "      <td>0.0</td>\n",
       "      <td>0.0</td>\n",
       "      <td>1.0</td>\n",
       "      <td>0.0</td>\n",
       "      <td>0.0</td>\n",
       "      <td>0.0</td>\n",
       "      <td>0.0</td>\n",
       "      <td>0.0</td>\n",
       "      <td>1.0</td>\n",
       "      <td>1.0</td>\n",
       "    </tr>\n",
       "    <tr>\n",
       "      <th>5</th>\n",
       "      <td>0.0</td>\n",
       "      <td>0.0</td>\n",
       "      <td>1.0</td>\n",
       "      <td>1.0</td>\n",
       "      <td>0.0</td>\n",
       "      <td>0.0</td>\n",
       "      <td>1.0</td>\n",
       "      <td>0.0</td>\n",
       "      <td>1.0</td>\n",
       "      <td>1.0</td>\n",
       "      <td>...</td>\n",
       "      <td>0.0</td>\n",
       "      <td>1.0</td>\n",
       "      <td>0.0</td>\n",
       "      <td>1.0</td>\n",
       "      <td>1.0</td>\n",
       "      <td>0.0</td>\n",
       "      <td>0.0</td>\n",
       "      <td>0.0</td>\n",
       "      <td>0.0</td>\n",
       "      <td>1.0</td>\n",
       "    </tr>\n",
       "    <tr>\n",
       "      <th>6</th>\n",
       "      <td>0.0</td>\n",
       "      <td>0.0</td>\n",
       "      <td>0.0</td>\n",
       "      <td>0.0</td>\n",
       "      <td>0.0</td>\n",
       "      <td>0.0</td>\n",
       "      <td>0.0</td>\n",
       "      <td>0.0</td>\n",
       "      <td>0.0</td>\n",
       "      <td>0.0</td>\n",
       "      <td>...</td>\n",
       "      <td>0.0</td>\n",
       "      <td>0.0</td>\n",
       "      <td>0.0</td>\n",
       "      <td>0.0</td>\n",
       "      <td>0.0</td>\n",
       "      <td>0.0</td>\n",
       "      <td>0.0</td>\n",
       "      <td>0.0</td>\n",
       "      <td>0.0</td>\n",
       "      <td>0.0</td>\n",
       "    </tr>\n",
       "  </tbody>\n",
       "</table>\n",
       "<p>7 rows × 37 columns</p>\n",
       "</div>"
      ],
      "text/plain": [
       "     a  and  babies   be  cold  crowded  damn  earth  god  got  ...    summer  \\\n",
       "0  0.0  0.0     1.0  0.0   0.0      0.0   0.0    0.0  0.0  0.0  ...       0.0   \n",
       "1  0.0  0.0     0.0  0.0   0.0      0.0   0.0    1.0  0.0  0.0  ...       0.0   \n",
       "2  0.0  1.0     0.0  0.0   1.0      0.0   0.0    0.0  0.0  0.0  ...       1.0   \n",
       "3  0.0  2.0     0.0  0.0   0.0      1.0   0.0    0.0  0.0  0.0  ...       0.0   \n",
       "4  1.0  0.0     1.0  0.0   0.0      0.0   0.0    0.0  0.0  1.0  ...       0.0   \n",
       "5  0.0  0.0     1.0  1.0   0.0      0.0   1.0    0.0  1.0  1.0  ...       0.0   \n",
       "6  0.0  0.0     0.0  0.0   0.0      0.0   0.0    0.0  0.0  0.0  ...       0.0   \n",
       "\n",
       "   that  the  theres   to  welcome  wet  winter  years  youve  \n",
       "0   0.0  0.0     0.0  0.0      0.0  0.0     0.0    0.0    0.0  \n",
       "1   0.0  0.0     0.0  1.0      1.0  0.0     0.0    0.0    0.0  \n",
       "2   0.0  2.0     0.0  0.0      0.0  0.0     1.0    0.0    0.0  \n",
       "3   0.0  0.0     0.0  0.0      0.0  1.0     0.0    0.0    0.0  \n",
       "4   0.0  1.0     0.0  0.0      0.0  0.0     0.0    1.0    1.0  \n",
       "5   1.0  0.0     1.0  1.0      0.0  0.0     0.0    0.0    1.0  \n",
       "6   0.0  0.0     0.0  0.0      0.0  0.0     0.0    0.0    0.0  \n",
       "\n",
       "[7 rows x 37 columns]"
      ]
     },
     "execution_count": 59,
     "metadata": {},
     "output_type": "execute_result"
    }
   ],
   "source": [
    "z"
   ]
  },
  {
   "cell_type": "code",
   "execution_count": null,
   "metadata": {
    "collapsed": true
   },
   "outputs": [],
   "source": []
  }
 ],
 "metadata": {
  "kernelspec": {
   "display_name": "Python 2",
   "language": "python",
   "name": "python2"
  },
  "language_info": {
   "codemirror_mode": {
    "name": "ipython",
    "version": 2
   },
   "file_extension": ".py",
   "mimetype": "text/x-python",
   "name": "python",
   "nbconvert_exporter": "python",
   "pygments_lexer": "ipython2",
   "version": "2.7.12"
  }
 },
 "nbformat": 4,
 "nbformat_minor": 0
}
