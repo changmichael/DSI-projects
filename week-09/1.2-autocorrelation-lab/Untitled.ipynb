{
 "cells": [
  {
   "cell_type": "code",
   "execution_count": 1,
   "metadata": {
    "collapsed": true
   },
   "outputs": [],
   "source": [
    "import pandas as pd\n",
    "%matplotlib inline\n",
    "import matplotlib"
   ]
  },
  {
   "cell_type": "code",
   "execution_count": 7,
   "metadata": {
    "collapsed": false
   },
   "outputs": [],
   "source": [
    "face = pd.read_csv('fb.csv')\n",
    "goog = pd.read_csv('goog.csv')\n",
    "amazon = pd.read_csv('amzn.csv')\n",
    "twit = pd.read_csv('twtr.csv')\n",
    "apple = pd.read_csv('aapl.csv')"
   ]
  },
  {
   "cell_type": "code",
   "execution_count": 11,
   "metadata": {
    "collapsed": false
   },
   "outputs": [
    {
     "data": {
      "text/html": [
       "<div>\n",
       "<table border=\"1\" class=\"dataframe\">\n",
       "  <thead>\n",
       "    <tr style=\"text-align: right;\">\n",
       "      <th></th>\n",
       "      <th>﻿Date</th>\n",
       "      <th>Open</th>\n",
       "      <th>High</th>\n",
       "      <th>Low</th>\n",
       "      <th>Close</th>\n",
       "      <th>Volume</th>\n",
       "    </tr>\n",
       "  </thead>\n",
       "  <tbody>\n",
       "    <tr>\n",
       "      <th>0</th>\n",
       "      <td>29-Jul-16</td>\n",
       "      <td>124.65</td>\n",
       "      <td>125.84</td>\n",
       "      <td>123.71</td>\n",
       "      <td>123.94</td>\n",
       "      <td>35058803</td>\n",
       "    </tr>\n",
       "    <tr>\n",
       "      <th>1</th>\n",
       "      <td>28-Jul-16</td>\n",
       "      <td>127.52</td>\n",
       "      <td>128.33</td>\n",
       "      <td>123.63</td>\n",
       "      <td>125.00</td>\n",
       "      <td>78955758</td>\n",
       "    </tr>\n",
       "    <tr>\n",
       "      <th>2</th>\n",
       "      <td>27-Jul-16</td>\n",
       "      <td>122.42</td>\n",
       "      <td>125.00</td>\n",
       "      <td>121.51</td>\n",
       "      <td>123.34</td>\n",
       "      <td>52654239</td>\n",
       "    </tr>\n",
       "    <tr>\n",
       "      <th>3</th>\n",
       "      <td>26-Jul-16</td>\n",
       "      <td>122.00</td>\n",
       "      <td>122.07</td>\n",
       "      <td>120.75</td>\n",
       "      <td>121.22</td>\n",
       "      <td>17611964</td>\n",
       "    </tr>\n",
       "    <tr>\n",
       "      <th>4</th>\n",
       "      <td>25-Jul-16</td>\n",
       "      <td>121.39</td>\n",
       "      <td>121.85</td>\n",
       "      <td>117.78</td>\n",
       "      <td>121.63</td>\n",
       "      <td>18487449</td>\n",
       "    </tr>\n",
       "  </tbody>\n",
       "</table>\n",
       "</div>"
      ],
      "text/plain": [
       "       ﻿Date    Open    High     Low   Close    Volume\n",
       "0  29-Jul-16  124.65  125.84  123.71  123.94  35058803\n",
       "1  28-Jul-16  127.52  128.33  123.63  125.00  78955758\n",
       "2  27-Jul-16  122.42  125.00  121.51  123.34  52654239\n",
       "3  26-Jul-16  122.00  122.07  120.75  121.22  17611964\n",
       "4  25-Jul-16  121.39  121.85  117.78  121.63  18487449"
      ]
     },
     "execution_count": 11,
     "metadata": {},
     "output_type": "execute_result"
    }
   ],
   "source": [
    "face.head()"
   ]
  },
  {
   "cell_type": "code",
   "execution_count": 9,
   "metadata": {
    "collapsed": false
   },
   "outputs": [
    {
     "data": {
      "text/plain": [
       "<matplotlib.axes._subplots.AxesSubplot at 0x11269abd0>"
      ]
     },
     "execution_count": 9,
     "metadata": {},
     "output_type": "execute_result"
    },
    {
     "data": {
      "image/png": "[encoded data removed]",
      "text/plain": [
       "<matplotlib.figure.Figure at 0x11269aad0>"
      ]
     },
     "metadata": {},
     "output_type": "display_data"
    }
   ],
   "source": [
    "face.Close.plot()"
   ]
  },
  {
   "cell_type": "code",
   "execution_count": null,
   "metadata": {
    "collapsed": true
   },
   "outputs": [],
   "source": []
  }
 ],
 "metadata": {
  "kernelspec": {
   "display_name": "Python 2",
   "language": "python",
   "name": "python2"
  },
  "language_info": {
   "codemirror_mode": {
    "name": "ipython",
    "version": 2
   },
   "file_extension": ".py",
   "mimetype": "text/x-python",
   "name": "python",
   "nbconvert_exporter": "python",
   "pygments_lexer": "ipython2",
   "version": "2.7.12"
  }
 },
 "nbformat": 4,
 "nbformat_minor": 0
}
