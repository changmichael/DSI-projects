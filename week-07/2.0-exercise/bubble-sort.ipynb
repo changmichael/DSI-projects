{
 "cells": [
  {
   "cell_type": "code",
   "execution_count": 78,
   "metadata": {
    "collapsed": true
   },
   "outputs": [],
   "source": [
    "from copy import deepcopy\n",
    "# Use deepcopy to create a copy of my_list\n",
    "# If we use normal variable assignment (seq = my_list), \n",
    "#  the function will modify my_list in place"
   ]
  },
  {
   "cell_type": "code",
   "execution_count": null,
   "metadata": {
    "collapsed": true
   },
   "outputs": [],
   "source": []
  },
  {
   "cell_type": "code",
   "execution_count": 204,
   "metadata": {
    "collapsed": false
   },
   "outputs": [
    {
     "data": {
      "text/plain": [
       "[17, 20, 26, 31, 44, 54, 55, 77, 93]"
      ]
     },
     "execution_count": 204,
     "metadata": {},
     "output_type": "execute_result"
    }
   ],
   "source": [
    "# Rebecca and Katty\n",
    "def bubbles(nums):\n",
    "    done = False\n",
    "    while done == False:\n",
    "        done = True\n",
    "        for i in range(len(nums) - 1):\n",
    "            if nums[i] > nums[i+1]:\n",
    "                nums[i], nums[i+1] = nums[i+1], nums[i]\n",
    "                done = False\n",
    "                return bubbles(nums)\n",
    "    else: \n",
    "        return nums\n",
    "\n",
    "my_list =[54,26,93,17,77,31,44,55,20]\n",
    "bubbles(my_list)"
   ]
  },
  {
   "cell_type": "code",
   "execution_count": 205,
   "metadata": {
    "collapsed": false
   },
   "outputs": [
    {
     "data": {
      "text/plain": [
       "[17, 20, 26, 31, 44, 54, 55, 77, 93]"
      ]
     },
     "execution_count": 205,
     "metadata": {},
     "output_type": "execute_result"
    }
   ],
   "source": [
    "# Lydia and Tim\n",
    "def bubblesort(value):\n",
    "    for x in range(len(value)-1):\n",
    "        for i in range(len(value)-1):\n",
    "            if value[i] > value[i+1]:\n",
    "                value[i],value[i+1] = value[i+1],value[i]\n",
    "    return value\n",
    "        \n",
    "my_list =[54,26,93,17,77,31,44,55,20]\n",
    "bubblesort(my_list)"
   ]
  },
  {
   "cell_type": "code",
   "execution_count": 206,
   "metadata": {
    "collapsed": true
   },
   "outputs": [],
   "source": [
    "#Phillippa and Peter\n",
    "def bubble_sort2(my_list):\n",
    "    done = True\n",
    "    for i in range(0,len(my_list)-1):\n",
    "        if my_list[i+1]<my_list[i]:\n",
    "            my_list[i],my_list[i+1] = my_list[i+1],my_list[i]\n",
    "            done = False    \n",
    "    if done == False:\n",
    "        return bubble_sort2(my_list)    \n",
    "    else:\n",
    "        return my_list"
   ]
  },
  {
   "cell_type": "code",
   "execution_count": 207,
   "metadata": {
    "collapsed": false
   },
   "outputs": [
    {
     "data": {
      "text/plain": [
       "[17, 20, 26, 31, 44, 54, 55, 77, 93]"
      ]
     },
     "execution_count": 207,
     "metadata": {},
     "output_type": "execute_result"
    }
   ],
   "source": [
    "my_list =[54,26,93,17,77,31,44,55,20]\n",
    "bubble_sort2(my_list)"
   ]
  },
  {
   "cell_type": "markdown",
   "metadata": {},
   "source": [
    "# Bubble Sort"
   ]
  },
  {
   "cell_type": "code",
   "execution_count": 79,
   "metadata": {
    "collapsed": true
   },
   "outputs": [],
   "source": [
    "def bubbleSort(my_list):\n",
    "    seq = deepcopy(my_list)\n",
    "    \n",
    "    for max_range in range(len(seq)-1,0,-1):\n",
    "        \n",
    "        for i in range(max_range):\n",
    "            \n",
    "            if seq[i] > seq[i+1]:\n",
    "                seq[i], seq[i+1] = seq[i+1], seq[i]            \n",
    "            \n",
    "    return seq"
   ]
  },
  {
   "cell_type": "code",
   "execution_count": 84,
   "metadata": {
    "collapsed": false
   },
   "outputs": [
    {
     "data": {
      "text/plain": [
       "[8, 7, 6, 5, 4, 3, 2, 1]"
      ]
     },
     "execution_count": 84,
     "metadata": {},
     "output_type": "execute_result"
    }
   ],
   "source": [
    "range(len(my_list)-1,0,-1)"
   ]
  },
  {
   "cell_type": "code",
   "execution_count": 80,
   "metadata": {
    "collapsed": false
   },
   "outputs": [
    {
     "name": "stdout",
     "output_type": "stream",
     "text": [
      "[54, 26, 93, 17, 77, 31, 44, 55, 20]\n"
     ]
    },
    {
     "data": {
      "text/plain": [
       "[17, 20, 26, 31, 44, 54, 55, 77, 93]"
      ]
     },
     "execution_count": 80,
     "metadata": {},
     "output_type": "execute_result"
    }
   ],
   "source": [
    "my_list =[54,26,93,17,77,31,44,55,20]\n",
    "print my_list\n",
    "bubbleSort(my_list)"
   ]
  },
  {
   "cell_type": "code",
   "execution_count": 81,
   "metadata": {
    "collapsed": true
   },
   "outputs": [],
   "source": [
    "def bubbleSort(my_list):\n",
    "    seq = deepcopy(my_list)\n",
    "    \n",
    "    for max_range in range(len(seq)-1,0,-1):\n",
    "        print max_range\n",
    "        \n",
    "        for i in range(max_range):\n",
    "            \n",
    "            if seq[i] > seq[i+1]:\n",
    "                seq[i], seq[i+1] = seq[i+1], seq[i]\n",
    "                \n",
    "            print seq\n",
    "            \n",
    "            \n",
    "    return seq"
   ]
  },
  {
   "cell_type": "code",
   "execution_count": 82,
   "metadata": {
    "collapsed": false
   },
   "outputs": [
    {
     "name": "stdout",
     "output_type": "stream",
     "text": [
      "[54, 26, 93, 17, 77, 31, 44, 55, 20]\n",
      "8\n",
      "[26, 54, 93, 17, 77, 31, 44, 55, 20]\n",
      "[26, 54, 93, 17, 77, 31, 44, 55, 20]\n",
      "[26, 54, 17, 93, 77, 31, 44, 55, 20]\n",
      "[26, 54, 17, 77, 93, 31, 44, 55, 20]\n",
      "[26, 54, 17, 77, 31, 93, 44, 55, 20]\n",
      "[26, 54, 17, 77, 31, 44, 93, 55, 20]\n",
      "[26, 54, 17, 77, 31, 44, 55, 93, 20]\n",
      "[26, 54, 17, 77, 31, 44, 55, 20, 93]\n",
      "7\n",
      "[26, 54, 17, 77, 31, 44, 55, 20, 93]\n",
      "[26, 17, 54, 77, 31, 44, 55, 20, 93]\n",
      "[26, 17, 54, 77, 31, 44, 55, 20, 93]\n",
      "[26, 17, 54, 31, 77, 44, 55, 20, 93]\n",
      "[26, 17, 54, 31, 44, 77, 55, 20, 93]\n",
      "[26, 17, 54, 31, 44, 55, 77, 20, 93]\n",
      "[26, 17, 54, 31, 44, 55, 20, 77, 93]\n",
      "6\n",
      "[17, 26, 54, 31, 44, 55, 20, 77, 93]\n",
      "[17, 26, 54, 31, 44, 55, 20, 77, 93]\n",
      "[17, 26, 31, 54, 44, 55, 20, 77, 93]\n",
      "[17, 26, 31, 44, 54, 55, 20, 77, 93]\n",
      "[17, 26, 31, 44, 54, 55, 20, 77, 93]\n",
      "[17, 26, 31, 44, 54, 20, 55, 77, 93]\n",
      "5\n",
      "[17, 26, 31, 44, 54, 20, 55, 77, 93]\n",
      "[17, 26, 31, 44, 54, 20, 55, 77, 93]\n",
      "[17, 26, 31, 44, 54, 20, 55, 77, 93]\n",
      "[17, 26, 31, 44, 54, 20, 55, 77, 93]\n",
      "[17, 26, 31, 44, 20, 54, 55, 77, 93]\n",
      "4\n",
      "[17, 26, 31, 44, 20, 54, 55, 77, 93]\n",
      "[17, 26, 31, 44, 20, 54, 55, 77, 93]\n",
      "[17, 26, 31, 44, 20, 54, 55, 77, 93]\n",
      "[17, 26, 31, 20, 44, 54, 55, 77, 93]\n",
      "3\n",
      "[17, 26, 31, 20, 44, 54, 55, 77, 93]\n",
      "[17, 26, 31, 20, 44, 54, 55, 77, 93]\n",
      "[17, 26, 20, 31, 44, 54, 55, 77, 93]\n",
      "2\n",
      "[17, 26, 20, 31, 44, 54, 55, 77, 93]\n",
      "[17, 20, 26, 31, 44, 54, 55, 77, 93]\n",
      "1\n",
      "[17, 20, 26, 31, 44, 54, 55, 77, 93]\n"
     ]
    },
    {
     "data": {
      "text/plain": [
       "[17, 20, 26, 31, 44, 54, 55, 77, 93]"
      ]
     },
     "execution_count": 82,
     "metadata": {},
     "output_type": "execute_result"
    }
   ],
   "source": [
    "my_list =[54,26,93,17,77,31,44,55,20]\n",
    "print my_list\n",
    "bubbleSort(my_list)"
   ]
  },
  {
   "cell_type": "code",
   "execution_count": null,
   "metadata": {
    "collapsed": true
   },
   "outputs": [],
   "source": []
  },
  {
   "cell_type": "markdown",
   "metadata": {},
   "source": [
    "# Insertion Sort"
   ]
  },
  {
   "cell_type": "code",
   "execution_count": 184,
   "metadata": {
    "collapsed": true
   },
   "outputs": [],
   "source": [
    "def insertion_sort(my_list):\n",
    "    seq = deepcopy(my_list)\n",
    "    for i in range(1,len(seq)):\n",
    "\n",
    "        val_current = seq[i]\n",
    "        pos = i \n",
    "\n",
    "        # check backwards through sorted list for proper pos of val_current\n",
    "        while((pos > 0) and (seq[pos-1] > val_current)):\n",
    "\n",
    "            seq[pos], seq[pos-1] = seq[pos-1], seq[pos]\n",
    "\n",
    "            pos -= 1\n",
    "    \n",
    "    return seq"
   ]
  },
  {
   "cell_type": "code",
   "execution_count": 186,
   "metadata": {
    "collapsed": false
   },
   "outputs": [
    {
     "name": "stdout",
     "output_type": "stream",
     "text": [
      "[54, 26, 93, 17, 77, 31, 44, 55, 20]\n"
     ]
    },
    {
     "data": {
      "text/plain": [
       "[17, 20, 26, 31, 44, 54, 55, 77, 93]"
      ]
     },
     "execution_count": 186,
     "metadata": {},
     "output_type": "execute_result"
    }
   ],
   "source": [
    "print my_list\n",
    "insertion_sort(my_list)"
   ]
  },
  {
   "cell_type": "code",
   "execution_count": 191,
   "metadata": {
    "collapsed": true
   },
   "outputs": [],
   "source": [
    "def insertion_sort(my_list):\n",
    "    '''Heres the same function, but printing step-by-step output'''\n",
    "    seq = deepcopy(my_list)\n",
    "\n",
    "    for i in range(1,len(seq)):\n",
    "\n",
    "        val_current = seq[i]\n",
    "        pos = i \n",
    "         \n",
    "        # check backwards through sorted list for proper pos of val_current\n",
    "        print val_current\n",
    "\n",
    "        while((pos > 0) and (seq[pos-1] > val_current)):\n",
    "            \n",
    "            print \"pos = {}\".format(pos)\n",
    "            print seq\n",
    "            \n",
    "            \n",
    "            seq[pos], seq[pos-1] = seq[pos-1], seq[pos]\n",
    "            \n",
    "            \n",
    "            pos -= 1\n",
    "        \n",
    "        \n",
    "        print \"New location for {}:\".format(val_current)\n",
    "        print seq\n",
    "        print\n",
    "            \n",
    "    \n",
    "    return seq"
   ]
  },
  {
   "cell_type": "code",
   "execution_count": 192,
   "metadata": {
    "collapsed": false
   },
   "outputs": [
    {
     "data": {
      "text/plain": [
       "[54, 26, 93, 17, 77, 31, 44, 55, 20]"
      ]
     },
     "execution_count": 192,
     "metadata": {},
     "output_type": "execute_result"
    }
   ],
   "source": [
    "my_list"
   ]
  },
  {
   "cell_type": "code",
   "execution_count": 193,
   "metadata": {
    "collapsed": false
   },
   "outputs": [
    {
     "name": "stdout",
     "output_type": "stream",
     "text": [
      "26\n",
      "pos = 1\n",
      "[54, 26, 93, 17, 77, 31, 44, 55, 20]\n",
      "New location for 26:\n",
      "[26, 54, 93, 17, 77, 31, 44, 55, 20]\n",
      "\n",
      "93\n",
      "New location for 93:\n",
      "[26, 54, 93, 17, 77, 31, 44, 55, 20]\n",
      "\n",
      "17\n",
      "pos = 3\n",
      "[26, 54, 93, 17, 77, 31, 44, 55, 20]\n",
      "pos = 2\n",
      "[26, 54, 17, 93, 77, 31, 44, 55, 20]\n",
      "pos = 1\n",
      "[26, 17, 54, 93, 77, 31, 44, 55, 20]\n",
      "New location for 17:\n",
      "[17, 26, 54, 93, 77, 31, 44, 55, 20]\n",
      "\n",
      "77\n",
      "pos = 4\n",
      "[17, 26, 54, 93, 77, 31, 44, 55, 20]\n",
      "New location for 77:\n",
      "[17, 26, 54, 77, 93, 31, 44, 55, 20]\n",
      "\n",
      "31\n",
      "pos = 5\n",
      "[17, 26, 54, 77, 93, 31, 44, 55, 20]\n",
      "pos = 4\n",
      "[17, 26, 54, 77, 31, 93, 44, 55, 20]\n",
      "pos = 3\n",
      "[17, 26, 54, 31, 77, 93, 44, 55, 20]\n",
      "New location for 31:\n",
      "[17, 26, 31, 54, 77, 93, 44, 55, 20]\n",
      "\n",
      "44\n",
      "pos = 6\n",
      "[17, 26, 31, 54, 77, 93, 44, 55, 20]\n",
      "pos = 5\n",
      "[17, 26, 31, 54, 77, 44, 93, 55, 20]\n",
      "pos = 4\n",
      "[17, 26, 31, 54, 44, 77, 93, 55, 20]\n",
      "New location for 44:\n",
      "[17, 26, 31, 44, 54, 77, 93, 55, 20]\n",
      "\n",
      "55\n",
      "pos = 7\n",
      "[17, 26, 31, 44, 54, 77, 93, 55, 20]\n",
      "pos = 6\n",
      "[17, 26, 31, 44, 54, 77, 55, 93, 20]\n",
      "New location for 55:\n",
      "[17, 26, 31, 44, 54, 55, 77, 93, 20]\n",
      "\n",
      "20\n",
      "pos = 8\n",
      "[17, 26, 31, 44, 54, 55, 77, 93, 20]\n",
      "pos = 7\n",
      "[17, 26, 31, 44, 54, 55, 77, 20, 93]\n",
      "pos = 6\n",
      "[17, 26, 31, 44, 54, 55, 20, 77, 93]\n",
      "pos = 5\n",
      "[17, 26, 31, 44, 54, 20, 55, 77, 93]\n",
      "pos = 4\n",
      "[17, 26, 31, 44, 20, 54, 55, 77, 93]\n",
      "pos = 3\n",
      "[17, 26, 31, 20, 44, 54, 55, 77, 93]\n",
      "pos = 2\n",
      "[17, 26, 20, 31, 44, 54, 55, 77, 93]\n",
      "New location for 20:\n",
      "[17, 20, 26, 31, 44, 54, 55, 77, 93]\n",
      "\n"
     ]
    },
    {
     "data": {
      "text/plain": [
       "[17, 20, 26, 31, 44, 54, 55, 77, 93]"
      ]
     },
     "execution_count": 193,
     "metadata": {},
     "output_type": "execute_result"
    }
   ],
   "source": [
    "insertion_sort(my_list)"
   ]
  },
  {
   "cell_type": "code",
   "execution_count": null,
   "metadata": {
    "collapsed": true
   },
   "outputs": [],
   "source": []
  },
  {
   "cell_type": "code",
   "execution_count": null,
   "metadata": {
    "collapsed": true
   },
   "outputs": [],
   "source": []
  }
 ],
 "metadata": {
  "kernelspec": {
   "display_name": "Python 2",
   "language": "python",
   "name": "python2"
  },
  "language_info": {
   "codemirror_mode": {
    "name": "ipython",
    "version": 2
   },
   "file_extension": ".py",
   "mimetype": "text/x-python",
   "name": "python",
   "nbconvert_exporter": "python",
   "pygments_lexer": "ipython2",
   "version": "2.7.12"
  }
 },
 "nbformat": 4,
 "nbformat_minor": 0
}
