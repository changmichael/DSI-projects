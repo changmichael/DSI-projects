{
 "cells": [
  {
   "cell_type": "code",
   "execution_count": null,
   "metadata": {
    "collapsed": false
   },
   "outputs": [],
   "source": [
    "weight = float(raw_input(\"How many pounds does your suitcase weight?)\"))"
   ]
  },
  {
   "cell_type": "code",
   "execution_count": null,
   "metadata": {
    "collapsed": false
   },
   "outputs": [],
   "source": [
    "if weight > 50:\n",
    "    print(\"there is a $25 charge for luggage that heavy.\")\n",
    "print(\"Thank you for your business.\")"
   ]
  },
  {
   "cell_type": "code",
   "execution_count": 19,
   "metadata": {
    "collapsed": false
   },
   "outputs": [
    {
     "name": "stdout",
     "output_type": "stream",
     "text": [
      "What is the temp?100\n"
     ]
    }
   ],
   "source": [
    "temperature = float(raw_input('What is the temp?'))"
   ]
  },
  {
   "cell_type": "code",
   "execution_count": null,
   "metadata": {
    "collapsed": true
   },
   "outputs": [],
   "source": [
    "if temperature > 70:\n",
    "    print('wear shorts!')\n",
    "else:\n",
    "    print('wear long pants')\n",
    "print('Exercise please.')"
   ]
  },
  {
   "cell_type": "code",
   "execution_count": 49,
   "metadata": {
    "collapsed": false
   },
   "outputs": [
    {
     "name": "stdout",
     "output_type": "stream",
     "text": [
      "please enter an integer: 0\n"
     ]
    }
   ],
   "source": [
    "x = int(raw_input(\"please enter an integer: \"))"
   ]
  },
  {
   "cell_type": "code",
   "execution_count": 50,
   "metadata": {
    "collapsed": false
   },
   "outputs": [
    {
     "name": "stdout",
     "output_type": "stream",
     "text": [
      "zero\n"
     ]
    }
   ],
   "source": [
    "if x< 0:\n",
    "    x = 0\n",
    "    print 'changed to 0'\n",
    "elif x == 0:\n",
    "    print 'zero'\n",
    "elif x == 1:\n",
    "    print 'single'\n",
    "else:\n",
    "    print 'more'"
   ]
  },
  {
   "cell_type": "code",
   "execution_count": 72,
   "metadata": {
    "collapsed": false
   },
   "outputs": [],
   "source": [
    "words = ['toy cat', 'window', 'defenestrate', '1/2', '']"
   ]
  },
  {
   "cell_type": "code",
   "execution_count": 73,
   "metadata": {
    "collapsed": false
   },
   "outputs": [
    {
     "name": "stdout",
     "output_type": "stream",
     "text": [
      "toy cat 7\n",
      "window 6\n",
      "defenestrate 12\n",
      "1/2 3\n",
      " 0\n"
     ]
    }
   ],
   "source": [
    "for w in words:\n",
    "    print w, len(w)"
   ]
  },
  {
   "cell_type": "code",
   "execution_count": 74,
   "metadata": {
    "collapsed": true
   },
   "outputs": [],
   "source": [
    "def listprnter(x):\n",
    "    for i in x:\n",
    "        print i\n",
    "    return"
   ]
  },
  {
   "cell_type": "code",
   "execution_count": 75,
   "metadata": {
    "collapsed": true
   },
   "outputs": [],
   "source": [
    "x = [1, 2, 3, 4,5]"
   ]
  },
  {
   "cell_type": "code",
   "execution_count": 77,
   "metadata": {
    "collapsed": false
   },
   "outputs": [
    {
     "name": "stdout",
     "output_type": "stream",
     "text": [
      "1\n",
      "2\n",
      "3\n",
      "4\n",
      "5\n"
     ]
    }
   ],
   "source": [
    "listprnter(x)"
   ]
  },
  {
   "cell_type": "code",
   "execution_count": null,
   "metadata": {
    "collapsed": true
   },
   "outputs": [],
   "source": []
  },
  {
   "cell_type": "code",
   "execution_count": null,
   "metadata": {
    "collapsed": true
   },
   "outputs": [],
   "source": []
  },
  {
   "cell_type": "code",
   "execution_count": 129,
   "metadata": {
    "collapsed": true
   },
   "outputs": [],
   "source": [
    "def reverser(x):\n",
    "    x.reverse()\n",
    "    for a in x:\n",
    "        print (\"DSI rules\"), a\n",
    "    return\n",
    "    "
   ]
  },
  {
   "cell_type": "code",
   "execution_count": 130,
   "metadata": {
    "collapsed": true
   },
   "outputs": [],
   "source": [
    "x=[1,2,(3+1),['a','b', 'c'],5]"
   ]
  },
  {
   "cell_type": "code",
   "execution_count": 131,
   "metadata": {
    "collapsed": false
   },
   "outputs": [],
   "source": [
    "x.extend([100,200,300])"
   ]
  },
  {
   "cell_type": "code",
   "execution_count": 132,
   "metadata": {
    "collapsed": true
   },
   "outputs": [],
   "source": [
    "x.append('plonk')"
   ]
  },
  {
   "cell_type": "code",
   "execution_count": 133,
   "metadata": {
    "collapsed": false
   },
   "outputs": [
    {
     "data": {
      "text/plain": [
       "4"
      ]
     },
     "execution_count": 133,
     "metadata": {},
     "output_type": "execute_result"
    }
   ],
   "source": [
    "x.pop(2)"
   ]
  },
  {
   "cell_type": "code",
   "execution_count": 134,
   "metadata": {
    "collapsed": false
   },
   "outputs": [
    {
     "name": "stdout",
     "output_type": "stream",
     "text": [
      "DSI rules plonk\n",
      "DSI rules 300\n",
      "DSI rules 200\n",
      "DSI rules 100\n",
      "DSI rules 5\n",
      "DSI rules ['a', 'b', 'c']\n",
      "DSI rules 2\n",
      "DSI rules 1\n"
     ]
    }
   ],
   "source": [
    "reverser(x)"
   ]
  },
  {
   "cell_type": "code",
   "execution_count": 135,
   "metadata": {
    "collapsed": false
   },
   "outputs": [
    {
     "data": {
      "text/plain": [
       "['plonk', 300, 200, 100, 5, ['a', 'b', 'c'], 2, 1]"
      ]
     },
     "execution_count": 135,
     "metadata": {},
     "output_type": "execute_result"
    }
   ],
   "source": [
    "x"
   ]
  },
  {
   "cell_type": "code",
   "execution_count": null,
   "metadata": {
    "collapsed": true
   },
   "outputs": [],
   "source": []
  },
  {
   "cell_type": "code",
   "execution_count": 136,
   "metadata": {
    "collapsed": true
   },
   "outputs": [],
   "source": [
    "# Michael Chang\n",
    "# June 7, 2016\n",
    "#\n",
    "#\n",
    "# write a function with one argument. find the area of a square\n",
    "\n",
    "def areaSquare(side):\n",
    "    x = side ** 2\n",
    "    return x\n",
    "\n"
   ]
  },
  {
   "cell_type": "code",
   "execution_count": null,
   "metadata": {
    "collapsed": true
   },
   "outputs": [],
   "source": [
    "# Michael Chang\n",
    "# June 7, 2016\n",
    "#\n",
    "#\n",
    "# write a function with two arguments. find the area of a rectangle\n",
    "\n",
    "def areaRect(length, breadth):\n",
    "    x = length * breadth\n",
    "    return x\n",
    "\n"
   ]
  },
  {
   "cell_type": "code",
   "execution_count": null,
   "metadata": {
    "collapsed": true
   },
   "outputs": [],
   "source": [
    "# Michael Chang\n",
    "# June 7, 2016\n",
    "#\n",
    "#\n",
    "# write a function with three arguments. find the surface area of a cuboid.\n",
    "\n",
    "def surfaceAreaCuboid(length, breadth, height):\n",
    "    x = 2*(length*breadth+breadth*height+length*height)\n",
    "    return x\n"
   ]
  },
  {
   "cell_type": "code",
   "execution_count": 146,
   "metadata": {
    "collapsed": false
   },
   "outputs": [
    {
     "name": "stdout",
     "output_type": "stream",
     "text": [
      "Are you excited?  It's time to play guess that number!\n",
      "Pick a number between 1-10:  11\n",
      "You entered:   11\n",
      "please re-enter a number between 1-10\n",
      "Pick a number between 1-10:  0\n",
      "You entered:   0\n",
      "please re-enter a number between 1-10\n",
      "Pick a number between 1-10:  -1\n",
      "You entered:   -1\n",
      "please re-enter a number between 1-10\n",
      "Pick a number between 1-10:  1\n",
      "You entered:   1\n",
      "too low\n",
      "Pick a number between 1-10:  3\n",
      "You entered:   3\n",
      "too low\n",
      "Pick a number between 1-10:  2\n",
      "You entered:   2\n",
      "too low\n",
      "Pick a number between 1-10:  5\n",
      "You entered:   5\n",
      "too low\n",
      "Pick a number between 1-10:  8\n",
      "You entered:   8\n",
      "too high\n",
      "Pick a number between 1-10:  7\n",
      "You entered:   7\n",
      "too high\n",
      "Pick a number between 1-10:  6\n",
      "You entered:   6\n",
      "you're the winner\n"
     ]
    }
   ],
   "source": [
    "# Getting the function to create the random number from randint\n",
    "from random import randint\n",
    "\n",
    "# Creating the random number\n",
    "random_number = randint(1, 10)\n",
    "\n",
    "# Prepping the user - player instructions\n",
    "print \"Are you excited?  It's time to play guess that number!\"\n",
    "\n",
    "# Getting user input number to match\n",
    "def play_guess_that_number(random_number):\n",
    "    \n",
    "    user_number = int(raw_input(\"Pick a number between 1-10:  \"))\n",
    "    print \"You entered:  \", user_number\n",
    "    \n",
    "    if user_number > 10 or user_number < 1:\n",
    "        print \"please re-enter a number between 1-10\"\n",
    "        play_guess_that_number(random_number)\n",
    "    elif user_number > random_number:\n",
    "        print \"too high\"\n",
    "        play_guess_that_number(random_number)\n",
    "        \n",
    "    elif user_number < random_number:\n",
    "        print \"too low\"\n",
    "        play_guess_that_number(random_number)\n",
    "    else: \n",
    "        print \"you're the winner\"\n",
    "\n",
    "# kicking off the function to play the game\n",
    "play_guess_that_number(random_number)\n"
   ]
  },
  {
   "cell_type": "code",
   "execution_count": null,
   "metadata": {
    "collapsed": true
   },
   "outputs": [],
   "source": []
  },
  {
   "cell_type": "code",
   "execution_count": 161,
   "metadata": {
    "collapsed": false
   },
   "outputs": [
    {
     "name": "stdout",
     "output_type": "stream",
     "text": [
      "Are you excited?  It's time to play guess that number!\n",
      "Pick a number between 1-10:  11\n",
      "You entered:   11\n",
      "please re-enter a number between 1-10\n",
      "Pick a number between 1-10:  12\n",
      "You entered:   12\n",
      "please re-enter a number between 1-10\n",
      "Pick a number between 1-10:  13\n",
      "You entered:   13\n",
      "please re-enter a number between 1-10\n",
      "Pick a number between 1-10:  14\n",
      "You entered:   14\n",
      "please re-enter a number between 1-10\n",
      "Pick a number between 1-10:  15\n",
      "You entered:   15\n",
      "please re-enter a number between 1-10\n",
      "Game Over -- ran out of chances\n"
     ]
    }
   ],
   "source": [
    "# Getting the function to create the random number from randint\n",
    "from random import randint\n",
    "\n",
    "# Initializing variables - Creating the random number and setting number of chances and attempts\n",
    "random_number = randint(1, 10)\n",
    "chance_remaining = 5\n",
    "chance_taken = 0\n",
    "\n",
    "# Prepping the user - player instructions\n",
    "print \"Are you excited?  It's time to play guess that number!\"\n",
    "\n",
    "# Function to operate the game\n",
    "def play_guess_that_number(random_number, chance_remaining, chance_taken):\n",
    "    ''' inputting guess for the chance turn, chance_taken is also incremented to reflect the turn'''\n",
    "    user_number = int(raw_input(\"Pick a number between 1-10:  \"))\n",
    "    print \"You entered:  \", user_number\n",
    "    chance_taken += 1\n",
    "    \n",
    "    '''making sure the number is within the bounds, this counts as a chance'''\n",
    "    if user_number > 10 or user_number < 1:\n",
    "        print \"please re-enter a number between 1-10\"\n",
    "        if chance_taken == chance_remaining:\n",
    "            print \"Game Over -- ran out of chances\"\n",
    "        else: \n",
    "            play_guess_that_number(random_number, chance_remaining, chance_taken)\n",
    "    \n",
    "    \"\"\"user number guess too low case, also monitoring chances taken\"\"\"\n",
    "    elif user_number > random_number:\n",
    "        print \"too high\"\n",
    "        if chance_taken == chance_remaining:\n",
    "            print \"Game Over -- ran out of chances\"\n",
    "        else:\n",
    "            play_guess_that_number(random_number, chance_remaining, chance_taken)\n",
    "\n",
    "    \"\"\"user number guess too high case, also monitoring chances taken\"\"\"\n",
    "    elif user_number < random_number:\n",
    "        print \"too low\"\n",
    "        if chance_taken == chance_remaining:\n",
    "            print \"Game Over -- ran out of chances\"\n",
    "        else:\n",
    "            play_guess_that_number(random_number, chance_remaining, chance_taken)\n",
    "            \n",
    "    '''user number matches the random number, player wins'''\n",
    "    else: \n",
    "        print \"you're the winner\"\n",
    "\n",
    "# function to play the game\n",
    "play_guess_that_number(random_number, chance_remaining, chance_taken)\n"
   ]
  },
  {
   "cell_type": "code",
   "execution_count": null,
   "metadata": {
    "collapsed": true
   },
   "outputs": [],
   "source": []
  },
  {
   "cell_type": "code",
   "execution_count": 177,
   "metadata": {
    "collapsed": false
   },
   "outputs": [
    {
     "name": "stdout",
     "output_type": "stream",
     "text": [
      "hello from some other number\n",
      "hello from number 2\n",
      "hello from some other number\n",
      "hello from some other number\n",
      "hello from some other number\n"
     ]
    }
   ],
   "source": [
    "x = [1,2,3,4,5]\n",
    "for i in x:\n",
    "    if i == 2:\n",
    "        print(\"hello from number 2\")\n",
    "    else:\n",
    "        print(\"hello from some other number\")"
   ]
  },
  {
   "cell_type": "code",
   "execution_count": 178,
   "metadata": {
    "collapsed": false
   },
   "outputs": [
    {
     "name": "stdout",
     "output_type": "stream",
     "text": [
      "hello\n",
      "hello\n",
      "hello\n",
      "hello\n"
     ]
    }
   ],
   "source": [
    "for i in range(4):\n",
    "    print('hello')"
   ]
  },
  {
   "cell_type": "code",
   "execution_count": 231,
   "metadata": {
    "collapsed": false
   },
   "outputs": [],
   "source": [
    "tuple_of_tuples = (('one',1),('two',2),('three',3))"
   ]
  },
  {
   "cell_type": "code",
   "execution_count": 239,
   "metadata": {
    "collapsed": false
   },
   "outputs": [
    {
     "name": "stdout",
     "output_type": "stream",
     "text": [
      "one\n",
      "two\n",
      "three\n"
     ]
    }
   ],
   "source": [
    "for a in tuple_of_tuples:\n",
    "    print(a[0])\n"
   ]
  },
  {
   "cell_type": "code",
   "execution_count": 240,
   "metadata": {
    "collapsed": false,
    "scrolled": true
   },
   "outputs": [
    {
     "name": "stdout",
     "output_type": "stream",
     "text": [
      "100\n",
      "90\n",
      "80\n",
      "70\n",
      "60\n",
      "50\n",
      "40\n",
      "30\n",
      "20\n",
      "10\n"
     ]
    }
   ],
   "source": [
    "x = 100\n",
    "while x > 0:\n",
    "    if x % 10 == 0:\n",
    "        print(x)\n",
    "    x -= 1"
   ]
  },
  {
   "cell_type": "code",
   "execution_count": 296,
   "metadata": {
    "collapsed": true
   },
   "outputs": [],
   "source": [
    "# Dictionary of movies\n",
    "\n",
    "movies = [\n",
    "{\n",
    "\"name\": \"Usual Suspects\", \n",
    "\"imdb\": 7.0,\n",
    "\"category\": \"Thriller\"\n",
    "},\n",
    "{\n",
    "\"name\": \"Hitman\",\n",
    "\"imdb\": 6.3,\n",
    "\"category\": \"Action\"\n",
    "},\n",
    "{\n",
    "\"name\": \"Dark Knight\",\n",
    "\"imdb\": 9.0,\n",
    "\"category\": \"Adventure\"\n",
    "},\n",
    "{\n",
    "\"name\": \"The Help\",\n",
    "\"imdb\": 8.0,\n",
    "\"category\": \"Drama\"\n",
    "},\n",
    "{\n",
    "\"name\": \"The Choice\",\n",
    "\"imdb\": 6.2,\n",
    "\"category\": \"Romance\"\n",
    "},\n",
    "{\n",
    "\"name\": \"Colonia\",\n",
    "\"imdb\": 7.4,\n",
    "\"category\": \"Romance\"\n",
    "},\n",
    "{\n",
    "\"name\": \"Love\",\n",
    "\"imdb\": 6.0,\n",
    "\"category\": \"Romance\"\n",
    "},\n",
    "{\n",
    "\"name\": \"Bride Wars\",\n",
    "\"imdb\": 5.4,\n",
    "\"category\": \"Romance\"\n",
    "},\n",
    "{\n",
    "\"name\": \"AlphaJet\",\n",
    "\"imdb\": 3.2,\n",
    "\"category\": \"War\"\n",
    "},\n",
    "{\n",
    "\"name\": \"Ringing Crime\",\n",
    "\"imdb\": 4.0,\n",
    "\"category\": \"Crime\"\n",
    "},\n",
    "{\n",
    "\"name\": \"Joking muck\",\n",
    "\"imdb\": 7.2,\n",
    "\"category\": \"Comedy\"\n",
    "},\n",
    "{\n",
    "\"name\": \"What is the name\",\n",
    "\"imdb\": 9.2,\n",
    "\"category\": \"Suspense\"\n",
    "},\n",
    "{\n",
    "\"name\": \"Detective\",\n",
    "\"imdb\": 7.0,\n",
    "\"category\": \"Suspense\"\n",
    "},\n",
    "{\n",
    "\"name\": \"Exam\",\n",
    "\"imdb\": 4.2,\n",
    "\"category\": \"Thriller\"\n",
    "},\n",
    "{\n",
    "\"name\": \"We Two\",\n",
    "\"imdb\": 7.2,\n",
    "\"category\": \"Romance\"\n",
    "}\n",
    "]"
   ]
  },
  {
   "cell_type": "code",
   "execution_count": 297,
   "metadata": {
    "collapsed": false
   },
   "outputs": [
    {
     "data": {
      "text/plain": [
       "True"
      ]
     },
     "execution_count": 297,
     "metadata": {},
     "output_type": "execute_result"
    }
   ],
   "source": [
    "# Write a function that takes a single movie and \n",
    "# returns True if its IMDB score is above 5.5\n",
    "def imdb_more_than_5(movie):\n",
    "    '''returns true if the imdb score is above 5.5'''\n",
    "    for x in movies:\n",
    "        if x['name'] == movie:\n",
    "            '''goes through all movies, steps below determine return value'''\n",
    "            if x['imdb'] >= 5.5:\n",
    "                return True\n",
    "            else:\n",
    "                return False\n",
    "\n",
    "# Testing the function\n",
    "imdb_more_than_5('Usual Suspects')"
   ]
  },
  {
   "cell_type": "code",
   "execution_count": 298,
   "metadata": {
    "collapsed": false
   },
   "outputs": [
    {
     "name": "stdout",
     "output_type": "stream",
     "text": [
      "['Usual Suspects', 'Hitman', 'Dark Knight', 'The Help', 'The Choice', 'Colonia', 'Love', 'Joking muck', 'What is the name', 'Detective', 'We Two']\n"
     ]
    }
   ],
   "source": [
    "# Write a function that returns a sublist of movies \n",
    "# with an IMDB score above 5.5. \n",
    "def imdb_more_than_5_list(movielist):\n",
    "    '''returns list of movies with score about 5.5 in an inputted list'''\n",
    "    abc = []\n",
    "    '''Set up an empty list to record the values, selection criteria as below'''\n",
    "    for x in movies:\n",
    "        if x['imdb'] >=5.5:\n",
    "            abc.append(x['name'])\n",
    "    return abc\n",
    "\n",
    "# Testing the function\n",
    "z = imdb_more_than_5_list(movies)\n",
    "print z"
   ]
  },
  {
   "cell_type": "code",
   "execution_count": 299,
   "metadata": {
    "collapsed": false
   },
   "outputs": [
    {
     "name": "stdout",
     "output_type": "stream",
     "text": [
      "['The Choice', 'Colonia', 'Love', 'Bride Wars', 'We Two']\n"
     ]
    }
   ],
   "source": [
    "# Write a function that takes a category name and returns \n",
    "# just those movies under that category.\n",
    "def category_finder(category_name):\n",
    "    '''returns list of movies in the category name'''\n",
    "    abc = []\n",
    "    '''set up an empty list of record the movies, selection criteria as below'''\n",
    "    for x in movies:\n",
    "        if x['category'] == category_name:\n",
    "            abc.append(x['name'])\n",
    "    return abc\n",
    "\n",
    "# Testing the function\n",
    "z = category_finder('Romance')\n",
    "print z"
   ]
  },
  {
   "cell_type": "code",
   "execution_count": 304,
   "metadata": {
    "collapsed": false
   },
   "outputs": [
    {
     "data": {
      "text/plain": [
       "6.625"
      ]
     },
     "execution_count": 304,
     "metadata": {},
     "output_type": "execute_result"
    }
   ],
   "source": [
    "# Write a function that takes a list of movies and computes \n",
    "# the average IMDB score.\n",
    "def average_imdb(movielist):\n",
    "    '''returns the average score from the inputted list'''\n",
    "    total = 0\n",
    "    '''initialized value for total, used for calculation of the average'''\n",
    "    for a in movielist:\n",
    "        for x in movies:\n",
    "            if x['name'] == a:\n",
    "                total = total + float(x['imdb']) \n",
    "    total = total / (len(movielist))\n",
    "    return total\n",
    "\n",
    "# Testing the function\n",
    "x = ['Exam', 'Usual Suspects', 'Hitman', 'Dark Knight']\n",
    "average_imdb(x)"
   ]
  },
  {
   "cell_type": "code",
   "execution_count": 305,
   "metadata": {
    "collapsed": false
   },
   "outputs": [
    {
     "data": {
      "text/plain": [
       "5.6"
      ]
     },
     "execution_count": 305,
     "metadata": {},
     "output_type": "execute_result"
    }
   ],
   "source": [
    "# Write a function that takes a category and computes \n",
    "# the average IMDB score \n",
    "def average_category_imdb(category_name):\n",
    "    '''returns average score of a category'''\n",
    "    movielist = []\n",
    "    total = 0\n",
    "    '''created empty list to record movies in the category, initialized total for average calculation'''\n",
    "    for x in movies:\n",
    "        '''first for loop to screen out by category name'''\n",
    "        if x['category'] == category_name:\n",
    "            movielist.append(x['name'])\n",
    "    for a in movielist:\n",
    "        '''second for loop to calculate the average'''\n",
    "        for y in movies:\n",
    "            if y['name'] == a:\n",
    "                total = total + float(y['imdb']) \n",
    "    total = total / (len(movielist))\n",
    "    return total\n",
    "\n",
    "# Testing the function\n",
    "x = 'Thriller'\n",
    "average_category_imdb(x)"
   ]
  },
  {
   "cell_type": "code",
   "execution_count": null,
   "metadata": {
    "collapsed": true
   },
   "outputs": [],
   "source": []
  },
  {
   "cell_type": "code",
   "execution_count": null,
   "metadata": {
    "collapsed": true
   },
   "outputs": [],
   "source": []
  }
 ],
 "metadata": {
  "kernelspec": {
   "display_name": "Python 2",
   "language": "python",
   "name": "python2"
  },
  "language_info": {
   "codemirror_mode": {
    "name": "ipython",
    "version": 2
   },
   "file_extension": ".py",
   "mimetype": "text/x-python",
   "name": "python",
   "nbconvert_exporter": "python",
   "pygments_lexer": "ipython2",
   "version": "2.7.11"
  }
 },
 "nbformat": 4,
 "nbformat_minor": 0
}
