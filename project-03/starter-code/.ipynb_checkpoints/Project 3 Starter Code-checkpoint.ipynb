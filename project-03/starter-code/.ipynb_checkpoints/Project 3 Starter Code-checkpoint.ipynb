{
 "cells": [
  {
   "cell_type": "markdown",
   "metadata": {},
   "source": [
    "# Getting started\n",
    "\n",
    "Once you've chosen your scenario, download the data from [the Iowa website](https://data.iowa.gov/Economy/Iowa-Liquor-Sales/m3tr-qhgy) in csv format. Start by loading the data with pandas. You may need to parse the date columns appropriately."
   ]
  },
  {
   "cell_type": "code",
   "execution_count": 1,
   "metadata": {
    "collapsed": false
   },
   "outputs": [
    {
     "name": "stderr",
     "output_type": "stream",
     "text": [
      "/Users/michael/anaconda/lib/python2.7/site-packages/IPython/core/interactiveshell.py:2723: DtypeWarning: Columns (3) have mixed types. Specify dtype option on import or set low_memory=False.\n",
      "  interactivity=interactivity, compiler=compiler, result=result)\n"
     ]
    }
   ],
   "source": [
    "import pandas as pd\n",
    "import numpy as np\n",
    "import matplotlib.pyplot as plt\n",
    "import statsmodels as sm\n",
    "%matplotlib inline\n",
    "from scipy.stats import mode\n",
    "from sklearn import datasets, linear_model\n",
    "from sklearn.metrics import mean_squared_error\n",
    "from sklearn.linear_model import LinearRegression\n",
    "from sklearn.linear_model import Ridge\n",
    "from sklearn.linear_model import Lasso\n",
    "from sklearn import cross_validation\n",
    "from sklearn.cross_validation import cross_val_score\n",
    "from sklearn.cross_validation import cross_val_predict\n",
    "from sklearn.metrics import r2_score\n",
    "\n",
    "## Load the data into a DataFrame\n",
    "df = pd.read_csv('/Users/michael/DSI-projects/project-03/assets/Iowa_Liquor_Sales_reduced.csv')\n",
    "\n",
    "## Transform the dates if needed, e.g.\n",
    "df['Date'] = pd.to_datetime(df['Date'], format = '%m/%d/%Y')"
   ]
  },
  {
   "cell_type": "code",
   "execution_count": 2,
   "metadata": {
    "collapsed": false
   },
   "outputs": [],
   "source": [
    "# check missing values\n",
    "df.isnull().values.any()\n",
    "\n",
    "# print out rows contain missing data\n",
    "null_data = df[df.isnull().any(axis=1)]\n",
    "# len(null_data)\n",
    "\n",
    "# take a closer look at the missing data\n",
    "# null_data.info()\n"
   ]
  },
  {
   "cell_type": "code",
   "execution_count": 3,
   "metadata": {
    "collapsed": false
   },
   "outputs": [],
   "source": [
    "def dolflo(x):\n",
    "    y = x.split('$')\n",
    "    return float(y[1])\n",
    "def integerize(x):\n",
    "    y = int(x)\n",
    "    return y\n",
    "\n",
    "df['Sale (Dollars)'] = df['Sale (Dollars)'].apply(lambda x: dolflo(x))\n",
    "df['State Bottle Retail'] = df['State Bottle Retail'].apply(lambda x: dolflo(x))\n",
    "df['State Bottle Cost'] = df['State Bottle Cost'].apply(lambda x: dolflo(x))\n",
    "df['Sale (Dollars)'] = df['Sale (Dollars)'].round(2)\n",
    "df['Bottle Markup'] = df['State Bottle Retail'] - df['State Bottle Cost'] \n",
    "df['Total Markup'] = df['Bottle Markup'] * df['Bottles Sold']\n",
    "df['City'] = df['City'].apply(lambda x: x.upper())\n",
    "df.dropna(inplace=True)\n",
    "df = df[df['Bottle Volume (ml)']<170000]\n",
    "df = df[df['Bottle Volume (ml)']>1]"
   ]
  },
  {
   "cell_type": "code",
   "execution_count": 4,
   "metadata": {
    "collapsed": false
   },
   "outputs": [],
   "source": [
    "indexdf = df.drop('Item Number',1)\n",
    "indexdf = indexdf.drop('Item Description',1)\n",
    "indexdf = indexdf.drop('Bottle Volume (ml)',1)\n",
    "indexdf = indexdf.drop('Category Name',1)\n",
    "indexdf = indexdf.drop('Category',1)\n",
    "indexdf = indexdf.drop('Bottle Markup',1)\n",
    "indexdf = indexdf.drop('State Bottle Cost',1)\n",
    "indexdf = indexdf.drop('State Bottle Retail',1)\n",
    "indexdf = indexdf.drop('Volume Sold (Gallons)',1)"
   ]
  },
  {
   "cell_type": "code",
   "execution_count": 5,
   "metadata": {
    "collapsed": false
   },
   "outputs": [],
   "source": [
    "indexdf2015 = pd.DataFrame(indexdf[indexdf['Date']<'2016-01-01'])\n",
    "indexdf2016 = pd.DataFrame(indexdf[indexdf['Date']>='2016-01-01'])\n",
    "indexdfq12015 = pd.DataFrame(indexdf[indexdf['Date']<='2015-03-31'])\n",
    "indexdfq22015 = pd.DataFrame(indexdf[(indexdf['Date']>'2015-03-31') & (indexdf['Date']<='2015-06-30')])\n",
    "indexdfq32015 = pd.DataFrame(indexdf[(indexdf['Date']>'2015-06-30') & (indexdf['Date']<='2015-09-30')])\n",
    "indexdfq42015 = pd.DataFrame(indexdf[(indexdf['Date']>'2015-09-30') & (indexdf['Date']<='2015-12-31')])\n",
    "indexdfnotq12015 = pd.DataFrame(indexdf[(indexdf['Date']>'2015-03-31') & (indexdf['Date']<='2015-12-31')])"
   ]
  },
  {
   "cell_type": "code",
   "execution_count": 6,
   "metadata": {
    "collapsed": false
   },
   "outputs": [
    {
     "name": "stdout",
     "output_type": "stream",
     "text": [
      "['DES MOINES' 'ANKENY' 'URBANDALE' 'JOHNSTON' 'WEST DES MOINES'\n",
      " 'WINDSOR HEIGHTS' 'PLEASANT HILL' 'ALTOONA' 'GRIMES' 'POLK CITY' 'CLIVE'\n",
      " 'BONDURANT' 'CAMBRIDGE']\n"
     ]
    }
   ],
   "source": [
    "testingdf = pd.DataFrame(indexdf[indexdf['County']=='Polk'])\n",
    "print(testingdf['City'].unique())"
   ]
  },
  {
   "cell_type": "code",
   "execution_count": 7,
   "metadata": {
    "collapsed": false
   },
   "outputs": [],
   "source": [
    "maindf = pd.pivot_table(indexdf,index=['County'],values=['Sale (Dollars)','Bottles Sold','Volume Sold (Liters)','Total Markup'],aggfunc=lambda x: sum(x))\n",
    "maindf = maindf.sort_values(by='Sale (Dollars)')\n",
    "maindf = maindf.reset_index(drop=False)\n",
    "maindf['Bottle Markup'] = maindf['Total Markup']/maindf ['Bottles Sold']\n",
    "\n",
    "storesdf = pd.pivot_table(indexdf,index=['County'],values=['Store Number'],aggfunc=lambda x: len(x.unique()))\n",
    "storesdf = storesdf.rename(columns = {'Store Number':'Number of Stores'})\n",
    "storesdf = storesdf.sort_values(by = ['Number of Stores'])\n",
    "storesdf = storesdf.reset_index(drop=False)\n",
    "\n",
    "maindf = pd.merge(maindf, storesdf, on='County', how='inner')\n",
    "maindf['SalesPerStore']=maindf['Sale (Dollars)']/maindf['Number of Stores']"
   ]
  },
  {
   "cell_type": "code",
   "execution_count": 8,
   "metadata": {
    "collapsed": false
   },
   "outputs": [
    {
     "data": {
      "text/html": [
       "<div>\n",
       "<table border=\"1\" class=\"dataframe\">\n",
       "  <thead>\n",
       "    <tr style=\"text-align: right;\">\n",
       "      <th></th>\n",
       "      <th>County</th>\n",
       "      <th>Bottles Sold</th>\n",
       "      <th>Sale (Dollars)</th>\n",
       "      <th>Total Markup</th>\n",
       "      <th>Volume Sold (Liters)</th>\n",
       "      <th>Bottle Markup</th>\n",
       "      <th>Number of Stores</th>\n",
       "      <th>SalesPerStore</th>\n",
       "    </tr>\n",
       "  </thead>\n",
       "  <tbody>\n",
       "    <tr>\n",
       "      <th>0</th>\n",
       "      <td>Fremont</td>\n",
       "      <td>3088</td>\n",
       "      <td>29757.10</td>\n",
       "      <td>9940.24</td>\n",
       "      <td>2115.05</td>\n",
       "      <td>3.218990</td>\n",
       "      <td>1</td>\n",
       "      <td>29757.10</td>\n",
       "    </tr>\n",
       "    <tr>\n",
       "      <th>1</th>\n",
       "      <td>Davis</td>\n",
       "      <td>9423</td>\n",
       "      <td>116875.92</td>\n",
       "      <td>39078.06</td>\n",
       "      <td>9715.75</td>\n",
       "      <td>4.147093</td>\n",
       "      <td>1</td>\n",
       "      <td>116875.92</td>\n",
       "    </tr>\n",
       "  </tbody>\n",
       "</table>\n",
       "</div>"
      ],
      "text/plain": [
       "    County  Bottles Sold  Sale (Dollars)  Total Markup  Volume Sold (Liters)  \\\n",
       "0  Fremont          3088        29757.10       9940.24               2115.05   \n",
       "1    Davis          9423       116875.92      39078.06               9715.75   \n",
       "\n",
       "   Bottle Markup  Number of Stores  SalesPerStore  \n",
       "0       3.218990                 1       29757.10  \n",
       "1       4.147093                 1      116875.92  "
      ]
     },
     "execution_count": 8,
     "metadata": {},
     "output_type": "execute_result"
    }
   ],
   "source": [
    "maindf.head(2)"
   ]
  },
  {
   "cell_type": "code",
   "execution_count": 9,
   "metadata": {
    "collapsed": false
   },
   "outputs": [],
   "source": [
    "testq12015df = pd.pivot_table(indexdfq12015,index=['County'],values=['Sale (Dollars)','Bottles Sold','Volume Sold (Liters)','Total Markup'],aggfunc=lambda x: sum(x))\n",
    "testq12015df = testq12015df.sort_values(by='Sale (Dollars)')\n",
    "testq12015df = testq12015df.reset_index(drop=False)\n",
    "testq12015df['Bottle Markup'] = testq12015df['Total Markup']/testq12015df ['Bottles Sold']\n",
    "\n",
    "storesq12015df = pd.pivot_table(indexdfq12015,index=['County'],values=['Store Number'],aggfunc=lambda x: len(x.unique()))\n",
    "storesq12015df = storesq12015df.rename(columns = {'Store Number':'Number of Stores'})\n",
    "storesq12015df = storesq12015df.sort_values(by = ['Number of Stores'])\n",
    "storesq12015df = storesq12015df.reset_index(drop=False)\n",
    "\n",
    "testq12015df = pd.merge(testq12015df, storesq12015df, on='County', how='inner')\n",
    "testq12015df['SalesPerStore']=testq12015df['Sale (Dollars)']/testq12015df['Number of Stores']"
   ]
  },
  {
   "cell_type": "code",
   "execution_count": 10,
   "metadata": {
    "collapsed": false
   },
   "outputs": [],
   "source": [
    "testnotq12015df = pd.pivot_table(indexdfnotq12015,index=['County'],values=['Sale (Dollars)','Bottles Sold','Volume Sold (Liters)','Total Markup'],aggfunc=lambda x: sum(x))\n",
    "testnotq12015df = testnotq12015df.sort_values(by='Sale (Dollars)')\n",
    "testnotq12015df = testnotq12015df.reset_index(drop=False)\n",
    "testnotq12015df['Bottle Markup'] = testnotq12015df['Total Markup']/testnotq12015df ['Bottles Sold']\n",
    "\n",
    "storesnotq12015df = pd.pivot_table(indexdfq12015,index=['County'],values=['Store Number'],aggfunc=lambda x: len(x.unique()))\n",
    "storesnotq12015df = storesnotq12015df.rename(columns = {'Store Number':'Number of Stores'})\n",
    "storesnotq12015df = storesnotq12015df.sort_values(by = ['Number of Stores'])\n",
    "storesnotq12015df = storesnotq12015df.reset_index(drop=False)\n",
    "\n",
    "testnotq12015df = pd.merge(testnotq12015df, storesnotq12015df, on='County', how='inner')\n",
    "testnotq12015df['SalesPerStore']=testnotq12015df['Sale (Dollars)']/testnotq12015df['Number of Stores']"
   ]
  },
  {
   "cell_type": "code",
   "execution_count": 11,
   "metadata": {
    "collapsed": false
   },
   "outputs": [],
   "source": [
    "test2015df = pd.pivot_table(indexdf2015,index=['County'],values=['Sale (Dollars)','Bottles Sold','Volume Sold (Liters)','Total Markup'],aggfunc=lambda x: sum(x))\n",
    "test2015df = test2015df.sort_values(by='Sale (Dollars)')\n",
    "test2015df = test2015df.reset_index(drop=False)\n",
    "test2015df['Bottle Markup'] = test2015df['Total Markup']/test2015df ['Bottles Sold']\n",
    "\n",
    "stores2015df = pd.pivot_table(indexdf2015,index=['County'],values=['Store Number'],aggfunc=lambda x: len(x.unique()))\n",
    "stores2015df = stores2015df.rename(columns = {'Store Number':'Number of Stores'})\n",
    "stores2015df = stores2015df.sort_values(by = ['Number of Stores'])\n",
    "stores2015df = stores2015df.reset_index(drop=False)\n",
    "\n",
    "test2015df = pd.merge(test2015df, storesq12015df, on='County', how='inner')\n",
    "test2015df['SalesPerStore']=test2015df['Sale (Dollars)']/test2015df['Number of Stores']"
   ]
  },
  {
   "cell_type": "code",
   "execution_count": 12,
   "metadata": {
    "collapsed": true
   },
   "outputs": [],
   "source": [
    "test2016df = pd.pivot_table(indexdf2016,index=['County'],values=['Sale (Dollars)','Bottles Sold','Volume Sold (Liters)','Total Markup'],aggfunc=lambda x: sum(x))\n",
    "test2016df = test2016df.sort_values(by='Sale (Dollars)')\n",
    "test2016df = test2016df.reset_index(drop=False)\n",
    "test2016df['Bottle Markup'] = test2016df['Total Markup']/test2016df ['Bottles Sold']\n",
    "\n",
    "stores2016df = pd.pivot_table(indexdf2016,index=['County'],values=['Store Number'],aggfunc=lambda x: len(x.unique()))\n",
    "stores2016df = stores2016df.rename(columns = {'Store Number':'Number of Stores'})\n",
    "stores2016df = stores2016df.sort_values(by = ['Number of Stores'])\n",
    "stores2016df = stores2016df.reset_index(drop=False)\n",
    "\n",
    "test2016df = pd.merge(test2016df, storesq12015df, on='County', how='inner')\n",
    "test2016df['SalesPerStore']=test2016df['Sale (Dollars)']/test2016df['Number of Stores']"
   ]
  },
  {
   "cell_type": "code",
   "execution_count": 65,
   "metadata": {
    "collapsed": false
   },
   "outputs": [],
   "source": [
    "summarydf = test2016df[['County','Sale (Dollars)', 'Bottles Sold', 'Total Markup','Bottle Markup','Number of Stores']]"
   ]
  },
  {
   "cell_type": "code",
   "execution_count": 66,
   "metadata": {
    "collapsed": false
   },
   "outputs": [
    {
     "data": {
      "text/html": [
       "<div>\n",
       "<table border=\"1\" class=\"dataframe\">\n",
       "  <thead>\n",
       "    <tr style=\"text-align: right;\">\n",
       "      <th></th>\n",
       "      <th>County</th>\n",
       "      <th>Sale (Dollars)</th>\n",
       "      <th>Bottles Sold</th>\n",
       "      <th>Total Markup</th>\n",
       "      <th>Bottle Markup</th>\n",
       "      <th>Number of Stores</th>\n",
       "    </tr>\n",
       "  </thead>\n",
       "  <tbody>\n",
       "    <tr>\n",
       "      <th>0</th>\n",
       "      <td>Fremont</td>\n",
       "      <td>5727.55</td>\n",
       "      <td>576</td>\n",
       "      <td>1910.32</td>\n",
       "      <td>3.316528</td>\n",
       "      <td>1</td>\n",
       "    </tr>\n",
       "    <tr>\n",
       "      <th>1</th>\n",
       "      <td>Davis</td>\n",
       "      <td>20775.74</td>\n",
       "      <td>1681</td>\n",
       "      <td>6934.00</td>\n",
       "      <td>4.124926</td>\n",
       "      <td>1</td>\n",
       "    </tr>\n",
       "  </tbody>\n",
       "</table>\n",
       "</div>"
      ],
      "text/plain": [
       "    County  Sale (Dollars)  Bottles Sold  Total Markup  Bottle Markup  \\\n",
       "0  Fremont         5727.55           576       1910.32       3.316528   \n",
       "1    Davis        20775.74          1681       6934.00       4.124926   \n",
       "\n",
       "   Number of Stores  \n",
       "0                 1  \n",
       "1                 1  "
      ]
     },
     "execution_count": 66,
     "metadata": {},
     "output_type": "execute_result"
    }
   ],
   "source": [
    "summarydf.head(2)"
   ]
  },
  {
   "cell_type": "code",
   "execution_count": 15,
   "metadata": {
    "collapsed": false
   },
   "outputs": [
    {
     "data": {
      "text/html": [
       "<div>\n",
       "<table border=\"1\" class=\"dataframe\">\n",
       "  <thead>\n",
       "    <tr style=\"text-align: right;\">\n",
       "      <th></th>\n",
       "      <th>County</th>\n",
       "      <th>Bottles Sold</th>\n",
       "      <th>Sale (Dollars)</th>\n",
       "      <th>Total Markup</th>\n",
       "      <th>Volume Sold (Liters)</th>\n",
       "      <th>Bottle Markup</th>\n",
       "      <th>Number of Stores</th>\n",
       "      <th>SalesPerStore</th>\n",
       "    </tr>\n",
       "  </thead>\n",
       "  <tbody>\n",
       "    <tr>\n",
       "      <th>0</th>\n",
       "      <td>Fremont</td>\n",
       "      <td>3088</td>\n",
       "      <td>29757.10</td>\n",
       "      <td>9940.24</td>\n",
       "      <td>2115.05</td>\n",
       "      <td>3.218990</td>\n",
       "      <td>1</td>\n",
       "      <td>29757.10</td>\n",
       "    </tr>\n",
       "    <tr>\n",
       "      <th>1</th>\n",
       "      <td>Davis</td>\n",
       "      <td>9423</td>\n",
       "      <td>116875.92</td>\n",
       "      <td>39078.06</td>\n",
       "      <td>9715.75</td>\n",
       "      <td>4.147093</td>\n",
       "      <td>1</td>\n",
       "      <td>116875.92</td>\n",
       "    </tr>\n",
       "  </tbody>\n",
       "</table>\n",
       "</div>"
      ],
      "text/plain": [
       "    County  Bottles Sold  Sale (Dollars)  Total Markup  Volume Sold (Liters)  \\\n",
       "0  Fremont          3088        29757.10       9940.24               2115.05   \n",
       "1    Davis          9423       116875.92      39078.06               9715.75   \n",
       "\n",
       "   Bottle Markup  Number of Stores  SalesPerStore  \n",
       "0       3.218990                 1       29757.10  \n",
       "1       4.147093                 1      116875.92  "
      ]
     },
     "execution_count": 15,
     "metadata": {},
     "output_type": "execute_result"
    }
   ],
   "source": [
    "maindf.head(2)"
   ]
  },
  {
   "cell_type": "code",
   "execution_count": null,
   "metadata": {
    "collapsed": true
   },
   "outputs": [],
   "source": []
  },
  {
   "cell_type": "code",
   "execution_count": null,
   "metadata": {
    "collapsed": true
   },
   "outputs": [],
   "source": []
  },
  {
   "cell_type": "code",
   "execution_count": 16,
   "metadata": {
    "collapsed": false
   },
   "outputs": [
    {
     "data": {
      "image/png": "[encoded data removed]",
      "text/plain": [
       "<matplotlib.figure.Figure at 0x109c361d0>"
      ]
     },
     "metadata": {},
     "output_type": "display_data"
    },
    {
     "name": "stdout",
     "output_type": "stream",
     "text": [
      "MSE: 5540410661.78\n",
      "r^2: 0.999932954372\n",
      "Coefficients: [  2.79693195e+00   2.68240412e+00  -1.26697955e+00   1.22887419e+05\n",
      "  -8.96593959e+03  -2.67788311e-01] [-437576.06360239]\n"
     ]
    }
   ],
   "source": [
    "lm = Lasso(alpha=0.1)\n",
    "\n",
    "X = maindf[['Bottles Sold', 'Total Markup', 'Volume Sold (Liters)','Number of Stores', 'SalesPerStore']]\n",
    "y = maindf[['Sale (Dollars)']]\n",
    "TestX = []\n",
    "model = lm.fit(X,y)\n",
    "predictions = model.predict(X)\n",
    "\n",
    "# Plot the model\n",
    "plt.scatter(predictions, y, marker='+', zorder=10)\n",
    "plt.xlabel(\"Predicted Values from all X\")\n",
    "plt.ylabel(\"Actual Values Sales\")\n",
    "plt.show()\n",
    "print \"MSE:\", mean_squared_error(y, predictions)\n",
    "print \"r^2:\", model.score(X,y)\n",
    "print \"Coefficients:\", model.coef_, model.intercept_"
   ]
  },
  {
   "cell_type": "code",
   "execution_count": 17,
   "metadata": {
    "collapsed": false
   },
   "outputs": [
    {
     "data": {
      "image/png": "[encoded data removed]",
      "text/plain": [
       "<matplotlib.figure.Figure at 0x131abb7d0>"
      ]
     },
     "metadata": {},
     "output_type": "display_data"
    },
    {
     "name": "stdout",
     "output_type": "stream",
     "text": [
      "MSE: 1.98502204444e+12\n",
      "r^2: 0.975978847575\n",
      "Coefficients: [ 360571.28756555] [-1515941.71232739]\n"
     ]
    }
   ],
   "source": [
    "lm = Lasso(alpha=0.1)\n",
    "# lm = linear_model.LinearRegression()\n",
    "\n",
    "X = maindf[['Number of Stores']]\n",
    "y = maindf[['Sale (Dollars)']]\n",
    "TestX = []\n",
    "model = lm.fit(X,y)\n",
    "predictions = model.predict(X)\n",
    "\n",
    "# Plot the model\n",
    "plt.scatter(predictions, y, marker='+', zorder=10)\n",
    "plt.xlabel(\"Predicted Values from all X\")\n",
    "plt.ylabel(\"Actual Values Sales\")\n",
    "plt.show()\n",
    "print \"MSE:\", mean_squared_error(y, predictions)\n",
    "print \"r^2:\", model.score(X,y)\n",
    "print \"Coefficients:\", model.coef_, model.intercept_"
   ]
  },
  {
   "cell_type": "code",
   "execution_count": 72,
   "metadata": {
    "collapsed": false
   },
   "outputs": [
    {
     "data": {
      "image/png": "[encoded data removed]",
      "text/plain": [
       "<matplotlib.figure.Figure at 0x12f14efd0>"
      ]
     },
     "metadata": {},
     "output_type": "display_data"
    },
    {
     "name": "stdout",
     "output_type": "stream",
     "text": [
      "MSE: 29291295147.6\n",
      "r^2: 0.999122821847\n",
      "Coefficients: [[ -1.12116856e+01   2.04264991e+01  -3.95635651e+01   1.09751378e+04\n",
      "    8.64595788e+03   3.66070565e+00]] [-95786.13440397]\n"
     ]
    }
   ],
   "source": [
    "lm = linear_model.LinearRegression()\n",
    "\n",
    "X = testq12015df[['Bottles Sold', 'Total Markup', 'Volume Sold (Liters)', 'Bottle Markup','Number of Stores', 'SalesPerStore']]\n",
    "y = testnotq12015df[['Sale (Dollars)']]\n",
    "TestX = test2016df[['Bottles Sold']]\n",
    "model = lm.fit(X,y)\n",
    "predictions = model.predict(X)\n",
    "\n",
    "# Plot the model\n",
    "plt.scatter(predictions, y,  marker='+', zorder=10)\n",
    "plt.xlabel(\"Predicted Values from all X\")\n",
    "plt.ylabel(\"Actual Values Sales\")\n",
    "plt.show()\n",
    "print \"MSE:\", mean_squared_error(y, predictions)\n",
    "print \"r^2:\", model.score(X,y)\n",
    "print \"Coefficients:\", model.coef_, model.intercept_"
   ]
  },
  {
   "cell_type": "code",
   "execution_count": 73,
   "metadata": {
    "collapsed": false
   },
   "outputs": [
    {
     "data": {
      "text/html": [
       "<div>\n",
       "<table border=\"1\" class=\"dataframe\">\n",
       "  <thead>\n",
       "    <tr style=\"text-align: right;\">\n",
       "      <th></th>\n",
       "      <th>County</th>\n",
       "      <th>Sale (Dollars)</th>\n",
       "      <th>Bottles Sold</th>\n",
       "      <th>Total Markup</th>\n",
       "      <th>Bottle Markup</th>\n",
       "      <th>Number of Stores</th>\n",
       "      <th>Sales 2016</th>\n",
       "      <th>ChangeInSales</th>\n",
       "    </tr>\n",
       "  </thead>\n",
       "  <tbody>\n",
       "    <tr>\n",
       "      <th>0</th>\n",
       "      <td>Fremont</td>\n",
       "      <td>5727.55</td>\n",
       "      <td>576</td>\n",
       "      <td>1910.32</td>\n",
       "      <td>3.316528</td>\n",
       "      <td>1</td>\n",
       "      <td>-16273</td>\n",
       "      <td>-22001</td>\n",
       "    </tr>\n",
       "    <tr>\n",
       "      <th>1</th>\n",
       "      <td>Davis</td>\n",
       "      <td>20775.74</td>\n",
       "      <td>1681</td>\n",
       "      <td>6934.00</td>\n",
       "      <td>4.124926</td>\n",
       "      <td>1</td>\n",
       "      <td>86278</td>\n",
       "      <td>65503</td>\n",
       "    </tr>\n",
       "    <tr>\n",
       "      <th>2</th>\n",
       "      <td>Adams</td>\n",
       "      <td>21834.49</td>\n",
       "      <td>1727</td>\n",
       "      <td>7293.89</td>\n",
       "      <td>4.223445</td>\n",
       "      <td>1</td>\n",
       "      <td>93997</td>\n",
       "      <td>72163</td>\n",
       "    </tr>\n",
       "    <tr>\n",
       "      <th>3</th>\n",
       "      <td>Wayne</td>\n",
       "      <td>22980.77</td>\n",
       "      <td>1826</td>\n",
       "      <td>7696.11</td>\n",
       "      <td>4.214737</td>\n",
       "      <td>2</td>\n",
       "      <td>93270</td>\n",
       "      <td>70289</td>\n",
       "    </tr>\n",
       "    <tr>\n",
       "      <th>4</th>\n",
       "      <td>Keokuk</td>\n",
       "      <td>29183.03</td>\n",
       "      <td>2730</td>\n",
       "      <td>9750.61</td>\n",
       "      <td>3.571652</td>\n",
       "      <td>3</td>\n",
       "      <td>82858</td>\n",
       "      <td>53675</td>\n",
       "    </tr>\n",
       "  </tbody>\n",
       "</table>\n",
       "</div>"
      ],
      "text/plain": [
       "    County  Sale (Dollars)  Bottles Sold  Total Markup  Bottle Markup  \\\n",
       "0  Fremont         5727.55           576       1910.32       3.316528   \n",
       "1    Davis        20775.74          1681       6934.00       4.124926   \n",
       "2    Adams        21834.49          1727       7293.89       4.223445   \n",
       "3    Wayne        22980.77          1826       7696.11       4.214737   \n",
       "4   Keokuk        29183.03          2730       9750.61       3.571652   \n",
       "\n",
       "   Number of Stores  Sales 2016  ChangeInSales  \n",
       "0                 1      -16273         -22001  \n",
       "1                 1       86278          65503  \n",
       "2                 1       93997          72163  \n",
       "3                 2       93270          70289  \n",
       "4                 3       82858          53675  "
      ]
     },
     "execution_count": 73,
     "metadata": {},
     "output_type": "execute_result"
    }
   ],
   "source": [
    "summarydf['Sales2016'] = pd.DataFrame(predictions)\n",
    "summarydf['ChangeInSales']= (summarydf['Sales2016']-summarydf['Sale (Dollars)'])\n",
    "summarydf['Sales2016']= summarydf['Sales2016'].apply(lambda x: integerize(x))\n",
    "summarydf['ChangeInSales']= summarydf['ChangeInSales'].apply(lambda x: integerize(x))\n",
    "summarydf.head()"
   ]
  },
  {
   "cell_type": "code",
   "execution_count": 20,
   "metadata": {
    "collapsed": false
   },
   "outputs": [
    {
     "data": {
      "image/png": "[encoded data removed]",
      "text/plain": [
       "<matplotlib.figure.Figure at 0x1256144d0>"
      ]
     },
     "metadata": {},
     "output_type": "display_data"
    },
    {
     "name": "stdout",
     "output_type": "stream",
     "text": [
      "MSE: 850302259466.0\n",
      "r^2: 0.974536238091\n",
      "Coefficients: [[ 362547.95709155  249907.49089746]] [-2568521.69626528]\n"
     ]
    }
   ],
   "source": [
    "lm = linear_model.LinearRegression()\n",
    "\n",
    "X = testq12015df[['Bottle Markup','Number of Stores']]\n",
    "y = testnotq12015df[['Sale (Dollars)']]\n",
    "TestX = test2016df[['Bottles Sold']]\n",
    "model = lm.fit(X,y)\n",
    "predictions = model.predict(X)\n",
    "\n",
    "# Plot the model\n",
    "plt.scatter(predictions, y,  marker='+', zorder=10)\n",
    "plt.xlabel(\"Predicted Values from all X\")\n",
    "plt.ylabel(\"Actual Values Sales\")\n",
    "plt.show()\n",
    "print \"MSE:\", mean_squared_error(y, predictions)\n",
    "print \"r^2:\", model.score(X,y)\n",
    "print \"Coefficients:\", model.coef_, model.intercept_"
   ]
  },
  {
   "cell_type": "code",
   "execution_count": 21,
   "metadata": {
    "collapsed": false
   },
   "outputs": [
    {
     "data": {
      "image/png": "[encoded data removed]",
      "text/plain": [
       "<matplotlib.figure.Figure at 0x124f81a50>"
      ]
     },
     "metadata": {},
     "output_type": "display_data"
    },
    {
     "name": "stdout",
     "output_type": "stream",
     "text": [
      "MSE: 865095164296.0\n",
      "r^2: 0.974533814478\n",
      "Coefficients: [[ 338885.94574559  249933.77678627]] [-2466769.16136525]\n"
     ]
    }
   ],
   "source": [
    "lm = linear_model.RidgeCV()\n",
    "\n",
    "X = testq12015df[['Bottle Markup','Number of Stores']]\n",
    "y = testnotq12015df[['Sale (Dollars)']]\n",
    "TestX = test2016df[['Bottle Markup','Number of Stores']]\n",
    "model = lm.fit(X,y)\n",
    "predictions = model.predict(TestX)\n",
    "\n",
    "# Plot the model\n",
    "plt.scatter(predictions, y, marker='+', zorder=10)\n",
    "plt.xlabel(\"Predicted Values from all X\")\n",
    "plt.ylabel(\"Actual Values Sales\")\n",
    "plt.show()\n",
    "print \"MSE:\", mean_squared_error(y, predictions)\n",
    "print \"r^2:\", model.score(X,y)\n",
    "print \"Coefficients:\", model.coef_, model.intercept_"
   ]
  },
  {
   "cell_type": "code",
   "execution_count": null,
   "metadata": {
    "collapsed": true
   },
   "outputs": [],
   "source": []
  },
  {
   "cell_type": "code",
   "execution_count": null,
   "metadata": {
    "collapsed": true
   },
   "outputs": [],
   "source": []
  },
  {
   "cell_type": "code",
   "execution_count": 160,
   "metadata": {
    "collapsed": false
   },
   "outputs": [],
   "source": [
    "x = pd.DataFrame(predictions)\n",
    "summarydf['Sales 2016'] = x\n",
    "summarydf['ChangeInSales']=summarydf['Sales 2016']-summarydf['Sale (Dollars)']"
   ]
  },
  {
   "cell_type": "code",
   "execution_count": null,
   "metadata": {
    "collapsed": true
   },
   "outputs": [],
   "source": []
  },
  {
   "cell_type": "code",
   "execution_count": null,
   "metadata": {
    "collapsed": true
   },
   "outputs": [],
   "source": []
  },
  {
   "cell_type": "code",
   "execution_count": 23,
   "metadata": {
    "collapsed": false
   },
   "outputs": [
    {
     "name": "stdout",
     "output_type": "stream",
     "text": [
      "       X Shape  Y Shape\n",
      "Train (66, 2) (66, 1)\n",
      "Test  (33, 2) (33, 1)\n",
      "Score: 0.925185507672\n"
     ]
    },
    {
     "data": {
      "image/png": "[encoded data removed]",
      "text/plain": [
       "<matplotlib.figure.Figure at 0x125296a90>"
      ]
     },
     "metadata": {},
     "output_type": "display_data"
    }
   ],
   "source": [
    "from sklearn.cross_validation import train_test_split\n",
    "\n",
    "X = testq12015df[['Bottle Markup', 'Number of Stores']]\n",
    "# X = testq12015df[['Bottles Sold', 'Total Markup', 'Volume Sold (Liters)', 'Bottle Markup', \\\n",
    "#                   'Number of Stores', 'SalesPerStore']]\n",
    "y = testnotq12015df[['Sale (Dollars)']]\n",
    "TestX = test2016df[['Bottle Markup', 'Number of Stores']]\n",
    "\n",
    "X_train, X_test, y_train, y_test = \\\n",
    "train_test_split(X, y, test_size=0.33)\n",
    "\n",
    "print \"       X Shape  Y Shape\"\n",
    "print \"Train\", X_train.shape, y_train.shape\n",
    "print \"Test \", X_test.shape, y_test.shape\n",
    "\n",
    "lm = linear_model.LinearRegression()\n",
    "# lm = linear_model.Lasso()\n",
    "# lm = linear_model.RidgeCV()\n",
    "\n",
    "model = lm.fit(X_train, y_train)\n",
    "predictions = lm.predict(X_test)\n",
    "\n",
    "## The line / model\n",
    "plt.scatter(y_test, predictions)\n",
    "plt.xlabel(\"True Values\")\n",
    "plt.ylabel(\"Predictions\")\n",
    "\n",
    "print \"Score:\", model.score(X_test, y_test)"
   ]
  },
  {
   "cell_type": "code",
   "execution_count": 24,
   "metadata": {
    "collapsed": false
   },
   "outputs": [
    {
     "name": "stdout",
     "output_type": "stream",
     "text": [
      "Cross-validated scores: [-273.51552381  -25.41634791  -72.93622995  -19.9517594    -2.13466459\n",
      "    0.42631327]\n",
      "Cross-Predicted R^2: 0.629816602866\n"
     ]
    },
    {
     "data": {
      "image/png": "[encoded data removed]",
      "text/plain": [
       "<matplotlib.figure.Figure at 0x1252f6f90>"
      ]
     },
     "metadata": {},
     "output_type": "display_data"
    }
   ],
   "source": [
    "# Perform 6-fold cross validation\n",
    "scores = cross_val_score(model, X, y, cv=6)\n",
    "print \"Cross-validated scores:\", scores\n",
    "\n",
    "# Make cross validated predictions\n",
    "predictions = cross_val_predict(model, X, y, cv=6)\n",
    "plt.scatter(y, predictions)\n",
    "r2_s = r2_score(y, predictions)\n",
    "print \"Cross-Predicted R^2:\", r2_s"
   ]
  },
  {
   "cell_type": "code",
   "execution_count": null,
   "metadata": {
    "collapsed": true
   },
   "outputs": [],
   "source": [
    "rects1 = plt.bar(index, means_men, bar_width,\n",
    "                 alpha=opacity,\n",
    "                 color='b',\n",
    "                 yerr=std_men,\n",
    "                 error_kw=error_config,\n",
    "                 label='Men')\n"
   ]
  },
  {
   "cell_type": "code",
   "execution_count": 3,
   "metadata": {
    "collapsed": false
   },
   "outputs": [
    {
     "ename": "NameError",
     "evalue": "name 'test2015df' is not defined",
     "output_type": "error",
     "traceback": [
      "\u001b[0;31m---------------------------------------------------------------------------\u001b[0m",
      "\u001b[0;31mNameError\u001b[0m                                 Traceback (most recent call last)",
      "\u001b[0;32m<ipython-input-3-5613035d8a5e>\u001b[0m in \u001b[0;36m<module>\u001b[0;34m()\u001b[0m\n\u001b[0;32m----> 1\u001b[0;31m \u001b[0mtest2015df\u001b[0m\u001b[0;34m.\u001b[0m\u001b[0mplt\u001b[0m\u001b[0;34m(\u001b[0m\u001b[0mkind\u001b[0m\u001b[0;34m=\u001b[0m\u001b[0;34m'bar'\u001b[0m\u001b[0;34m,\u001b[0m\u001b[0mfigsize\u001b[0m\u001b[0;34m=\u001b[0m\u001b[0;34m(\u001b[0m\u001b[0;36m16\u001b[0m\u001b[0;34m,\u001b[0m\u001b[0;36m8\u001b[0m\u001b[0;34m)\u001b[0m\u001b[0;34m,\u001b[0m\u001b[0mx\u001b[0m\u001b[0;34m=\u001b[0m\u001b[0;34m'County'\u001b[0m\u001b[0;34m,\u001b[0m\u001b[0my\u001b[0m\u001b[0;34m=\u001b[0m\u001b[0;34m'Sale (Dollars)'\u001b[0m\u001b[0;34m)\u001b[0m\u001b[0;34m\u001b[0m\u001b[0m\n\u001b[0m",
      "\u001b[0;31mNameError\u001b[0m: name 'test2015df' is not defined"
     ]
    }
   ],
   "source": [
    "test2015df.plt(kind='bar',figsize=(16,8),x='County',y='Sale (Dollars)')"
   ]
  },
  {
   "cell_type": "code",
   "execution_count": 26,
   "metadata": {
    "collapsed": false,
    "scrolled": false
   },
   "outputs": [
    {
     "data": {
      "text/plain": [
       "<matplotlib.axes._subplots.AxesSubplot at 0x12595f350>"
      ]
     },
     "execution_count": 26,
     "metadata": {},
     "output_type": "execute_result"
    },
    {
     "data": {
      "image/png": "[encoded data removed]",
      "text/plain": [
       "<matplotlib.figure.Figure at 0x125303bd0>"
      ]
     },
     "metadata": {},
     "output_type": "display_data"
    }
   ],
   "source": [
    "test2015df.plot(kind='bar',figsize=(16,8),x='County',y='Bottle Markup')"
   ]
  },
  {
   "cell_type": "code",
   "execution_count": 27,
   "metadata": {
    "collapsed": false
   },
   "outputs": [
    {
     "data": {
      "text/plain": [
       "<matplotlib.axes._subplots.AxesSubplot at 0x125c9cd10>"
      ]
     },
     "execution_count": 27,
     "metadata": {},
     "output_type": "execute_result"
    },
    {
     "data": {
      "image/png": "[encoded data removed]",
      "text/plain": [
       "<matplotlib.figure.Figure at 0x125d33c90>"
      ]
     },
     "metadata": {},
     "output_type": "display_data"
    }
   ],
   "source": [
    "test2015df.plot(kind='bar',figsize=(16,8),x='County',y='Number of Stores')"
   ]
  },
  {
   "cell_type": "code",
   "execution_count": 36,
   "metadata": {
    "collapsed": false
   },
   "outputs": [
    {
     "data": {
      "text/plain": [
       "<matplotlib.axes._subplots.AxesSubplot at 0x129722210>"
      ]
     },
     "execution_count": 36,
     "metadata": {},
     "output_type": "execute_result"
    },
    {
     "data": {
      "image/png": "[encoded data removed]",
      "text/plain": [
       "<matplotlib.figure.Figure at 0x12a23a890>"
      ]
     },
     "metadata": {},
     "output_type": "display_data"
    }
   ],
   "source": [
    "test2015df.plot(kind='bar',figsize=(16,8),x='County',y=('SalesPerStore'))"
   ]
  },
  {
   "cell_type": "code",
   "execution_count": 29,
   "metadata": {
    "collapsed": false
   },
   "outputs": [
    {
     "data": {
      "text/plain": [
       "<matplotlib.axes._subplots.AxesSubplot at 0x1267054d0>"
      ]
     },
     "execution_count": 29,
     "metadata": {},
     "output_type": "execute_result"
    },
    {
     "data": {
      "image/png": "[encoded data removed]",
      "text/plain": [
       "<matplotlib.figure.Figure at 0x125de3290>"
      ]
     },
     "metadata": {},
     "output_type": "display_data"
    }
   ],
   "source": [
    "test2015df.plot(kind='bar',figsize=(16,8),x='County',y='Total Markup')"
   ]
  },
  {
   "cell_type": "code",
   "execution_count": null,
   "metadata": {
    "collapsed": true
   },
   "outputs": [],
   "source": []
  },
  {
   "cell_type": "code",
   "execution_count": null,
   "metadata": {
    "collapsed": true
   },
   "outputs": [],
   "source": []
  },
  {
   "cell_type": "code",
   "execution_count": 75,
   "metadata": {
    "collapsed": false
   },
   "outputs": [
    {
     "data": {
      "text/html": [
       "<div>\n",
       "<table border=\"1\" class=\"dataframe\">\n",
       "  <thead>\n",
       "    <tr style=\"text-align: right;\">\n",
       "      <th></th>\n",
       "      <th>Store Number</th>\n",
       "      <th>County Number</th>\n",
       "      <th>Vendor Number</th>\n",
       "      <th>Bottles Sold</th>\n",
       "      <th>Sale (Dollars)</th>\n",
       "      <th>Volume Sold (Liters)</th>\n",
       "      <th>Total Markup</th>\n",
       "    </tr>\n",
       "    <tr>\n",
       "      <th>City</th>\n",
       "      <th></th>\n",
       "      <th></th>\n",
       "      <th></th>\n",
       "      <th></th>\n",
       "      <th></th>\n",
       "      <th></th>\n",
       "      <th></th>\n",
       "    </tr>\n",
       "  </thead>\n",
       "  <tbody>\n",
       "    <tr>\n",
       "      <th>GRISWOLD</th>\n",
       "      <td>229540</td>\n",
       "      <td>690.0</td>\n",
       "      <td>9671</td>\n",
       "      <td>239</td>\n",
       "      <td>2884.66</td>\n",
       "      <td>255.55</td>\n",
       "      <td>961.74</td>\n",
       "    </tr>\n",
       "    <tr>\n",
       "      <th>GILBERTVILLE</th>\n",
       "      <td>312120</td>\n",
       "      <td>420.0</td>\n",
       "      <td>14879</td>\n",
       "      <td>335</td>\n",
       "      <td>4207.66</td>\n",
       "      <td>244.81</td>\n",
       "      <td>1403.18</td>\n",
       "    </tr>\n",
       "    <tr>\n",
       "      <th>ROBINS</th>\n",
       "      <td>228448</td>\n",
       "      <td>2508.0</td>\n",
       "      <td>11391</td>\n",
       "      <td>332</td>\n",
       "      <td>4767.12</td>\n",
       "      <td>286.50</td>\n",
       "      <td>1594.81</td>\n",
       "    </tr>\n",
       "    <tr>\n",
       "      <th>DELHI</th>\n",
       "      <td>621000</td>\n",
       "      <td>3360.0</td>\n",
       "      <td>28191</td>\n",
       "      <td>721</td>\n",
       "      <td>6813.30</td>\n",
       "      <td>415.69</td>\n",
       "      <td>2276.73</td>\n",
       "    </tr>\n",
       "    <tr>\n",
       "      <th>LOHRVILLE</th>\n",
       "      <td>379089</td>\n",
       "      <td>949.0</td>\n",
       "      <td>16039</td>\n",
       "      <td>816</td>\n",
       "      <td>8018.97</td>\n",
       "      <td>601.55</td>\n",
       "      <td>2681.34</td>\n",
       "    </tr>\n",
       "  </tbody>\n",
       "</table>\n",
       "</div>"
      ],
      "text/plain": [
       "              Store Number  County Number  Vendor Number  Bottles Sold  \\\n",
       "City                                                                     \n",
       "GRISWOLD            229540          690.0           9671           239   \n",
       "GILBERTVILLE        312120          420.0          14879           335   \n",
       "ROBINS              228448         2508.0          11391           332   \n",
       "DELHI               621000         3360.0          28191           721   \n",
       "LOHRVILLE           379089          949.0          16039           816   \n",
       "\n",
       "              Sale (Dollars)  Volume Sold (Liters)  Total Markup  \n",
       "City                                                              \n",
       "GRISWOLD             2884.66                255.55        961.74  \n",
       "GILBERTVILLE         4207.66                244.81       1403.18  \n",
       "ROBINS               4767.12                286.50       1594.81  \n",
       "DELHI                6813.30                415.69       2276.73  \n",
       "LOHRVILLE            8018.97                601.55       2681.34  "
      ]
     },
     "execution_count": 75,
     "metadata": {},
     "output_type": "execute_result"
    }
   ],
   "source": [
    "# Trying the groupby functionality just done as a trial, not needed... \n",
    "gtest1 = indexdf.groupby( ['City']).sum()\n",
    "gtest1 = gtest1.sort_values(by =['Sale (Dollars)'])\n",
    "# gtest1.head()"
   ]
  },
  {
   "cell_type": "code",
   "execution_count": null,
   "metadata": {
    "collapsed": true
   },
   "outputs": [],
   "source": []
  },
  {
   "cell_type": "code",
   "execution_count": null,
   "metadata": {
    "collapsed": true
   },
   "outputs": [],
   "source": []
  },
  {
   "cell_type": "code",
   "execution_count": null,
   "metadata": {
    "collapsed": true
   },
   "outputs": [],
   "source": [
    "%matplotlib inline\n",
    "from matplotlib import pyplot as plt\n",
    "\n",
    "from sklearn import datasets, linear_model\n",
    "from sklearn.metrics import mean_squared_error\n",
    "\n",
    "lm = linear_model.LinearRegression()\n",
    "\n",
    "X = indexdf[['Volume Sold (Liters)','Bottles Sold']]\n",
    "y = indexdf[['Sale (Dollars)']]\n",
    "model = lm.fit(X,y)\n",
    "predictions = model.predict(X)\n",
    "\n",
    "# Plot the model\n",
    "plt.scatter(predictions, y, s=30, c='r', marker='+', zorder=10)\n",
    "plt.xlabel(\"Predicted Values from all X\")\n",
    "plt.ylabel(\"Actual Values Sales\")\n",
    "plt.show()\n",
    "print \"MSE:\", mean_squared_error(y, predictions)"
   ]
  },
  {
   "cell_type": "code",
   "execution_count": 85,
   "metadata": {
    "collapsed": true
   },
   "outputs": [],
   "source": [
    "summarydf['CSalesPerStore'] = (summarydf['Sales 2016'] / summarydf['Number of Stores'])\n",
    "summarydf['ChangeInSalesPerStore'] = summarydf['ChangeInSalesPerStore'].apply(lambda x: integerize(x))\n",
    "summarydf = summarydf.sort_values(by='ChangeInSalesPerStore', ascending = False)\n"
   ]
  },
  {
   "cell_type": "code",
   "execution_count": 86,
   "metadata": {
    "collapsed": false
   },
   "outputs": [
    {
     "data": {
      "text/html": [
       "<div>\n",
       "<table border=\"1\" class=\"dataframe\">\n",
       "  <thead>\n",
       "    <tr style=\"text-align: right;\">\n",
       "      <th></th>\n",
       "      <th>County</th>\n",
       "      <th>Sale (Dollars)</th>\n",
       "      <th>Bottles Sold</th>\n",
       "      <th>Total Markup</th>\n",
       "      <th>Bottle Markup</th>\n",
       "      <th>Number of Stores</th>\n",
       "      <th>Sales 2016</th>\n",
       "      <th>ChangeInSales</th>\n",
       "      <th>ChangeInSalesPerStore</th>\n",
       "    </tr>\n",
       "  </thead>\n",
       "  <tbody>\n",
       "    <tr>\n",
       "      <th>54</th>\n",
       "      <td>Delaware</td>\n",
       "      <td>2.149173e+05</td>\n",
       "      <td>15836</td>\n",
       "      <td>7.186245e+04</td>\n",
       "      <td>4.537917</td>\n",
       "      <td>3</td>\n",
       "      <td>870679</td>\n",
       "      <td>655762</td>\n",
       "      <td>290226</td>\n",
       "    </tr>\n",
       "    <tr>\n",
       "      <th>95</th>\n",
       "      <td>Johnson</td>\n",
       "      <td>3.821047e+06</td>\n",
       "      <td>277110</td>\n",
       "      <td>1.275288e+06</td>\n",
       "      <td>4.602099</td>\n",
       "      <td>50</td>\n",
       "      <td>13743976</td>\n",
       "      <td>9922928</td>\n",
       "      <td>274879</td>\n",
       "    </tr>\n",
       "    <tr>\n",
       "      <th>98</th>\n",
       "      <td>Polk</td>\n",
       "      <td>1.450703e+07</td>\n",
       "      <td>1105511</td>\n",
       "      <td>4.842004e+06</td>\n",
       "      <td>4.379879</td>\n",
       "      <td>188</td>\n",
       "      <td>49757546</td>\n",
       "      <td>35250513</td>\n",
       "      <td>264667</td>\n",
       "    </tr>\n",
       "    <tr>\n",
       "      <th>96</th>\n",
       "      <td>Scott</td>\n",
       "      <td>4.531437e+06</td>\n",
       "      <td>375932</td>\n",
       "      <td>1.512052e+06</td>\n",
       "      <td>4.022143</td>\n",
       "      <td>63</td>\n",
       "      <td>15805390</td>\n",
       "      <td>11273953</td>\n",
       "      <td>250879</td>\n",
       "    </tr>\n",
       "    <tr>\n",
       "      <th>57</th>\n",
       "      <td>Henry</td>\n",
       "      <td>2.448760e+05</td>\n",
       "      <td>19097</td>\n",
       "      <td>8.192386e+04</td>\n",
       "      <td>4.289881</td>\n",
       "      <td>4</td>\n",
       "      <td>928620</td>\n",
       "      <td>683744</td>\n",
       "      <td>232155</td>\n",
       "    </tr>\n",
       "  </tbody>\n",
       "</table>\n",
       "</div>"
      ],
      "text/plain": [
       "      County  Sale (Dollars)  Bottles Sold  Total Markup  Bottle Markup  \\\n",
       "54  Delaware    2.149173e+05         15836  7.186245e+04       4.537917   \n",
       "95   Johnson    3.821047e+06        277110  1.275288e+06       4.602099   \n",
       "98      Polk    1.450703e+07       1105511  4.842004e+06       4.379879   \n",
       "96     Scott    4.531437e+06        375932  1.512052e+06       4.022143   \n",
       "57     Henry    2.448760e+05         19097  8.192386e+04       4.289881   \n",
       "\n",
       "    Number of Stores  Sales 2016  ChangeInSales  ChangeInSalesPerStore  \n",
       "54                 3      870679         655762                 290226  \n",
       "95                50    13743976        9922928                 274879  \n",
       "98               188    49757546       35250513                 264667  \n",
       "96                63    15805390       11273953                 250879  \n",
       "57                 4      928620         683744                 232155  "
      ]
     },
     "execution_count": 86,
     "metadata": {},
     "output_type": "execute_result"
    }
   ],
   "source": [
    "summarydf.head()"
   ]
  },
  {
   "cell_type": "code",
   "execution_count": 104,
   "metadata": {
    "collapsed": false
   },
   "outputs": [
    {
     "name": "stdout",
     "output_type": "stream",
     "text": [
      "220959675.81\n"
     ]
    }
   ],
   "source": [
    "xx = sum(testnotq12015df['Sale (Dollars)'])\n",
    "print xx"
   ]
  },
  {
   "cell_type": "code",
   "execution_count": 108,
   "metadata": {
    "collapsed": false
   },
   "outputs": [
    {
     "name": "stdout",
     "output_type": "stream",
     "text": [
      "220959625\n"
     ]
    }
   ],
   "source": [
    "yy = sum(summarydf['Sales 2016'])\n",
    "print yy"
   ]
  },
  {
   "cell_type": "code",
   "execution_count": 106,
   "metadata": {
    "collapsed": false
   },
   "outputs": [
    {
     "data": {
      "text/plain": [
       "-50.81002077460289"
      ]
     },
     "execution_count": 106,
     "metadata": {},
     "output_type": "execute_result"
    }
   ],
   "source": [
    "yy-xx"
   ]
  },
  {
   "cell_type": "code",
   "execution_count": null,
   "metadata": {
    "collapsed": true
   },
   "outputs": [],
   "source": []
  },
  {
   "cell_type": "code",
   "execution_count": 1,
   "metadata": {
    "collapsed": false
   },
   "outputs": [
    {
     "ename": "NameError",
     "evalue": "name 'testnotq12015df' is not defined",
     "output_type": "error",
     "traceback": [
      "\u001b[0;31m---------------------------------------------------------------------------\u001b[0m",
      "\u001b[0;31mNameError\u001b[0m                                 Traceback (most recent call last)",
      "\u001b[0;32m<ipython-input-1-216d69d2c1d0>\u001b[0m in \u001b[0;36m<module>\u001b[0;34m()\u001b[0m\n\u001b[0;32m----> 1\u001b[0;31m \u001b[0mtestnotq12015df\u001b[0m\u001b[0;34m.\u001b[0m\u001b[0mplot\u001b[0m\u001b[0;34m(\u001b[0m\u001b[0mkind\u001b[0m\u001b[0;34m=\u001b[0m\u001b[0;34m'bar'\u001b[0m\u001b[0;34m,\u001b[0m\u001b[0mfigsize\u001b[0m\u001b[0;34m=\u001b[0m\u001b[0;34m(\u001b[0m\u001b[0;36m12\u001b[0m\u001b[0;34m,\u001b[0m\u001b[0;36m8\u001b[0m\u001b[0;34m)\u001b[0m\u001b[0;34m,\u001b[0m\u001b[0mx\u001b[0m\u001b[0;34m=\u001b[0m\u001b[0;34m'County'\u001b[0m\u001b[0;34m,\u001b[0m\u001b[0my\u001b[0m\u001b[0;34m=\u001b[0m\u001b[0;34m'Sale (Dollars)'\u001b[0m\u001b[0;34m)\u001b[0m\u001b[0;34m\u001b[0m\u001b[0m\n\u001b[0m",
      "\u001b[0;31mNameError\u001b[0m: name 'testnotq12015df' is not defined"
     ]
    }
   ],
   "source": [
    "testnotq12015df.plot(kind='bar',figsize=(12,8),x='County',y='Sale (Dollars)')"
   ]
  },
  {
   "cell_type": "code",
   "execution_count": 2,
   "metadata": {
    "collapsed": false
   },
   "outputs": [
    {
     "ename": "NameError",
     "evalue": "name 'summarydf' is not defined",
     "output_type": "error",
     "traceback": [
      "\u001b[0;31m---------------------------------------------------------------------------\u001b[0m",
      "\u001b[0;31mNameError\u001b[0m                                 Traceback (most recent call last)",
      "\u001b[0;32m<ipython-input-2-b8aba379fb09>\u001b[0m in \u001b[0;36m<module>\u001b[0;34m()\u001b[0m\n\u001b[0;32m----> 1\u001b[0;31m \u001b[0msummarydf\u001b[0m\u001b[0;34m.\u001b[0m\u001b[0mplot\u001b[0m\u001b[0;34m(\u001b[0m\u001b[0mkind\u001b[0m\u001b[0;34m=\u001b[0m\u001b[0;34m'bar'\u001b[0m\u001b[0;34m,\u001b[0m\u001b[0mfigsize\u001b[0m\u001b[0;34m=\u001b[0m\u001b[0;34m(\u001b[0m\u001b[0;36m12\u001b[0m\u001b[0;34m,\u001b[0m\u001b[0;36m8\u001b[0m\u001b[0;34m)\u001b[0m\u001b[0;34m,\u001b[0m\u001b[0mx\u001b[0m\u001b[0;34m=\u001b[0m\u001b[0;34m'County'\u001b[0m\u001b[0;34m,\u001b[0m\u001b[0my\u001b[0m\u001b[0;34m=\u001b[0m\u001b[0;34m'ChangeInSales'\u001b[0m\u001b[0;34m)\u001b[0m\u001b[0;34m\u001b[0m\u001b[0m\n\u001b[0m",
      "\u001b[0;31mNameError\u001b[0m: name 'summarydf' is not defined"
     ]
    }
   ],
   "source": [
    "summarydf.plot(kind='bar',figsize=(12,8),x='County',y='ChangeInSales')"
   ]
  },
  {
   "cell_type": "markdown",
   "metadata": {},
   "source": [
    "# Explore the data\n",
    "\n",
    "Perform some exploratory statistical analysis and make some plots, such as histograms of transaction totals, bottles sold, etc."
   ]
  },
  {
   "cell_type": "code",
   "execution_count": 4,
   "metadata": {
    "collapsed": true
   },
   "outputs": [],
   "source": [
    "import seaborn as sns\n",
    "import matplotlib.pyplot as plt"
   ]
  },
  {
   "cell_type": "markdown",
   "metadata": {},
   "source": [
    "## Record your findings\n",
    "\n",
    "Be sure to write out anything observations from your exploratory analysis."
   ]
  },
  {
   "cell_type": "markdown",
   "metadata": {},
   "source": [
    "# Mine the data\n",
    "Now you are ready to compute the variables you will use for your regression from the data. For example, you may want to\n",
    "compute total sales per store from Jan to March of 2015, mean price per bottle, etc. Refer to the readme for more ideas appropriate to your scenario.\n",
    "\n",
    "Pandas is your friend for this task. Take a look at the operations [here](http://pandas.pydata.org/pandas-docs/stable/groupby.html) for ideas on how to make the best use of pandas and feel free to search for blog and Stack Overflow posts to help you group data by certain variables and compute sums, means, etc. You may find it useful to create a new data frame to house this summary data."
   ]
  },
  {
   "cell_type": "markdown",
   "metadata": {},
   "source": [
    "# Refine the data\n",
    "Look for any statistical relationships, correlations, or other relevant properties of the dataset."
   ]
  },
  {
   "cell_type": "code",
   "execution_count": null,
   "metadata": {
    "collapsed": true
   },
   "outputs": [],
   "source": []
  },
  {
   "cell_type": "markdown",
   "metadata": {},
   "source": [
    "# Build your models\n",
    "\n",
    "Using scikit-learn or statsmodels, build the necessary models for your scenario. Evaluate model fit."
   ]
  },
  {
   "cell_type": "code",
   "execution_count": 6,
   "metadata": {
    "collapsed": true
   },
   "outputs": [],
   "source": [
    "from sklearn import linear_model\n"
   ]
  },
  {
   "cell_type": "markdown",
   "metadata": {},
   "source": [
    "## Plot your results\n",
    "\n",
    "Again make sure that you record any valuable information. For example, in the tax scenario, did you find the sales from the first three months of the year to be a good predictor of the total sales for the year? Plot the predictions versus the true values and discuss the successes and limitations of your models"
   ]
  },
  {
   "cell_type": "code",
   "execution_count": null,
   "metadata": {
    "collapsed": true
   },
   "outputs": [],
   "source": []
  },
  {
   "cell_type": "markdown",
   "metadata": {},
   "source": [
    "# Present the Results\n",
    "\n",
    "Present your conclusions and results. If you have more than one interesting model feel free to include more than one along with a discussion. Use your work in this notebook to prepare your write-up."
   ]
  },
  {
   "cell_type": "code",
   "execution_count": 2,
   "metadata": {
    "collapsed": false
   },
   "outputs": [
    {
     "name": "stdout",
     "output_type": "stream",
     "text": [
      "Once deleted, variables cannot be recovered. Proceed (y/[n])? y\n"
     ]
    }
   ],
   "source": [
    "%reset"
   ]
  },
  {
   "cell_type": "code",
   "execution_count": null,
   "metadata": {
    "collapsed": true
   },
   "outputs": [],
   "source": []
  }
 ],
 "metadata": {
  "kernelspec": {
   "display_name": "Python 2",
   "language": "python",
   "name": "python2"
  },
  "language_info": {
   "codemirror_mode": {
    "name": "ipython",
    "version": 2
   },
   "file_extension": ".py",
   "mimetype": "text/x-python",
   "name": "python",
   "nbconvert_exporter": "python",
   "pygments_lexer": "ipython2",
   "version": "2.7.11"
  }
 },
 "nbformat": 4,
 "nbformat_minor": 0
}
